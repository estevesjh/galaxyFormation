{
 "cells": [
  {
   "cell_type": "markdown",
   "metadata": {},
   "source": [
    "# Pre-Processing Dataset\n",
    "\n",
    "Here I generate the `gal_fname1` which cointains the columns needed to this study: `Mr, R, R/R200, v_los, v_circ, orbital, infall, interloper`.\n"
   ]
  },
  {
   "cell_type": "code",
   "execution_count": 1,
   "metadata": {
    "ExecuteTime": {
     "end_time": "2022-04-20T05:03:38.314447Z",
     "start_time": "2022-04-20T05:03:38.309683Z"
    }
   },
   "outputs": [
    {
     "name": "stdout",
     "output_type": "stream",
     "text": [
      "/Users/jesteves/Documents/GitHub/galaxyFormation\n"
     ]
    }
   ],
   "source": [
    "%cd ../"
   ]
  },
  {
   "cell_type": "code",
   "execution_count": 2,
   "metadata": {
    "ExecuteTime": {
     "end_time": "2022-04-20T05:03:40.237778Z",
     "start_time": "2022-04-20T05:03:38.315977Z"
    }
   },
   "outputs": [],
   "source": [
    "import sys\n",
    "sys.path.append('./scripts')\n",
    "from file_loc import FileLocs"
   ]
  },
  {
   "cell_type": "code",
   "execution_count": 3,
   "metadata": {
    "ExecuteTime": {
     "end_time": "2022-04-20T05:03:40.465348Z",
     "start_time": "2022-04-20T05:03:40.239767Z"
    }
   },
   "outputs": [],
   "source": [
    "import numpy as np\n",
    "import matplotlib.pyplot as plt\n",
    "from astropy.io.fits import getdata\n",
    "import astropy.table as Table\n",
    "import astropy.io.ascii as at"
   ]
  },
  {
   "cell_type": "code",
   "execution_count": null,
   "metadata": {},
   "outputs": [],
   "source": []
  },
  {
   "cell_type": "markdown",
   "metadata": {},
   "source": [
    "# Reading Initial Data"
   ]
  },
  {
   "cell_type": "code",
   "execution_count": 4,
   "metadata": {
    "ExecuteTime": {
     "end_time": "2022-04-20T05:03:48.171200Z",
     "start_time": "2022-04-20T05:03:40.467124Z"
    }
   },
   "outputs": [
    {
     "name": "stdout",
     "output_type": "stream",
     "text": [
      "Loading Catalog: ./data/catalogs/SDSS/groupCatalog_Yang_deCarvalho2017.csv\n",
      "Loading Catalog: ./data/catalogs/SDSS/groups_deCarvalho2017_R200m_galaxies_final_flag_johnnyheq.csv\n"
     ]
    }
   ],
   "source": [
    "fl = FileLocs(dataset='sdss')\n",
    "\n",
    "cat = fl.load_catalogs('cluster/main')\n",
    "gal = fl.load_catalogs('galaxy/raw')"
   ]
  },
  {
   "cell_type": "code",
   "execution_count": 5,
   "metadata": {
    "ExecuteTime": {
     "end_time": "2022-04-20T05:03:48.181342Z",
     "start_time": "2022-04-20T05:03:48.172828Z"
    }
   },
   "outputs": [
    {
     "data": {
      "text/html": [
       "<i>Table length=319</i>\n",
       "<table id=\"table140490932939840\" class=\"table-striped table-bordered table-condensed\">\n",
       "<thead><tr><th>Yang</th><th>RA</th><th>DEC</th><th>redshift</th><th>N200</th><th>logM200c</th><th>logM200m</th><th>R200c</th><th>R200m</th><th>thetaR200</th><th>thetaR200m</th></tr></thead>\n",
       "<thead><tr><th>int64</th><th>float64</th><th>float64</th><th>float64</th><th>int64</th><th>float64</th><th>float64</th><th>float64</th><th>float64</th><th>float64</th><th>float64</th></tr></thead>\n",
       "<tr><td>2</td><td>240.5602</td><td>16.1113</td><td>0.035999998450279236</td><td>525</td><td>15.444902420043945</td><td>15.61043080796355</td><td>2.8714284896850586</td><td>3.880159897239745</td><td>0.7795811316295294</td><td>1.0534475724189225</td></tr>\n",
       "<tr><td>4</td><td>247.1149</td><td>40.8317</td><td>0.029999999329447746</td><td>217</td><td>14.814902305603027</td><td>14.988838641010085</td><td>1.7714285850524902</td><td>2.4220034873237517</td><td>0.5730670271152717</td><td>0.7835316364742502</td></tr>\n",
       "<tr><td>5</td><td>247.1633</td><td>39.4674</td><td>0.029999999329447746</td><td>277</td><td>14.9649019241333</td><td>15.138926939889993</td><td>2.0</td><td>2.7177167877362454</td><td>0.6470111436516279</td><td>0.8791965384498562</td></tr>\n",
       "<tr><td>6</td><td>167.6936</td><td>28.5374</td><td>0.032999999821186066</td><td>167</td><td>14.754902839660645</td><td>14.927840689026137</td><td>1.6857142448425293</td><td>2.3045122256737995</td><td>0.4975147606695648</td><td>0.6801442623443363</td></tr>\n",
       "<tr><td>7</td><td>351.1194</td><td>14.6251</td><td>0.041999999433755875</td><td>106</td><td>14.664902687072754</td><td>14.835094504183962</td><td>1.571428656578064</td><td>2.127630582418425</td><td>0.36826592735879554</td><td>0.4986124388818472</td></tr>\n",
       "<tr><td>8</td><td>239.5372</td><td>27.3133</td><td>0.09000000357627869</td><td>183</td><td>15.254901885986328</td><td>15.411329095121902</td><td>2.442857265472412</td><td>3.1653055595608754</td><td>0.28232277514615234</td><td>0.3658166554840595</td></tr>\n",
       "<tr><td>9</td><td>241.5673</td><td>18.1483</td><td>0.03799999877810478</td><td>143</td><td>14.634902000427246</td><td>14.805763776646277</td><td>1.54285728931427</td><td>2.0882845757704884</td><td>0.39776457242354135</td><td>0.5383813998714762</td></tr>\n",
       "<tr><td>10</td><td>223.2712</td><td>16.724</td><td>0.04500000178813934</td><td>106</td><td>14.37490177154541</td><td>14.540970333947133</td><td>1.2714285850524902</td><td>1.6928023827999323</td><td>0.27907195269288665</td><td>0.3715613166955407</td></tr>\n",
       "<tr><td>11</td><td>10.4693</td><td>-9.3997</td><td>0.0560000017285347</td><td>156</td><td>15.11490249633789</td><td>15.281540679227374</td><td>2.2142856121063232</td><td>2.957436412692569</td><td>0.3955778673545872</td><td>0.5283403209497024</td></tr>\n",
       "<tr><td>12</td><td>14.206</td><td>-0.746</td><td>0.04399999976158142</td><td>95</td><td>14.694901466369629</td><td>14.864857661069076</td><td>1.6142857074737549</td><td>2.1726236197261137</td><td>0.36195781990951564</td><td>0.4871492730432725</td></tr>\n",
       "<tr><td>...</td><td>...</td><td>...</td><td>...</td><td>...</td><td>...</td><td>...</td><td>...</td><td>...</td><td>...</td><td>...</td></tr>\n",
       "<tr><td>616</td><td>172.1451</td><td>26.8291</td><td>0.05299999937415123</td><td>28</td><td>14.304901123046875</td><td>14.468150481012026</td><td>1.1999999284744263</td><td>1.5886231890093618</td><td>0.2257263139528839</td><td>0.29882841113007075</td></tr>\n",
       "<tr><td>621</td><td>215.2345</td><td>17.666</td><td>0.050999999046325684</td><td>35</td><td>14.364901542663574</td><td>14.529507509611106</td><td>1.2428572177886963</td><td>1.668395062003957</td><td>0.2423929117025991</td><td>0.32538502864200974</td></tr>\n",
       "<tr><td>624</td><td>129.0212</td><td>52.7156</td><td>0.04399999976158142</td><td>20</td><td>14.314901351928711</td><td>14.480256292741789</td><td>1.2142857313156128</td><td>1.6172756231116072</td><td>0.27226916535496964</td><td>0.3626282237549935</td></tr>\n",
       "<tr><td>625</td><td>242.3892</td><td>53.0522</td><td>0.06300000101327896</td><td>22</td><td>14.454901695251465</td><td>14.618135149740072</td><td>1.3285714387893677</td><td>1.76567550925269</td><td>0.2126872311457515</td><td>0.28266198128345965</td></tr>\n",
       "<tr><td>628</td><td>325.7397</td><td>-6.8996</td><td>0.05400000140070915</td><td>40</td><td>14.494901657104492</td><td>14.660616473488858</td><td>1.3714286088943481</td><td>1.839771927974334</td><td>0.25348939806987825</td><td>0.34005610630577116</td></tr>\n",
       "<tr><td>630</td><td>167.5969</td><td>4.8471</td><td>0.029999999329447746</td><td>21</td><td>13.854901313781738</td><td>14.014528932520662</td><td>0.8571429252624512</td><td>1.1465813181186486</td><td>0.27729050587717524</td><td>0.37092545127959176</td></tr>\n",
       "<tr><td>631</td><td>119.635</td><td>37.7935</td><td>0.04100000113248825</td><td>28</td><td>14.044901847839355</td><td>14.206077424420972</td><td>0.985714316368103</td><td>1.314137634988978</td><td>0.236360993698376</td><td>0.31511248526809665</td></tr>\n",
       "<tr><td>635</td><td>203.2348</td><td>60.119</td><td>0.07199999690055847</td><td>30</td><td>14.694901466369629</td><td>14.858428133995066</td><td>1.600000023841858</td><td>2.105460196015083</td><td>0.22645130895148075</td><td>0.29799013456435003</td></tr>\n",
       "<tr><td>664</td><td>208.4432</td><td>33.1695</td><td>0.05000000074505806</td><td>29</td><td>14.414901733398438</td><td>14.580451419639658</td><td>1.3000000715255737</td><td>1.7365752831786818</td><td>0.2583078985644966</td><td>0.3450546916686068</td></tr>\n",
       "<tr><td>665</td><td>205.9073</td><td>30.0654</td><td>0.03999999910593033</td><td>83</td><td>15.154901504516602</td><td>15.32506636101808</td><td>2.299999952316284</td><td>3.1049496089753217</td><td>0.5646360045255433</td><td>0.7622462850859</td></tr>\n",
       "</table>"
      ],
      "text/plain": [
       "<Table length=319>\n",
       " Yang    RA      DEC   ...      thetaR200           thetaR200m    \n",
       "int64 float64  float64 ...       float64             float64      \n",
       "----- -------- ------- ... ------------------- -------------------\n",
       "    2 240.5602 16.1113 ...  0.7795811316295294  1.0534475724189225\n",
       "    4 247.1149 40.8317 ...  0.5730670271152717  0.7835316364742502\n",
       "    5 247.1633 39.4674 ...  0.6470111436516279  0.8791965384498562\n",
       "    6 167.6936 28.5374 ...  0.4975147606695648  0.6801442623443363\n",
       "    7 351.1194 14.6251 ... 0.36826592735879554  0.4986124388818472\n",
       "    8 239.5372 27.3133 ... 0.28232277514615234  0.3658166554840595\n",
       "    9 241.5673 18.1483 ... 0.39776457242354135  0.5383813998714762\n",
       "   10 223.2712  16.724 ... 0.27907195269288665  0.3715613166955407\n",
       "   11  10.4693 -9.3997 ...  0.3955778673545872  0.5283403209497024\n",
       "   12   14.206  -0.746 ... 0.36195781990951564  0.4871492730432725\n",
       "  ...      ...     ... ...                 ...                 ...\n",
       "  616 172.1451 26.8291 ...  0.2257263139528839 0.29882841113007075\n",
       "  621 215.2345  17.666 ...  0.2423929117025991 0.32538502864200974\n",
       "  624 129.0212 52.7156 ... 0.27226916535496964  0.3626282237549935\n",
       "  625 242.3892 53.0522 ...  0.2126872311457515 0.28266198128345965\n",
       "  628 325.7397 -6.8996 ... 0.25348939806987825 0.34005610630577116\n",
       "  630 167.5969  4.8471 ... 0.27729050587717524 0.37092545127959176\n",
       "  631  119.635 37.7935 ...   0.236360993698376 0.31511248526809665\n",
       "  635 203.2348  60.119 ... 0.22645130895148075 0.29799013456435003\n",
       "  664 208.4432 33.1695 ...  0.2583078985644966  0.3450546916686068\n",
       "  665 205.9073 30.0654 ...  0.5646360045255433     0.7622462850859"
      ]
     },
     "execution_count": 5,
     "metadata": {},
     "output_type": "execute_result"
    }
   ],
   "source": [
    "cat"
   ]
  },
  {
   "cell_type": "code",
   "execution_count": 6,
   "metadata": {
    "ExecuteTime": {
     "end_time": "2022-04-20T05:03:48.194255Z",
     "start_time": "2022-04-20T05:03:48.182745Z"
    }
   },
   "outputs": [
    {
     "data": {
      "text/html": [
       "<i>Table length=148692</i>\n",
       "<table id=\"table140491219079024\" class=\"table-striped table-bordered table-condensed\">\n",
       "<thead><tr><th>Yang</th><th>objid</th><th>specobjid</th><th>distance</th><th>ra</th><th>dec</th><th>mr_petro</th><th>mu</th><th>mg</th><th>mr</th><th>mi</th><th>mz</th><th>mu_Err</th><th>mg_err</th><th>mr_err</th><th>mi_err</th><th>mz_err</th><th>photo_z</th><th>photo_zErr</th><th>z</th><th>zErr</th><th>fracDeV_i</th><th>bpt</th><th>mass</th><th>mass_p16</th><th>mass_p84</th><th>sfr</th><th>sfr_p16</th><th>sfr_p84</th><th>ssfr</th><th>ssfr_p16</th><th>ssfr_p84</th><th>mass_fire</th><th>mass_fire_p16</th><th>mass_fire_p84</th><th>age_fire</th><th>age_fire_p16</th><th>age_fire_p84</th><th>score</th></tr></thead>\n",
       "<thead><tr><th>int64</th><th>int64</th><th>str20</th><th>float64</th><th>float64</th><th>float64</th><th>float64</th><th>float64</th><th>float64</th><th>float64</th><th>float64</th><th>float64</th><th>float64</th><th>float64</th><th>float64</th><th>float64</th><th>float64</th><th>float64</th><th>float64</th><th>float64</th><th>float64</th><th>float64</th><th>str4</th><th>float64</th><th>float64</th><th>float64</th><th>float64</th><th>float64</th><th>float64</th><th>float64</th><th>float64</th><th>float64</th><th>float64</th><th>float64</th><th>float64</th><th>float64</th><th>float64</th><th>float64</th><th>float64</th></tr></thead>\n",
       "<tr><td>2</td><td>1237665371723661557</td><td>2477083489036429312</td><td>135.738834222632</td><td>241.298564879647</td><td>18.26084584558</td><td>17.48854</td><td>19.75721</td><td>18.21501</td><td>17.37634</td><td>16.95171</td><td>16.6381</td><td>0.0609615</td><td>0.008713962</td><td>0.005935783</td><td>0.006074779</td><td>0.01416315</td><td>0.117663</td><td>0.021792</td><td>0.1065375</td><td>2.452199e-05</td><td>0.4905942</td><td>2</td><td>10.58861</td><td>10.49308</td><td>10.68633</td><td>-0.07285602</td><td>-0.5421439</td><td>0.2960085</td><td>-10.72217</td><td>-11.2</td><td>-10.334</td><td>37374590000.0</td><td>24188360000.0</td><td>49324600000.0</td><td>8078016000.0</td><td>4779446000.0</td><td>10227080000.0</td><td>0.856566</td></tr>\n",
       "<tr><td>2</td><td>1237665428107821415</td><td>2445511568356567040</td><td>171.508636873903</td><td>238.56412770826</td><td>18.2407672679196</td><td>16.31932</td><td>18.71298</td><td>16.98568</td><td>16.19633</td><td>15.843</td><td>15.52826</td><td>0.03205757</td><td>0.004633865</td><td>0.003692101</td><td>0.003854876</td><td>0.007470628</td><td>0.064453</td><td>0.01715</td><td>0.04995852</td><td>1.184666e-05</td><td>1.0</td><td>-1</td><td>10.32373</td><td>10.22839</td><td>10.42026</td><td>-1.198831</td><td>-2.6019</td><td>-0.5137408</td><td>-11.56485</td><td>-13.00833</td><td>-10.86466</td><td>18488130000.0</td><td>15023600000.0</td><td>22695060000.0</td><td>4579532000.0</td><td>3829858000.0</td><td>5779013000.0</td><td>0.8308808</td></tr>\n",
       "<tr><td>2</td><td>1237665428644823420</td><td>null</td><td>173.498011054365</td><td>239.074646969925</td><td>18.6315851506837</td><td>17.74369</td><td>21.26342</td><td>19.24348</td><td>17.60027</td><td>17.03238</td><td>16.6224</td><td>0.2952045</td><td>0.02036217</td><td>0.008256375</td><td>0.00774688</td><td>0.01928836</td><td>0.302899</td><td>0.015353</td><td>-99.0</td><td>-99.0</td><td>1.0</td><td>null</td><td>-99.0</td><td>-99.0</td><td>-99.0</td><td>-99.0</td><td>-99.0</td><td>-99.0</td><td>-99.0</td><td>-99.0</td><td>-99.0</td><td>-99.0</td><td>-99.0</td><td>-99.0</td><td>-99.0</td><td>-99.0</td><td>-99.0</td><td>0.8757436</td></tr>\n",
       "<tr><td>2</td><td>1237665428644888775</td><td>2443361467412539392</td><td>163.246759660063</td><td>239.132308823493</td><td>18.4659109006879</td><td>17.66026</td><td>20.36982</td><td>18.48156</td><td>17.50261</td><td>17.07461</td><td>16.67447</td><td>0.08424775</td><td>0.0088269</td><td>0.00607071</td><td>0.006116295</td><td>0.0135279</td><td>0.116192</td><td>0.01191</td><td>0.1116601</td><td>2.594067e-05</td><td>0.9906603</td><td>-1</td><td>10.69513</td><td>10.60143</td><td>10.78922</td><td>-0.998744</td><td>-2.359543</td><td>-0.2821258</td><td>-11.75</td><td>-13.12561</td><td>-11.03058</td><td>45495570000.0</td><td>38429500000.0</td><td>61801870000.0</td><td>5679056000.0</td><td>4479576000.0</td><td>8977626000.0</td><td>0.8765266</td></tr>\n",
       "<tr><td>2</td><td>1237665428645019674</td><td>2443369988627654656</td><td>154.033811068271</td><td>239.475548138904</td><td>18.460401128184</td><td>17.12686</td><td>18.3683</td><td>17.3434</td><td>17.02203</td><td>16.85099</td><td>16.73031</td><td>0.03064607</td><td>0.005939393</td><td>0.006199671</td><td>0.007703912</td><td>0.02512163</td><td>0.026301</td><td>0.006888</td><td>0.03083848</td><td>7.006724e-06</td><td>0.0</td><td>1</td><td>9.003388</td><td>8.943274</td><td>9.093821</td><td>-0.4763157</td><td>-0.7448473</td><td>-0.1514794</td><td>-9.546676</td><td>-9.815816</td><td>-9.220427</td><td>701867800.0</td><td>473997300.0</td><td>955057300.0</td><td>3380052000.0</td><td>2130594000.0</td><td>4779446000.0</td><td>0.8807181</td></tr>\n",
       "<tr><td>2</td><td>1237665428645019925</td><td>2443374661552072704</td><td>148.86836495571</td><td>239.488718264673</td><td>18.3716150837489</td><td>16.93894</td><td>19.32717</td><td>17.59304</td><td>16.73839</td><td>16.34778</td><td>16.02539</td><td>0.05376307</td><td>0.006460988</td><td>0.00485328</td><td>0.005070472</td><td>0.01194319</td><td>0.087452</td><td>0.01579</td><td>0.06998631</td><td>1.652068e-05</td><td>1.0</td><td>5</td><td>10.47901</td><td>10.38828</td><td>10.56711</td><td>-1.080323</td><td>-2.450889</td><td>-0.4215836</td><td>-11.6034</td><td>-12.92778</td><td>-10.96268</td><td>33769590000.0</td><td>28210060000.0</td><td>38845690000.0</td><td>10227080000.0</td><td>8477842000.0</td><td>10776850000.0</td><td>0.8807181</td></tr>\n",
       "<tr><td>2</td><td>1237665428645019992</td><td>2443374936429979648</td><td>148.369846653478</td><td>239.541013372224</td><td>18.384544561721</td><td>17.08099</td><td>18.67793</td><td>17.43205</td><td>16.95458</td><td>16.73261</td><td>16.56703</td><td>0.04618878</td><td>0.006999946</td><td>0.006659066</td><td>0.008382308</td><td>0.02802264</td><td>0.0323</td><td>0.013754</td><td>0.04581517</td><td>1.127866e-05</td><td>0.09286518</td><td>1</td><td>9.531749</td><td>9.457346</td><td>9.622227</td><td>-0.3694099</td><td>-0.6738763</td><td>-0.08837827</td><td>-9.952034</td><td>-10.29066</td><td>-9.656939</td><td>1588126000.0</td><td>593651800.0</td><td>2582601000.0</td><td>3529988000.0</td><td>531287500.0</td><td>5379186000.0</td><td>0.8807181</td></tr>\n",
       "<tr><td>2</td><td>1237665428645150983</td><td>2475958683289282560</td><td>143.159722457709</td><td>239.802004213502</td><td>18.3847876820098</td><td>17.72339</td><td>19.95294</td><td>18.32212</td><td>17.49247</td><td>17.03662</td><td>16.71286</td><td>0.07685973</td><td>0.009251545</td><td>0.00685283</td><td>0.006859739</td><td>0.01706356</td><td>0.105572</td><td>0.024994</td><td>0.1412849</td><td>2.340153e-05</td><td>1.0</td><td>5</td><td>10.8653</td><td>10.75991</td><td>10.97128</td><td>0.4590226</td><td>-0.04664442</td><td>0.931246</td><td>-10.44528</td><td>-10.96968</td><td>-9.990323</td><td>33132700000.0</td><td>22517430000.0</td><td>50572080000.0</td><td>4079749000.0</td><td>2180572000.0</td><td>5978926000.0</td><td>0.9000694</td></tr>\n",
       "<tr><td>2</td><td>1237665428645216628</td><td>2475963631091607552</td><td>129.870359401985</td><td>239.948953810887</td><td>18.1955300132629</td><td>17.56118</td><td>19.02965</td><td>17.94633</td><td>17.52355</td><td>17.29253</td><td>17.12676</td><td>0.04037053</td><td>0.007454132</td><td>0.007107222</td><td>0.008574725</td><td>0.02587234</td><td>0.041118</td><td>0.021436</td><td>0.03186652</td><td>5.389447e-06</td><td>0.2553504</td><td>1</td><td>8.965192</td><td>8.89559</td><td>9.06178</td><td>-0.7377419</td><td>-0.871875</td><td>-0.5406381</td><td>-9.753775</td><td>-9.919286</td><td>-9.551639</td><td>1026618000.0</td><td>829753300.0</td><td>1420347000.0</td><td>4879402000.0</td><td>3929814000.0</td><td>7028471000.0</td><td>0.9025209</td></tr>\n",
       "<tr><td>2</td><td>1237665429181759726</td><td>2445484080565872640</td><td>184.43847014604</td><td>239.380136614059</td><td>18.9720031788063</td><td>17.25188</td><td>19.82798</td><td>17.89115</td><td>17.01052</td><td>16.60773</td><td>16.33168</td><td>0.09185093</td><td>0.007955735</td><td>0.005818478</td><td>0.005951578</td><td>0.01648548</td><td>0.087658</td><td>0.012266</td><td>0.09565073</td><td>3.467567e-05</td><td>0.8721583</td><td>2</td><td>10.62529</td><td>10.51621</td><td>10.73663</td><td>-1.599954</td><td>-2.845622</td><td>-0.6517372</td><td>-12.25974</td><td>-13.4918</td><td>-11.32105</td><td>32664530000.0</td><td>26474150000.0</td><td>47230110000.0</td><td>7128428000.0</td><td>5629078000.0</td><td>10926780000.0</td><td>0.8797123</td></tr>\n",
       "<tr><td>...</td><td>...</td><td>...</td><td>...</td><td>...</td><td>...</td><td>...</td><td>...</td><td>...</td><td>...</td><td>...</td><td>...</td><td>...</td><td>...</td><td>...</td><td>...</td><td>...</td><td>...</td><td>...</td><td>...</td><td>...</td><td>...</td><td>...</td><td>...</td><td>...</td><td>...</td><td>...</td><td>...</td><td>...</td><td>...</td><td>...</td><td>...</td><td>...</td><td>...</td><td>...</td><td>...</td><td>...</td><td>...</td><td>...</td></tr>\n",
       "<tr><td>665</td><td>1237667259895382137</td><td>2357704288525903872</td><td>79.9878121924208</td><td>204.426461755602</td><td>29.7064763611671</td><td>15.38671</td><td>18.40059</td><td>16.13992</td><td>15.15551</td><td>14.72368</td><td>14.35509</td><td>0.04600602</td><td>0.003939175</td><td>0.002891304</td><td>0.002883826</td><td>0.005376408</td><td>0.08285</td><td>0.013008</td><td>0.115469</td><td>1.98359e-05</td><td>0.9883885</td><td>-1</td><td>11.68887</td><td>11.59864</td><td>11.77794</td><td>-0.7858523</td><td>-1.943779</td><td>0.04783141</td><td>-12.52348</td><td>-13.68775</td><td>-11.68764</td><td>183921700000.0</td><td>168096100000.0</td><td>221224900000.0</td><td>8377886000.0</td><td>7528254000.0</td><td>10976760000.0</td><td>0.904094</td></tr>\n",
       "<tr><td>665</td><td>1237667259895447624</td><td>2357702089502648320</td><td>76.8747102901092</td><td>204.480607134078</td><td>29.730897120665</td><td>15.95714</td><td>18.79149</td><td>16.68309</td><td>15.73994</td><td>15.31656</td><td>14.96381</td><td>0.04610443</td><td>0.004433634</td><td>0.00332642</td><td>0.003341587</td><td>0.006315308</td><td>0.0823</td><td>0.009878</td><td>0.09411518</td><td>2.297877e-05</td><td>1.0</td><td>-1</td><td>11.27552</td><td>11.18648</td><td>11.35921</td><td>-1.096981</td><td>-2.297532</td><td>-0.2882162</td><td>-12.43111</td><td>-13.62453</td><td>-11.60306</td><td>57902660000.0</td><td>49544720000.0</td><td>70439570000.0</td><td>7528254000.0</td><td>5978926000.0</td><td>9427430000.0</td><td>0.9095268</td></tr>\n",
       "<tr><td>665</td><td>1237667259895447635</td><td>2357705113159624704</td><td>74.370542961129</td><td>204.505511822482</td><td>29.8185793710126</td><td>17.24834</td><td>19.68957</td><td>18.16886</td><td>17.24131</td><td>16.74691</td><td>16.40319</td><td>0.06068838</td><td>0.007947353</td><td>0.005535717</td><td>0.005353918</td><td>0.01155144</td><td>0.127361</td><td>0.021043</td><td>0.1399758</td><td>1.980791e-05</td><td>0.3693187</td><td>2</td><td>11.03468</td><td>10.9355</td><td>11.14</td><td>0.4462677</td><td>0.1097798</td><td>0.7964791</td><td>-10.64968</td><td>-11.01274</td><td>-10.29079</td><td>29806750000.0</td><td>24414640000.0</td><td>42131580000.0</td><td>3430031000.0</td><td>2630377000.0</td><td>4479576000.0</td><td>0.9095268</td></tr>\n",
       "<tr><td>665</td><td>1237667259895447642</td><td>2357702914136369152</td><td>76.0318542251095</td><td>204.499553854277</td><td>29.724294094354</td><td>16.85781</td><td>20.0055</td><td>17.7472</td><td>16.69321</td><td>16.29411</td><td>15.90228</td><td>0.09660098</td><td>0.007191074</td><td>0.004669265</td><td>0.004809873</td><td>0.009632502</td><td>0.123594</td><td>0.008114</td><td>0.1133241</td><td>2.210375e-05</td><td>0.8379456</td><td>5</td><td>11.0951</td><td>11.00513</td><td>11.17821</td><td>-1.414215</td><td>-2.552542</td><td>-0.5713485</td><td>-12.57277</td><td>-13.71023</td><td>-11.69444</td><td>137307500000.0</td><td>105312400000.0</td><td>140030500000.0</td><td>11876370000.0</td><td>8977626000.0</td><td>12276200000.0</td><td>0.9095268</td></tr>\n",
       "<tr><td>665</td><td>1237667259895447672</td><td>2357691094386370560</td><td>73.7370269365721</td><td>204.549237253121</td><td>29.7132549231639</td><td>16.43796</td><td>19.08552</td><td>17.20592</td><td>16.32459</td><td>15.91975</td><td>15.598</td><td>0.05074295</td><td>0.005505778</td><td>0.004119048</td><td>0.004160132</td><td>0.008575032</td><td>0.071382</td><td>0.0106</td><td>0.09389412</td><td>2.024408e-05</td><td>1.0</td><td>5</td><td>10.94141</td><td>10.84808</td><td>11.0338</td><td>-1.378538</td><td>-2.603649</td><td>-0.4668197</td><td>-12.37713</td><td>-13.59906</td><td>-11.46824</td><td>68501370000.0</td><td>56984750000.0</td><td>77714670000.0</td><td>10676890000.0</td><td>8327907000.0</td><td>12326170000.0</td><td>0.9095268</td></tr>\n",
       "<tr><td>665</td><td>1237667259895447680</td><td>2357689719996835840</td><td>72.3210727714442</td><td>204.561739530441</td><td>29.7610710335873</td><td>17.751</td><td>19.85356</td><td>18.24636</td><td>17.70227</td><td>17.2811</td><td>17.04415</td><td>0.07460655</td><td>0.008851385</td><td>0.008502666</td><td>0.008200788</td><td>0.02056891</td><td>0.075755</td><td>0.022669</td><td>0.09344299</td><td>1.024912e-05</td><td>0.01624554</td><td>1</td><td>10.28797</td><td>10.18307</td><td>10.38864</td><td>0.3327922</td><td>0.1210914</td><td>0.5511063</td><td>-10.00461</td><td>-10.24607</td><td>-9.767054</td><td>8289315000.0</td><td>7096586000.0</td><td>16042060000.0</td><td>3979792000.0</td><td>3380052000.0</td><td>7628211000.0</td><td>0.9095268</td></tr>\n",
       "<tr><td>665</td><td>1237667259895447697</td><td>2357694667799160832</td><td>74.4846629813968</td><td>204.567155066912</td><td>29.6295117170495</td><td>16.05343</td><td>18.74385</td><td>16.74656</td><td>15.79746</td><td>15.44083</td><td>15.11052</td><td>0.04326519</td><td>0.00458351</td><td>0.003415866</td><td>0.003497148</td><td>0.006764088</td><td>0.097724</td><td>0.008927</td><td>0.1166266</td><td>1.676559e-05</td><td>0.7447318</td><td>-1</td><td>11.43819</td><td>11.34026</td><td>11.55684</td><td>-0.7346577</td><td>-2.091728</td><td>0.2168454</td><td>-12.225</td><td>-13.60987</td><td>-11.26229</td><td>86365770000.0</td><td>77358150000.0</td><td>102129100000.0</td><td>4979359000.0</td><td>4079749000.0</td><td>6328774000.0</td><td>0.9095268</td></tr>\n",
       "<tr><td>665</td><td>1237667259895447723</td><td>2357691369264277504</td><td>70.094241415689</td><td>204.623459400775</td><td>29.7106842734148</td><td>17.52586</td><td>19.98791</td><td>18.15396</td><td>17.22895</td><td>16.78905</td><td>16.48315</td><td>0.1049029</td><td>0.009701673</td><td>0.006532624</td><td>0.006642551</td><td>0.01559433</td><td>0.104789</td><td>0.021747</td><td>0.1638483</td><td>2.19536e-05</td><td>0.6812608</td><td>5</td><td>11.03424</td><td>10.93761</td><td>11.12516</td><td>-0.04028426</td><td>-1.086649</td><td>0.3942256</td><td>-11.13073</td><td>-12.21538</td><td>-10.68367</td><td>92860480000.0</td><td>46304830000.0</td><td>95354540000.0</td><td>6578666000.0</td><td>3180139000.0</td><td>8427864000.0</td><td>0.9095268</td></tr>\n",
       "<tr><td>665</td><td>1237667259895447734</td><td>2357692743653812224</td><td>69.1521882612868</td><td>204.639932568012</td><td>29.7174675091273</td><td>17.62842</td><td>19.59504</td><td>18.31005</td><td>17.48867</td><td>17.07003</td><td>16.7467</td><td>0.05237379</td><td>0.008519014</td><td>0.006159502</td><td>0.006259556</td><td>0.01389243</td><td>0.149548</td><td>0.021009</td><td>0.1154614</td><td>1.863906e-05</td><td>0.8595709</td><td>1</td><td>10.63575</td><td>10.54265</td><td>10.73374</td><td>0.440302</td><td>0.2410781</td><td>0.6615096</td><td>-10.24494</td><td>-10.46628</td><td>-10.00333</td><td>35703020000.0</td><td>23747560000.0</td><td>45484750000.0</td><td>6528688000.0</td><td>3579966000.0</td><td>7528254000.0</td><td>0.9095268</td></tr>\n",
       "<tr><td>665</td><td>1237667259895447737</td><td>2357691919020091392</td><td>67.4225153454295</td><td>204.656226366261</td><td>29.7706023321523</td><td>17.25311</td><td>20.2427</td><td>18.08266</td><td>17.13761</td><td>16.734</td><td>16.41552</td><td>0.1106945</td><td>0.008467158</td><td>0.005731756</td><td>0.005845324</td><td>0.0130647</td><td>0.09864</td><td>0.010766</td><td>0.1159254</td><td>2.838751e-05</td><td>1.0</td><td>-1</td><td>10.80069</td><td>10.70687</td><td>10.89195</td><td>-1.358976</td><td>-2.628175</td><td>-0.5099571</td><td>-12.21827</td><td>-13.5102</td><td>-11.35608</td><td>49183040000.0</td><td>38456130000.0</td><td>58300910000.0</td><td>7378319000.0</td><td>5529121000.0</td><td>8727734000.0</td><td>0.9095268</td></tr>\n",
       "</table>"
      ],
      "text/plain": [
       "<Table length=148692>\n",
       " Yang        objid             specobjid      ...  age_fire_p84   score  \n",
       "int64        int64               str20        ...    float64     float64 \n",
       "----- ------------------- ------------------- ... ------------- ---------\n",
       "    2 1237665371723661557 2477083489036429312 ... 10227080000.0  0.856566\n",
       "    2 1237665428107821415 2445511568356567040 ...  5779013000.0 0.8308808\n",
       "    2 1237665428644823420                null ...         -99.0 0.8757436\n",
       "    2 1237665428644888775 2443361467412539392 ...  8977626000.0 0.8765266\n",
       "    2 1237665428645019674 2443369988627654656 ...  4779446000.0 0.8807181\n",
       "    2 1237665428645019925 2443374661552072704 ... 10776850000.0 0.8807181\n",
       "    2 1237665428645019992 2443374936429979648 ...  5379186000.0 0.8807181\n",
       "    2 1237665428645150983 2475958683289282560 ...  5978926000.0 0.9000694\n",
       "    2 1237665428645216628 2475963631091607552 ...  7028471000.0 0.9025209\n",
       "    2 1237665429181759726 2445484080565872640 ... 10926780000.0 0.8797123\n",
       "  ...                 ...                 ... ...           ...       ...\n",
       "  665 1237667259895382137 2357704288525903872 ... 10976760000.0  0.904094\n",
       "  665 1237667259895447624 2357702089502648320 ...  9427430000.0 0.9095268\n",
       "  665 1237667259895447635 2357705113159624704 ...  4479576000.0 0.9095268\n",
       "  665 1237667259895447642 2357702914136369152 ... 12276200000.0 0.9095268\n",
       "  665 1237667259895447672 2357691094386370560 ... 12326170000.0 0.9095268\n",
       "  665 1237667259895447680 2357689719996835840 ...  7628211000.0 0.9095268\n",
       "  665 1237667259895447697 2357694667799160832 ...  6328774000.0 0.9095268\n",
       "  665 1237667259895447723 2357691369264277504 ...  8427864000.0 0.9095268\n",
       "  665 1237667259895447734 2357692743653812224 ...  7528254000.0 0.9095268\n",
       "  665 1237667259895447737 2357691919020091392 ...  8727734000.0 0.9095268"
      ]
     },
     "execution_count": 6,
     "metadata": {},
     "output_type": "execute_result"
    }
   ],
   "source": [
    "gal"
   ]
  },
  {
   "cell_type": "code",
   "execution_count": null,
   "metadata": {},
   "outputs": [],
   "source": []
  },
  {
   "cell_type": "markdown",
   "metadata": {},
   "source": [
    "# Task to perform\n",
    "\n",
    "1. Create New Variables\n",
    "2. Create Masks\n",
    "3. Assign Dynamical Classification"
   ]
  },
  {
   "cell_type": "markdown",
   "metadata": {},
   "source": [
    "## New Variables\n",
    "\n",
    "In this section we compute the distance from the center and the phase space normalized variables (`R/R_200`, `v_los/v_circ`). Also, we assign k-correction and absolute magnitudes.\n"
   ]
  },
  {
   "cell_type": "code",
   "execution_count": 7,
   "metadata": {
    "ExecuteTime": {
     "end_time": "2022-04-20T05:03:48.201144Z",
     "start_time": "2022-04-20T05:03:48.195636Z"
    }
   },
   "outputs": [],
   "source": [
    "cid  = np.array(cat['Yang'])\n",
    "\n",
    "ra_c = np.array(cat['RA'])\n",
    "de_c = np.array(cat['DEC'])\n",
    "zcls = np.array(cat['redshift'])\n",
    "\n",
    "theta200m = np.array(cat['thetaR200m']) # degrees\n",
    "theta200c = np.array(cat['thetaR200']) # degrees\n",
    "\n",
    "r200m = np.array(cat['R200m'])\n",
    "r200c = np.array(cat['R200c'])\n",
    "m200c = np.array(cat['logM200c'])\n",
    "\n",
    "ra_g = np.array(gal['ra'])\n",
    "de_g = np.array(gal['dec'])\n",
    "distance = np.array(gal['distance'])/60"
   ]
  },
  {
   "cell_type": "code",
   "execution_count": 8,
   "metadata": {
    "ExecuteTime": {
     "end_time": "2022-04-20T05:03:48.254911Z",
     "start_time": "2022-04-20T05:03:48.204479Z"
    }
   },
   "outputs": [],
   "source": [
    "import esutil\n",
    "gcid = np.array(gal['Yang'])\n",
    "cid  = np.array(cat['Yang'])\n",
    "\n",
    "key = esutil.numpy_util.match(cid,gcid)"
   ]
  },
  {
   "cell_type": "code",
   "execution_count": 9,
   "metadata": {
    "ExecuteTime": {
     "end_time": "2022-04-20T05:03:48.262119Z",
     "start_time": "2022-04-20T05:03:48.258367Z"
    }
   },
   "outputs": [],
   "source": [
    "into_cls, into_gal = key[0], key[1]"
   ]
  },
  {
   "cell_type": "markdown",
   "metadata": {
    "ExecuteTime": {
     "end_time": "2022-04-19T16:38:46.285612Z",
     "start_time": "2022-04-19T16:38:46.282886Z"
    }
   },
   "source": [
    "### Angular Distance"
   ]
  },
  {
   "cell_type": "code",
   "execution_count": 10,
   "metadata": {
    "ExecuteTime": {
     "end_time": "2022-04-20T05:03:48.273561Z",
     "start_time": "2022-04-20T05:03:48.264795Z"
    }
   },
   "outputs": [],
   "source": [
    "import smatch\n",
    "\n",
    "# def get_angular_distance_from_cluster_center(ra_c, de_c, radius, ra_g, de_g, nside=4096):\n",
    "#     maxmatch=0 # return all matches\n",
    "\n",
    "#     # ra,dec,radius in degrees\n",
    "#     matches = smatch.match(ra_c,de_c, radius, ra_g, de_g, nside=nside, maxmatch=maxmatch)\n",
    "\n",
    "#     into_cls = matches['i1']\n",
    "#     into_gal = matches['i2']\n",
    "    \n",
    "#     # angular distance in degrees\n",
    "#     distance = getAngDist(ra_c[into_cls], de_c[into_cls], ra_g[into_gal], de_g[into_gal])\n",
    "    \n",
    "#     return into_cls, into_gal, distance\n",
    "\n",
    "def getAngDist(ra1, dec1, ra2, dec2):\n",
    "    # output in arcmin\n",
    "    delt_lon = (ra1 - ra2)*np.pi/180.\n",
    "    delt_lat = (dec1 - dec2)*np.pi/180.\n",
    "    # Haversine formula\n",
    "    dist = 2.0*np.arcsin( np.sqrt( np.sin(delt_lat/2.0)**2 + \\\n",
    "         np.cos(dec1*np.pi/180.)*np.cos(dec2*np.pi/180.)*np.sin(delt_lon/2.0)**2 ) )  \n",
    "    return (dist/np.pi*180.)"
   ]
  },
  {
   "cell_type": "code",
   "execution_count": 11,
   "metadata": {
    "ExecuteTime": {
     "end_time": "2022-04-20T05:03:48.277491Z",
     "start_time": "2022-04-20T05:03:48.275253Z"
    }
   },
   "outputs": [],
   "source": [
    "# into_cls, into_gal, distance = get_angular_distance_from_cluster_center(ra_c, de_c, \n",
    "#                                                                         3*theta200m, ra_g, de_g, \n",
    "#                                                                         nside=4096)"
   ]
  },
  {
   "cell_type": "code",
   "execution_count": 12,
   "metadata": {
    "ExecuteTime": {
     "end_time": "2022-04-20T05:03:48.435516Z",
     "start_time": "2022-04-20T05:03:48.278997Z"
    }
   },
   "outputs": [
    {
     "data": {
      "image/png": "[encoded data removed]",
      "text/plain": [
       "<Figure size 432x288 with 1 Axes>"
      ]
     },
     "metadata": {
      "needs_background": "light"
     },
     "output_type": "display_data"
    }
   ],
   "source": [
    "_ = plt.hist(distance/(theta200m[into_cls]),bins=21)"
   ]
  },
  {
   "cell_type": "code",
   "execution_count": null,
   "metadata": {},
   "outputs": [],
   "source": []
  },
  {
   "cell_type": "markdown",
   "metadata": {},
   "source": [
    "### Assigning new variables"
   ]
  },
  {
   "cell_type": "code",
   "execution_count": 13,
   "metadata": {
    "ExecuteTime": {
     "end_time": "2022-04-20T05:03:48.492466Z",
     "start_time": "2022-04-20T05:03:48.437286Z"
    }
   },
   "outputs": [],
   "source": [
    "data = gal[into_gal].copy()\n",
    "\n",
    "data['Yang'] = cid[into_cls]\n",
    "\n",
    "data['R200c'] = r200c[into_cls]\n",
    "data['R200m'] = r200m[into_cls]\n",
    "\n",
    "data['M200c'] = m200c[into_cls]\n",
    "data['redshift'] = zcls[into_cls]"
   ]
  },
  {
   "cell_type": "code",
   "execution_count": 14,
   "metadata": {
    "ExecuteTime": {
     "end_time": "2022-04-20T05:03:48.499187Z",
     "start_time": "2022-04-20T05:03:48.493830Z"
    }
   },
   "outputs": [],
   "source": [
    "data['distance'] = distance\n",
    "data['Rm'] = distance[into_gal]/theta200m[into_cls]\n",
    "data['Rc'] = distance[into_gal]/theta200c[into_cls]"
   ]
  },
  {
   "cell_type": "code",
   "execution_count": 15,
   "metadata": {
    "ExecuteTime": {
     "end_time": "2022-04-20T05:03:48.502558Z",
     "start_time": "2022-04-20T05:03:48.500354Z"
    }
   },
   "outputs": [],
   "source": [
    "mask1 = key[0]==0\n",
    "mask2 = into_cls==0"
   ]
  },
  {
   "cell_type": "code",
   "execution_count": 16,
   "metadata": {
    "ExecuteTime": {
     "end_time": "2022-04-20T05:03:48.782043Z",
     "start_time": "2022-04-20T05:03:48.503763Z"
    }
   },
   "outputs": [
    {
     "data": {
      "text/plain": [
       "<matplotlib.colorbar.Colorbar at 0x7fc67cc803a0>"
      ]
     },
     "execution_count": 16,
     "metadata": {},
     "output_type": "execute_result"
    },
    {
     "data": {
      "image/png": "[encoded data removed]",
      "text/plain": [
       "<Figure size 432x288 with 2 Axes>"
      ]
     },
     "metadata": {
      "needs_background": "light"
     },
     "output_type": "display_data"
    }
   ],
   "source": [
    "plt.scatter(data['ra'][mask2],data['dec'][mask2],c=data['distance'][mask2],alpha=0.2)\n",
    "plt.colorbar()"
   ]
  },
  {
   "cell_type": "code",
   "execution_count": null,
   "metadata": {},
   "outputs": [],
   "source": []
  },
  {
   "cell_type": "markdown",
   "metadata": {},
   "source": [
    "## Create Masks\n",
    "\n",
    "I use a volume limited and a magnitude threshold sample."
   ]
  },
  {
   "cell_type": "code",
   "execution_count": 17,
   "metadata": {
    "ExecuteTime": {
     "end_time": "2022-04-20T05:03:48.993940Z",
     "start_time": "2022-04-20T05:03:48.783466Z"
    }
   },
   "outputs": [
    {
     "name": "stdout",
     "output_type": "stream",
     "text": [
      "Cosmology \"LCDM\" \n",
      "    flat = True, Om0 = 0.2700, Ode0 = 0.7299, Ob0 = 0.0457, H0 = 70.00, sigma8 = 0.8200, ns = 0.9600\n",
      "    de_model = lambda, relspecies = True, Tcmb0 = 2.7255, Neff = 3.0460, powerlaw = False\n",
      "\n",
      "\n"
     ]
    }
   ],
   "source": [
    "from utils import calc_kcor\n",
    "from preProcessCluster import AngularDistance"
   ]
  },
  {
   "cell_type": "code",
   "execution_count": 18,
   "metadata": {
    "ExecuteTime": {
     "end_time": "2022-04-20T05:03:48.998622Z",
     "start_time": "2022-04-20T05:03:48.995179Z"
    }
   },
   "outputs": [],
   "source": [
    "mg = np.array(data['mg'])\n",
    "mr = np.array(data['mr'])\n",
    "zgal = np.array(data['z'])\n",
    "smass = np.array(data['mass'])\n",
    "gr = mg-mr"
   ]
  },
  {
   "cell_type": "code",
   "execution_count": 19,
   "metadata": {
    "ExecuteTime": {
     "end_time": "2022-04-20T05:03:49.133204Z",
     "start_time": "2022-04-20T05:03:48.999862Z"
    }
   },
   "outputs": [],
   "source": [
    "kr_gr = calc_kcor('r',zgal,'gr',gr)"
   ]
  },
  {
   "cell_type": "code",
   "execution_count": 20,
   "metadata": {
    "ExecuteTime": {
     "end_time": "2022-04-20T05:03:49.141443Z",
     "start_time": "2022-04-20T05:03:49.134576Z"
    }
   },
   "outputs": [],
   "source": [
    "zbins = np.arange(0.,0.3+0.01,0.01)\n",
    "dmbins = AngularDistance(zbins)"
   ]
  },
  {
   "cell_type": "code",
   "execution_count": 21,
   "metadata": {
    "ExecuteTime": {
     "end_time": "2022-04-20T05:03:49.152223Z",
     "start_time": "2022-04-20T05:03:49.143232Z"
    }
   },
   "outputs": [],
   "source": [
    "DM = 5*np.log10(np.interp(zgal,zbins,dmbins)*1e6+1e-9)-5"
   ]
  },
  {
   "cell_type": "code",
   "execution_count": 22,
   "metadata": {
    "ExecuteTime": {
     "end_time": "2022-04-20T05:03:49.156558Z",
     "start_time": "2022-04-20T05:03:49.153489Z"
    }
   },
   "outputs": [],
   "source": [
    "Mr = mr-DM-kr_gr"
   ]
  },
  {
   "cell_type": "code",
   "execution_count": 23,
   "metadata": {
    "ExecuteTime": {
     "end_time": "2022-04-20T05:03:50.310434Z",
     "start_time": "2022-04-20T05:03:49.162204Z"
    }
   },
   "outputs": [
    {
     "data": {
      "text/plain": [
       "<matplotlib.colorbar.Colorbar at 0x7fc624261e80>"
      ]
     },
     "execution_count": 23,
     "metadata": {},
     "output_type": "execute_result"
    },
    {
     "data": {
      "image/png": "[encoded data removed]",
      "text/plain": [
       "<Figure size 432x288 with 2 Axes>"
      ]
     },
     "metadata": {
      "needs_background": "light"
     },
     "output_type": "display_data"
    }
   ],
   "source": [
    "mask = (zgal>0.01)&(zgal<0.1)&(smass>7)\n",
    "plt.scatter(zgal[mask],Mr[mask],c=smass[mask],s=10,alpha=0.3)\n",
    "plt.ylim(-16,-25)\n",
    "plt.colorbar()"
   ]
  },
  {
   "cell_type": "code",
   "execution_count": null,
   "metadata": {
    "ExecuteTime": {
     "end_time": "2022-04-20T04:56:47.385750Z",
     "start_time": "2022-04-20T04:56:47.377848Z"
    }
   },
   "outputs": [],
   "source": []
  },
  {
   "cell_type": "code",
   "execution_count": null,
   "metadata": {},
   "outputs": [],
   "source": []
  },
  {
   "cell_type": "markdown",
   "metadata": {},
   "source": [
    "## Assign Dynamical Classification\n",
    "\n",
    "Assign probability for three dynamical classes: `interloper`, `orbital`, `infall`.\n"
   ]
  },
  {
   "cell_type": "code",
   "execution_count": null,
   "metadata": {},
   "outputs": [],
   "source": []
  },
  {
   "cell_type": "markdown",
   "metadata": {},
   "source": [
    "# Add Other Public Datasets"
   ]
  },
  {
   "cell_type": "markdown",
   "metadata": {},
   "source": [
    "## Match with Morphology\n",
    "\n",
    "We match our sample with Dominguez et al. 2018 morphology sample."
   ]
  },
  {
   "cell_type": "code",
   "execution_count": null,
   "metadata": {},
   "outputs": [],
   "source": []
  },
  {
   "cell_type": "markdown",
   "metadata": {},
   "source": [
    "## Match with Bulge+Disk \n",
    "\n",
    "We match our sample with Mendel et al. 2014 sample."
   ]
  },
  {
   "cell_type": "code",
   "execution_count": null,
   "metadata": {},
   "outputs": [],
   "source": []
  },
  {
   "cell_type": "markdown",
   "metadata": {},
   "source": [
    "# Save Output Samples"
   ]
  },
  {
   "cell_type": "code",
   "execution_count": null,
   "metadata": {},
   "outputs": [],
   "source": []
  },
  {
   "cell_type": "markdown",
   "metadata": {},
   "source": [
    "# Old Stuff"
   ]
  },
  {
   "cell_type": "markdown",
   "metadata": {},
   "source": [
    "## Mask Data"
   ]
  },
  {
   "cell_type": "code",
   "execution_count": 24,
   "metadata": {
    "ExecuteTime": {
     "end_time": "2022-04-20T05:03:50.354910Z",
     "start_time": "2022-04-20T05:03:50.315013Z"
    }
   },
   "outputs": [
    {
     "ename": "NameError",
     "evalue": "name 'gal0' is not defined",
     "output_type": "error",
     "traceback": [
      "\u001b[0;31m---------------------------------------------------------------------------\u001b[0m",
      "\u001b[0;31mNameError\u001b[0m                                 Traceback (most recent call last)",
      "\u001b[0;32m<ipython-input-24-b47846d14506>\u001b[0m in \u001b[0;36m<module>\u001b[0;34m\u001b[0m\n\u001b[0;32m----> 1\u001b[0;31m \u001b[0mmask\u001b[0m \u001b[0;34m=\u001b[0m \u001b[0mgal0\u001b[0m\u001b[0;34m[\u001b[0m\u001b[0;34m'z'\u001b[0m\u001b[0;34m]\u001b[0m\u001b[0;34m>\u001b[0m\u001b[0;36m0.\u001b[0m\u001b[0;34m\u001b[0m\u001b[0;34m\u001b[0m\u001b[0m\n\u001b[0m\u001b[1;32m      2\u001b[0m \u001b[0mmask\u001b[0m\u001b[0;34m&=\u001b[0m \u001b[0;34m(\u001b[0m\u001b[0mgal0\u001b[0m\u001b[0;34m[\u001b[0m\u001b[0;34m'mass'\u001b[0m\u001b[0;34m]\u001b[0m\u001b[0;34m>\u001b[0m\u001b[0;36m0\u001b[0m\u001b[0;34m)\u001b[0m\u001b[0;34m\u001b[0m\u001b[0;34m\u001b[0m\u001b[0m\n\u001b[1;32m      3\u001b[0m \u001b[0mmask\u001b[0m\u001b[0;34m&=\u001b[0m \u001b[0;34m(\u001b[0m\u001b[0mgal0\u001b[0m\u001b[0;34m[\u001b[0m\u001b[0;34m'sfr'\u001b[0m\u001b[0;34m]\u001b[0m\u001b[0;34m>\u001b[0m\u001b[0;34m-\u001b[0m\u001b[0;36m99\u001b[0m\u001b[0;34m)\u001b[0m\u001b[0;34m\u001b[0m\u001b[0;34m\u001b[0m\u001b[0m\n\u001b[1;32m      4\u001b[0m \u001b[0;34m\u001b[0m\u001b[0m\n\u001b[1;32m      5\u001b[0m \u001b[0mNsize\u001b[0m \u001b[0;34m=\u001b[0m \u001b[0mnp\u001b[0m\u001b[0;34m.\u001b[0m\u001b[0mcount_nonzero\u001b[0m\u001b[0;34m(\u001b[0m\u001b[0mmask\u001b[0m\u001b[0;34m)\u001b[0m\u001b[0;34m\u001b[0m\u001b[0;34m\u001b[0m\u001b[0m\n",
      "\u001b[0;31mNameError\u001b[0m: name 'gal0' is not defined"
     ]
    }
   ],
   "source": [
    "mask = gal0['z']>0.\n",
    "mask&= (gal0['mass']>0)\n",
    "mask&= (gal0['sfr']>-99)\n",
    "\n",
    "Nsize = np.count_nonzero(mask)\n",
    "\n",
    "print('Masking Galaxies with no redshift or mass estimations')\n",
    "print('New Size: %i'%(Nsize))\n",
    "print('fraction: %.2f'%(1.*Nsize/len(gal0)))"
   ]
  },
  {
   "cell_type": "code",
   "execution_count": null,
   "metadata": {
    "ExecuteTime": {
     "end_time": "2022-04-20T05:03:50.357625Z",
     "start_time": "2022-04-20T05:03:38.630Z"
    }
   },
   "outputs": [],
   "source": [
    "gal = gal0[mask].copy()"
   ]
  },
  {
   "cell_type": "code",
   "execution_count": null,
   "metadata": {
    "ExecuteTime": {
     "end_time": "2022-04-20T05:03:50.358745Z",
     "start_time": "2022-04-20T05:03:38.632Z"
    }
   },
   "outputs": [],
   "source": [
    "def get_percentile_curve(x,y,alpha=5,Npoints=15):\n",
    "    xbins  = np.percentile(x,np.linspace(0,100,Npoints))\n",
    "    indices= [(x>=xl)&(x<xh) for xl, xh in zip(xbins[:-1],xbins[1:])]\n",
    "    ycurve = np.array([np.percentile(y[idx],alpha) for idx in indices])\n",
    "    return ycurve, 0.5*(xbins[1:]+xbins[:-1])"
   ]
  },
  {
   "cell_type": "code",
   "execution_count": null,
   "metadata": {
    "ExecuteTime": {
     "end_time": "2022-04-20T05:03:50.360462Z",
     "start_time": "2022-04-20T05:03:38.633Z"
    }
   },
   "outputs": [],
   "source": [
    "mass        = np.array(gal['mass'])\n",
    "zgal        = np.array(gal['z'])\n",
    "zmask       = (zgal>=0.025)&(zgal<=0.105)\n",
    "ylow, zbins = get_percentile_curve(zgal[zmask],mass[zmask],Npoints=16)"
   ]
  },
  {
   "cell_type": "code",
   "execution_count": null,
   "metadata": {},
   "outputs": [],
   "source": []
  },
  {
   "cell_type": "markdown",
   "metadata": {},
   "source": [
    "## Magnitude Limit\n",
    "---------------------------------------\n",
    "\n",
    "Definit the mass limit of the study"
   ]
  },
  {
   "cell_type": "code",
   "execution_count": null,
   "metadata": {
    "ExecuteTime": {
     "end_time": "2022-04-20T05:03:50.361381Z",
     "start_time": "2022-04-20T05:03:38.658Z"
    }
   },
   "outputs": [],
   "source": [
    "mass = 10**np.array(gal['mass'])\n",
    "z    = np.array(gal['z'])"
   ]
  },
  {
   "cell_type": "code",
   "execution_count": null,
   "metadata": {
    "ExecuteTime": {
     "end_time": "2022-04-20T05:03:50.362210Z",
     "start_time": "2022-04-20T05:03:38.660Z"
    }
   },
   "outputs": [],
   "source": [
    "plt.scatter(z,mass,s=10,c='k')\n",
    "plt.yscale('log')"
   ]
  },
  {
   "cell_type": "code",
   "execution_count": null,
   "metadata": {
    "ExecuteTime": {
     "end_time": "2022-04-20T05:03:50.363032Z",
     "start_time": "2022-04-20T05:03:38.661Z"
    }
   },
   "outputs": [],
   "source": [
    "zlim = (z>0.09)&(z<=0.1)\n",
    "mass_lim_th = np.log10(np.percentile(mass[zlim],5))\n",
    "print('Log Stellar Mass Lim: %.3f'%mass_lim_th)"
   ]
  },
  {
   "cell_type": "code",
   "execution_count": null,
   "metadata": {
    "ExecuteTime": {
     "end_time": "2022-04-20T05:03:50.363945Z",
     "start_time": "2022-04-20T05:03:38.662Z"
    }
   },
   "outputs": [],
   "source": [
    "zmask = (z>0.03)&(z<0.1)\n",
    "plt.scatter(z[zmask],mass[zmask],s=50,alpha=0.1,color='k')\n",
    "plt.axhline(10**mass_lim_th,ls='--',lw=3,color='r')\n",
    "plt.plot(zbins,10**ylow ,ls='--',lw=3,color='lightgray')\n",
    "plt.yscale('log')\n",
    "plt.ylim(7e7,9e11)"
   ]
  },
  {
   "cell_type": "code",
   "execution_count": null,
   "metadata": {
    "ExecuteTime": {
     "end_time": "2022-04-20T05:03:50.364863Z",
     "start_time": "2022-04-20T05:03:38.663Z"
    }
   },
   "outputs": [],
   "source": [
    "mass_lim = np.interp(gal0['z'],zbins,ylow)\n",
    "mass_mask = gal0['mass']>=mass_lim\n",
    "# mass_mask = gal0['mass']>=mass_lim_th\n",
    "gal = gal0[mask&mass_mask].copy()"
   ]
  },
  {
   "cell_type": "code",
   "execution_count": null,
   "metadata": {
    "ExecuteTime": {
     "end_time": "2022-04-20T05:03:50.365676Z",
     "start_time": "2022-04-20T05:03:38.664Z"
    }
   },
   "outputs": [],
   "source": [
    "# plt.scatter(gal0['z'],10**gal0['mass'],s=10,c='lightgray',alpha=0.3)\n",
    "# plt.scatter(gal['z'],10**gal['mass'],s=10,c='k')\n",
    "# plt.plot(zbins,10**ylow ,ls='--',lw=3,color='r')\n",
    "# plt.xlim(0.025,0.105)\n",
    "# plt.yscale('log')"
   ]
  },
  {
   "cell_type": "code",
   "execution_count": null,
   "metadata": {},
   "outputs": [],
   "source": []
  },
  {
   "cell_type": "code",
   "execution_count": null,
   "metadata": {},
   "outputs": [],
   "source": []
  },
  {
   "cell_type": "markdown",
   "metadata": {},
   "source": [
    "# Computing new variables\n",
    "---------------------------------------\n"
   ]
  },
  {
   "cell_type": "code",
   "execution_count": null,
   "metadata": {
    "ExecuteTime": {
     "end_time": "2022-04-20T05:03:50.366536Z",
     "start_time": "2022-04-20T05:03:38.692Z"
    }
   },
   "outputs": [],
   "source": [
    "from astropy.cosmology import FlatLambdaCDM\n",
    "from colossus.cosmology import cosmology\n",
    "\n",
    "from astropy import units as u\n",
    "from astropy.constants import G, c\n",
    "\n",
    "params = dict(H0 = 70, Om0 = 0.27, Ob0 = 0.0457, Tcmb0 = 2.7255, Neff = 3.046)\n",
    "sigma8 = 0.82\n",
    "ns = 0.96\n",
    "\n",
    "astropy_cosmo = FlatLambdaCDM(**params)\n",
    "astropy_cosmo.name = 'LCDM'\n",
    "colossus_cosmo = cosmology.fromAstropy(astropy_cosmo, sigma8, ns, name = 'my_cosmo')\n",
    "\n",
    "#cosmology.setCosmology('planck15')"
   ]
  },
  {
   "cell_type": "code",
   "execution_count": null,
   "metadata": {
    "ExecuteTime": {
     "end_time": "2022-04-20T05:03:50.367628Z",
     "start_time": "2022-04-20T05:03:38.693Z"
    }
   },
   "outputs": [],
   "source": [
    "Msol = 1.98847e33\n",
    "Mpc2cm = 3.086e+24\n",
    "rad2deg= 180/np.pi\n",
    "h=0.7\n",
    "c_kms = c.value/1000\n",
    "\n",
    "def AngularDistance(z):\n",
    "    DA = float( (cosmo.luminosity_distance(z)/(1+z)**2)/u.Mpc ) # in Mpc\n",
    "    return DA\n",
    "AngularDistance = np.vectorize(AngularDistance)\n",
    "\n",
    "#--- Critical universe density\n",
    "def rhoc(z):\n",
    "    try:\n",
    "        rho_c = float(cosmo.critical_density(z)/(u.g/u.cm**3)) # in g/cm**3\n",
    "    except:\n",
    "        rho_c = [float(cosmo.critical_density(zi)/(u.g/u.cm**3)) for zi in z]\n",
    "        rho_c = np.array(rho_c)\n",
    "    \n",
    "    rho_c = rho_c*(Mpc2cm**3)/Msol # in Msol/Mpc**3\n",
    "    return rho_c\n",
    "\n",
    "def convertM200toR200(M200,z, nc=200):\n",
    "    ## M200 in solar masses\n",
    "    ## R200 in Mpc\n",
    "    rho = nc*rhoc(z)\n",
    "    r200 = (3*M200/(4*np.pi/rho))**(1/3.)\n",
    "    return r200/1e9"
   ]
  },
  {
   "cell_type": "code",
   "execution_count": null,
   "metadata": {
    "ExecuteTime": {
     "end_time": "2022-04-20T05:03:50.368436Z",
     "start_time": "2022-04-20T05:03:38.694Z"
    }
   },
   "outputs": [],
   "source": [
    "m200 = np.array(10**cat['logM200'])\n",
    "r200v= np.array(cat['R200'])\n",
    "zcls = np.array(cat['z'])\n",
    "\n",
    "r200c= convertM200toR200(m200*cosmo.h,zcls)"
   ]
  },
  {
   "cell_type": "code",
   "execution_count": null,
   "metadata": {
    "ExecuteTime": {
     "end_time": "2022-04-20T05:03:50.369319Z",
     "start_time": "2022-04-20T05:03:38.695Z"
    }
   },
   "outputs": [],
   "source": [
    "plt.plot([0.4,2.5],[0.4,2.5],'k--',lw=3)\n",
    "plt.scatter(r200v,r200c)"
   ]
  },
  {
   "cell_type": "markdown",
   "metadata": {},
   "source": [
    "## Defining R200m\n",
    "See this pages for more info:<br>\n",
    "https://bdiemer.bitbucket.io/colossus/halo_concentration.html#halo.concentration.concentration <br>\n",
    "https://bdiemer.bitbucket.io/colossus/halo_mass_defs.html\n",
    "\n",
    "```\n",
    "from colossus.halo import profile_nfw\n",
    "profile = profile_nfw.NFWProfile(M = 1E12, mdef = 'vir', z = 0.0, c = 10.0)\n",
    "R200m = profile.RDelta(0.0, '200m')\n",
    "rho = profile.density(R200m)\n",
    "Sigma = profile.surfaceDensity(R200m)\n",
    "M200m = profile.enclosedMass(R200m)\n",
    "```"
   ]
  },
  {
   "cell_type": "code",
   "execution_count": null,
   "metadata": {
    "ExecuteTime": {
     "end_time": "2022-04-20T05:03:50.370311Z",
     "start_time": "2022-04-20T05:03:38.722Z"
    }
   },
   "outputs": [],
   "source": [
    "i = 150\n",
    "Mi = 10**cat['logM200'][i]\n",
    "Ri = float(cat['R200'][i])\n",
    "zi = int(cat['z'][i])"
   ]
  },
  {
   "cell_type": "code",
   "execution_count": null,
   "metadata": {
    "ExecuteTime": {
     "end_time": "2022-04-20T05:03:50.371260Z",
     "start_time": "2022-04-20T05:03:38.723Z"
    }
   },
   "outputs": [],
   "source": [
    "from colossus.halo import concentration\n",
    "from colossus.halo import mass_defs\n",
    "\n",
    "print(cosmology.getCurrent())\n",
    "print('\\n')\n",
    "\n",
    "ci = concentration.concentration(Mi, '200c', zi, model = 'diemer15')\n",
    "M200m, R200m, c200m = mass_defs.changeMassDefinition(Mi, c200, zi, '200c', '200m')\n",
    "\n",
    "print(f'Input - M200c, Rvir, c_200c: {np.log10(Mi):.2f}, {Ri:.2f}, {ci:.2f}')\n",
    "print(f'Output - M200m, R200m, c_200m: {np.log10(M200m):.2f}, {R200m/1000.:.2f}, {c200m:.2f}')"
   ]
  },
  {
   "cell_type": "code",
   "execution_count": null,
   "metadata": {
    "ExecuteTime": {
     "end_time": "2022-04-20T05:03:50.372047Z",
     "start_time": "2022-04-20T05:03:38.724Z"
    }
   },
   "outputs": [],
   "source": [
    "def convert_mass_defs(Mi,zi,mdef='200m'):\n",
    "    ci = concentration.concentration(Mi, '200c', zi, model = 'diemer15')\n",
    "    M200m, R200m, c200m = mass_defs.changeMassDefinition(Mi, c200, zi, '200c', mdef)\n",
    "    return M200m, R200m, c200m"
   ]
  },
  {
   "cell_type": "code",
   "execution_count": null,
   "metadata": {
    "ExecuteTime": {
     "end_time": "2022-04-20T05:03:50.373168Z",
     "start_time": "2022-04-20T05:03:38.724Z"
    }
   },
   "outputs": [],
   "source": [
    "out = [convert_mass_defs(Mi,zi,'200m') for Mi,zi in zip(m200,zcls)]\n",
    "M200m = np.array([line[0] for line in out])\n",
    "R200m = np.array([line[1]/1000. for line in out])\n",
    "c200m = np.array([line[2] for line in out])"
   ]
  },
  {
   "cell_type": "code",
   "execution_count": null,
   "metadata": {
    "ExecuteTime": {
     "end_time": "2022-04-20T05:03:50.374018Z",
     "start_time": "2022-04-20T05:03:38.725Z"
    }
   },
   "outputs": [],
   "source": [
    "# plt.plot([13.5,15.7],[13.5,15.7],'k--',lw=2)\n",
    "# plt.scatter(cat['logM200'],np.log10(M200m), s=100,alpha=0.2)"
   ]
  },
  {
   "cell_type": "code",
   "execution_count": null,
   "metadata": {
    "ExecuteTime": {
     "end_time": "2022-04-20T05:03:50.375092Z",
     "start_time": "2022-04-20T05:03:38.726Z"
    }
   },
   "outputs": [],
   "source": [
    "plt.scatter(r200v,R200m, s=100,alpha=0.2)\n",
    "plt.ylabel('R200m', fontsize=16)\n",
    "plt.xlabel('Rvir', fontsize=16)"
   ]
  },
  {
   "cell_type": "code",
   "execution_count": null,
   "metadata": {},
   "outputs": [],
   "source": []
  },
  {
   "cell_type": "markdown",
   "metadata": {},
   "source": [
    "## Distance From The Center\n",
    "---------------------------------------\n",
    "\n",
    "To have the phase space we need first to compute the distance from the center, $R/R_{200}$."
   ]
  },
  {
   "cell_type": "code",
   "execution_count": null,
   "metadata": {
    "ExecuteTime": {
     "end_time": "2022-04-20T05:03:50.376141Z",
     "start_time": "2022-04-20T05:03:38.753Z"
    }
   },
   "outputs": [],
   "source": [
    "#DA = AngularDistance(zcls)\n",
    "def convertDegreeToMpc(theta,z):\n",
    "    da     = AngularDistance(z)\n",
    "    length = (theta*np.pi/180)*da\n",
    "    return length\n",
    "\n",
    "def convertR200toM200(R200,z, nc=200):\n",
    "    ## M200 in solar masses\n",
    "    ## R200 in Mpc\n",
    "    rho = rhoc(z)\n",
    "    M200 = nc*4*np.pi*rho*R200**3/3\n",
    "    return M200\n",
    "\n"
   ]
  },
  {
   "cell_type": "code",
   "execution_count": null,
   "metadata": {
    "ExecuteTime": {
     "end_time": "2022-04-20T05:03:50.376975Z",
     "start_time": "2022-04-20T05:03:38.754Z"
    }
   },
   "outputs": [],
   "source": [
    "import esutil\n",
    "gcid = np.array(gal['Yang'])\n",
    "cid  = np.array(cat['Yang'])\n",
    "\n",
    "key = esutil.numpy_util.match(cid,gcid)"
   ]
  },
  {
   "cell_type": "code",
   "execution_count": null,
   "metadata": {
    "ExecuteTime": {
     "end_time": "2022-04-20T05:03:50.377836Z",
     "start_time": "2022-04-20T05:03:38.755Z"
    }
   },
   "outputs": [],
   "source": [
    "gal['row']      = np.where(mask&mass_mask)[0]\n",
    "gal['redshift'] = np.zeros(len(gal))\n",
    "gal['redshift'][key[1]] = cat['z'][key[0]]\n",
    "\n",
    "gal['M200']    = np.zeros(len(gal))\n",
    "gal['M200'][key[1]] = 10**cat['logM200'][key[0]]\n",
    "\n",
    "gal['M200m']    = np.zeros(len(gal))\n",
    "gal['M200m'][key[1]] = M200m[key[0]]\n",
    "\n",
    "gal['R200']    = 99.*np.ones(len(gal))\n",
    "gal['R200'][key[1]] = r200c[key[0]]\n",
    "\n",
    "gal['R200m']    = 99.*np.ones(len(gal))\n",
    "gal['R200m'][key[1]] = R200m[key[0]]\n",
    "\n",
    "gal['R'] = convertDegreeToMpc(gal['distance']/60.,gal['redshift'])"
   ]
  },
  {
   "cell_type": "code",
   "execution_count": null,
   "metadata": {
    "ExecuteTime": {
     "end_time": "2022-04-20T05:03:50.378844Z",
     "start_time": "2022-04-20T05:03:38.756Z"
    }
   },
   "outputs": [],
   "source": [
    "gal['Rnm']= gal['R']/gal['R200m']\n",
    "gal['Rn']= gal['R']/gal['R200']"
   ]
  },
  {
   "cell_type": "code",
   "execution_count": null,
   "metadata": {
    "ExecuteTime": {
     "end_time": "2022-04-20T05:03:50.379671Z",
     "start_time": "2022-04-20T05:03:38.757Z"
    }
   },
   "outputs": [],
   "source": [
    "fig = plt.figure(figsize=(12,4))\n",
    "plt.subplot(1, 2, 1)\n",
    "\n",
    "a = plt.hist(gal['Rn'],bins=21)\n",
    "plt.xlabel(r'$R/R_{200c}$',fontsize=16)\n",
    "\n",
    "plt.subplot(1, 2, 2)\n",
    "plt.hist(gal['Rnm'],bins=21)\n",
    "plt.xlabel(r'$R/R_{200m}$',fontsize=16)"
   ]
  },
  {
   "cell_type": "code",
   "execution_count": null,
   "metadata": {
    "ExecuteTime": {
     "end_time": "2022-04-14T17:46:05.012111Z",
     "start_time": "2022-04-14T17:46:04.843734Z"
    }
   },
   "outputs": [],
   "source": []
  },
  {
   "cell_type": "markdown",
   "metadata": {},
   "source": [
    "The line of sight velocity\n",
    "---------------------------------------\n",
    "\n",
    "\n",
    "Here we compute the line of sight velocity assuming the redshift given by the Yang catalog. For the orbital classification we also need to compute the cluster circular velocity."
   ]
  },
  {
   "cell_type": "code",
   "execution_count": null,
   "metadata": {
    "ExecuteTime": {
     "end_time": "2022-04-20T05:03:50.380593Z",
     "start_time": "2022-04-20T05:03:38.786Z"
    }
   },
   "outputs": [],
   "source": [
    "def get_los_velocity(z_gal,z_BCG):\n",
    "    return c_kms*(z_gal - z_BCG)/(1 + z_BCG)"
   ]
  },
  {
   "cell_type": "code",
   "execution_count": null,
   "metadata": {
    "ExecuteTime": {
     "end_time": "2022-04-20T05:03:50.382173Z",
     "start_time": "2022-04-20T05:03:38.787Z"
    }
   },
   "outputs": [],
   "source": [
    "def vcirc(mass,redshift,mdef,cosmo):\n",
    "    '''Calculate circular velocity in km/s for halos of mass M (Msun/h)'''\n",
    "    rho_crit = cosmo.critical_density(redshift)\n",
    "    if mdef[-1] == 'c':\n",
    "        delta = int(mdef[:-1])\n",
    "        rho = delta*rho_crit\n",
    "    elif mdef[-1] == 'm':\n",
    "        delta = int(mdef[:-1])\n",
    "        rho = delta*rho_crit*cosmo.Om(redshift)\n",
    "    else:\n",
    "        raise RuntimeError(\"Not correct mass definition\")\n",
    "    v = np.sqrt(G*(np.pi*4*rho/3)**(1./3)*(mass*u.Msun)**(2./3))\n",
    "    a = v.to(u.km/u.s)\n",
    "    return a.value"
   ]
  },
  {
   "cell_type": "code",
   "execution_count": null,
   "metadata": {
    "ExecuteTime": {
     "end_time": "2022-04-20T05:03:50.383380Z",
     "start_time": "2022-04-20T05:03:38.788Z"
    }
   },
   "outputs": [],
   "source": [
    "vlos = np.array(get_los_velocity(gal['z'],gal['redshift']))\n",
    "vc   = vcirc(10**gal['M200'],gal['redshift'],'200c',cosmo)\n",
    "\n",
    "gal['vlos'] = vlos\n",
    "gal['vlosn']= vlos/vc\n",
    "\n",
    "vlosn = vlos/vc\n",
    "rnorm = gal['Rn']\n",
    "\n",
    "cut = np.abs(vlosn)<3.0"
   ]
  },
  {
   "cell_type": "code",
   "execution_count": null,
   "metadata": {
    "ExecuteTime": {
     "end_time": "2022-04-20T05:03:50.384554Z",
     "start_time": "2022-04-20T05:03:38.789Z"
    }
   },
   "outputs": [],
   "source": [
    "vmask = np.abs(vlos)<=2500.\n",
    "zm = np.median(vlos[vmask])\n",
    "_ = plt.hist(vlos,bins=np.linspace(-3000.,3000.))\n",
    "plt.axvline(zm,ls='--',lw=3,color='k',label='Median: %i km/s'%zm)\n",
    "plt.legend()"
   ]
  },
  {
   "cell_type": "code",
   "execution_count": null,
   "metadata": {},
   "outputs": [],
   "source": []
  },
  {
   "cell_type": "code",
   "execution_count": null,
   "metadata": {
    "ExecuteTime": {
     "end_time": "2022-04-20T05:03:50.385768Z",
     "start_time": "2022-04-20T05:03:38.791Z"
    }
   },
   "outputs": [],
   "source": [
    "zm = np.median(vlos[vmask]/vc[vmask])\n",
    "\n",
    "_ = plt.hist(vlos[vmask]/vc[vmask],bins=np.linspace(-5.,5.))\n",
    "plt.axvline(zm,ls='--',lw=3,color='k',label='Median: %.3f '%zm)\n",
    "plt.legend(fontsize=12)\n",
    "plt.xlabel(r'$v_{los}/v_{circ}$',fontsize=18)"
   ]
  },
  {
   "cell_type": "code",
   "execution_count": null,
   "metadata": {
    "ExecuteTime": {
     "end_time": "2022-04-20T05:03:50.386682Z",
     "start_time": "2022-04-20T05:03:38.792Z"
    }
   },
   "outputs": [],
   "source": [
    "## change the r200c to the r200m. "
   ]
  },
  {
   "cell_type": "code",
   "execution_count": null,
   "metadata": {
    "ExecuteTime": {
     "end_time": "2022-04-20T05:03:50.388323Z",
     "start_time": "2022-04-20T05:03:38.793Z"
    }
   },
   "outputs": [],
   "source": [
    "rcls = np.array(gal['R'])*u.Mpc\n",
    "rcls = rcls.to(u.km).value\n",
    "\n",
    "year   = 365*24*3600\n",
    "to_gyr = year*1e9"
   ]
  },
  {
   "cell_type": "code",
   "execution_count": null,
   "metadata": {
    "ExecuteTime": {
     "end_time": "2022-04-20T05:03:50.389583Z",
     "start_time": "2022-04-20T05:03:38.794Z"
    }
   },
   "outputs": [],
   "source": [
    "tinfall = (rcls/(np.abs(vlos)+1e-9))*u.s.to(u.yr)\n",
    "gal['t_infall'] = tinfall"
   ]
  },
  {
   "cell_type": "code",
   "execution_count": null,
   "metadata": {
    "ExecuteTime": {
     "end_time": "2022-04-20T05:03:50.390912Z",
     "start_time": "2022-04-20T05:03:38.795Z"
    }
   },
   "outputs": [],
   "source": [
    "plt.hist(np.log10(tinfall[vmask]),bins=np.linspace(7.,12.,21))"
   ]
  },
  {
   "cell_type": "code",
   "execution_count": null,
   "metadata": {},
   "outputs": [],
   "source": []
  },
  {
   "cell_type": "markdown",
   "metadata": {},
   "source": [
    "# Orbital Classification\n",
    "---------------------------------------\n",
    "\n",
    "\n",
    "Here we assign the classes, orbital, infall and interloper."
   ]
  },
  {
   "cell_type": "code",
   "execution_count": null,
   "metadata": {
    "ExecuteTime": {
     "end_time": "2022-04-20T05:03:50.391842Z",
     "start_time": "2022-04-20T05:03:38.825Z"
    }
   },
   "outputs": [],
   "source": [
    "from sklearn.ensemble import RandomForestClassifier\n",
    "import joblib\n",
    "loaded_rf = joblib.load(\"/Users/jesteves/Downloads/phase_space/classification_2d_rf.joblib\")"
   ]
  },
  {
   "cell_type": "code",
   "execution_count": null,
   "metadata": {
    "ExecuteTime": {
     "end_time": "2022-04-20T05:03:50.392716Z",
     "start_time": "2022-04-20T05:03:38.826Z"
    }
   },
   "outputs": [],
   "source": [
    "import pandas as pd\n",
    "df   = pd.DataFrame ({ 'r2d':rnorm, 'vlos':vlosn})\n",
    "tags = loaded_rf.predict(df) \n"
   ]
  },
  {
   "cell_type": "code",
   "execution_count": null,
   "metadata": {
    "ExecuteTime": {
     "end_time": "2022-04-20T05:03:50.393696Z",
     "start_time": "2022-04-20T05:03:38.827Z"
    }
   },
   "outputs": [],
   "source": [
    "tag_probability = loaded_rf.predict_proba(df) "
   ]
  },
  {
   "cell_type": "code",
   "execution_count": null,
   "metadata": {
    "ExecuteTime": {
     "end_time": "2022-04-20T05:03:50.394475Z",
     "start_time": "2022-04-20T05:03:38.828Z"
    }
   },
   "outputs": [],
   "source": [
    "tag_probability"
   ]
  },
  {
   "cell_type": "code",
   "execution_count": null,
   "metadata": {
    "ExecuteTime": {
     "end_time": "2022-04-20T05:03:50.395576Z",
     "start_time": "2022-04-20T05:03:38.829Z"
    }
   },
   "outputs": [],
   "source": [
    "def get_random_assignment(prob):\n",
    "    is_class = np.full(len(prob),0)\n",
    "    for i,pi in enumerate(prob):\n",
    "        is_class[i] = int(pi>np.random.random())\n",
    "    return is_class"
   ]
  },
  {
   "cell_type": "code",
   "execution_count": null,
   "metadata": {
    "ExecuteTime": {
     "end_time": "2022-04-20T05:03:50.396771Z",
     "start_time": "2022-04-20T05:03:38.833Z"
    }
   },
   "outputs": [],
   "source": [
    "porbital= tag_probability[:,0]\n",
    "pinfall = tag_probability[:,1]\n",
    "pinterl = tag_probability[:,2]\n",
    "\n",
    "orbital = get_random_assignment(porbital)\n",
    "infall  = get_random_assignment(pinfall)\n",
    "interl  = get_random_assignment(pinterl)"
   ]
  },
  {
   "cell_type": "code",
   "execution_count": null,
   "metadata": {
    "ExecuteTime": {
     "end_time": "2022-04-20T05:03:50.397888Z",
     "start_time": "2022-04-20T05:03:38.835Z"
    }
   },
   "outputs": [],
   "source": [
    "plt.hist(porbital[cut],histtype='step',lw=4,label='orbital')\n",
    "plt.hist(pinfall[cut],histtype='step',lw=4,label='infall')\n",
    "plt.hist(pinterl[cut],histtype='step',lw=4,label='interlopers')\n",
    "plt.legend(fontsize=14)\n",
    "plt.xlabel('Probability')"
   ]
  },
  {
   "cell_type": "code",
   "execution_count": null,
   "metadata": {
    "ExecuteTime": {
     "end_time": "2022-04-20T05:03:50.398796Z",
     "start_time": "2022-04-20T05:03:38.837Z"
    }
   },
   "outputs": [],
   "source": [
    "# np.count_nonzero(orbital)/len(orbital)\n",
    "# np.count_nonzero(infall)/len(orbital)\n",
    "np.count_nonzero(interl)/len(orbital)"
   ]
  },
  {
   "cell_type": "code",
   "execution_count": null,
   "metadata": {
    "ExecuteTime": {
     "end_time": "2022-04-20T05:03:50.399675Z",
     "start_time": "2022-04-20T05:03:38.838Z"
    }
   },
   "outputs": [],
   "source": [
    "gal['infall']     = infall \n",
    "gal['orbital']    = orbital\n",
    "gal['interloper'] = interl\n",
    "\n",
    "gal['pinfall']     = pinfall \n",
    "gal['porbital']    = porbital\n",
    "gal['pinterloper'] = pinterl"
   ]
  },
  {
   "cell_type": "code",
   "execution_count": null,
   "metadata": {
    "ExecuteTime": {
     "end_time": "2022-04-20T05:03:50.400489Z",
     "start_time": "2022-04-20T05:03:38.840Z"
    }
   },
   "outputs": [],
   "source": [
    "import seaborn as sns\n",
    "sns.set_context('notebook')"
   ]
  },
  {
   "cell_type": "code",
   "execution_count": null,
   "metadata": {
    "ExecuteTime": {
     "end_time": "2022-04-20T05:03:50.401380Z",
     "start_time": "2022-04-20T05:03:38.841Z"
    }
   },
   "outputs": [],
   "source": [
    "# ax = sns.jointplot(x=rnorm[cut], y=vlos[cut], kind=\"scatter\", s=10, alpha=0.3, space=0)\n",
    "# ax = sns.jointplot(x=rnorm[cut], y=vlos[cut], kind=\"resid\", space=0, height=6, ratio=6, joint_kws = {'scatter_kws':dict(alpha=0.2,s=50)},ylim=(-1650,1650))\n",
    "ax = sns.jointplot(x=rnorm[cut], y=vlosn[cut], kind=\"resid\", space=0, height=6, ratio=6, joint_kws = {'scatter_kws':dict(alpha=0.2,s=50)})\n",
    "ax.set_axis_labels(r'$R/R_{200}$', r'$v_{los}/v_{cir}$ ', fontsize=16)\n",
    "ax.fig.set_figwidth(8)"
   ]
  },
  {
   "cell_type": "code",
   "execution_count": null,
   "metadata": {
    "ExecuteTime": {
     "end_time": "2022-04-20T05:03:50.402350Z",
     "start_time": "2022-04-20T05:03:38.843Z"
    },
    "scrolled": true
   },
   "outputs": [],
   "source": [
    "plt.figure(figsize=(8,4))\n",
    "plt.scatter(rnorm[cut],vlosn[cut],c=tags[cut],alpha=0.7,s=30,cmap='coolwarm_r')\n",
    "plt.xlabel(r'$R/R_{200m}$',fontsize=16)\n",
    "plt.ylabel(r'$v_{los}/ v_{circ} $',fontsize=16)\n",
    "plt.colorbar()"
   ]
  },
  {
   "cell_type": "code",
   "execution_count": null,
   "metadata": {
    "ExecuteTime": {
     "end_time": "2022-04-20T05:03:50.403041Z",
     "start_time": "2022-04-20T05:03:38.845Z"
    }
   },
   "outputs": [],
   "source": [
    "vc2 = vcirc(gal['M200m'],gal['redshift'],'200m',cosmo)\n",
    "vlosn2 = np.array(gal['vlos']/vc2)\n",
    "rnorm2 = np.array(gal['Rnm'])\n",
    "cut2 = np.abs(vlosn2)<3."
   ]
  },
  {
   "cell_type": "code",
   "execution_count": null,
   "metadata": {
    "ExecuteTime": {
     "end_time": "2022-04-20T05:03:50.404081Z",
     "start_time": "2022-04-20T05:03:38.846Z"
    }
   },
   "outputs": [],
   "source": [
    "df   = pd.DataFrame ({ 'r2d':rnorm2, 'vlos':vlosn2})\n",
    "tags2 = loaded_rf.predict(df) \n",
    "tag_probability2 = loaded_rf.predict_proba(df) "
   ]
  },
  {
   "cell_type": "code",
   "execution_count": null,
   "metadata": {
    "ExecuteTime": {
     "end_time": "2022-04-20T05:03:50.405587Z",
     "start_time": "2022-04-20T05:03:38.847Z"
    }
   },
   "outputs": [],
   "source": [
    "porbital2= tag_probability2[:,0]\n",
    "pinfall2 = tag_probability2[:,1]\n",
    "pinterl2 = tag_probability2[:,2]\n",
    "\n",
    "orbital2 = get_random_assignment(porbital2)\n",
    "infall2  = get_random_assignment(pinfall2)\n",
    "interl2  = get_random_assignment(pinterl2)"
   ]
  },
  {
   "cell_type": "code",
   "execution_count": null,
   "metadata": {
    "ExecuteTime": {
     "end_time": "2022-04-20T05:03:50.406797Z",
     "start_time": "2022-04-20T05:03:38.848Z"
    }
   },
   "outputs": [],
   "source": [
    "fig = plt.figure(figsize=(12,4))\n",
    "plt.subplot(1, 2, 1)\n",
    "\n",
    "labels = ['orbital','infall','interlopers']\n",
    "for i in range(3):\n",
    "    plt.hist(vlosn[cut],bins=51,weights=tag_probability[cut,i],histtype='step', lw=3, label=labels[i],density=True)\n",
    "# for i in range(3):\n",
    "#     plt.hist(vlosn2[cut2],bins=51,weights=tag_probability2[cut2,i]\n",
    "#              ,histtype='step', lw=3, label=labels[i],density=True,\n",
    "#             color='C%i'%i,ls='--')\n",
    "\n",
    "plt.legend(fontsize=14)\n",
    "plt.xlabel(r'$v_{los}/ v_{circ} $',fontsize=16)\n",
    "plt.title('Normalized by: Vcir(M200c), R200c',fontsize=16)\n",
    "plt.ylim(-0.025,0.95)\n",
    "\n",
    "plt.subplot(1, 2, 2)\n",
    "labels = ['orbital','infall','interlopers']\n",
    "for i in range(3):\n",
    "    plt.hist(vlosn2[cut2],bins=51,weights=tag_probability2[cut2,i],histtype='step', lw=3, label=labels[i],density=True)\n",
    "\n",
    "plt.legend(fontsize=14)\n",
    "plt.xlabel(r'$v_{los}/ v_{circ} $',fontsize=16)\n",
    "plt.title('Normalized by: Vcir(M200m), R200m',fontsize=16)\n",
    "plt.ylim(-0.025,0.95)"
   ]
  },
  {
   "cell_type": "code",
   "execution_count": null,
   "metadata": {
    "ExecuteTime": {
     "end_time": "2022-04-20T05:03:50.407690Z",
     "start_time": "2022-04-20T05:03:38.850Z"
    }
   },
   "outputs": [],
   "source": [
    "fig = plt.figure(figsize=(11,4))\n",
    "plt.subplot(1, 2, 1)\n",
    "\n",
    "labels = ['orbital','infall','interlopers']\n",
    "for i in range(3):\n",
    "    plt.hist(rnorm[cut],bins=51,weights=tag_probability[cut,i],histtype='step', lw=3, label=labels[i],density=True)\n",
    "\n",
    "plt.legend(fontsize=14)\n",
    "plt.xlabel(r'$R/R_{200c}$',fontsize=16)\n",
    "plt.title('Normalized by: Vcir(M200c), R200c',fontsize=16)\n",
    "plt.ylim(-0.025,1.5)\n",
    "\n",
    "plt.subplot(1, 2, 2)\n",
    "labels = ['orbital','infall','interlopers']\n",
    "for i in range(3):\n",
    "    plt.hist(rnorm2[cut2],bins=51,weights=tag_probability2[cut2,i],histtype='step', lw=3, label=labels[i],density=True)\n",
    "\n",
    "plt.legend(fontsize=14)\n",
    "plt.xlabel(r'$R/R_{200m}$',fontsize=16)\n",
    "plt.title('Normalized by: Vcir(M200m), R200m',fontsize=16)\n",
    "plt.ylim(-0.025,1.5)\n",
    "plt.tight_layout()\n",
    "plt.savefig('../plots/radial_distribtution_prob_weighted.png',dpi=100,facecolor='w',transparent=False)"
   ]
  },
  {
   "cell_type": "code",
   "execution_count": null,
   "metadata": {},
   "outputs": [],
   "source": []
  },
  {
   "cell_type": "markdown",
   "metadata": {},
   "source": [
    "# Star Forming Galaxies Classification\n",
    "--------------\n",
    "\n",
    "In first approach we assume a fixed threshold on ssfr. Next step would be to model with a linear fit."
   ]
  },
  {
   "cell_type": "code",
   "execution_count": null,
   "metadata": {
    "ExecuteTime": {
     "end_time": "2022-04-20T05:03:50.408691Z",
     "start_time": "2022-04-20T05:03:38.894Z"
    }
   },
   "outputs": [],
   "source": [
    "star_forming = (gal['ssfr']>-11.0)\n",
    "quenching    = np.logical_not(star_forming)"
   ]
  },
  {
   "cell_type": "code",
   "execution_count": null,
   "metadata": {
    "ExecuteTime": {
     "end_time": "2022-04-20T05:03:50.409792Z",
     "start_time": "2022-04-20T05:03:38.895Z"
    }
   },
   "outputs": [],
   "source": [
    "gal['SF'] = np.array(star_forming).astype(int)"
   ]
  },
  {
   "cell_type": "code",
   "execution_count": null,
   "metadata": {},
   "outputs": [],
   "source": []
  },
  {
   "cell_type": "code",
   "execution_count": null,
   "metadata": {},
   "outputs": [],
   "source": []
  },
  {
   "cell_type": "markdown",
   "metadata": {},
   "source": [
    "# Match With Morphological Classification\n",
    "--------------\n",
    "\n",
    "Here we math the Dominguez et al. 2017 machine learning morphological classification with our sample."
   ]
  },
  {
   "cell_type": "code",
   "execution_count": null,
   "metadata": {
    "ExecuteTime": {
     "end_time": "2022-04-20T05:03:50.410622Z",
     "start_time": "2022-04-20T05:03:38.931Z"
    }
   },
   "outputs": [],
   "source": [
    "morp_fname = fl.morp_fname"
   ]
  },
  {
   "cell_type": "code",
   "execution_count": null,
   "metadata": {
    "ExecuteTime": {
     "end_time": "2022-04-20T05:03:50.411395Z",
     "start_time": "2022-04-20T05:03:38.932Z"
    }
   },
   "outputs": [],
   "source": [
    "from astropy.io.fits import getdata\n",
    "from astropy.table import Table\n",
    "\n",
    "morph = Table(getdata(morp_fname,1))"
   ]
  },
  {
   "cell_type": "code",
   "execution_count": null,
   "metadata": {
    "ExecuteTime": {
     "end_time": "2022-04-20T05:03:50.412241Z",
     "start_time": "2022-04-20T05:03:38.933Z"
    }
   },
   "outputs": [],
   "source": [
    "!cat ../data/README_Morph_catalogue_DS18.txt"
   ]
  },
  {
   "cell_type": "code",
   "execution_count": null,
   "metadata": {
    "ExecuteTime": {
     "end_time": "2022-04-20T05:03:50.413212Z",
     "start_time": "2022-04-20T05:03:38.934Z"
    }
   },
   "outputs": [],
   "source": [
    "morph"
   ]
  },
  {
   "cell_type": "code",
   "execution_count": null,
   "metadata": {
    "ExecuteTime": {
     "end_time": "2022-04-20T05:03:50.414355Z",
     "start_time": "2022-04-20T05:03:38.935Z"
    }
   },
   "outputs": [],
   "source": [
    "#!pip3 install git+https://github.com/esheldon/smatch/"
   ]
  },
  {
   "cell_type": "code",
   "execution_count": null,
   "metadata": {},
   "outputs": [],
   "source": []
  },
  {
   "cell_type": "code",
   "execution_count": null,
   "metadata": {
    "ExecuteTime": {
     "end_time": "2022-04-20T05:03:50.415257Z",
     "start_time": "2022-04-20T05:03:38.936Z"
    }
   },
   "outputs": [],
   "source": [
    "import smatch\n",
    "\n",
    "nside=4096 # healpix nside\n",
    "maxmatch=1 # return closest match\n",
    "\n",
    "# ra,dec,radius in degrees\n",
    "matches0 = smatch.match(gal['ra'], gal['dec'], 3.0/3600, morph['_RA'], morph['_DE'], nside=nside, maxmatch=maxmatch)\n",
    "dist = np.sqrt((gal['ra'][matches0['i1']]-morph['_RA'][matches0['i2']])**2+(gal['dec'][matches0['i1']]-morph['_DE'][matches0['i2']])**2)*3600"
   ]
  },
  {
   "cell_type": "code",
   "execution_count": null,
   "metadata": {
    "ExecuteTime": {
     "end_time": "2022-04-20T05:03:50.416005Z",
     "start_time": "2022-04-20T05:03:38.937Z"
    }
   },
   "outputs": [],
   "source": [
    "plt.figure(figsize=(5,4))\n",
    "_ = plt.hist(dist,bins=np.linspace(0.,2.5))\n",
    "plt.axvline(1.95,ls='--',color='k',label='cut = %.2f arcsec'%(1.95))\n",
    "plt.yscale('log')\n",
    "plt.xlabel('arcsec',fontsize=18)\n",
    "plt.legend(fontsize=14)\n",
    "plt.title('distance between matches',fontsize=18)\n",
    "plt.tight_layout()\n",
    "plt.savefig('../plots/'+'match_distance.png')"
   ]
  },
  {
   "cell_type": "code",
   "execution_count": null,
   "metadata": {
    "ExecuteTime": {
     "end_time": "2022-04-20T05:03:50.416769Z",
     "start_time": "2022-04-20T05:03:38.938Z"
    }
   },
   "outputs": [],
   "source": [
    "matches = smatch.match(gal['ra'], gal['dec'], 2.9/3600, morph['_RA'], morph['_DE'], nside=nside, maxmatch=maxmatch)\n",
    "dist = np.sqrt((gal['ra'][matches0['i1']]-morph['_RA'][matches0['i2']])**2+(gal['dec'][matches0['i1']]-morph['_DE'][matches0['i2']])**2)*3600"
   ]
  },
  {
   "cell_type": "code",
   "execution_count": null,
   "metadata": {
    "ExecuteTime": {
     "end_time": "2022-04-20T05:03:50.417463Z",
     "start_time": "2022-04-20T05:03:38.939Z"
    }
   },
   "outputs": [],
   "source": [
    "indice1 = matches['i1']\n",
    "indice2 = matches['i2']\n",
    "fraction = len(gal[indice1])/len(gal)\n",
    "\n",
    "print('Fraction matched: %.3f'%fraction)"
   ]
  },
  {
   "cell_type": "code",
   "execution_count": null,
   "metadata": {
    "ExecuteTime": {
     "end_time": "2022-04-20T05:03:50.418109Z",
     "start_time": "2022-04-20T05:03:38.940Z"
    }
   },
   "outputs": [],
   "source": [
    "columns = morph.colnames[4:-3]\n",
    "\n",
    "print('Selected Columns:',columns)\n",
    "\n",
    "for col in columns:\n",
    "    gal[col] = -99.\n",
    "    gal[col][indice1] = morph[col][indice2]"
   ]
  },
  {
   "cell_type": "code",
   "execution_count": null,
   "metadata": {},
   "outputs": [],
   "source": []
  },
  {
   "cell_type": "markdown",
   "metadata": {},
   "source": [
    "# Saving File\n",
    "---------------------------------------\n"
   ]
  },
  {
   "cell_type": "code",
   "execution_count": null,
   "metadata": {
    "ExecuteTime": {
     "end_time": "2022-04-20T05:03:50.419059Z",
     "start_time": "2022-04-20T05:03:38.978Z"
    }
   },
   "outputs": [],
   "source": [
    "galaxy_file[:-4]+'_volumeLimited_v1'"
   ]
  },
  {
   "cell_type": "code",
   "execution_count": null,
   "metadata": {
    "ExecuteTime": {
     "end_time": "2022-04-20T05:03:50.419884Z",
     "start_time": "2022-04-20T05:03:38.979Z"
    }
   },
   "outputs": [],
   "source": [
    "# fl.gal_fname1 = galaxy_file[:-4]+'_v1.csv'\n",
    "fl.gal_fname1 = galaxy_file[:-4]+'_volumeLimited_v1'\n",
    "gal.write(fl.gal_fname1,format='csv',overwrite=True)"
   ]
  },
  {
   "cell_type": "code",
   "execution_count": null,
   "metadata": {},
   "outputs": [],
   "source": []
  },
  {
   "cell_type": "code",
   "execution_count": null,
   "metadata": {},
   "outputs": [],
   "source": []
  },
  {
   "cell_type": "code",
   "execution_count": null,
   "metadata": {},
   "outputs": [],
   "source": []
  }
 ],
 "metadata": {
  "kernelspec": {
   "display_name": "Python 3",
   "language": "python",
   "name": "python3"
  },
  "language_info": {
   "codemirror_mode": {
    "name": "ipython",
    "version": 3
   },
   "file_extension": ".py",
   "mimetype": "text/x-python",
   "name": "python",
   "nbconvert_exporter": "python",
   "pygments_lexer": "ipython3",
   "version": "3.8.8"
  },
  "latex_envs": {
   "LaTeX_envs_menu_present": true,
   "autoclose": true,
   "autocomplete": true,
   "bibliofile": "biblio.bib",
   "cite_by": "apalike",
   "current_citInitial": 1,
   "eqLabelWithNumbers": true,
   "eqNumInitial": 1,
   "hotkeys": {
    "equation": "Ctrl-E",
    "itemize": "Ctrl-I"
   },
   "labels_anchors": false,
   "latex_user_defs": false,
   "report_style_numbering": true,
   "user_envs_cfg": false
  },
  "toc": {
   "base_numbering": 1,
   "nav_menu": {},
   "number_sections": true,
   "sideBar": true,
   "skip_h1_title": false,
   "title_cell": "Table of Contents",
   "title_sidebar": "Contents",
   "toc_cell": false,
   "toc_position": {},
   "toc_section_display": true,
   "toc_window_display": false
  }
 },
 "nbformat": 4,
 "nbformat_minor": 4
}
