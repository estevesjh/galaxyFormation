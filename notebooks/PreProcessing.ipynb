{
 "cells": [
  {
   "cell_type": "markdown",
   "metadata": {},
   "source": [
    "# Pre-Processing Dataset\n",
    "\n",
    "Here I generate the `gal_fname1` which cointains the columns needed to this study: `Mr, R, R/R200, v_los, v_circ, orbital, infall, interloper`.\n"
   ]
  },
  {
   "cell_type": "code",
   "execution_count": 1,
   "metadata": {
    "ExecuteTime": {
     "end_time": "2022-04-21T05:32:06.985994Z",
     "start_time": "2022-04-21T05:32:06.975025Z"
    }
   },
   "outputs": [
    {
     "name": "stdout",
     "output_type": "stream",
     "text": [
      "/Users/jesteves/Documents/GitHub/galaxyFormation\n"
     ]
    }
   ],
   "source": [
    "%cd ../"
   ]
  },
  {
   "cell_type": "code",
   "execution_count": 2,
   "metadata": {
    "ExecuteTime": {
     "end_time": "2022-04-21T05:32:09.188548Z",
     "start_time": "2022-04-21T05:32:06.988446Z"
    }
   },
   "outputs": [],
   "source": [
    "import sys\n",
    "sys.path.append('./scripts')\n",
    "from file_loc import FileLocs"
   ]
  },
  {
   "cell_type": "code",
   "execution_count": 3,
   "metadata": {
    "ExecuteTime": {
     "end_time": "2022-04-21T05:32:09.452065Z",
     "start_time": "2022-04-21T05:32:09.190611Z"
    }
   },
   "outputs": [],
   "source": [
    "import numpy as np\n",
    "import matplotlib.pyplot as plt\n",
    "from astropy.io.fits import getdata\n",
    "import astropy.table as Table\n",
    "import astropy.io.ascii as at"
   ]
  },
  {
   "cell_type": "code",
   "execution_count": null,
   "metadata": {},
   "outputs": [],
   "source": []
  },
  {
   "cell_type": "markdown",
   "metadata": {},
   "source": [
    "# Reading Initial Data"
   ]
  },
  {
   "cell_type": "code",
   "execution_count": null,
   "metadata": {
    "ExecuteTime": {
     "start_time": "2022-04-21T05:32:06.992Z"
    }
   },
   "outputs": [
    {
     "name": "stdout",
     "output_type": "stream",
     "text": [
      "Loading Catalog: ./data/catalogs/SDSS/groupCatalog_Yang_deCarvalho2017.csv\n"
     ]
    }
   ],
   "source": [
    "fl = FileLocs(dataset='sdss')\n",
    "\n",
    "cat = fl.load_catalogs('cluster/main')\n",
    "gal = fl.load_catalogs('galaxy/raw')"
   ]
  },
  {
   "cell_type": "code",
   "execution_count": null,
   "metadata": {
    "ExecuteTime": {
     "start_time": "2022-04-21T05:32:06.993Z"
    }
   },
   "outputs": [],
   "source": [
    "cat"
   ]
  },
  {
   "cell_type": "code",
   "execution_count": null,
   "metadata": {
    "ExecuteTime": {
     "start_time": "2022-04-21T05:32:06.995Z"
    }
   },
   "outputs": [],
   "source": [
    "gal"
   ]
  },
  {
   "cell_type": "code",
   "execution_count": null,
   "metadata": {},
   "outputs": [],
   "source": []
  },
  {
   "cell_type": "markdown",
   "metadata": {},
   "source": [
    "# Task to perform\n",
    "\n",
    "1. Create New Variables\n",
    "2. Create Masks\n",
    "3. Assign Dynamical Classification"
   ]
  },
  {
   "cell_type": "markdown",
   "metadata": {},
   "source": [
    "## New Variables\n",
    "\n",
    "In this section we compute the distance from the center and the phase space normalized variables (`R/R_200`, `v_los/v_circ`). Also, we assign k-correction and absolute magnitudes.\n"
   ]
  },
  {
   "cell_type": "code",
   "execution_count": null,
   "metadata": {
    "ExecuteTime": {
     "start_time": "2022-04-21T05:32:07.031Z"
    }
   },
   "outputs": [],
   "source": [
    "cid  = np.array(cat['Yang'])\n",
    "\n",
    "ra_c = np.array(cat['RA'])\n",
    "de_c = np.array(cat['DEC'])\n",
    "zcls = np.array(cat['redshift'])\n",
    "\n",
    "theta200m = np.array(cat['thetaR200m']) # degrees\n",
    "theta200c = np.array(cat['thetaR200']) # degrees\n",
    "\n",
    "r200m = np.array(cat['R200m'])\n",
    "r200c = np.array(cat['R200c'])\n",
    "m200c = np.array(cat['logM200c'])\n",
    "\n",
    "vcirc_m =  np.array(cat['vcirc_m'])\n",
    "vcirc_c =  np.array(cat['vcirc_c'])"
   ]
  },
  {
   "cell_type": "code",
   "execution_count": null,
   "metadata": {
    "ExecuteTime": {
     "start_time": "2022-04-21T05:32:07.032Z"
    }
   },
   "outputs": [],
   "source": [
    "import esutil\n",
    "gcid = np.array(gal['Yang'])\n",
    "cid  = np.array(cat['Yang'])\n",
    "\n",
    "key = esutil.numpy_util.match(cid,gcid)"
   ]
  },
  {
   "cell_type": "code",
   "execution_count": null,
   "metadata": {
    "ExecuteTime": {
     "start_time": "2022-04-21T05:32:07.033Z"
    }
   },
   "outputs": [],
   "source": [
    "into_cls, into_gal = key[0], key[1]"
   ]
  },
  {
   "cell_type": "markdown",
   "metadata": {},
   "source": [
    "### Assigning new variables"
   ]
  },
  {
   "cell_type": "code",
   "execution_count": null,
   "metadata": {
    "ExecuteTime": {
     "start_time": "2022-04-21T05:32:07.051Z"
    }
   },
   "outputs": [],
   "source": [
    "data = gal[into_gal].copy()\n",
    "\n",
    "data['Yang'] = cid[into_cls]\n",
    "\n",
    "data['R200c'] = r200c[into_cls]\n",
    "data['R200m'] = r200m[into_cls]\n",
    "\n",
    "data['M200c'] = m200c[into_cls]\n",
    "data['redshift'] = zcls[into_cls]"
   ]
  },
  {
   "cell_type": "code",
   "execution_count": null,
   "metadata": {
    "ExecuteTime": {
     "start_time": "2022-04-21T05:32:07.052Z"
    }
   },
   "outputs": [],
   "source": [
    "distance = np.array(gal['distance'])/60. # degrees\n",
    "data['distance'] = distance\n",
    "data['Rm'] = distance[into_gal]/theta200m[into_cls]\n",
    "data['Rc'] = distance[into_gal]/theta200c[into_cls]"
   ]
  },
  {
   "cell_type": "code",
   "execution_count": null,
   "metadata": {
    "ExecuteTime": {
     "start_time": "2022-04-21T05:32:07.053Z"
    }
   },
   "outputs": [],
   "source": [
    "from astropy.constants import G, c\n",
    "def get_los_velocity(z_gal,z_BCG,c_kms = c.value/1000):\n",
    "    return np.array(c_kms*(z_gal - z_BCG)/(1 + z_BCG))"
   ]
  },
  {
   "cell_type": "code",
   "execution_count": null,
   "metadata": {
    "ExecuteTime": {
     "start_time": "2022-04-21T05:32:07.054Z"
    }
   },
   "outputs": [],
   "source": [
    "zgal = np.array(data['z'])\n",
    "vlos = get_los_velocity(zgal,data['redshift'])\n",
    "\n",
    "data['vlos'] = vlos\n",
    "# data['vlos'] = data['vlos']/vcirc_c[into_cls]\n",
    "data['vlosn'] = data['vlos']/vcirc_m[into_cls]"
   ]
  },
  {
   "cell_type": "code",
   "execution_count": null,
   "metadata": {},
   "outputs": [],
   "source": []
  },
  {
   "cell_type": "markdown",
   "metadata": {},
   "source": [
    "## Ploting Distributions"
   ]
  },
  {
   "cell_type": "markdown",
   "metadata": {
    "ExecuteTime": {
     "end_time": "2022-04-20T21:48:58.807174Z",
     "start_time": "2022-04-20T21:48:58.802884Z"
    }
   },
   "source": [
    "### Radial Distribution"
   ]
  },
  {
   "cell_type": "code",
   "execution_count": null,
   "metadata": {
    "ExecuteTime": {
     "start_time": "2022-04-21T05:32:07.098Z"
    }
   },
   "outputs": [],
   "source": [
    "_ = plt.hist(data['Rm'],bins=31)\n",
    "# _ = plt.hist(data['Rc'],bins=31)"
   ]
  },
  {
   "cell_type": "code",
   "execution_count": null,
   "metadata": {
    "ExecuteTime": {
     "start_time": "2022-04-21T05:32:07.100Z"
    }
   },
   "outputs": [],
   "source": [
    "_ = plt.hist(data['Rc'],bins=31)"
   ]
  },
  {
   "cell_type": "markdown",
   "metadata": {},
   "source": [
    "#### Cluster Example"
   ]
  },
  {
   "cell_type": "code",
   "execution_count": null,
   "metadata": {
    "ExecuteTime": {
     "start_time": "2022-04-21T05:32:07.125Z"
    }
   },
   "outputs": [],
   "source": [
    "mask1 = into_gal==0\n",
    "mask2 = into_cls==0"
   ]
  },
  {
   "cell_type": "code",
   "execution_count": null,
   "metadata": {
    "ExecuteTime": {
     "start_time": "2022-04-21T05:32:07.126Z"
    }
   },
   "outputs": [],
   "source": [
    "plt.scatter(data['ra'][mask2],data['dec'][mask2],c=data['distance'][mask2],alpha=0.2)\n",
    "plt.colorbar()"
   ]
  },
  {
   "cell_type": "code",
   "execution_count": null,
   "metadata": {},
   "outputs": [],
   "source": []
  },
  {
   "cell_type": "markdown",
   "metadata": {},
   "source": [
    "### Line of Sight Velocity"
   ]
  },
  {
   "cell_type": "code",
   "execution_count": null,
   "metadata": {
    "ExecuteTime": {
     "start_time": "2022-04-21T05:32:07.154Z"
    }
   },
   "outputs": [],
   "source": [
    "vmask = np.abs(vlos)<=3000.\n",
    "zm = np.median(vlos[vmask])\n",
    "_ = plt.hist(vlos,bins=np.linspace(-3000.,3000.))\n",
    "plt.axvline(zm,ls='--',lw=3,color='k',label='Median: %i km/s'%zm)\n",
    "plt.legend()"
   ]
  },
  {
   "cell_type": "code",
   "execution_count": null,
   "metadata": {
    "ExecuteTime": {
     "start_time": "2022-04-21T05:32:07.155Z"
    }
   },
   "outputs": [],
   "source": [
    "vm_mask = np.abs(data['vlosn'])<=3.\n",
    "zm = np.median(data['vlosn'][vmask])\n",
    "_ = plt.hist(data['vlosn'],bins=np.linspace(-3.,3.))\n",
    "plt.axvline(zm,ls='--',lw=3,color='k',label='Median: %.1f %%'%(zm*100))\n",
    "plt.legend()"
   ]
  },
  {
   "cell_type": "code",
   "execution_count": null,
   "metadata": {
    "ExecuteTime": {
     "start_time": "2022-04-21T05:32:07.156Z"
    }
   },
   "outputs": [],
   "source": [
    "## inital l.o.s velocity cut of 10.000 km/s\n",
    "velocity_mask = (data['vlos']<10*1e3)&(data['z']>0.)\n",
    "\n",
    "vlos_mask = (data['vlosn']<3.0)&(data['z']>0.)"
   ]
  },
  {
   "cell_type": "code",
   "execution_count": null,
   "metadata": {
    "ExecuteTime": {
     "start_time": "2022-04-21T05:32:07.158Z"
    }
   },
   "outputs": [],
   "source": [
    "print(f'Total of good galaxies: {np.count_nonzero(velocity_mask)}')\n",
    "print(f'Galaxies within vlos/vcirc < 3: {np.count_nonzero(vlos_mask)}')"
   ]
  },
  {
   "cell_type": "code",
   "execution_count": null,
   "metadata": {},
   "outputs": [],
   "source": []
  },
  {
   "cell_type": "markdown",
   "metadata": {},
   "source": [
    "## Create Masks\n",
    "\n",
    "I use a volume limited and a magnitude threshold sample."
   ]
  },
  {
   "cell_type": "code",
   "execution_count": null,
   "metadata": {
    "ExecuteTime": {
     "start_time": "2022-04-21T05:32:07.179Z"
    }
   },
   "outputs": [],
   "source": [
    "from utils import calc_kcor\n",
    "from preProcessCluster import AngularDistance"
   ]
  },
  {
   "cell_type": "code",
   "execution_count": null,
   "metadata": {
    "ExecuteTime": {
     "start_time": "2022-04-21T05:32:07.179Z"
    }
   },
   "outputs": [],
   "source": [
    "smass = 10**np.array(data['mass'])\n",
    "mg = np.array(data['mg'])\n",
    "mr = np.array(data['mr'])\n",
    "gr = mg-mr"
   ]
  },
  {
   "cell_type": "code",
   "execution_count": null,
   "metadata": {
    "ExecuteTime": {
     "start_time": "2022-04-21T05:32:07.180Z"
    }
   },
   "outputs": [],
   "source": [
    "zbins = np.arange(0.,0.3+0.01,0.01)\n",
    "dmbins = AngularDistance(zbins)"
   ]
  },
  {
   "cell_type": "code",
   "execution_count": null,
   "metadata": {
    "ExecuteTime": {
     "start_time": "2022-04-21T05:32:07.181Z"
    }
   },
   "outputs": [],
   "source": [
    "kr_gr = calc_kcor('r',zgal,'gr',gr)\n",
    "DM = 5*np.log10(np.interp(zgal,zbins,dmbins)*1e6+1e-9)-5\n",
    "Mr = mr-DM-kr_gr"
   ]
  },
  {
   "cell_type": "code",
   "execution_count": null,
   "metadata": {
    "ExecuteTime": {
     "start_time": "2022-04-21T05:32:07.182Z"
    }
   },
   "outputs": [],
   "source": [
    "def get_percentile_curve(x,y,xbins,alpha=5,Npoints=15):\n",
    "    #xbins  = np.percentile(x,np.linspace(0,100,Npoints))\n",
    "    indices= [(x>=xl)&(x<xh) for xl, xh in zip(xbins[:-1],xbins[1:])]\n",
    "    ycurve = np.array([np.percentile(y[idx],alpha) for idx in indices])\n",
    "    return ycurve, 0.5*(xbins[1:]+xbins[:-1])"
   ]
  },
  {
   "cell_type": "code",
   "execution_count": null,
   "metadata": {
    "ExecuteTime": {
     "start_time": "2022-04-21T05:32:07.183Z"
    }
   },
   "outputs": [],
   "source": [
    "zmask       = velocity_mask\n",
    "zinterp =  np.arange(0.01,np.percentile(zgal[zmask],99.9)+0.01,0.005)\n",
    "ylow, zbins2 = get_percentile_curve(zgal[zmask], Mr[zmask], zinterp, Npoints=51, alpha=98)\n",
    "\n",
    "\n",
    "Mr_thrshold = np.interp(0.1,zbins2,ylow)\n",
    "Mr_th_mask = Mr<=Mr_thrshold\n",
    "print(f'Mr thrshold: {Mr_thrshold:.2f} mag')\n",
    "\n",
    "Mr_lim = np.interp(zgal,zbins2,ylow)\n",
    "Mr_lim = np.where(zgal<0.015, np.max(ylow), Mr_lim)\n",
    "Mr_mask = Mr<Mr_lim\n"
   ]
  },
  {
   "cell_type": "code",
   "execution_count": null,
   "metadata": {
    "ExecuteTime": {
     "start_time": "2022-04-21T05:32:07.184Z"
    }
   },
   "outputs": [],
   "source": [
    "plt.scatter(zgal[Mr_mask&zmask],Mr[Mr_mask&zmask],c=(data['mass'][Mr_mask&zmask]),vmin=8.75,vmax=12.,s=30,cmap='jet')\n",
    "plt.plot(zbins2, ylow, ls='--',lw=4,color='w')\n",
    "plt.axhline(Mr_thrshold,ls='--',lw=3,color='k')\n",
    "plt.ylim(-15.,-25)\n",
    "plt.colorbar()"
   ]
  },
  {
   "cell_type": "code",
   "execution_count": null,
   "metadata": {
    "ExecuteTime": {
     "start_time": "2022-04-21T05:32:07.185Z"
    }
   },
   "outputs": [],
   "source": [
    "plt.scatter(zgal[zmask],smass[zmask],s=10,alpha=0.3)\n",
    "plt.scatter(zgal[zmask&~Mr_mask],smass[zmask&~Mr_mask],s=10,alpha=0.3,color='lightgray')\n",
    "plt.ylim(1e7,3e12)\n",
    "plt.yscale('log')"
   ]
  },
  {
   "cell_type": "code",
   "execution_count": null,
   "metadata": {},
   "outputs": [],
   "source": []
  },
  {
   "cell_type": "code",
   "execution_count": null,
   "metadata": {},
   "outputs": [],
   "source": []
  },
  {
   "cell_type": "markdown",
   "metadata": {},
   "source": [
    "### Assigning new variables"
   ]
  },
  {
   "cell_type": "code",
   "execution_count": null,
   "metadata": {
    "ExecuteTime": {
     "start_time": "2022-04-21T05:32:07.207Z"
    }
   },
   "outputs": [],
   "source": [
    "data['Mr'] = Mr\n",
    "data['kcorr_r_gr'] = kr_gr \n",
    "data['mag_lim_mask'] = Mr_mask\n",
    "data['mag_th_mask'] = Mr_th_mask"
   ]
  },
  {
   "cell_type": "code",
   "execution_count": null,
   "metadata": {},
   "outputs": [],
   "source": []
  },
  {
   "cell_type": "markdown",
   "metadata": {},
   "source": [
    "## Assign Dynamical Classification\n",
    "\n",
    "Assign probability for three dynamical classes: `interloper`, `orbital`, `infall`.\n"
   ]
  },
  {
   "cell_type": "code",
   "execution_count": null,
   "metadata": {
    "ExecuteTime": {
     "start_time": "2022-04-21T05:32:07.229Z"
    }
   },
   "outputs": [],
   "source": [
    "from sklearn.ensemble import RandomForestClassifier\n",
    "import joblib\n",
    "loaded_rf = joblib.load(\"/Users/jesteves/Downloads/phase_space/classification_2d_rf.joblib\")"
   ]
  },
  {
   "cell_type": "code",
   "execution_count": null,
   "metadata": {
    "ExecuteTime": {
     "start_time": "2022-04-21T05:32:07.230Z"
    }
   },
   "outputs": [],
   "source": [
    "rnorm_c = np.array(data['Rc'])\n",
    "rnorm_m = np.array(data['Rm'])\n",
    "\n",
    "vlosn_c = np.array(data['vlos'])\n",
    "vlosn_m = np.array(data['vlosn'])"
   ]
  },
  {
   "cell_type": "code",
   "execution_count": null,
   "metadata": {
    "ExecuteTime": {
     "start_time": "2022-04-21T05:32:07.231Z"
    }
   },
   "outputs": [],
   "source": [
    "import pandas as pd\n",
    "df2   = pd.DataFrame ({ 'r2d':rnorm_m, 'vlos':vlosn_m})\n",
    "tags2 = loaded_rf.predict(df2) \n",
    "tag_probability2 = loaded_rf.predict_proba(df2) "
   ]
  },
  {
   "cell_type": "markdown",
   "metadata": {},
   "source": [
    "### Plot Distributions"
   ]
  },
  {
   "cell_type": "code",
   "execution_count": null,
   "metadata": {
    "ExecuteTime": {
     "start_time": "2022-04-21T05:32:07.256Z"
    }
   },
   "outputs": [],
   "source": [
    "fig = plt.figure(figsize=(11,4))\n",
    "plt.subplot(1, 2, 1)\n",
    "cut = (np.abs(vlosn_m)<3.)&(rnorm_c<3.)\n",
    "labels = ['orbital','infall','interlopers']\n",
    "for i in range(3):\n",
    "    plt.hist(rnorm_c[cut],bins=51,weights=tag_probability2[cut,i],histtype='step', lw=3, label=labels[i],density=False)\n",
    "\n",
    "plt.legend(fontsize=14)\n",
    "plt.xlabel(r'$R/R_{200c}$',fontsize=16)\n",
    "# plt.title('Normalized by: Vcir(M200c), R200c',fontsize=16)\n",
    "# plt.ylim(-0.025,1.5)\n",
    "\n",
    "plt.subplot(1, 2, 2)\n",
    "cut2 = (np.abs(vlosn_m)<3.)&(rnorm_m<3.)\n",
    "labels = ['orbital','infall','interlopers']\n",
    "for i in range(3):\n",
    "    plt.hist(rnorm_m[cut2],bins=51,weights=tag_probability2[cut2,i],histtype='step', lw=3, label=labels[i],density=False)\n",
    "\n",
    "plt.legend(fontsize=14)\n",
    "plt.xlabel(r'$R/R_{200m}$',fontsize=16)\n",
    "# plt.title('Normalized by: Vcir(M200m), R200m',fontsize=16)\n",
    "# plt.ylim(-0.025,1.5)\n",
    "plt.tight_layout()\n",
    "# plt.savefig('./plots/radial_distribtution_prob_weighted.png',dpi=100,facecolor='w',transparent=False)\n"
   ]
  },
  {
   "cell_type": "code",
   "execution_count": null,
   "metadata": {
    "ExecuteTime": {
     "start_time": "2022-04-21T05:32:07.257Z"
    }
   },
   "outputs": [],
   "source": [
    "cut = (np.abs(vlosn_m)<3.)&(rnorm_c<3.)\n",
    "plt.figure(figsize=(8,4))\n",
    "plt.scatter(rnorm_c[cut],vlosn_m[cut],c=tag_probability2[cut],alpha=0.7,s=30,cmap='coolwarm_r')\n",
    "plt.xlabel(r'$R/R_{200c}$',fontsize=16)\n",
    "plt.ylabel(r'$v_{los}/ v_{circ} $',fontsize=16)\n",
    "plt.colorbar()\n"
   ]
  },
  {
   "cell_type": "code",
   "execution_count": null,
   "metadata": {
    "ExecuteTime": {
     "start_time": "2022-04-21T05:32:07.258Z"
    }
   },
   "outputs": [],
   "source": [
    "cut = (np.abs(vlosn_m)<3.)&(rnorm_m<3.)\n",
    "plt.figure(figsize=(8,4))\n",
    "plt.scatter(rnorm_m[cut],vlosn_m[cut],c=tags2[cut],alpha=0.7,s=30,cmap='coolwarm_r')\n",
    "plt.xlabel(r'$R/R_{200m}$',fontsize=16)\n",
    "plt.ylabel(r'$v_{los}/ v_{circ} $',fontsize=16)\n",
    "plt.colorbar()\n"
   ]
  },
  {
   "cell_type": "code",
   "execution_count": null,
   "metadata": {
    "ExecuteTime": {
     "start_time": "2022-04-21T05:32:07.259Z"
    }
   },
   "outputs": [],
   "source": [
    "for i,li in enumerate(labels):\n",
    "    data[li] = tags2 == i\n",
    "    data['p_%s'%li] = tag_probability2[:,i]"
   ]
  },
  {
   "cell_type": "code",
   "execution_count": null,
   "metadata": {
    "ExecuteTime": {
     "start_time": "2022-04-21T05:32:07.259Z"
    }
   },
   "outputs": [],
   "source": [
    "a = plt.hist(data['Rm'][cut2],weights=data['p_orbital'][cut2],histtype='step',lw=3,bins=31)\n",
    "_ = plt.hist(data['Rm'][cut2],weights=data['p_infall'][cut2],histtype='step',lw=3,bins=a[1])\n",
    "_ = plt.hist(data['Rm'][cut2],weights=data['p_interlopers'][cut2],histtype='step',lw=3,bins=a[1])"
   ]
  },
  {
   "cell_type": "code",
   "execution_count": null,
   "metadata": {},
   "outputs": [],
   "source": []
  },
  {
   "cell_type": "markdown",
   "metadata": {},
   "source": [
    "# Add Other Public Datasets"
   ]
  },
  {
   "cell_type": "markdown",
   "metadata": {},
   "source": [
    "## Match with Morphology\n",
    "\n",
    "We match our sample with Dominguez et al. 2018 morphology sample."
   ]
  },
  {
   "cell_type": "code",
   "execution_count": null,
   "metadata": {
    "ExecuteTime": {
     "start_time": "2022-04-21T05:32:07.305Z"
    }
   },
   "outputs": [],
   "source": [
    "from astropy.io.fits import getdata\n",
    "from astropy.table import Table\n",
    "\n",
    "morp_fname = fl.data_loc+\"DL_morphology_SDSS_DS18.fit\"\n",
    "morph = Table(getdata(morp_fname,1))"
   ]
  },
  {
   "cell_type": "code",
   "execution_count": null,
   "metadata": {
    "ExecuteTime": {
     "start_time": "2022-04-21T05:32:07.306Z"
    }
   },
   "outputs": [],
   "source": [
    "import smatch\n",
    "\n",
    "nside=4096 # healpix nside\n",
    "maxmatch=1 # return closest match\n",
    "\n",
    "# ra,dec,radius in degrees\n",
    "matches0 = smatch.match(data['ra'], data['dec'], 3.0/3600,\n",
    "                        morph['_RAJ2000'], morph['_DEJ2000'], nside=nside, maxmatch=maxmatch)\n",
    "\n",
    "dist = np.sqrt((data['ra'][matches0['i1'] ]-morph['_RAJ2000'][matches0['i2']])**2+\n",
    "               (data['dec'][matches0['i1']]-morph['_DEJ2000'][matches0['i2']])**2)*3600"
   ]
  },
  {
   "cell_type": "code",
   "execution_count": null,
   "metadata": {
    "ExecuteTime": {
     "start_time": "2022-04-21T05:32:07.307Z"
    }
   },
   "outputs": [],
   "source": [
    "plt.figure(figsize=(5,4))\n",
    "_ = plt.hist(dist,bins=np.linspace(0.,2.5))\n",
    "plt.axvline(1.95,ls='--',color='k',label='cut = %.2f arcsec'%(1.95))\n",
    "plt.yscale('log')\n",
    "plt.xlabel('arcsec',fontsize=18)\n",
    "plt.legend(fontsize=14)\n",
    "plt.title('distance between matches',fontsize=18)\n",
    "plt.tight_layout()\n",
    "# plt.savefig('../plots/'+'match_distance.png')"
   ]
  },
  {
   "cell_type": "code",
   "execution_count": null,
   "metadata": {
    "ExecuteTime": {
     "start_time": "2022-04-21T05:32:07.307Z"
    }
   },
   "outputs": [],
   "source": [
    "matches = smatch.match(data['ra'], data['dec'], 2.9/3600, \n",
    "                       morph['_RA'], morph['_DE'], nside=nside, maxmatch=maxmatch)\n",
    "\n",
    "## euclidean distance for small than 10 arcsec\n",
    "dist = np.sqrt((data['ra'][matches0['i1']]-morph['_RA'][matches0['i2']])**2+\n",
    "               (data['dec'][matches0['i1']]-morph['_DE'][matches0['i2']])**2)*3600"
   ]
  },
  {
   "cell_type": "code",
   "execution_count": null,
   "metadata": {
    "ExecuteTime": {
     "start_time": "2022-04-21T05:32:07.308Z"
    }
   },
   "outputs": [],
   "source": [
    "indice1 = matches['i1']\n",
    "indice2 = matches['i2']\n",
    "fraction = len(data[indice1])/len(data)\n",
    "\n",
    "print('Fraction matched: %.3f'%fraction)"
   ]
  },
  {
   "cell_type": "code",
   "execution_count": null,
   "metadata": {
    "ExecuteTime": {
     "start_time": "2022-04-21T05:32:07.309Z"
    }
   },
   "outputs": [],
   "source": [
    "columns = morph.colnames[4:-3]\n",
    "\n",
    "print('Selected Columns:',columns)\n",
    "data['ZOO_MASK'] = False\n",
    "data['ZOO_MASK'][indice1] = True\n",
    "\n",
    "for col in columns:\n",
    "    data[col] = -99.\n",
    "    data[col][indice1] = morph[col][indice2]"
   ]
  },
  {
   "cell_type": "markdown",
   "metadata": {},
   "source": [
    "## Match with Bulge+Disk \n",
    "\n",
    "We match our sample with Mendel et al. 2014 sample.\n",
    "\n",
    "<b> ToDos: </b>\n",
    "- Save Output\n",
    "\n"
   ]
  },
  {
   "cell_type": "code",
   "execution_count": null,
   "metadata": {
    "ExecuteTime": {
     "start_time": "2022-04-21T05:32:07.335Z"
    }
   },
   "outputs": [],
   "source": [
    "root='/Users/jesteves/Documents/localProjects/Catalogs/'\n",
    "morp_fname = root+\"Mendel_et_al_2014/J_ApJS_210_3_dusty.csv\"\n",
    "morph = Table(at.read(morp_fname))"
   ]
  },
  {
   "cell_type": "code",
   "execution_count": null,
   "metadata": {
    "ExecuteTime": {
     "start_time": "2022-04-21T05:32:07.336Z"
    }
   },
   "outputs": [],
   "source": [
    "!cat /Users/jesteves/Documents/localProjects/Catalogs/Mendel_et_al_2014/README.txt"
   ]
  },
  {
   "cell_type": "code",
   "execution_count": null,
   "metadata": {
    "ExecuteTime": {
     "start_time": "2022-04-21T05:32:07.337Z"
    }
   },
   "outputs": [],
   "source": [
    "morph"
   ]
  },
  {
   "cell_type": "code",
   "execution_count": null,
   "metadata": {},
   "outputs": [],
   "source": []
  },
  {
   "cell_type": "code",
   "execution_count": null,
   "metadata": {
    "ExecuteTime": {
     "start_time": "2022-04-21T05:32:07.339Z"
    }
   },
   "outputs": [],
   "source": [
    "import smatch\n",
    "\n",
    "nside=4096 # healpix nside\n",
    "maxmatch=1 # return closest match\n",
    "\n",
    "# ra,dec,radius in degrees\n",
    "matches0 = smatch.match(data['ra'], data['dec'], 3.0/3600,\n",
    "                        morph['_RAJ2000'], morph['_DEJ2000'], nside=nside, maxmatch=maxmatch)\n",
    "\n",
    "dist = np.sqrt((data['ra'][matches0['i1'] ]-morph['_RAJ2000'][matches0['i2']])**2+\n",
    "               (data['dec'][matches0['i1']]-morph['_DEJ2000'][matches0['i2']])**2)*3600"
   ]
  },
  {
   "cell_type": "code",
   "execution_count": null,
   "metadata": {
    "ExecuteTime": {
     "start_time": "2022-04-21T05:32:07.340Z"
    }
   },
   "outputs": [],
   "source": [
    "plt.figure(figsize=(5,4))\n",
    "_ = plt.hist(dist,bins=np.linspace(0.,2.5))\n",
    "plt.axvline(1.05,ls='--',color='k',label='cut = %.2f arcsec'%(1.95))\n",
    "plt.yscale('log')\n",
    "plt.xlabel('arcsec',fontsize=18)\n",
    "plt.legend(fontsize=14)\n",
    "plt.title('distance between matches',fontsize=18)\n",
    "plt.tight_layout()\n",
    "# plt.savefig('../plots/'+'match_distance.png')"
   ]
  },
  {
   "cell_type": "code",
   "execution_count": null,
   "metadata": {
    "ExecuteTime": {
     "start_time": "2022-04-21T05:32:07.341Z"
    }
   },
   "outputs": [],
   "source": [
    "matches = smatch.match(data['ra'], data['dec'], 2.5/3600, \n",
    "                       morph['_RAJ2000'], morph['_DEJ2000'], nside=nside, maxmatch=maxmatch)\n",
    "\n",
    "## euclidean distance for small than 10 arcsec\n",
    "dist = np.sqrt((data['ra'][matches0['i1']]-morph['_RAJ2000'][matches0['i2']])**2+\n",
    "               (data['dec'][matches0['i1']]-morph['_DEJ2000'][matches0['i2']])**2)*3600"
   ]
  },
  {
   "cell_type": "code",
   "execution_count": null,
   "metadata": {
    "ExecuteTime": {
     "start_time": "2022-04-21T05:32:07.342Z"
    }
   },
   "outputs": [],
   "source": [
    "indice1 = matches['i1']\n",
    "indice2 = matches['i2']\n",
    "\n",
    "mmask = np.abs(data['z'][indice1]-morph['z'][indice2])<0.1*data['z'][indice1]\n",
    "\n",
    "fraction = len(data[indice1[[mmask]]])/len(data)\n",
    "\n",
    "print('Fraction matched: %.3f'%fraction)"
   ]
  },
  {
   "cell_type": "code",
   "execution_count": null,
   "metadata": {
    "ExecuteTime": {
     "start_time": "2022-04-21T05:32:07.343Z"
    }
   },
   "outputs": [],
   "source": [
    "morph.colnames"
   ]
  },
  {
   "cell_type": "markdown",
   "metadata": {},
   "source": [
    "### Computing B/T ratio\n",
    "\n",
    "Mainly following the procedure described in Thanjavur et al. (2016) and Bluck et al. 2014, 2022 with a small modification.\n",
    "\n",
    "If the there is not strong statistical evidence in favour of Bulge+Disk decomposition. In the cases where, $P_{pS}>0.32$ and and the the measured B/T is within 0.3 of an extremal value (i.e. zero or one), the Sérsic stellar mass are used to the best component and the other is deemed to be negligible (set to zero). \n"
   ]
  },
  {
   "cell_type": "code",
   "execution_count": null,
   "metadata": {
    "ExecuteTime": {
     "start_time": "2022-04-21T05:32:07.370Z"
    }
   },
   "outputs": [],
   "source": [
    "PpS = np.array(morph['PpS'])\n",
    "\n",
    "# Bulge+Disk decomposition\n",
    "massb = np.array(morph['logMb'])\n",
    "massd = np.array(morph['logMd'])\n",
    "# massT = np.array(morph['logMt'])\n",
    "massT = np.log10(10**massb+10**massd)\n",
    "\n",
    "# Sersic model\n",
    "massS = np.array(morph['logM'])"
   ]
  },
  {
   "cell_type": "code",
   "execution_count": null,
   "metadata": {
    "ExecuteTime": {
     "start_time": "2022-04-21T05:32:07.371Z"
    }
   },
   "outputs": [],
   "source": [
    "bt = 10**(massb-massT)"
   ]
  },
  {
   "cell_type": "code",
   "execution_count": null,
   "metadata": {
    "ExecuteTime": {
     "start_time": "2022-04-21T05:32:07.372Z"
    }
   },
   "outputs": [],
   "source": [
    "bulge_mask= (bt>0.7)\n",
    "disk_mask = (bt<0.3)\n",
    "\n",
    "massb_new = np.where((PpS>0.32)&bulge_mask, massS, massb)\n",
    "massd_new = np.where((PpS>0.32)&bulge_mask,  1e-6, massd)\n",
    "\n",
    "massd_new = np.where((PpS>0.32)&disk_mask, massS, massd_new)\n",
    "massb_new = np.where((PpS>0.32)&disk_mask,  1e-6, massb_new)\n",
    "\n",
    "massT_new = np.log10(10**massb_new+10**massd_new)\n",
    "\n",
    "bt_new = 10**(massb_new-massT_new)"
   ]
  },
  {
   "cell_type": "code",
   "execution_count": null,
   "metadata": {
    "ExecuteTime": {
     "start_time": "2022-04-21T05:32:07.373Z"
    }
   },
   "outputs": [],
   "source": [
    "plt.scatter(bt,bt_new,color='k',alpha=0.01,s=100)\n",
    "plt.axvline(0.7,lw=3,ls='--',color='r')\n",
    "plt.axvline(0.3,lw=3,ls='--',color='r')\n",
    "plt.xlabel('B/T - wo correction',fontsize=14)\n",
    "plt.ylabel('B/T - w/ correction',fontsize=14)"
   ]
  },
  {
   "cell_type": "code",
   "execution_count": null,
   "metadata": {
    "ExecuteTime": {
     "start_time": "2022-04-21T05:32:07.374Z"
    }
   },
   "outputs": [],
   "source": [
    "# columns = morph.colnames[3:-3]\n",
    "# print('Selected Columns:',columns)\n",
    "data['BT_MASK'] = False\n",
    "data['BT_MASK'][indice1[mmask]] = True\n",
    "\n",
    "data['BT'] = -99.\n",
    "data['BT'][indice1[mmask]] = bt_new[indice2[mmask]]\n",
    "\n",
    "data['massT'] = -99.\n",
    "data['massT'][indice1[mmask]] = massT_new[indice2[mmask]]\n",
    "\n",
    "data['massB'] = -99.\n",
    "data['massB'][indice1[mmask]] = massb_new[indice2[mmask]]\n",
    "\n",
    "data['massD'] = -99.\n",
    "data['massD'][indice1[mmask]] = massd_new[indice2[mmask]]\n",
    "\n",
    "data['massS'] = -99.\n",
    "data['massS'][indice1[mmask]] = massS[indice2[mmask]]"
   ]
  },
  {
   "cell_type": "code",
   "execution_count": null,
   "metadata": {
    "ExecuteTime": {
     "start_time": "2022-04-21T05:32:07.375Z"
    }
   },
   "outputs": [],
   "source": [
    "plt.scatter(zgal[Mr_mask&zmask],Mr[Mr_mask&zmask],c=(data['massT'][Mr_mask&zmask]),vmin=8.75,vmax=12.,s=30,cmap='jet')\n",
    "plt.plot(zbins2, ylow, ls='--',lw=4,color='w')\n",
    "plt.axhline(Mr_thrshold,ls='--',lw=3,color='k')\n",
    "plt.ylim(-15.,-25)\n",
    "plt.colorbar()"
   ]
  },
  {
   "cell_type": "code",
   "execution_count": null,
   "metadata": {
    "ExecuteTime": {
     "start_time": "2022-04-21T05:32:07.376Z"
    }
   },
   "outputs": [],
   "source": [
    "plt.scatter(data['z'][cut&data['BT_MASK']],10**data['mass'][cut&data['BT_MASK']],s=50,alpha=0.01)\n",
    "plt.axhline(1e10)\n",
    "plt.yscale('log')\n",
    "plt.ylim(1e8,1e12)"
   ]
  },
  {
   "cell_type": "code",
   "execution_count": null,
   "metadata": {
    "ExecuteTime": {
     "start_time": "2022-04-21T05:32:07.377Z"
    }
   },
   "outputs": [],
   "source": [
    "plt.loglog()\n",
    "plt.scatter(10**data['mass'][cut&data['BT_MASK']],10**data['massT'][cut&data['BT_MASK']],s=50,alpha=0.01)\n",
    "plt.ylim(1e8,1e12)\n",
    "plt.xlim(1e8,1e12)"
   ]
  },
  {
   "cell_type": "code",
   "execution_count": null,
   "metadata": {
    "ExecuteTime": {
     "start_time": "2022-04-21T05:32:07.378Z"
    }
   },
   "outputs": [],
   "source": [
    "np.count_nonzero(data['BT_MASK'][velocity_mask])/len(data[velocity_mask])"
   ]
  },
  {
   "cell_type": "code",
   "execution_count": null,
   "metadata": {
    "ExecuteTime": {
     "start_time": "2022-04-21T05:32:07.379Z"
    }
   },
   "outputs": [],
   "source": [
    "np.count_nonzero(data['ZOO_MASK'][velocity_mask])/len(data[velocity_mask])"
   ]
  },
  {
   "cell_type": "code",
   "execution_count": null,
   "metadata": {},
   "outputs": [],
   "source": []
  },
  {
   "cell_type": "markdown",
   "metadata": {},
   "source": [
    "# Save Output Samples"
   ]
  },
  {
   "cell_type": "code",
   "execution_count": null,
   "metadata": {
    "ExecuteTime": {
     "start_time": "2022-04-21T05:32:07.409Z"
    }
   },
   "outputs": [],
   "source": [
    "len(data)"
   ]
  },
  {
   "cell_type": "code",
   "execution_count": null,
   "metadata": {
    "ExecuteTime": {
     "start_time": "2022-04-21T05:32:07.411Z"
    }
   },
   "outputs": [],
   "source": [
    "data[velocity_mask]"
   ]
  },
  {
   "cell_type": "code",
   "execution_count": null,
   "metadata": {
    "ExecuteTime": {
     "start_time": "2022-04-21T05:32:07.412Z"
    }
   },
   "outputs": [],
   "source": [
    "print(f'Saving file: {fl.galaxy}')\n",
    "print(f'Number of Galaxies: {len(data[velocity_mask])}')\n",
    "data[velocity_mask].write(fl.galaxy,format='csv',overwrite=True)"
   ]
  },
  {
   "cell_type": "code",
   "execution_count": null,
   "metadata": {},
   "outputs": [],
   "source": []
  }
 ],
 "metadata": {
  "kernelspec": {
   "display_name": "Python 3",
   "language": "python",
   "name": "python3"
  },
  "language_info": {
   "codemirror_mode": {
    "name": "ipython",
    "version": 3
   },
   "file_extension": ".py",
   "mimetype": "text/x-python",
   "name": "python",
   "nbconvert_exporter": "python",
   "pygments_lexer": "ipython3",
   "version": "3.8.8"
  },
  "latex_envs": {
   "LaTeX_envs_menu_present": true,
   "autoclose": true,
   "autocomplete": true,
   "bibliofile": "biblio.bib",
   "cite_by": "apalike",
   "current_citInitial": 1,
   "eqLabelWithNumbers": true,
   "eqNumInitial": 1,
   "hotkeys": {
    "equation": "Ctrl-E",
    "itemize": "Ctrl-I"
   },
   "labels_anchors": false,
   "latex_user_defs": false,
   "report_style_numbering": true,
   "user_envs_cfg": false
  },
  "toc": {
   "base_numbering": 1,
   "nav_menu": {},
   "number_sections": true,
   "sideBar": true,
   "skip_h1_title": false,
   "title_cell": "Table of Contents",
   "title_sidebar": "Contents",
   "toc_cell": false,
   "toc_position": {},
   "toc_section_display": true,
   "toc_window_display": false
  }
 },
 "nbformat": 4,
 "nbformat_minor": 4
}
