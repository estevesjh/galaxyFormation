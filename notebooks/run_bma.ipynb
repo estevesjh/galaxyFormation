{
 "cells": [
  {
   "cell_type": "markdown",
   "metadata": {},
   "source": [
    "# Take a look in the Data\n",
    "\n",
    "\n",
    "Here it’s the link for retrieving the Cluster and the BCG catalog\n"
   ]
  },
  {
   "cell_type": "markdown",
   "metadata": {},
   "source": [
    "----------------------------------------------\n",
    "\n",
    "Data from SDSS + SPIDERS\n",
    "\n",
    "----------------------------------------------\n",
    "\n",
    "HOW DATA WAS CONSTRUCTED:\n",
    "\n",
    "\t1. Cluster data (from catCluster-SPIDERS_RASS_CLUS-v3.0.fits) is joined\n",
    "\twith BCG data (from SpidersXclusterBCGs-v2.0.fits). Some clusters are\n",
    "\tdropped out because no BCG data.\n",
    "\n",
    "\t2. Use astroquery to query SDSS galaxies within 2*R200c of each cluster. R200c\n",
    "\testimated from Lx assuming an X-ray Luminosity --- halo mass relation.\n",
    "\n",
    "\n",
    "HOW TO READ THIS DATA:\n",
    "\n",
    "\tThe HDF5 files were written using the pandas python package.\n",
    "\tYou can quickly load them and turn them into 2D numpy arrays\n",
    "\tusing the following commands:\n",
    "\n",
    "\t*****\n",
    "\n",
    "\timport pandas as pd\n",
    "\timport numpy as np\n",
    "\n",
    "\tGalaxy_data  = pd.read_hdf('Data/SPIDERS_Dataset.hdf5', key = 'Galaxies').to_numpy()\n",
    "\tCluster_data = pd.read_hdf('Data/SPIDERS_Dataset.hdf5', key = 'Clusters').to_numpy()\n",
    "\n",
    "\n",
    "\t*****\n",
    "\n",
    "\tEach of 'Galaxy_data' and 'Cluster_data' will be a 2D numpy array \n",
    "\tthat you can index into using slicing.\n",
    "\n",
    "\tIf you leave them as pandas dataframes you can also quickly access\n",
    "\tan individual column and turn it into a numpy array via:\n",
    "\n",
    "\t******\n",
    "\n",
    "\tPandas_Series = Galaxy_data  [quantity_name]\n",
    "\tNumpy_array   = Galaxy_data  [quantity_name].values\n",
    "\n",
    "\t\n",
    "\t******\n",
    "\n",
    "\n",
    "NOTES:\n",
    "\t1. \n",
    "\n",
    "---------------------------------------\n",
    "\n",
    "Cluster Catalog properties\n",
    "\n",
    "---------------------------------------\n",
    "\n",
    "CLUZSPEC: Spectroscopic redshift of cluster BCG\n",
    "\n",
    "\n",
    "---------------------------------------\n",
    "\n",
    "Galaxy catalog properties\n",
    "---------------------------------------\n",
    "\n",
    "CLUS_ID: The SPIDERS ID of the cluster. Can use this to join Cluster Catalog properties\n",
    "\t with the Galaxy Catalog.\n",
    "     \n",
    "v_los: \tLine of sight velocity of galaxy (in km/s) with respect to cluster BCG.\n",
    " \tComputed as v_los = c*(1/1000)*(z_gal - z_BCG])/(1 + z_BCG)"
   ]
  },
  {
   "cell_type": "code",
   "execution_count": 1,
   "metadata": {},
   "outputs": [],
   "source": [
    "import matplotlib.pyplot as plt\n",
    "import os"
   ]
  },
  {
   "cell_type": "code",
   "execution_count": 2,
   "metadata": {},
   "outputs": [],
   "source": [
    "import pandas as pd\n",
    "import numpy as np\n",
    "\n",
    "Galaxy_data  = pd.read_hdf('../data/SPIDERS_Dataset.hdf5', key = 'Galaxies')#.to_numpy()\n",
    "Cluster_data = pd.read_hdf('../data/SPIDERS_Dataset.hdf5', key = 'Clusters')#.to_numpy()\n"
   ]
  },
  {
   "cell_type": "markdown",
   "metadata": {},
   "source": [
    "For the description of the cluster columns take a look at: <br>\n",
    "https://data.sdss.org/datamodel/files/SPIDERS_ANALYSIS/catCluster-SPIDERS_RASS_CLUS.html <br>\n",
    "https://data.sdss.org/datamodel/files/SPIDERS_ANALYSIS/SpidersXclusterBCGs.html\n"
   ]
  },
  {
   "cell_type": "code",
   "execution_count": 3,
   "metadata": {},
   "outputs": [
    {
     "data": {
      "text/plain": [
       "<AxesSubplot:>"
      ]
     },
     "execution_count": 3,
     "metadata": {},
     "output_type": "execute_result"
    },
    {
     "data": {
      "image/png": "[encoded data removed]",
      "text/plain": [
       "<Figure size 432x288 with 1 Axes>"
      ]
     },
     "metadata": {
      "needs_background": "light"
     },
     "output_type": "display_data"
    }
   ],
   "source": [
    "Cluster_data.R200C_DEG.hist()"
   ]
  },
  {
   "cell_type": "code",
   "execution_count": 4,
   "metadata": {},
   "outputs": [
    {
     "data": {
      "text/plain": [
       "0       1.7510\n",
       "1      19.9998\n",
       "2       1.5593\n",
       "3       6.2129\n",
       "4       7.4678\n",
       "        ...   \n",
       "428     5.2535\n",
       "429     5.6929\n",
       "430     6.9246\n",
       "431     4.4470\n",
       "432     2.2155\n",
       "Name: GAL_sdss_g_modS_C1_N, Length: 433, dtype: float32"
      ]
     },
     "execution_count": 4,
     "metadata": {},
     "output_type": "execute_result"
    }
   ],
   "source": [
    "Cluster_data.GAL_sdss_g_modS_C1_N"
   ]
  },
  {
   "cell_type": "code",
   "execution_count": 5,
   "metadata": {},
   "outputs": [
    {
     "data": {
      "text/plain": [
       "['ra',\n",
       " 'dec',\n",
       " 'specobjid',\n",
       " 'CLUS_ID',\n",
       " 'z',\n",
       " 'zErr',\n",
       " 'zWarning',\n",
       " 'v_los',\n",
       " 'cModelMag_r',\n",
       " 'cModelMagErr_r',\n",
       " 'flags_r',\n",
       " 'extinction_r',\n",
       " 'cModelMag_g',\n",
       " 'cModelMagErr_g',\n",
       " 'flags_g',\n",
       " 'extinction_g',\n",
       " 'cModelMag_i',\n",
       " 'cModelMagErr_i',\n",
       " 'flags_i',\n",
       " 'extinction_i',\n",
       " 'cModelMag_z',\n",
       " 'cModelMagErr_z',\n",
       " 'flags_z',\n",
       " 'extinction_z']"
      ]
     },
     "execution_count": 5,
     "metadata": {},
     "output_type": "execute_result"
    }
   ],
   "source": [
    "list(Galaxy_data.columns)"
   ]
  },
  {
   "cell_type": "markdown",
   "metadata": {},
   "source": [
    "v_los: \tLine of sight velocity of galaxy (in km/s) with respect to cluster BCG.\n",
    " \tComputed as v_los = c*(1/1000)*(z_gal - z_BCG])/(1 + z_BCG)"
   ]
  },
  {
   "cell_type": "code",
   "execution_count": 6,
   "metadata": {},
   "outputs": [
    {
     "data": {
      "text/html": [
       "<div>\n",
       "<style scoped>\n",
       "    .dataframe tbody tr th:only-of-type {\n",
       "        vertical-align: middle;\n",
       "    }\n",
       "\n",
       "    .dataframe tbody tr th {\n",
       "        vertical-align: top;\n",
       "    }\n",
       "\n",
       "    .dataframe thead th {\n",
       "        text-align: right;\n",
       "    }\n",
       "</style>\n",
       "<table border=\"1\" class=\"dataframe\">\n",
       "  <thead>\n",
       "    <tr style=\"text-align: right;\">\n",
       "      <th></th>\n",
       "      <th>ra</th>\n",
       "      <th>dec</th>\n",
       "      <th>specobjid</th>\n",
       "      <th>CLUS_ID</th>\n",
       "      <th>z</th>\n",
       "      <th>zErr</th>\n",
       "      <th>zWarning</th>\n",
       "      <th>v_los</th>\n",
       "      <th>cModelMag_r</th>\n",
       "      <th>cModelMagErr_r</th>\n",
       "      <th>...</th>\n",
       "      <th>flags_g</th>\n",
       "      <th>extinction_g</th>\n",
       "      <th>cModelMag_i</th>\n",
       "      <th>cModelMagErr_i</th>\n",
       "      <th>flags_i</th>\n",
       "      <th>extinction_i</th>\n",
       "      <th>cModelMag_z</th>\n",
       "      <th>cModelMagErr_z</th>\n",
       "      <th>flags_z</th>\n",
       "      <th>extinction_z</th>\n",
       "    </tr>\n",
       "  </thead>\n",
       "  <tbody>\n",
       "    <tr>\n",
       "      <th>0</th>\n",
       "      <td>119.571870</td>\n",
       "      <td>53.638738</td>\n",
       "      <td>2.105547e+18</td>\n",
       "      <td>1_1172</td>\n",
       "      <td>0.136219</td>\n",
       "      <td>0.000035</td>\n",
       "      <td>0</td>\n",
       "      <td>9112.934223</td>\n",
       "      <td>17.23507</td>\n",
       "      <td>0.005641</td>\n",
       "      <td>...</td>\n",
       "      <td>2252074960060432</td>\n",
       "      <td>0.122412</td>\n",
       "      <td>16.78113</td>\n",
       "      <td>0.005188</td>\n",
       "      <td>2252074960195600</td>\n",
       "      <td>0.062929</td>\n",
       "      <td>16.46983</td>\n",
       "      <td>0.011877</td>\n",
       "      <td>2252074960060432</td>\n",
       "      <td>0.046808</td>\n",
       "    </tr>\n",
       "    <tr>\n",
       "      <th>1</th>\n",
       "      <td>119.864610</td>\n",
       "      <td>53.630081</td>\n",
       "      <td>2.105555e+18</td>\n",
       "      <td>1_1172</td>\n",
       "      <td>0.084383</td>\n",
       "      <td>0.000012</td>\n",
       "      <td>0</td>\n",
       "      <td>-4979.975610</td>\n",
       "      <td>16.15208</td>\n",
       "      <td>0.003694</td>\n",
       "      <td>...</td>\n",
       "      <td>2252074960191504</td>\n",
       "      <td>0.125668</td>\n",
       "      <td>15.57720</td>\n",
       "      <td>0.003265</td>\n",
       "      <td>288230651298480144</td>\n",
       "      <td>0.064603</td>\n",
       "      <td>15.61078</td>\n",
       "      <td>0.006936</td>\n",
       "      <td>2252074960195600</td>\n",
       "      <td>0.048053</td>\n",
       "    </tr>\n",
       "    <tr>\n",
       "      <th>2</th>\n",
       "      <td>119.796020</td>\n",
       "      <td>53.784186</td>\n",
       "      <td>2.105554e+18</td>\n",
       "      <td>1_1172</td>\n",
       "      <td>-0.000519</td>\n",
       "      <td>0.000009</td>\n",
       "      <td>0</td>\n",
       "      <td>-28062.232989</td>\n",
       "      <td>16.17832</td>\n",
       "      <td>0.004368</td>\n",
       "      <td>...</td>\n",
       "      <td>268468224</td>\n",
       "      <td>0.128670</td>\n",
       "      <td>16.15715</td>\n",
       "      <td>0.004446</td>\n",
       "      <td>285245440</td>\n",
       "      <td>0.066146</td>\n",
       "      <td>16.17055</td>\n",
       "      <td>0.007882</td>\n",
       "      <td>268468224</td>\n",
       "      <td>0.049201</td>\n",
       "    </tr>\n",
       "    <tr>\n",
       "      <th>3</th>\n",
       "      <td>119.660040</td>\n",
       "      <td>53.700200</td>\n",
       "      <td>2.105547e+18</td>\n",
       "      <td>1_1172</td>\n",
       "      <td>0.068184</td>\n",
       "      <td>0.000009</td>\n",
       "      <td>0</td>\n",
       "      <td>-9383.849868</td>\n",
       "      <td>16.73223</td>\n",
       "      <td>0.004984</td>\n",
       "      <td>...</td>\n",
       "      <td>2252074960060432</td>\n",
       "      <td>0.130808</td>\n",
       "      <td>16.31826</td>\n",
       "      <td>0.004628</td>\n",
       "      <td>2252074960191504</td>\n",
       "      <td>0.067245</td>\n",
       "      <td>16.03879</td>\n",
       "      <td>0.011602</td>\n",
       "      <td>2252074960060432</td>\n",
       "      <td>0.050018</td>\n",
       "    </tr>\n",
       "    <tr>\n",
       "      <th>4</th>\n",
       "      <td>119.649520</td>\n",
       "      <td>53.725027</td>\n",
       "      <td>2.105548e+18</td>\n",
       "      <td>1_1172</td>\n",
       "      <td>1.050130</td>\n",
       "      <td>0.000522</td>\n",
       "      <td>0</td>\n",
       "      <td>257579.003441</td>\n",
       "      <td>18.97087</td>\n",
       "      <td>0.012989</td>\n",
       "      <td>...</td>\n",
       "      <td>268468240</td>\n",
       "      <td>0.130222</td>\n",
       "      <td>19.05038</td>\n",
       "      <td>0.013508</td>\n",
       "      <td>268468240</td>\n",
       "      <td>0.066944</td>\n",
       "      <td>19.04692</td>\n",
       "      <td>0.049372</td>\n",
       "      <td>275146375184</td>\n",
       "      <td>0.049794</td>\n",
       "    </tr>\n",
       "    <tr>\n",
       "      <th>...</th>\n",
       "      <td>...</td>\n",
       "      <td>...</td>\n",
       "      <td>...</td>\n",
       "      <td>...</td>\n",
       "      <td>...</td>\n",
       "      <td>...</td>\n",
       "      <td>...</td>\n",
       "      <td>...</td>\n",
       "      <td>...</td>\n",
       "      <td>...</td>\n",
       "      <td>...</td>\n",
       "      <td>...</td>\n",
       "      <td>...</td>\n",
       "      <td>...</td>\n",
       "      <td>...</td>\n",
       "      <td>...</td>\n",
       "      <td>...</td>\n",
       "      <td>...</td>\n",
       "      <td>...</td>\n",
       "      <td>...</td>\n",
       "      <td>...</td>\n",
       "    </tr>\n",
       "    <tr>\n",
       "      <th>62627</th>\n",
       "      <td>7.037279</td>\n",
       "      <td>26.253032</td>\n",
       "      <td>7.071983e+18</td>\n",
       "      <td>2_8798</td>\n",
       "      <td>2.197458</td>\n",
       "      <td>0.000388</td>\n",
       "      <td>0</td>\n",
       "      <td>402407.963764</td>\n",
       "      <td>19.59799</td>\n",
       "      <td>0.022725</td>\n",
       "      <td>...</td>\n",
       "      <td>275146375168</td>\n",
       "      <td>0.140456</td>\n",
       "      <td>19.50224</td>\n",
       "      <td>0.030477</td>\n",
       "      <td>275146375168</td>\n",
       "      <td>0.072205</td>\n",
       "      <td>19.22245</td>\n",
       "      <td>0.123366</td>\n",
       "      <td>275280592896</td>\n",
       "      <td>0.053708</td>\n",
       "    </tr>\n",
       "    <tr>\n",
       "      <th>62628</th>\n",
       "      <td>6.929898</td>\n",
       "      <td>26.283447</td>\n",
       "      <td>8.624534e+18</td>\n",
       "      <td>2_8798</td>\n",
       "      <td>0.207917</td>\n",
       "      <td>0.000087</td>\n",
       "      <td>0</td>\n",
       "      <td>-34519.351615</td>\n",
       "      <td>20.19131</td>\n",
       "      <td>0.050896</td>\n",
       "      <td>...</td>\n",
       "      <td>275213484104</td>\n",
       "      <td>0.131673</td>\n",
       "      <td>19.63543</td>\n",
       "      <td>0.044110</td>\n",
       "      <td>275213615176</td>\n",
       "      <td>0.067690</td>\n",
       "      <td>19.09973</td>\n",
       "      <td>0.105809</td>\n",
       "      <td>275347701832</td>\n",
       "      <td>0.050349</td>\n",
       "    </tr>\n",
       "    <tr>\n",
       "      <th>62629</th>\n",
       "      <td>7.059230</td>\n",
       "      <td>26.442574</td>\n",
       "      <td>8.624547e+18</td>\n",
       "      <td>2_8798</td>\n",
       "      <td>0.323072</td>\n",
       "      <td>0.000017</td>\n",
       "      <td>0</td>\n",
       "      <td>-9229.855950</td>\n",
       "      <td>21.58912</td>\n",
       "      <td>0.131317</td>\n",
       "      <td>...</td>\n",
       "      <td>275154731264</td>\n",
       "      <td>0.128807</td>\n",
       "      <td>21.88973</td>\n",
       "      <td>0.247275</td>\n",
       "      <td>142737921</td>\n",
       "      <td>0.066217</td>\n",
       "      <td>21.17625</td>\n",
       "      <td>0.595782</td>\n",
       "      <td>18014398643716097</td>\n",
       "      <td>0.049253</td>\n",
       "    </tr>\n",
       "    <tr>\n",
       "      <th>62630</th>\n",
       "      <td>7.062792</td>\n",
       "      <td>26.289956</td>\n",
       "      <td>7.070677e+18</td>\n",
       "      <td>2_8798</td>\n",
       "      <td>1.162802</td>\n",
       "      <td>0.000236</td>\n",
       "      <td>4</td>\n",
       "      <td>175185.001154</td>\n",
       "      <td>21.52911</td>\n",
       "      <td>0.130061</td>\n",
       "      <td>...</td>\n",
       "      <td>275154764032</td>\n",
       "      <td>0.140669</td>\n",
       "      <td>21.11993</td>\n",
       "      <td>0.117129</td>\n",
       "      <td>45036271420080128</td>\n",
       "      <td>0.072315</td>\n",
       "      <td>19.88870</td>\n",
       "      <td>0.434835</td>\n",
       "      <td>9007199388991489</td>\n",
       "      <td>0.053789</td>\n",
       "    </tr>\n",
       "    <tr>\n",
       "      <th>62631</th>\n",
       "      <td>6.931857</td>\n",
       "      <td>26.272576</td>\n",
       "      <td>7.070688e+18</td>\n",
       "      <td>2_8798</td>\n",
       "      <td>0.364985</td>\n",
       "      <td>0.000058</td>\n",
       "      <td>0</td>\n",
       "      <td>-25.254584</td>\n",
       "      <td>18.30047</td>\n",
       "      <td>0.015847</td>\n",
       "      <td>...</td>\n",
       "      <td>2252074960191504</td>\n",
       "      <td>0.132376</td>\n",
       "      <td>17.58385</td>\n",
       "      <td>0.013395</td>\n",
       "      <td>2252074960060432</td>\n",
       "      <td>0.068051</td>\n",
       "      <td>17.14223</td>\n",
       "      <td>0.032903</td>\n",
       "      <td>2252075094278160</td>\n",
       "      <td>0.050618</td>\n",
       "    </tr>\n",
       "  </tbody>\n",
       "</table>\n",
       "<p>62632 rows × 24 columns</p>\n",
       "</div>"
      ],
      "text/plain": [
       "               ra        dec     specobjid  CLUS_ID         z      zErr  \\\n",
       "0      119.571870  53.638738  2.105547e+18  1_1172   0.136219  0.000035   \n",
       "1      119.864610  53.630081  2.105555e+18  1_1172   0.084383  0.000012   \n",
       "2      119.796020  53.784186  2.105554e+18  1_1172  -0.000519  0.000009   \n",
       "3      119.660040  53.700200  2.105547e+18  1_1172   0.068184  0.000009   \n",
       "4      119.649520  53.725027  2.105548e+18  1_1172   1.050130  0.000522   \n",
       "...           ...        ...           ...      ...       ...       ...   \n",
       "62627    7.037279  26.253032  7.071983e+18  2_8798   2.197458  0.000388   \n",
       "62628    6.929898  26.283447  8.624534e+18  2_8798   0.207917  0.000087   \n",
       "62629    7.059230  26.442574  8.624547e+18  2_8798   0.323072  0.000017   \n",
       "62630    7.062792  26.289956  7.070677e+18  2_8798   1.162802  0.000236   \n",
       "62631    6.931857  26.272576  7.070688e+18  2_8798   0.364985  0.000058   \n",
       "\n",
       "       zWarning          v_los  cModelMag_r  cModelMagErr_r  ...  \\\n",
       "0             0    9112.934223     17.23507        0.005641  ...   \n",
       "1             0   -4979.975610     16.15208        0.003694  ...   \n",
       "2             0  -28062.232989     16.17832        0.004368  ...   \n",
       "3             0   -9383.849868     16.73223        0.004984  ...   \n",
       "4             0  257579.003441     18.97087        0.012989  ...   \n",
       "...         ...            ...          ...             ...  ...   \n",
       "62627         0  402407.963764     19.59799        0.022725  ...   \n",
       "62628         0  -34519.351615     20.19131        0.050896  ...   \n",
       "62629         0   -9229.855950     21.58912        0.131317  ...   \n",
       "62630         4  175185.001154     21.52911        0.130061  ...   \n",
       "62631         0     -25.254584     18.30047        0.015847  ...   \n",
       "\n",
       "                flags_g  extinction_g  cModelMag_i  cModelMagErr_i  \\\n",
       "0      2252074960060432      0.122412     16.78113        0.005188   \n",
       "1      2252074960191504      0.125668     15.57720        0.003265   \n",
       "2             268468224      0.128670     16.15715        0.004446   \n",
       "3      2252074960060432      0.130808     16.31826        0.004628   \n",
       "4             268468240      0.130222     19.05038        0.013508   \n",
       "...                 ...           ...          ...             ...   \n",
       "62627      275146375168      0.140456     19.50224        0.030477   \n",
       "62628      275213484104      0.131673     19.63543        0.044110   \n",
       "62629      275154731264      0.128807     21.88973        0.247275   \n",
       "62630      275154764032      0.140669     21.11993        0.117129   \n",
       "62631  2252074960191504      0.132376     17.58385        0.013395   \n",
       "\n",
       "                  flags_i  extinction_i  cModelMag_z  cModelMagErr_z  \\\n",
       "0        2252074960195600      0.062929     16.46983        0.011877   \n",
       "1      288230651298480144      0.064603     15.61078        0.006936   \n",
       "2               285245440      0.066146     16.17055        0.007882   \n",
       "3        2252074960191504      0.067245     16.03879        0.011602   \n",
       "4               268468240      0.066944     19.04692        0.049372   \n",
       "...                   ...           ...          ...             ...   \n",
       "62627        275146375168      0.072205     19.22245        0.123366   \n",
       "62628        275213615176      0.067690     19.09973        0.105809   \n",
       "62629           142737921      0.066217     21.17625        0.595782   \n",
       "62630   45036271420080128      0.072315     19.88870        0.434835   \n",
       "62631    2252074960060432      0.068051     17.14223        0.032903   \n",
       "\n",
       "                 flags_z  extinction_z  \n",
       "0       2252074960060432      0.046808  \n",
       "1       2252074960195600      0.048053  \n",
       "2              268468224      0.049201  \n",
       "3       2252074960060432      0.050018  \n",
       "4           275146375184      0.049794  \n",
       "...                  ...           ...  \n",
       "62627       275280592896      0.053708  \n",
       "62628       275347701832      0.050349  \n",
       "62629  18014398643716097      0.049253  \n",
       "62630   9007199388991489      0.053789  \n",
       "62631   2252075094278160      0.050618  \n",
       "\n",
       "[62632 rows x 24 columns]"
      ]
     },
     "execution_count": 6,
     "metadata": {},
     "output_type": "execute_result"
    }
   ],
   "source": [
    "Galaxy_data"
   ]
  },
  {
   "cell_type": "code",
   "execution_count": 7,
   "metadata": {},
   "outputs": [
    {
     "data": {
      "text/plain": [
       "144.64665127020785"
      ]
     },
     "execution_count": 7,
     "metadata": {},
     "output_type": "execute_result"
    }
   ],
   "source": [
    "len(Galaxy_data)/len(Cluster_data)"
   ]
  },
  {
   "cell_type": "code",
   "execution_count": 8,
   "metadata": {},
   "outputs": [
    {
     "data": {
      "text/plain": [
       "Text(0.5, 0, 'redshift')"
      ]
     },
     "execution_count": 8,
     "metadata": {},
     "output_type": "execute_result"
    },
    {
     "data": {
      "image/png": "[encoded data removed]",
      "text/plain": [
       "<Figure size 432x288 with 1 Axes>"
      ]
     },
     "metadata": {
      "needs_background": "light"
     },
     "output_type": "display_data"
    }
   ],
   "source": [
    "Galaxy_data.z.hist(bins=51)\n",
    "plt.xlabel('redshift',fontsize=16)"
   ]
  },
  {
   "cell_type": "code",
   "execution_count": 9,
   "metadata": {},
   "outputs": [
    {
     "data": {
      "text/plain": [
       "Text(0.5, 0, 'redshift')"
      ]
     },
     "execution_count": 9,
     "metadata": {},
     "output_type": "execute_result"
    },
    {
     "data": {
      "image/png": "[encoded data removed]",
      "text/plain": [
       "<Figure size 432x288 with 1 Axes>"
      ]
     },
     "metadata": {
      "needs_background": "light"
     },
     "output_type": "display_data"
    }
   ],
   "source": [
    "Galaxy_data.z.hist(bins=np.linspace(0.,1.,21))\n",
    "plt.xlabel('redshift',fontsize=16)"
   ]
  },
  {
   "cell_type": "code",
   "execution_count": 10,
   "metadata": {},
   "outputs": [
    {
     "data": {
      "text/plain": [
       "Text(0.5, 0, 'redshift')"
      ]
     },
     "execution_count": 10,
     "metadata": {},
     "output_type": "execute_result"
    },
    {
     "data": {
      "image/png": "[encoded data removed]",
      "text/plain": [
       "<Figure size 432x288 with 1 Axes>"
      ]
     },
     "metadata": {
      "needs_background": "light"
     },
     "output_type": "display_data"
    }
   ],
   "source": [
    "Cluster_data.Z_LAMBDA.hist()\n",
    "plt.xlabel('redshift',fontsize=16)"
   ]
  },
  {
   "cell_type": "code",
   "execution_count": 11,
   "metadata": {},
   "outputs": [
    {
     "data": {
      "text/plain": [
       "Text(0.5, 0, 'v_los')"
      ]
     },
     "execution_count": 11,
     "metadata": {},
     "output_type": "execute_result"
    },
    {
     "data": {
      "image/png": "[encoded data removed]",
      "text/plain": [
       "<Figure size 432x288 with 1 Axes>"
      ]
     },
     "metadata": {
      "needs_background": "light"
     },
     "output_type": "display_data"
    }
   ],
   "source": [
    "Galaxy_data.v_los.hist(bins=np.linspace(-3000.,3000.))\n",
    "plt.xlabel('v_los',fontsize=16)"
   ]
  },
  {
   "cell_type": "code",
   "execution_count": 12,
   "metadata": {},
   "outputs": [
    {
     "data": {
      "text/plain": [
       "62632"
      ]
     },
     "execution_count": 12,
     "metadata": {},
     "output_type": "execute_result"
    }
   ],
   "source": [
    "len(Galaxy_data)"
   ]
  },
  {
   "cell_type": "code",
   "execution_count": null,
   "metadata": {},
   "outputs": [],
   "source": []
  },
  {
   "cell_type": "markdown",
   "metadata": {},
   "source": [
    "# Run BMA\n",
    "\n",
    "### Prepare Input File"
   ]
  },
  {
   "cell_type": "code",
   "execution_count": 13,
   "metadata": {},
   "outputs": [],
   "source": [
    "import h5py"
   ]
  },
  {
   "cell_type": "code",
   "execution_count": 14,
   "metadata": {},
   "outputs": [],
   "source": [
    "def make_bma_input_temp_file(des,files,nsize,nchunks):\n",
    "    out = dict()\n",
    "    ## defining IDs\n",
    "    out['mid']     = des['key']\n",
    "    out['CID']     = des['key']\n",
    "    out['indices'] = np.arange(0,len(des),1,dtype=np.int64)\n",
    "\n",
    "    out['i']    = des['cModelMag_i']-des['extinction_i']\n",
    "    out['ierr'] = des['cModelMagErr_i']\n",
    "\n",
    "    out['gr']   = des['cModelMag_g']-des['cModelMag_r']-des['extinction_g']+des['extinction_r']\n",
    "    out['ri']   = des['cModelMag_r']-des['cModelMag_i']-des['extinction_r']+des['extinction_i']\n",
    "    out['iz']   = des['cModelMag_i']-des['cModelMag_z']-des['extinction_i']+des['extinction_z']\n",
    "\n",
    "    out['grerr']= np.sqrt(des['cModelMagErr_g']**2+des['cModelMagErr_r']**2)\n",
    "    out['rierr']= np.sqrt(des['cModelMagErr_r']**2+des['cModelMagErr_i']**2)\n",
    "    out['izerr']= np.sqrt(des['cModelMagErr_i']**2+des['cModelMagErr_z']**2)\n",
    "\n",
    "    out['redshift'] = des['z']\n",
    "    write_bma_dict_temp_files(files,out,nsize,nchunks)\n",
    "    return out"
   ]
  },
  {
   "cell_type": "code",
   "execution_count": 15,
   "metadata": {},
   "outputs": [],
   "source": [
    "def write_bma_dict_temp_files(files,table,nsize,nchunks):\n",
    "    columns = table.keys()\n",
    "    idxs    = np.linspace(0,nsize,nchunks+1,dtype=np.int64)\n",
    "    \n",
    "    for i,file in enumerate(files):\n",
    "        if os.path.isfile(file):\n",
    "            os.remove(file)\n",
    "        else:\n",
    "            hf = h5py.File(file,'w')\n",
    "            hf.create_group('bma')\n",
    "            for col in columns:\n",
    "                ilo,iup = idxs[i],idxs[i+1]\n",
    "                hf.create_dataset('bma/%s/'%col,data=table[col][ilo:iup])\n",
    "            hf.close()\n",
    "    return files"
   ]
  },
  {
   "cell_type": "code",
   "execution_count": null,
   "metadata": {},
   "outputs": [],
   "source": []
  },
  {
   "cell_type": "code",
   "execution_count": 16,
   "metadata": {},
   "outputs": [
    {
     "ename": "OSError",
     "evalue": "Unable to create file (unable to open file: name = '/home/s1/jesteves/git/galaxyFormation/data/bma/tmp/bkg_input_00001.hdf5', errno = 2, error message = 'No such file or directory', flags = 13, o_flags = 602)",
     "output_type": "error",
     "traceback": [
      "\u001b[0;31m---------------------------------------------------------------------------\u001b[0m",
      "\u001b[0;31mOSError\u001b[0m                                   Traceback (most recent call last)",
      "\u001b[0;32m<ipython-input-16-eec7231f47f0>\u001b[0m in \u001b[0;36m<module>\u001b[0;34m\u001b[0m\n\u001b[1;32m      8\u001b[0m \u001b[0;34m\u001b[0m\u001b[0m\n\u001b[1;32m      9\u001b[0m \u001b[0mGalaxy_data\u001b[0m\u001b[0;34m[\u001b[0m\u001b[0;34m'key'\u001b[0m\u001b[0;34m]\u001b[0m \u001b[0;34m=\u001b[0m \u001b[0mnp\u001b[0m\u001b[0;34m.\u001b[0m\u001b[0marange\u001b[0m\u001b[0;34m(\u001b[0m\u001b[0;36m0\u001b[0m\u001b[0;34m,\u001b[0m\u001b[0mnsize\u001b[0m\u001b[0;34m,\u001b[0m\u001b[0mdtype\u001b[0m\u001b[0;34m=\u001b[0m\u001b[0mint\u001b[0m\u001b[0;34m)\u001b[0m\u001b[0;34m\u001b[0m\u001b[0;34m\u001b[0m\u001b[0m\n\u001b[0;32m---> 10\u001b[0;31m \u001b[0mdata\u001b[0m \u001b[0;34m=\u001b[0m \u001b[0mmake_bma_input_temp_file\u001b[0m\u001b[0;34m(\u001b[0m\u001b[0mGalaxy_data\u001b[0m\u001b[0;34m,\u001b[0m\u001b[0mbma_temp_input_files\u001b[0m\u001b[0;34m,\u001b[0m\u001b[0mnsize\u001b[0m\u001b[0;34m,\u001b[0m\u001b[0mnchunks\u001b[0m\u001b[0;34m)\u001b[0m\u001b[0;34m\u001b[0m\u001b[0;34m\u001b[0m\u001b[0m\n\u001b[0m",
      "\u001b[0;32m<ipython-input-14-535dd0f8c639>\u001b[0m in \u001b[0;36mmake_bma_input_temp_file\u001b[0;34m(des, files, nsize, nchunks)\u001b[0m\n\u001b[1;32m     18\u001b[0m \u001b[0;34m\u001b[0m\u001b[0m\n\u001b[1;32m     19\u001b[0m     \u001b[0mout\u001b[0m\u001b[0;34m[\u001b[0m\u001b[0;34m'redshift'\u001b[0m\u001b[0;34m]\u001b[0m \u001b[0;34m=\u001b[0m \u001b[0mdes\u001b[0m\u001b[0;34m[\u001b[0m\u001b[0;34m'z'\u001b[0m\u001b[0;34m]\u001b[0m\u001b[0;34m\u001b[0m\u001b[0;34m\u001b[0m\u001b[0m\n\u001b[0;32m---> 20\u001b[0;31m     \u001b[0mwrite_bma_dict_temp_files\u001b[0m\u001b[0;34m(\u001b[0m\u001b[0mfiles\u001b[0m\u001b[0;34m,\u001b[0m\u001b[0mout\u001b[0m\u001b[0;34m,\u001b[0m\u001b[0mnsize\u001b[0m\u001b[0;34m,\u001b[0m\u001b[0mnchunks\u001b[0m\u001b[0;34m)\u001b[0m\u001b[0;34m\u001b[0m\u001b[0;34m\u001b[0m\u001b[0m\n\u001b[0m\u001b[1;32m     21\u001b[0m     \u001b[0;32mreturn\u001b[0m \u001b[0mout\u001b[0m\u001b[0;34m\u001b[0m\u001b[0;34m\u001b[0m\u001b[0m\n",
      "\u001b[0;32m<ipython-input-15-fe972c277846>\u001b[0m in \u001b[0;36mwrite_bma_dict_temp_files\u001b[0;34m(files, table, nsize, nchunks)\u001b[0m\n\u001b[1;32m      7\u001b[0m             \u001b[0mos\u001b[0m\u001b[0;34m.\u001b[0m\u001b[0mremove\u001b[0m\u001b[0;34m(\u001b[0m\u001b[0mfile\u001b[0m\u001b[0;34m)\u001b[0m\u001b[0;34m\u001b[0m\u001b[0;34m\u001b[0m\u001b[0m\n\u001b[1;32m      8\u001b[0m         \u001b[0;32melse\u001b[0m\u001b[0;34m:\u001b[0m\u001b[0;34m\u001b[0m\u001b[0;34m\u001b[0m\u001b[0m\n\u001b[0;32m----> 9\u001b[0;31m             \u001b[0mhf\u001b[0m \u001b[0;34m=\u001b[0m \u001b[0mh5py\u001b[0m\u001b[0;34m.\u001b[0m\u001b[0mFile\u001b[0m\u001b[0;34m(\u001b[0m\u001b[0mfile\u001b[0m\u001b[0;34m,\u001b[0m\u001b[0;34m'w'\u001b[0m\u001b[0;34m)\u001b[0m\u001b[0;34m\u001b[0m\u001b[0;34m\u001b[0m\u001b[0m\n\u001b[0m\u001b[1;32m     10\u001b[0m             \u001b[0mhf\u001b[0m\u001b[0;34m.\u001b[0m\u001b[0mcreate_group\u001b[0m\u001b[0;34m(\u001b[0m\u001b[0;34m'bma'\u001b[0m\u001b[0;34m)\u001b[0m\u001b[0;34m\u001b[0m\u001b[0;34m\u001b[0m\u001b[0m\n\u001b[1;32m     11\u001b[0m             \u001b[0;32mfor\u001b[0m \u001b[0mcol\u001b[0m \u001b[0;32min\u001b[0m \u001b[0mcolumns\u001b[0m\u001b[0;34m:\u001b[0m\u001b[0;34m\u001b[0m\u001b[0;34m\u001b[0m\u001b[0m\n",
      "\u001b[0;32m/usr/local/anaconda/lib/python3.8/site-packages/h5py/_hl/files.py\u001b[0m in \u001b[0;36m__init__\u001b[0;34m(self, name, mode, driver, libver, userblock_size, swmr, rdcc_nslots, rdcc_nbytes, rdcc_w0, track_order, **kwds)\u001b[0m\n\u001b[1;32m    404\u001b[0m             \u001b[0;32mwith\u001b[0m \u001b[0mphil\u001b[0m\u001b[0;34m:\u001b[0m\u001b[0;34m\u001b[0m\u001b[0;34m\u001b[0m\u001b[0m\n\u001b[1;32m    405\u001b[0m                 \u001b[0mfapl\u001b[0m \u001b[0;34m=\u001b[0m \u001b[0mmake_fapl\u001b[0m\u001b[0;34m(\u001b[0m\u001b[0mdriver\u001b[0m\u001b[0;34m,\u001b[0m \u001b[0mlibver\u001b[0m\u001b[0;34m,\u001b[0m \u001b[0mrdcc_nslots\u001b[0m\u001b[0;34m,\u001b[0m \u001b[0mrdcc_nbytes\u001b[0m\u001b[0;34m,\u001b[0m \u001b[0mrdcc_w0\u001b[0m\u001b[0;34m,\u001b[0m \u001b[0;34m**\u001b[0m\u001b[0mkwds\u001b[0m\u001b[0;34m)\u001b[0m\u001b[0;34m\u001b[0m\u001b[0;34m\u001b[0m\u001b[0m\n\u001b[0;32m--> 406\u001b[0;31m                 fid = make_fid(name, mode, userblock_size,\n\u001b[0m\u001b[1;32m    407\u001b[0m                                \u001b[0mfapl\u001b[0m\u001b[0;34m,\u001b[0m \u001b[0mfcpl\u001b[0m\u001b[0;34m=\u001b[0m\u001b[0mmake_fcpl\u001b[0m\u001b[0;34m(\u001b[0m\u001b[0mtrack_order\u001b[0m\u001b[0;34m=\u001b[0m\u001b[0mtrack_order\u001b[0m\u001b[0;34m)\u001b[0m\u001b[0;34m,\u001b[0m\u001b[0;34m\u001b[0m\u001b[0;34m\u001b[0m\u001b[0m\n\u001b[1;32m    408\u001b[0m                                swmr=swmr)\n",
      "\u001b[0;32m/usr/local/anaconda/lib/python3.8/site-packages/h5py/_hl/files.py\u001b[0m in \u001b[0;36mmake_fid\u001b[0;34m(name, mode, userblock_size, fapl, fcpl, swmr)\u001b[0m\n\u001b[1;32m    177\u001b[0m         \u001b[0mfid\u001b[0m \u001b[0;34m=\u001b[0m \u001b[0mh5f\u001b[0m\u001b[0;34m.\u001b[0m\u001b[0mcreate\u001b[0m\u001b[0;34m(\u001b[0m\u001b[0mname\u001b[0m\u001b[0;34m,\u001b[0m \u001b[0mh5f\u001b[0m\u001b[0;34m.\u001b[0m\u001b[0mACC_EXCL\u001b[0m\u001b[0;34m,\u001b[0m \u001b[0mfapl\u001b[0m\u001b[0;34m=\u001b[0m\u001b[0mfapl\u001b[0m\u001b[0;34m,\u001b[0m \u001b[0mfcpl\u001b[0m\u001b[0;34m=\u001b[0m\u001b[0mfcpl\u001b[0m\u001b[0;34m)\u001b[0m\u001b[0;34m\u001b[0m\u001b[0;34m\u001b[0m\u001b[0m\n\u001b[1;32m    178\u001b[0m     \u001b[0;32melif\u001b[0m \u001b[0mmode\u001b[0m \u001b[0;34m==\u001b[0m \u001b[0;34m'w'\u001b[0m\u001b[0;34m:\u001b[0m\u001b[0;34m\u001b[0m\u001b[0;34m\u001b[0m\u001b[0m\n\u001b[0;32m--> 179\u001b[0;31m         \u001b[0mfid\u001b[0m \u001b[0;34m=\u001b[0m \u001b[0mh5f\u001b[0m\u001b[0;34m.\u001b[0m\u001b[0mcreate\u001b[0m\u001b[0;34m(\u001b[0m\u001b[0mname\u001b[0m\u001b[0;34m,\u001b[0m \u001b[0mh5f\u001b[0m\u001b[0;34m.\u001b[0m\u001b[0mACC_TRUNC\u001b[0m\u001b[0;34m,\u001b[0m \u001b[0mfapl\u001b[0m\u001b[0;34m=\u001b[0m\u001b[0mfapl\u001b[0m\u001b[0;34m,\u001b[0m \u001b[0mfcpl\u001b[0m\u001b[0;34m=\u001b[0m\u001b[0mfcpl\u001b[0m\u001b[0;34m)\u001b[0m\u001b[0;34m\u001b[0m\u001b[0;34m\u001b[0m\u001b[0m\n\u001b[0m\u001b[1;32m    180\u001b[0m     \u001b[0;32melif\u001b[0m \u001b[0mmode\u001b[0m \u001b[0;34m==\u001b[0m \u001b[0;34m'a'\u001b[0m\u001b[0;34m:\u001b[0m\u001b[0;34m\u001b[0m\u001b[0;34m\u001b[0m\u001b[0m\n\u001b[1;32m    181\u001b[0m         \u001b[0;31m# Open in append mode (read/write).\u001b[0m\u001b[0;34m\u001b[0m\u001b[0;34m\u001b[0m\u001b[0;34m\u001b[0m\u001b[0m\n",
      "\u001b[0;32mh5py/_objects.pyx\u001b[0m in \u001b[0;36mh5py._objects.with_phil.wrapper\u001b[0;34m()\u001b[0m\n",
      "\u001b[0;32mh5py/_objects.pyx\u001b[0m in \u001b[0;36mh5py._objects.with_phil.wrapper\u001b[0;34m()\u001b[0m\n",
      "\u001b[0;32mh5py/h5f.pyx\u001b[0m in \u001b[0;36mh5py.h5f.create\u001b[0;34m()\u001b[0m\n",
      "\u001b[0;31mOSError\u001b[0m: Unable to create file (unable to open file: name = '/home/s1/jesteves/git/galaxyFormation/data/bma/tmp/bkg_input_00001.hdf5', errno = 2, error message = 'No such file or directory', flags = 13, o_flags = 602)"
     ]
    }
   ],
   "source": [
    "nsize  = len(Galaxy_data)\n",
    "nchunks= 100\n",
    "\n",
    "root  = '/home/s1/jesteves/git/galaxyFormation/data/bma/'\n",
    "\n",
    "bma_temp_input_files  = [root+'tmp/bkg_input_{:05d}.hdf5'.format(i+1) for i in range(nchunks)]\n",
    "bma_temp_output_files = [root+'tmp/bkg_output_{:05d}.hdf5'.format(i+1) for i in range(nchunks)]\n",
    "\n",
    "Galaxy_data['key'] = np.arange(0,nsize,dtype=int)\n",
    "data = make_bma_input_temp_file(Galaxy_data,bma_temp_input_files,nsize,nchunks)"
   ]
  },
  {
   "cell_type": "code",
   "execution_count": null,
   "metadata": {},
   "outputs": [],
   "source": [
    "bma_temp_input_files"
   ]
  },
  {
   "cell_type": "code",
   "execution_count": null,
   "metadata": {},
   "outputs": [],
   "source": []
  },
  {
   "cell_type": "markdown",
   "metadata": {},
   "source": [
    "### Running Code"
   ]
  },
  {
   "cell_type": "code",
   "execution_count": 17,
   "metadata": {},
   "outputs": [
    {
     "ename": "ModuleNotFoundError",
     "evalue": "No module named 'smass'",
     "output_type": "error",
     "traceback": [
      "\u001b[0;31m---------------------------------------------------------------------------\u001b[0m",
      "\u001b[0;31mModuleNotFoundError\u001b[0m                       Traceback (most recent call last)",
      "\u001b[0;32m<ipython-input-17-3509e7132c74>\u001b[0m in \u001b[0;36m<module>\u001b[0;34m\u001b[0m\n\u001b[1;32m      3\u001b[0m \u001b[0;34m\u001b[0m\u001b[0m\n\u001b[1;32m      4\u001b[0m \u001b[0msys\u001b[0m\u001b[0;34m.\u001b[0m\u001b[0mpath\u001b[0m\u001b[0;34m.\u001b[0m\u001b[0mappend\u001b[0m\u001b[0;34m(\u001b[0m\u001b[0;34m'/home/s1/jesteves/git/ccopa/python/bma'\u001b[0m\u001b[0;34m)\u001b[0m\u001b[0;34m\u001b[0m\u001b[0;34m\u001b[0m\u001b[0m\n\u001b[0;32m----> 5\u001b[0;31m \u001b[0;32mimport\u001b[0m \u001b[0msmass\u001b[0m\u001b[0;34m\u001b[0m\u001b[0;34m\u001b[0m\u001b[0m\n\u001b[0m\u001b[1;32m      6\u001b[0m \u001b[0;34m\u001b[0m\u001b[0m\n\u001b[1;32m      7\u001b[0m def bma_trigger(infiles,outfiles,inPath,\n",
      "\u001b[0;31mModuleNotFoundError\u001b[0m: No module named 'smass'"
     ]
    }
   ],
   "source": [
    "from joblib import Parallel, delayed\n",
    "import sys\n",
    "\n",
    "sys.path.append('/home/s1/jesteves/git/ccopa/python/bma')\n",
    "import smass\n",
    "\n",
    "def bma_trigger(infiles,outfiles,inPath,\n",
    "               nCores=2,batchStart=0,batchEnd=None,overwrite=False):\n",
    "    if batchEnd is None: batchEnd = self.bma_nchunks\n",
    "\n",
    "    batches = np.arange(batchStart,batchEnd,1,dtype=np.int64)\n",
    "\n",
    "    print('starting parallel process')\n",
    "    print('runing on the following batches:',batches)\n",
    "    Parallel(n_jobs=nCores)(\n",
    "        delayed(smass.calc_copa_v2)(infiles[i], outfiles[i], inPath) for i in batches)\n",
    "    print('ended smass calc')"
   ]
  },
  {
   "cell_type": "code",
   "execution_count": 18,
   "metadata": {},
   "outputs": [
    {
     "ename": "NameError",
     "evalue": "name 'bma_trigger' is not defined",
     "output_type": "error",
     "traceback": [
      "\u001b[0;31m---------------------------------------------------------------------------\u001b[0m",
      "\u001b[0;31mNameError\u001b[0m                                 Traceback (most recent call last)",
      "\u001b[0;32m<ipython-input-18-4d88d037b2f3>\u001b[0m in \u001b[0;36m<module>\u001b[0;34m\u001b[0m\n\u001b[1;32m      1\u001b[0m \u001b[0mnCores\u001b[0m \u001b[0;34m=\u001b[0m \u001b[0;36m71\u001b[0m\u001b[0;34m\u001b[0m\u001b[0;34m\u001b[0m\u001b[0m\n\u001b[1;32m      2\u001b[0m \u001b[0mlibPath\u001b[0m\u001b[0;34m=\u001b[0m \u001b[0;34m'/data/des61.a/data/pbarchi/galaxyClusters/simha_miles_Nov2016/'\u001b[0m\u001b[0;34m\u001b[0m\u001b[0;34m\u001b[0m\u001b[0m\n\u001b[0;32m----> 3\u001b[0;31m bma_trigger(bma_temp_input_files, bma_temp_output_files, libPath,\n\u001b[0m\u001b[1;32m      4\u001b[0m             nCores=nCores,batchStart=0,batchEnd=nchunks)\n",
      "\u001b[0;31mNameError\u001b[0m: name 'bma_trigger' is not defined"
     ]
    }
   ],
   "source": [
    "nCores = 71\n",
    "libPath= '/data/des61.a/data/pbarchi/galaxyClusters/simha_miles_Nov2016/'\n",
    "bma_trigger(bma_temp_input_files, bma_temp_output_files, libPath,\n",
    "            nCores=nCores,batchStart=0,batchEnd=nchunks)"
   ]
  },
  {
   "cell_type": "code",
   "execution_count": null,
   "metadata": {},
   "outputs": [],
   "source": []
  },
  {
   "cell_type": "code",
   "execution_count": null,
   "metadata": {},
   "outputs": [],
   "source": []
  },
  {
   "cell_type": "code",
   "execution_count": 36,
   "metadata": {},
   "outputs": [],
   "source": [
    "from astropy.table import Table, vstack, join\n",
    "\n",
    "def combine_hdf5_files(files,path='/'):\n",
    "    \"\"\" Combine hdf5 files with same data structure\n",
    "    \"\"\"\n",
    "    mylist = []\n",
    "    count  = 0\n",
    "    for file in files:\n",
    "        if os.path.isfile(file):\n",
    "            mydict = read_hdf5_file_to_dict(file,path=path)\n",
    "            mylist.append(mydict)\n",
    "        else:\n",
    "            print('missing the temp file: %s'%(file))\n",
    "            count+=1\n",
    "\n",
    "    all_dict=stack_dict(mylist)\n",
    "    return all_dict, count"
   ]
  },
  {
   "cell_type": "code",
   "execution_count": 38,
   "metadata": {},
   "outputs": [],
   "source": [
    "def check_not_hf5(hf,path):\n",
    "    return path not in hf.keys()\n",
    "\n",
    "def delete_group(fname,path):\n",
    "    fmaster = h5py.File(fname,'a')\n",
    "    try:\n",
    "        group   = fmaster[path]\n",
    "    except:\n",
    "        fmaster.close()\n",
    "        return\n",
    "\n",
    "    cols = group.keys()\n",
    "    if len(cols)>0:\n",
    "        for col in cols: del group[col]\n",
    "    fmaster.close()\n",
    "    \n",
    "def stack_dict(in_list):\n",
    "    columns = list(in_list[0].keys())\n",
    "    new_dict= dict().fromkeys(columns)\n",
    "    for col in columns:\n",
    "        res = [mydict[col] for mydict in in_list]\n",
    "        new_dict[col] = np.concatenate(res)\n",
    "    return new_dict\n",
    "\n",
    "def read_hdf5_file_to_dict(file,cols=None,indices=None,path='/'):\n",
    "    hf = h5py.File(file, 'r')\n",
    "    \n",
    "    mygroup = hf[path]\n",
    "\n",
    "    if cols is None: cols  = list(mygroup.keys())\n",
    "    if indices is None: indices = np.arange(0,len(mygroup[cols[0]]),1,dtype=np.int64)\n",
    "\n",
    "    mydict= dict().fromkeys(cols)\n",
    "    for col in cols:\n",
    "        mydict[col] = mygroup[col][:][indices]\n",
    "    \n",
    "    hf.close()\n",
    "\n",
    "    return mydict\n"
   ]
  },
  {
   "cell_type": "code",
   "execution_count": 74,
   "metadata": {},
   "outputs": [],
   "source": [
    "table, nmissing = combine_hdf5_files(bma_temp_output_files,path='bma/')\n",
    "table2, nmissing = combine_hdf5_files(bma_temp_input_files,path='bma/')\n",
    "\n",
    "t1   = Table(table)\n",
    "t2   = Table(table2)\n",
    "out_data = join(t1,t2,keys=['mid','CID'])\n",
    "out_data.rename_column('mid','key')"
   ]
  },
  {
   "cell_type": "code",
   "execution_count": 75,
   "metadata": {},
   "outputs": [
    {
     "name": "stderr",
     "output_type": "stream",
     "text": [
      "/cvmfs/des.opensciencegrid.org/fnal/anaconda3/lib/python3.7/site-packages/astropy/table/column.py:1020: RuntimeWarning: invalid value encountered in less\n",
      "  result = getattr(super(), op)(other)\n"
     ]
    }
   ],
   "source": [
    "nanmask = (np.logical_not(np.isnan(out_data['rabs'])))&(out_data['rabs']<0)"
   ]
  },
  {
   "cell_type": "code",
   "execution_count": 76,
   "metadata": {},
   "outputs": [
    {
     "data": {
      "image/png": "[encoded data removed]",
      "text/plain": [
       "<Figure size 432x288 with 1 Axes>"
      ]
     },
     "metadata": {
      "needs_background": "light"
     },
     "output_type": "display_data"
    }
   ],
   "source": [
    "_ = plt.hist(out_data['rabs'][nanmask])"
   ]
  },
  {
   "cell_type": "code",
   "execution_count": 77,
   "metadata": {},
   "outputs": [],
   "source": [
    "df = out_data.to_pandas()"
   ]
  },
  {
   "cell_type": "code",
   "execution_count": 78,
   "metadata": {},
   "outputs": [],
   "source": [
    "df.to_hdf('../data/SPIDERS_Dataset.hdf5', 'bma', mode='a')"
   ]
  },
  {
   "cell_type": "code",
   "execution_count": 79,
   "metadata": {},
   "outputs": [],
   "source": [
    "bma  = pd.read_hdf('../data/SPIDERS_Dataset.hdf5', key = 'bma')#.to_numpy()"
   ]
  },
  {
   "cell_type": "code",
   "execution_count": 80,
   "metadata": {},
   "outputs": [
    {
     "data": {
      "text/html": [
       "<div>\n",
       "<style scoped>\n",
       "    .dataframe tbody tr th:only-of-type {\n",
       "        vertical-align: middle;\n",
       "    }\n",
       "\n",
       "    .dataframe tbody tr th {\n",
       "        vertical-align: top;\n",
       "    }\n",
       "\n",
       "    .dataframe thead th {\n",
       "        text-align: right;\n",
       "    }\n",
       "</style>\n",
       "<table border=\"1\" class=\"dataframe\">\n",
       "  <thead>\n",
       "    <tr style=\"text-align: right;\">\n",
       "      <th></th>\n",
       "      <th>ra</th>\n",
       "      <th>dec</th>\n",
       "      <th>specobjid</th>\n",
       "      <th>CLUS_ID</th>\n",
       "      <th>z</th>\n",
       "      <th>zErr</th>\n",
       "      <th>zWarning</th>\n",
       "      <th>v_los</th>\n",
       "      <th>cModelMag_r</th>\n",
       "      <th>cModelMagErr_r</th>\n",
       "      <th>...</th>\n",
       "      <th>extinction_g</th>\n",
       "      <th>cModelMag_i</th>\n",
       "      <th>cModelMagErr_i</th>\n",
       "      <th>flags_i</th>\n",
       "      <th>extinction_i</th>\n",
       "      <th>cModelMag_z</th>\n",
       "      <th>cModelMagErr_z</th>\n",
       "      <th>flags_z</th>\n",
       "      <th>extinction_z</th>\n",
       "      <th>key</th>\n",
       "    </tr>\n",
       "  </thead>\n",
       "  <tbody>\n",
       "    <tr>\n",
       "      <th>0</th>\n",
       "      <td>119.571870</td>\n",
       "      <td>53.638738</td>\n",
       "      <td>2.105547e+18</td>\n",
       "      <td>1_1172</td>\n",
       "      <td>0.136219</td>\n",
       "      <td>0.000035</td>\n",
       "      <td>0</td>\n",
       "      <td>9112.934223</td>\n",
       "      <td>17.23507</td>\n",
       "      <td>0.005641</td>\n",
       "      <td>...</td>\n",
       "      <td>0.122412</td>\n",
       "      <td>16.78113</td>\n",
       "      <td>0.005188</td>\n",
       "      <td>2252074960195600</td>\n",
       "      <td>0.062929</td>\n",
       "      <td>16.46983</td>\n",
       "      <td>0.011877</td>\n",
       "      <td>2252074960060432</td>\n",
       "      <td>0.046808</td>\n",
       "      <td>0</td>\n",
       "    </tr>\n",
       "    <tr>\n",
       "      <th>1</th>\n",
       "      <td>119.864610</td>\n",
       "      <td>53.630081</td>\n",
       "      <td>2.105555e+18</td>\n",
       "      <td>1_1172</td>\n",
       "      <td>0.084383</td>\n",
       "      <td>0.000012</td>\n",
       "      <td>0</td>\n",
       "      <td>-4979.975610</td>\n",
       "      <td>16.15208</td>\n",
       "      <td>0.003694</td>\n",
       "      <td>...</td>\n",
       "      <td>0.125668</td>\n",
       "      <td>15.57720</td>\n",
       "      <td>0.003265</td>\n",
       "      <td>288230651298480144</td>\n",
       "      <td>0.064603</td>\n",
       "      <td>15.61078</td>\n",
       "      <td>0.006936</td>\n",
       "      <td>2252074960195600</td>\n",
       "      <td>0.048053</td>\n",
       "      <td>1</td>\n",
       "    </tr>\n",
       "    <tr>\n",
       "      <th>2</th>\n",
       "      <td>119.796020</td>\n",
       "      <td>53.784186</td>\n",
       "      <td>2.105554e+18</td>\n",
       "      <td>1_1172</td>\n",
       "      <td>-0.000519</td>\n",
       "      <td>0.000009</td>\n",
       "      <td>0</td>\n",
       "      <td>-28062.232989</td>\n",
       "      <td>16.17832</td>\n",
       "      <td>0.004368</td>\n",
       "      <td>...</td>\n",
       "      <td>0.128670</td>\n",
       "      <td>16.15715</td>\n",
       "      <td>0.004446</td>\n",
       "      <td>285245440</td>\n",
       "      <td>0.066146</td>\n",
       "      <td>16.17055</td>\n",
       "      <td>0.007882</td>\n",
       "      <td>268468224</td>\n",
       "      <td>0.049201</td>\n",
       "      <td>2</td>\n",
       "    </tr>\n",
       "    <tr>\n",
       "      <th>3</th>\n",
       "      <td>119.660040</td>\n",
       "      <td>53.700200</td>\n",
       "      <td>2.105547e+18</td>\n",
       "      <td>1_1172</td>\n",
       "      <td>0.068184</td>\n",
       "      <td>0.000009</td>\n",
       "      <td>0</td>\n",
       "      <td>-9383.849868</td>\n",
       "      <td>16.73223</td>\n",
       "      <td>0.004984</td>\n",
       "      <td>...</td>\n",
       "      <td>0.130808</td>\n",
       "      <td>16.31826</td>\n",
       "      <td>0.004628</td>\n",
       "      <td>2252074960191504</td>\n",
       "      <td>0.067245</td>\n",
       "      <td>16.03879</td>\n",
       "      <td>0.011602</td>\n",
       "      <td>2252074960060432</td>\n",
       "      <td>0.050018</td>\n",
       "      <td>3</td>\n",
       "    </tr>\n",
       "    <tr>\n",
       "      <th>4</th>\n",
       "      <td>119.649520</td>\n",
       "      <td>53.725027</td>\n",
       "      <td>2.105548e+18</td>\n",
       "      <td>1_1172</td>\n",
       "      <td>1.050130</td>\n",
       "      <td>0.000522</td>\n",
       "      <td>0</td>\n",
       "      <td>257579.003441</td>\n",
       "      <td>18.97087</td>\n",
       "      <td>0.012989</td>\n",
       "      <td>...</td>\n",
       "      <td>0.130222</td>\n",
       "      <td>19.05038</td>\n",
       "      <td>0.013508</td>\n",
       "      <td>268468240</td>\n",
       "      <td>0.066944</td>\n",
       "      <td>19.04692</td>\n",
       "      <td>0.049372</td>\n",
       "      <td>275146375184</td>\n",
       "      <td>0.049794</td>\n",
       "      <td>4</td>\n",
       "    </tr>\n",
       "    <tr>\n",
       "      <th>...</th>\n",
       "      <td>...</td>\n",
       "      <td>...</td>\n",
       "      <td>...</td>\n",
       "      <td>...</td>\n",
       "      <td>...</td>\n",
       "      <td>...</td>\n",
       "      <td>...</td>\n",
       "      <td>...</td>\n",
       "      <td>...</td>\n",
       "      <td>...</td>\n",
       "      <td>...</td>\n",
       "      <td>...</td>\n",
       "      <td>...</td>\n",
       "      <td>...</td>\n",
       "      <td>...</td>\n",
       "      <td>...</td>\n",
       "      <td>...</td>\n",
       "      <td>...</td>\n",
       "      <td>...</td>\n",
       "      <td>...</td>\n",
       "      <td>...</td>\n",
       "    </tr>\n",
       "    <tr>\n",
       "      <th>62627</th>\n",
       "      <td>7.037279</td>\n",
       "      <td>26.253032</td>\n",
       "      <td>7.071983e+18</td>\n",
       "      <td>2_8798</td>\n",
       "      <td>2.197458</td>\n",
       "      <td>0.000388</td>\n",
       "      <td>0</td>\n",
       "      <td>402407.963764</td>\n",
       "      <td>19.59799</td>\n",
       "      <td>0.022725</td>\n",
       "      <td>...</td>\n",
       "      <td>0.140456</td>\n",
       "      <td>19.50224</td>\n",
       "      <td>0.030477</td>\n",
       "      <td>275146375168</td>\n",
       "      <td>0.072205</td>\n",
       "      <td>19.22245</td>\n",
       "      <td>0.123366</td>\n",
       "      <td>275280592896</td>\n",
       "      <td>0.053708</td>\n",
       "      <td>62627</td>\n",
       "    </tr>\n",
       "    <tr>\n",
       "      <th>62628</th>\n",
       "      <td>6.929898</td>\n",
       "      <td>26.283447</td>\n",
       "      <td>8.624534e+18</td>\n",
       "      <td>2_8798</td>\n",
       "      <td>0.207917</td>\n",
       "      <td>0.000087</td>\n",
       "      <td>0</td>\n",
       "      <td>-34519.351615</td>\n",
       "      <td>20.19131</td>\n",
       "      <td>0.050896</td>\n",
       "      <td>...</td>\n",
       "      <td>0.131673</td>\n",
       "      <td>19.63543</td>\n",
       "      <td>0.044110</td>\n",
       "      <td>275213615176</td>\n",
       "      <td>0.067690</td>\n",
       "      <td>19.09973</td>\n",
       "      <td>0.105809</td>\n",
       "      <td>275347701832</td>\n",
       "      <td>0.050349</td>\n",
       "      <td>62628</td>\n",
       "    </tr>\n",
       "    <tr>\n",
       "      <th>62629</th>\n",
       "      <td>7.059230</td>\n",
       "      <td>26.442574</td>\n",
       "      <td>8.624547e+18</td>\n",
       "      <td>2_8798</td>\n",
       "      <td>0.323072</td>\n",
       "      <td>0.000017</td>\n",
       "      <td>0</td>\n",
       "      <td>-9229.855950</td>\n",
       "      <td>21.58912</td>\n",
       "      <td>0.131317</td>\n",
       "      <td>...</td>\n",
       "      <td>0.128807</td>\n",
       "      <td>21.88973</td>\n",
       "      <td>0.247275</td>\n",
       "      <td>142737921</td>\n",
       "      <td>0.066217</td>\n",
       "      <td>21.17625</td>\n",
       "      <td>0.595782</td>\n",
       "      <td>18014398643716097</td>\n",
       "      <td>0.049253</td>\n",
       "      <td>62629</td>\n",
       "    </tr>\n",
       "    <tr>\n",
       "      <th>62630</th>\n",
       "      <td>7.062792</td>\n",
       "      <td>26.289956</td>\n",
       "      <td>7.070677e+18</td>\n",
       "      <td>2_8798</td>\n",
       "      <td>1.162802</td>\n",
       "      <td>0.000236</td>\n",
       "      <td>4</td>\n",
       "      <td>175185.001154</td>\n",
       "      <td>21.52911</td>\n",
       "      <td>0.130061</td>\n",
       "      <td>...</td>\n",
       "      <td>0.140669</td>\n",
       "      <td>21.11993</td>\n",
       "      <td>0.117129</td>\n",
       "      <td>45036271420080128</td>\n",
       "      <td>0.072315</td>\n",
       "      <td>19.88870</td>\n",
       "      <td>0.434835</td>\n",
       "      <td>9007199388991489</td>\n",
       "      <td>0.053789</td>\n",
       "      <td>62630</td>\n",
       "    </tr>\n",
       "    <tr>\n",
       "      <th>62631</th>\n",
       "      <td>6.931857</td>\n",
       "      <td>26.272576</td>\n",
       "      <td>7.070688e+18</td>\n",
       "      <td>2_8798</td>\n",
       "      <td>0.364985</td>\n",
       "      <td>0.000058</td>\n",
       "      <td>0</td>\n",
       "      <td>-25.254584</td>\n",
       "      <td>18.30047</td>\n",
       "      <td>0.015847</td>\n",
       "      <td>...</td>\n",
       "      <td>0.132376</td>\n",
       "      <td>17.58385</td>\n",
       "      <td>0.013395</td>\n",
       "      <td>2252074960060432</td>\n",
       "      <td>0.068051</td>\n",
       "      <td>17.14223</td>\n",
       "      <td>0.032903</td>\n",
       "      <td>2252075094278160</td>\n",
       "      <td>0.050618</td>\n",
       "      <td>62631</td>\n",
       "    </tr>\n",
       "  </tbody>\n",
       "</table>\n",
       "<p>62632 rows × 25 columns</p>\n",
       "</div>"
      ],
      "text/plain": [
       "               ra        dec     specobjid  CLUS_ID         z      zErr  \\\n",
       "0      119.571870  53.638738  2.105547e+18  1_1172   0.136219  0.000035   \n",
       "1      119.864610  53.630081  2.105555e+18  1_1172   0.084383  0.000012   \n",
       "2      119.796020  53.784186  2.105554e+18  1_1172  -0.000519  0.000009   \n",
       "3      119.660040  53.700200  2.105547e+18  1_1172   0.068184  0.000009   \n",
       "4      119.649520  53.725027  2.105548e+18  1_1172   1.050130  0.000522   \n",
       "...           ...        ...           ...      ...       ...       ...   \n",
       "62627    7.037279  26.253032  7.071983e+18  2_8798   2.197458  0.000388   \n",
       "62628    6.929898  26.283447  8.624534e+18  2_8798   0.207917  0.000087   \n",
       "62629    7.059230  26.442574  8.624547e+18  2_8798   0.323072  0.000017   \n",
       "62630    7.062792  26.289956  7.070677e+18  2_8798   1.162802  0.000236   \n",
       "62631    6.931857  26.272576  7.070688e+18  2_8798   0.364985  0.000058   \n",
       "\n",
       "       zWarning          v_los  cModelMag_r  cModelMagErr_r  ...  \\\n",
       "0             0    9112.934223     17.23507        0.005641  ...   \n",
       "1             0   -4979.975610     16.15208        0.003694  ...   \n",
       "2             0  -28062.232989     16.17832        0.004368  ...   \n",
       "3             0   -9383.849868     16.73223        0.004984  ...   \n",
       "4             0  257579.003441     18.97087        0.012989  ...   \n",
       "...         ...            ...          ...             ...  ...   \n",
       "62627         0  402407.963764     19.59799        0.022725  ...   \n",
       "62628         0  -34519.351615     20.19131        0.050896  ...   \n",
       "62629         0   -9229.855950     21.58912        0.131317  ...   \n",
       "62630         4  175185.001154     21.52911        0.130061  ...   \n",
       "62631         0     -25.254584     18.30047        0.015847  ...   \n",
       "\n",
       "       extinction_g  cModelMag_i  cModelMagErr_i             flags_i  \\\n",
       "0          0.122412     16.78113        0.005188    2252074960195600   \n",
       "1          0.125668     15.57720        0.003265  288230651298480144   \n",
       "2          0.128670     16.15715        0.004446           285245440   \n",
       "3          0.130808     16.31826        0.004628    2252074960191504   \n",
       "4          0.130222     19.05038        0.013508           268468240   \n",
       "...             ...          ...             ...                 ...   \n",
       "62627      0.140456     19.50224        0.030477        275146375168   \n",
       "62628      0.131673     19.63543        0.044110        275213615176   \n",
       "62629      0.128807     21.88973        0.247275           142737921   \n",
       "62630      0.140669     21.11993        0.117129   45036271420080128   \n",
       "62631      0.132376     17.58385        0.013395    2252074960060432   \n",
       "\n",
       "       extinction_i  cModelMag_z  cModelMagErr_z            flags_z  \\\n",
       "0          0.062929     16.46983        0.011877   2252074960060432   \n",
       "1          0.064603     15.61078        0.006936   2252074960195600   \n",
       "2          0.066146     16.17055        0.007882          268468224   \n",
       "3          0.067245     16.03879        0.011602   2252074960060432   \n",
       "4          0.066944     19.04692        0.049372       275146375184   \n",
       "...             ...          ...             ...                ...   \n",
       "62627      0.072205     19.22245        0.123366       275280592896   \n",
       "62628      0.067690     19.09973        0.105809       275347701832   \n",
       "62629      0.066217     21.17625        0.595782  18014398643716097   \n",
       "62630      0.072315     19.88870        0.434835   9007199388991489   \n",
       "62631      0.068051     17.14223        0.032903   2252075094278160   \n",
       "\n",
       "       extinction_z    key  \n",
       "0          0.046808      0  \n",
       "1          0.048053      1  \n",
       "2          0.049201      2  \n",
       "3          0.050018      3  \n",
       "4          0.049794      4  \n",
       "...             ...    ...  \n",
       "62627      0.053708  62627  \n",
       "62628      0.050349  62628  \n",
       "62629      0.049253  62629  \n",
       "62630      0.053789  62630  \n",
       "62631      0.050618  62631  \n",
       "\n",
       "[62632 rows x 25 columns]"
      ]
     },
     "execution_count": 80,
     "metadata": {},
     "output_type": "execute_result"
    }
   ],
   "source": [
    "Galaxy_data"
   ]
  },
  {
   "cell_type": "code",
   "execution_count": 81,
   "metadata": {},
   "outputs": [],
   "source": [
    "result = pd.merge(Galaxy_data, bma)"
   ]
  },
  {
   "cell_type": "code",
   "execution_count": 83,
   "metadata": {},
   "outputs": [
    {
     "data": {
      "text/plain": [
       "0       -22.081061\n",
       "1       -22.348194\n",
       "2              NaN\n",
       "3       -20.852680\n",
       "4       -25.200070\n",
       "           ...    \n",
       "62627   -26.732325\n",
       "62628   -20.354563\n",
       "62629   -19.261566\n",
       "62630   -24.840976\n",
       "62631   -24.050249\n",
       "Name: rabs, Length: 62632, dtype: float64"
      ]
     },
     "execution_count": 83,
     "metadata": {},
     "output_type": "execute_result"
    }
   ],
   "source": [
    "result['rabs']"
   ]
  }
 ],
 "metadata": {
  "kernelspec": {
   "display_name": "Python 3",
   "language": "python",
   "name": "python3"
  },
  "language_info": {
   "codemirror_mode": {
    "name": "ipython",
    "version": 3
   },
   "file_extension": ".py",
   "mimetype": "text/x-python",
   "name": "python",
   "nbconvert_exporter": "python",
   "pygments_lexer": "ipython3",
   "version": "3.8.8"
  }
 },
 "nbformat": 4,
 "nbformat_minor": 2
}
