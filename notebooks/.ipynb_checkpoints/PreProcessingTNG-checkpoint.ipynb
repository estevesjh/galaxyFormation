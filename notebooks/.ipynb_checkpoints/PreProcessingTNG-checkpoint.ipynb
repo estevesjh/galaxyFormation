{
 "cells": [
  {
   "cell_type": "markdown",
   "metadata": {},
   "source": [
    "# Pre-Processing TNG\n",
    "\n",
    "Here I generate the `gal_fname1` which cointains the columns needed to this study: `Mr, R, R/R200, v_los, v_circ, orbital, infall, interloper`.\n"
   ]
  },
  {
   "cell_type": "code",
   "execution_count": 1,
   "metadata": {
    "ExecuteTime": {
     "end_time": "2022-04-24T20:13:54.533005Z",
     "start_time": "2022-04-24T20:13:54.527597Z"
    }
   },
   "outputs": [
    {
     "name": "stdout",
     "output_type": "stream",
     "text": [
      "/Users/jesteves/Documents/GitHub/galaxyFormation\n"
     ]
    }
   ],
   "source": [
    "%cd ../"
   ]
  },
  {
   "cell_type": "code",
   "execution_count": 2,
   "metadata": {
    "ExecuteTime": {
     "end_time": "2022-04-24T20:13:56.915380Z",
     "start_time": "2022-04-24T20:13:54.534635Z"
    }
   },
   "outputs": [],
   "source": [
    "import sys\n",
    "sys.path.append('./scripts')\n",
    "from file_loc import FileLocs"
   ]
  },
  {
   "cell_type": "code",
   "execution_count": 3,
   "metadata": {
    "ExecuteTime": {
     "end_time": "2022-04-24T20:13:57.180858Z",
     "start_time": "2022-04-24T20:13:56.917232Z"
    }
   },
   "outputs": [],
   "source": [
    "import numpy as np\n",
    "import matplotlib.pyplot as plt\n",
    "from astropy.io.fits import getdata\n",
    "import astropy.table as Table\n",
    "import astropy.io.ascii as at"
   ]
  },
  {
   "cell_type": "markdown",
   "metadata": {},
   "source": [
    "# Reading Initial Data"
   ]
  },
  {
   "cell_type": "code",
   "execution_count": 4,
   "metadata": {
    "ExecuteTime": {
     "end_time": "2022-04-24T20:13:57.542687Z",
     "start_time": "2022-04-24T20:13:57.182594Z"
    }
   },
   "outputs": [
    {
     "name": "stdout",
     "output_type": "stream",
     "text": [
      "Loading Catalog: ./data/catalogs/TNG/TNG300-1_GalEvol_z0p10.hdf5\n",
      "Loading Catalog: ./data/catalogs/TNG/TNG300-1_GalEvol_z0p10.hdf5\n"
     ]
    }
   ],
   "source": [
    "fl = FileLocs(dataset='tng')\n",
    "\n",
    "cat = fl.load_catalogs('cluster/raw',is_hdf=True)\n",
    "gal = fl.load_catalogs('galaxy/raw',is_hdf=True)"
   ]
  },
  {
   "cell_type": "code",
   "execution_count": 5,
   "metadata": {
    "ExecuteTime": {
     "end_time": "2022-04-24T20:13:57.553041Z",
     "start_time": "2022-04-24T20:13:57.544274Z"
    }
   },
   "outputs": [
    {
     "data": {
      "text/html": [
       "<i>Table length=250</i>\n",
       "<table id=\"table140158914249968\" class=\"table-striped table-bordered table-condensed\">\n",
       "<thead><tr><th>HaloID</th><th>M200c</th><th>R200c</th><th>M200m</th><th>R200m</th></tr></thead>\n",
       "<thead><tr><th>int64</th><th>float32</th><th>float32</th><th>float32</th><th>float32</th></tr></thead>\n",
       "<tr><td>0</td><td>15.138044</td><td>2269.8381</td><td>15.26395</td><td>3474.4258</td></tr>\n",
       "<tr><td>1</td><td>15.05978</td><td>2137.5796</td><td>15.192753</td><td>3289.5754</td></tr>\n",
       "<tr><td>2</td><td>14.993893</td><td>2032.1763</td><td>15.1044235</td><td>3073.9197</td></tr>\n",
       "<tr><td>3</td><td>14.826947</td><td>1787.6604</td><td>15.001088</td><td>2839.546</td></tr>\n",
       "<tr><td>4</td><td>14.617113</td><td>1521.7881</td><td>14.75004</td><td>2341.9282</td></tr>\n",
       "<tr><td>5</td><td>14.865218</td><td>1841.0315</td><td>15.012252</td><td>2864.049</td></tr>\n",
       "<tr><td>6</td><td>14.616884</td><td>1521.5239</td><td>14.728867</td><td>2304.209</td></tr>\n",
       "<tr><td>7</td><td>14.765941</td><td>1705.9474</td><td>14.914375</td><td>2656.7302</td></tr>\n",
       "<tr><td>8</td><td>14.768657</td><td>1709.5039</td><td>14.904154</td><td>2636.0461</td></tr>\n",
       "<tr><td>9</td><td>14.709993</td><td>1634.2415</td><td>14.86382</td><td>2555.6492</td></tr>\n",
       "<tr><td>...</td><td>...</td><td>...</td><td>...</td><td>...</td></tr>\n",
       "<tr><td>299</td><td>14.0271225</td><td>967.578</td><td>14.12932</td><td>1454.3462</td></tr>\n",
       "<tr><td>300</td><td>14.044071</td><td>980.25543</td><td>14.1354</td><td>1461.111</td></tr>\n",
       "<tr><td>302</td><td>14.011743</td><td>956.21716</td><td>14.120932</td><td>1444.9939</td></tr>\n",
       "<tr><td>304</td><td>14.049407</td><td>984.26605</td><td>14.116926</td><td>1440.5482</td></tr>\n",
       "<tr><td>305</td><td>14.025171</td><td>966.1714</td><td>14.114877</td><td>1438.3339</td></tr>\n",
       "<tr><td>307</td><td>14.008189</td><td>953.6591</td><td>14.122637</td><td>1446.9177</td></tr>\n",
       "<tr><td>313</td><td>14.052166</td><td>986.33923</td><td>14.120802</td><td>1444.842</td></tr>\n",
       "<tr><td>320</td><td>14.015995</td><td>959.37646</td><td>14.097805</td><td>1419.6011</td></tr>\n",
       "<tr><td>323</td><td>14.016794</td><td>959.975</td><td>14.097319</td><td>1419.0588</td></tr>\n",
       "<tr><td>327</td><td>14.001199</td><td>948.533</td><td>14.09657</td><td>1418.258</td></tr>\n",
       "</table>"
      ],
      "text/plain": [
       "<Table length=250>\n",
       "HaloID   M200c      R200c     M200m      R200m  \n",
       "int64   float32    float32   float32    float32 \n",
       "------ ---------- --------- ---------- ---------\n",
       "     0  15.138044 2269.8381   15.26395 3474.4258\n",
       "     1   15.05978 2137.5796  15.192753 3289.5754\n",
       "     2  14.993893 2032.1763 15.1044235 3073.9197\n",
       "     3  14.826947 1787.6604  15.001088  2839.546\n",
       "     4  14.617113 1521.7881   14.75004 2341.9282\n",
       "     5  14.865218 1841.0315  15.012252  2864.049\n",
       "     6  14.616884 1521.5239  14.728867  2304.209\n",
       "     7  14.765941 1705.9474  14.914375 2656.7302\n",
       "     8  14.768657 1709.5039  14.904154 2636.0461\n",
       "     9  14.709993 1634.2415   14.86382 2555.6492\n",
       "   ...        ...       ...        ...       ...\n",
       "   299 14.0271225   967.578   14.12932 1454.3462\n",
       "   300  14.044071 980.25543    14.1354  1461.111\n",
       "   302  14.011743 956.21716  14.120932 1444.9939\n",
       "   304  14.049407 984.26605  14.116926 1440.5482\n",
       "   305  14.025171  966.1714  14.114877 1438.3339\n",
       "   307  14.008189  953.6591  14.122637 1446.9177\n",
       "   313  14.052166 986.33923  14.120802  1444.842\n",
       "   320  14.015995 959.37646  14.097805 1419.6011\n",
       "   323  14.016794   959.975  14.097319 1419.0588\n",
       "   327  14.001199   948.533   14.09657  1418.258"
      ]
     },
     "execution_count": 5,
     "metadata": {},
     "output_type": "execute_result"
    }
   ],
   "source": [
    "cat"
   ]
  },
  {
   "cell_type": "code",
   "execution_count": 6,
   "metadata": {
    "ExecuteTime": {
     "end_time": "2022-04-24T20:13:57.557595Z",
     "start_time": "2022-04-24T20:13:57.555096Z"
    }
   },
   "outputs": [],
   "source": [
    "# gal"
   ]
  },
  {
   "cell_type": "code",
   "execution_count": 7,
   "metadata": {
    "ExecuteTime": {
     "end_time": "2022-04-24T20:13:57.562489Z",
     "start_time": "2022-04-24T20:13:57.560190Z"
    }
   },
   "outputs": [],
   "source": [
    "# gal['R']"
   ]
  },
  {
   "cell_type": "markdown",
   "metadata": {},
   "source": [
    "# Task to perform\n",
    "\n",
    "1. Create New Variables\n",
    "2. Create Masks\n",
    "3. Assign Dynamical Classification"
   ]
  },
  {
   "cell_type": "code",
   "execution_count": 8,
   "metadata": {
    "ExecuteTime": {
     "end_time": "2022-04-24T20:13:57.568071Z",
     "start_time": "2022-04-24T20:13:57.565784Z"
    }
   },
   "outputs": [],
   "source": [
    "cat.rename_column('HaloID','Yang')\n",
    "gal.rename_column('HostHaloID','Yang')"
   ]
  },
  {
   "cell_type": "markdown",
   "metadata": {},
   "source": [
    "## New Variables\n",
    "\n",
    "In this section we compute the distance from the center and the phase space normalized variables (`R/R_200`, `v_los/v_circ`). Also, we assign k-correction and absolute magnitudes.\n"
   ]
  },
  {
   "cell_type": "code",
   "execution_count": 9,
   "metadata": {
    "ExecuteTime": {
     "end_time": "2022-04-24T20:13:57.574493Z",
     "start_time": "2022-04-24T20:13:57.570258Z"
    }
   },
   "outputs": [],
   "source": [
    "cid  = np.array(cat['Yang'])\n",
    "r200m = np.array(cat['R200m'])\n",
    "r200c = np.array(cat['R200c'])\n",
    "m200c = np.array(cat['M200c'])\n",
    "m200m = np.array(cat['M200m'])\n",
    "zcls = 0.1*np.ones_like(r200m)"
   ]
  },
  {
   "cell_type": "code",
   "execution_count": 10,
   "metadata": {
    "ExecuteTime": {
     "end_time": "2022-04-24T20:13:57.593323Z",
     "start_time": "2022-04-24T20:13:57.577076Z"
    }
   },
   "outputs": [],
   "source": [
    "# compute vcircm\n",
    "from astropy.cosmology import Planck13\n",
    "from astropy import units as u\n",
    "from astropy.constants import G, c\n",
    "\n",
    "def vcirc(mass,redshift,mdef,cosmo):\n",
    "    '''Calculate circular velocity in km/s for halos of mass M (Msun/h)'''\n",
    "    rho_crit = cosmo.critical_density(redshift)\n",
    "    if mdef[-1] == 'c':\n",
    "        delta = int(mdef[:-1])\n",
    "        rho = delta*rho_crit\n",
    "    elif mdef[-1] == 'm':\n",
    "        delta = int(mdef[:-1])\n",
    "        rho = delta*rho_crit*cosmo.Om(redshift)\n",
    "    else:\n",
    "        raise RuntimeError(\"Not correct mass definition\")\n",
    "    v = np.sqrt(G*(np.pi*4*rho/3)**(1./3)*(mass*u.Msun/cosmo.h)**(2./3))\n",
    "    a = v.to(u.km/u.s)\n",
    "    return a.value"
   ]
  },
  {
   "cell_type": "code",
   "execution_count": 11,
   "metadata": {
    "ExecuteTime": {
     "end_time": "2022-04-24T20:13:57.599796Z",
     "start_time": "2022-04-24T20:13:57.594624Z"
    }
   },
   "outputs": [],
   "source": [
    "vcirc_m   = vcirc((10**m200m)*Planck13.h,zcls,'200m',Planck13)"
   ]
  },
  {
   "cell_type": "code",
   "execution_count": 12,
   "metadata": {
    "ExecuteTime": {
     "end_time": "2022-04-24T20:13:57.642719Z",
     "start_time": "2022-04-24T20:13:57.601305Z"
    }
   },
   "outputs": [],
   "source": [
    "import esutil\n",
    "gcid = np.array(gal['Yang'])\n",
    "cid  = np.array(cat['Yang'])\n",
    "\n",
    "key = esutil.numpy_util.match(cid,gcid)"
   ]
  },
  {
   "cell_type": "code",
   "execution_count": 13,
   "metadata": {
    "ExecuteTime": {
     "end_time": "2022-04-24T20:13:57.646517Z",
     "start_time": "2022-04-24T20:13:57.644102Z"
    }
   },
   "outputs": [],
   "source": [
    "into_cls, into_gal = key[0], key[1]"
   ]
  },
  {
   "cell_type": "markdown",
   "metadata": {},
   "source": [
    "### Assigning new variables"
   ]
  },
  {
   "cell_type": "code",
   "execution_count": 14,
   "metadata": {
    "ExecuteTime": {
     "end_time": "2022-04-24T20:13:57.651166Z",
     "start_time": "2022-04-24T20:13:57.648218Z"
    }
   },
   "outputs": [
    {
     "data": {
      "text/plain": [
       "<TableColumns names=('SubhaloID','Mstar','Yang','R_proj','v_los','V200c_host','V200m_host','t_infall','Mstar_bulge','S_over_T','SFR','Stellar_age')>"
      ]
     },
     "execution_count": 14,
     "metadata": {},
     "output_type": "execute_result"
    }
   ],
   "source": [
    "gal.columns"
   ]
  },
  {
   "cell_type": "code",
   "execution_count": 15,
   "metadata": {
    "ExecuteTime": {
     "end_time": "2022-04-24T20:13:57.661827Z",
     "start_time": "2022-04-24T20:13:57.652573Z"
    }
   },
   "outputs": [],
   "source": [
    "gal.rename_column('R_proj','R')\n",
    "gal.rename_column('S_over_T','BT')\n",
    "gal.rename_column('Mstar','mass')\n",
    "gal.rename_column('v_los','vlos')"
   ]
  },
  {
   "cell_type": "code",
   "execution_count": 16,
   "metadata": {
    "ExecuteTime": {
     "end_time": "2022-04-24T20:13:57.689020Z",
     "start_time": "2022-04-24T20:13:57.663815Z"
    }
   },
   "outputs": [],
   "source": [
    "#columns = ['Yang','ra','dec','distance','mr_petro','mg','mr','mass','z','zErr','bpt','ssfr','sfr']\n",
    "data = gal[into_gal].copy()\n",
    "\n",
    "data['Yang'] = cid[into_cls]\n",
    "data['R200m'] = r200m[into_cls]\n",
    "data['R200c'] = r200c[into_cls]\n",
    "data['M200c'] = m200c[into_cls]\n",
    "data['redshift'] = zcls[into_cls]"
   ]
  },
  {
   "cell_type": "code",
   "execution_count": 17,
   "metadata": {
    "ExecuteTime": {
     "end_time": "2022-04-24T20:13:57.696229Z",
     "start_time": "2022-04-24T20:13:57.690584Z"
    }
   },
   "outputs": [],
   "source": [
    "Rproj = np.array(gal['R'][into_gal])\n",
    "data['Rm'] = Rproj\n",
    "data['R']  = Rproj*data['R200m']\n",
    "data['Rc'] = data['R']/data['R200c']\n"
   ]
  },
  {
   "cell_type": "code",
   "execution_count": 18,
   "metadata": {
    "ExecuteTime": {
     "end_time": "2022-04-24T20:13:57.714010Z",
     "start_time": "2022-04-24T20:13:57.697693Z"
    }
   },
   "outputs": [
    {
     "name": "stderr",
     "output_type": "stream",
     "text": [
      "<ipython-input-18-071240b53b9e>:3: RuntimeWarning: divide by zero encountered in log10\n",
      "  data['log_sfr'][nzero] = np.log10(data['SFR'])[nzero]\n"
     ]
    }
   ],
   "source": [
    "nzero = data['SFR']>=1e-10\n",
    "data['log_sfr'] = -11.\n",
    "data['log_sfr'][nzero] = np.log10(data['SFR'])[nzero]\n",
    "data['ssfr'] = data['log_sfr']-data['mass']\n",
    "data['ssfr'][~nzero] = -12.5"
   ]
  },
  {
   "cell_type": "code",
   "execution_count": 19,
   "metadata": {
    "ExecuteTime": {
     "end_time": "2022-04-24T20:13:57.718642Z",
     "start_time": "2022-04-24T20:13:57.715489Z"
    }
   },
   "outputs": [],
   "source": [
    "star_forming = (data['ssfr']>-11.0)\n",
    "quenching    = np.logical_not(star_forming)"
   ]
  },
  {
   "cell_type": "code",
   "execution_count": 20,
   "metadata": {
    "ExecuteTime": {
     "end_time": "2022-04-24T20:13:57.723942Z",
     "start_time": "2022-04-24T20:13:57.720590Z"
    }
   },
   "outputs": [],
   "source": [
    "data['SF'] = np.array(star_forming).astype(int)"
   ]
  },
  {
   "cell_type": "code",
   "execution_count": null,
   "metadata": {
    "ExecuteTime": {
     "end_time": "2022-04-24T02:36:26.426443Z",
     "start_time": "2022-04-24T02:36:26.308580Z"
    }
   },
   "outputs": [],
   "source": []
  },
  {
   "cell_type": "code",
   "execution_count": null,
   "metadata": {},
   "outputs": [],
   "source": []
  },
  {
   "cell_type": "code",
   "execution_count": 21,
   "metadata": {
    "ExecuteTime": {
     "end_time": "2022-04-24T20:13:57.728377Z",
     "start_time": "2022-04-24T20:13:57.725527Z"
    }
   },
   "outputs": [],
   "source": [
    "from astropy.constants import G, c\n",
    "def get_los_velocity(z_gal,z_BCG,c_kms = c.value/1000):\n",
    "    return np.array(c_kms*(z_gal - z_BCG)/(1 + z_BCG))"
   ]
  },
  {
   "cell_type": "code",
   "execution_count": 22,
   "metadata": {
    "ExecuteTime": {
     "end_time": "2022-04-24T20:13:57.733428Z",
     "start_time": "2022-04-24T20:13:57.729705Z"
    }
   },
   "outputs": [],
   "source": [
    "vlos = data['vlos']\n",
    "data['vlosn'] = data['vlos']/vcirc_m[into_cls]"
   ]
  },
  {
   "cell_type": "code",
   "execution_count": null,
   "metadata": {},
   "outputs": [],
   "source": []
  },
  {
   "cell_type": "markdown",
   "metadata": {},
   "source": [
    "## Ploting Distributions"
   ]
  },
  {
   "cell_type": "markdown",
   "metadata": {
    "ExecuteTime": {
     "end_time": "2022-04-20T21:48:58.807174Z",
     "start_time": "2022-04-20T21:48:58.802884Z"
    }
   },
   "source": [
    "### Radial Distribution"
   ]
  },
  {
   "cell_type": "code",
   "execution_count": 23,
   "metadata": {
    "ExecuteTime": {
     "end_time": "2022-04-24T20:13:57.951078Z",
     "start_time": "2022-04-24T20:13:57.738291Z"
    }
   },
   "outputs": [
    {
     "data": {
      "image/png": "[encoded data removed]",
      "text/plain": [
       "<Figure size 432x288 with 1 Axes>"
      ]
     },
     "metadata": {
      "needs_background": "light"
     },
     "output_type": "display_data"
    }
   ],
   "source": [
    "_ = plt.hist(data['Rm'],bins=31)\n",
    "# _ = plt.hist(data['Rc'],bins=31)"
   ]
  },
  {
   "cell_type": "code",
   "execution_count": 24,
   "metadata": {
    "ExecuteTime": {
     "end_time": "2022-04-24T20:13:58.271102Z",
     "start_time": "2022-04-24T20:13:57.954857Z"
    }
   },
   "outputs": [
    {
     "data": {
      "image/png": "[encoded data removed]",
      "text/plain": [
       "<Figure size 432x288 with 1 Axes>"
      ]
     },
     "metadata": {
      "needs_background": "light"
     },
     "output_type": "display_data"
    }
   ],
   "source": [
    "_ = plt.hist(data['Rc'],bins=31)"
   ]
  },
  {
   "cell_type": "code",
   "execution_count": null,
   "metadata": {},
   "outputs": [],
   "source": []
  },
  {
   "cell_type": "markdown",
   "metadata": {},
   "source": [
    "### Line of Sight Velocity"
   ]
  },
  {
   "cell_type": "code",
   "execution_count": 25,
   "metadata": {
    "ExecuteTime": {
     "end_time": "2022-04-24T20:13:58.573256Z",
     "start_time": "2022-04-24T20:13:58.274906Z"
    }
   },
   "outputs": [
    {
     "data": {
      "text/plain": [
       "<matplotlib.legend.Legend at 0x7f791ada4100>"
      ]
     },
     "execution_count": 25,
     "metadata": {},
     "output_type": "execute_result"
    },
    {
     "data": {
      "image/png": "[encoded data removed]",
      "text/plain": [
       "<Figure size 432x288 with 1 Axes>"
      ]
     },
     "metadata": {
      "needs_background": "light"
     },
     "output_type": "display_data"
    }
   ],
   "source": [
    "vmask = np.abs(vlos)<=3000.\n",
    "zm = np.median(vlos[vmask])\n",
    "_ = plt.hist(vlos,bins=np.linspace(-3000.,3000.))\n",
    "plt.axvline(zm,ls='--',lw=3,color='k',label='Median: %i km/s'%zm)\n",
    "plt.legend()"
   ]
  },
  {
   "cell_type": "code",
   "execution_count": 26,
   "metadata": {
    "ExecuteTime": {
     "end_time": "2022-04-24T20:13:58.807342Z",
     "start_time": "2022-04-24T20:13:58.575631Z"
    }
   },
   "outputs": [
    {
     "data": {
      "text/plain": [
       "<matplotlib.legend.Legend at 0x7f791ae47e50>"
      ]
     },
     "execution_count": 26,
     "metadata": {},
     "output_type": "execute_result"
    },
    {
     "data": {
      "image/png": "[encoded data removed]",
      "text/plain": [
       "<Figure size 432x288 with 1 Axes>"
      ]
     },
     "metadata": {
      "needs_background": "light"
     },
     "output_type": "display_data"
    }
   ],
   "source": [
    "vm_mask = np.abs(data['vlosn'])<=3.\n",
    "zm = np.median(data['vlosn'][vmask])\n",
    "_ = plt.hist(data['vlosn'],bins=np.linspace(-3.,3.))\n",
    "plt.axvline(zm,ls='--',lw=3,color='k',label='Median: %.1f %%'%(zm*100))\n",
    "plt.legend()"
   ]
  },
  {
   "cell_type": "code",
   "execution_count": 27,
   "metadata": {
    "ExecuteTime": {
     "end_time": "2022-04-24T20:13:58.813163Z",
     "start_time": "2022-04-24T20:13:58.808891Z"
    }
   },
   "outputs": [],
   "source": [
    "## inital l.o.s velocity cut of 10.000 km/s\n",
    "velocity_mask = (np.abs(data['vlos'])<10*1e3)\n",
    "\n",
    "vlos_mask = (np.abs(data['vlosn'])<3.0)"
   ]
  },
  {
   "cell_type": "code",
   "execution_count": 28,
   "metadata": {
    "ExecuteTime": {
     "end_time": "2022-04-24T20:13:58.819822Z",
     "start_time": "2022-04-24T20:13:58.814886Z"
    }
   },
   "outputs": [
    {
     "name": "stdout",
     "output_type": "stream",
     "text": [
      "Total of good galaxies: 135268\n",
      "Galaxies within vlos/vcirc < 3: 73145\n"
     ]
    }
   ],
   "source": [
    "print(f'Total of good galaxies: {np.count_nonzero(velocity_mask)}')\n",
    "print(f'Galaxies within vlos/vcirc < 3: {np.count_nonzero(vlos_mask)}')"
   ]
  },
  {
   "cell_type": "code",
   "execution_count": null,
   "metadata": {
    "ExecuteTime": {
     "end_time": "2022-04-22T19:20:32.082166Z",
     "start_time": "2022-04-22T19:20:31.976930Z"
    }
   },
   "outputs": [],
   "source": []
  },
  {
   "cell_type": "markdown",
   "metadata": {},
   "source": [
    "## Create Masks\n",
    "\n",
    "I use a volume limited and a magnitude threshold sample."
   ]
  },
  {
   "cell_type": "code",
   "execution_count": null,
   "metadata": {},
   "outputs": [],
   "source": []
  },
  {
   "cell_type": "markdown",
   "metadata": {},
   "source": [
    "## Assign Dynamical Classification\n",
    "\n",
    "Assign probability for three dynamical classes: `interloper`, `orbital`, `infall`.\n"
   ]
  },
  {
   "cell_type": "code",
   "execution_count": 29,
   "metadata": {
    "ExecuteTime": {
     "end_time": "2022-04-24T20:14:12.898813Z",
     "start_time": "2022-04-24T20:13:58.823444Z"
    }
   },
   "outputs": [
    {
     "name": "stderr",
     "output_type": "stream",
     "text": [
      "/usr/local/anaconda/lib/python3.8/site-packages/sklearn/base.py:310: UserWarning: Trying to unpickle estimator DecisionTreeClassifier from version 0.24.2 when using version 0.24.1. This might lead to breaking code or invalid results. Use at your own risk.\n",
      "  warnings.warn(\n",
      "/usr/local/anaconda/lib/python3.8/site-packages/sklearn/base.py:310: UserWarning: Trying to unpickle estimator RandomForestClassifier from version 0.24.2 when using version 0.24.1. This might lead to breaking code or invalid results. Use at your own risk.\n",
      "  warnings.warn(\n"
     ]
    }
   ],
   "source": [
    "from sklearn.ensemble import RandomForestClassifier\n",
    "import joblib\n",
    "loaded_rf = joblib.load(\"/Users/jesteves/Downloads/phase_space/classification_2d_rf.joblib\")"
   ]
  },
  {
   "cell_type": "code",
   "execution_count": 30,
   "metadata": {
    "ExecuteTime": {
     "end_time": "2022-04-24T20:14:12.908641Z",
     "start_time": "2022-04-24T20:14:12.900580Z"
    }
   },
   "outputs": [],
   "source": [
    "rnorm_c = np.array(data['Rc'])\n",
    "rnorm_m = np.array(data['Rm'])\n",
    "\n",
    "vlosn_c = np.array(data['vlos'])\n",
    "vlosn_m = np.array(data['vlosn'])"
   ]
  },
  {
   "cell_type": "code",
   "execution_count": 31,
   "metadata": {
    "ExecuteTime": {
     "end_time": "2022-04-24T20:14:28.189861Z",
     "start_time": "2022-04-24T20:14:12.909854Z"
    }
   },
   "outputs": [],
   "source": [
    "import pandas as pd\n",
    "df2   = pd.DataFrame ({ 'r2d':rnorm_m, 'vlos':vlosn_m})\n",
    "tags2 = loaded_rf.predict(df2) \n",
    "tag_probability2 = loaded_rf.predict_proba(df2) "
   ]
  },
  {
   "cell_type": "code",
   "execution_count": null,
   "metadata": {},
   "outputs": [],
   "source": []
  },
  {
   "cell_type": "markdown",
   "metadata": {},
   "source": [
    "### Plot Distributions"
   ]
  },
  {
   "cell_type": "code",
   "execution_count": 32,
   "metadata": {
    "ExecuteTime": {
     "end_time": "2022-04-24T20:14:28.711032Z",
     "start_time": "2022-04-24T20:14:28.191559Z"
    }
   },
   "outputs": [
    {
     "data": {
      "image/png": "[encoded data removed]",
      "text/plain": [
       "<Figure size 792x288 with 2 Axes>"
      ]
     },
     "metadata": {
      "needs_background": "light"
     },
     "output_type": "display_data"
    }
   ],
   "source": [
    "fig = plt.figure(figsize=(11,4))\n",
    "plt.subplot(1, 2, 1)\n",
    "cut = (np.abs(vlosn_m)<3.)&(rnorm_c<3.)\n",
    "labels = ['orbital','infall','interlopers']\n",
    "for i in range(3):\n",
    "    plt.hist(rnorm_c[cut],bins=51,weights=tag_probability2[cut,i],histtype='step', lw=3, label=labels[i],density=False)\n",
    "\n",
    "plt.legend(fontsize=14)\n",
    "plt.xlabel(r'$R/R_{200c}$',fontsize=16)\n",
    "# plt.title('Normalized by: Vcir(M200c), R200c',fontsize=16)\n",
    "# plt.ylim(-0.025,1.5)\n",
    "\n",
    "plt.subplot(1, 2, 2)\n",
    "cut2 = (np.abs(vlosn_m)<3.)&(rnorm_m<3.)\n",
    "labels = ['orbital','infall','interlopers']\n",
    "for i in range(3):\n",
    "    plt.hist(rnorm_m[cut2],bins=51,weights=tag_probability2[cut2,i],histtype='step', lw=3, label=labels[i],density=False)\n",
    "\n",
    "plt.legend(fontsize=14)\n",
    "plt.xlabel(r'$R/R_{200m}$',fontsize=16)\n",
    "# plt.title('Normalized by: Vcir(M200m), R200m',fontsize=16)\n",
    "# plt.ylim(-0.025,1.5)\n",
    "plt.tight_layout()\n",
    "# plt.savefig('./plots/radial_distribtution_prob_weighted.png',dpi=100,facecolor='w',transparent=False)\n"
   ]
  },
  {
   "cell_type": "code",
   "execution_count": 33,
   "metadata": {
    "ExecuteTime": {
     "end_time": "2022-04-24T20:14:30.172373Z",
     "start_time": "2022-04-24T20:14:28.712533Z"
    }
   },
   "outputs": [
    {
     "data": {
      "text/plain": [
       "<matplotlib.colorbar.Colorbar at 0x7f791a221d00>"
      ]
     },
     "execution_count": 33,
     "metadata": {},
     "output_type": "execute_result"
    },
    {
     "data": {
      "image/png": "[encoded data removed]",
      "text/plain": [
       "<Figure size 576x288 with 2 Axes>"
      ]
     },
     "metadata": {
      "needs_background": "light"
     },
     "output_type": "display_data"
    }
   ],
   "source": [
    "cut = (np.abs(vlosn_m)<3.)&(rnorm_m<3.)\n",
    "plt.figure(figsize=(8,4))\n",
    "plt.scatter(rnorm_m[cut],vlosn_m[cut],c=tags2[cut],alpha=0.7,s=30,cmap='coolwarm_r')\n",
    "plt.xlabel(r'$R/R_{200m}$',fontsize=16)\n",
    "plt.ylabel(r'$v_{los}/ v_{circ} $',fontsize=16)\n",
    "plt.colorbar()\n"
   ]
  },
  {
   "cell_type": "code",
   "execution_count": 34,
   "metadata": {
    "ExecuteTime": {
     "end_time": "2022-04-24T20:14:30.178061Z",
     "start_time": "2022-04-24T20:14:30.173723Z"
    }
   },
   "outputs": [],
   "source": [
    "data['VLOS_MASK'] = np.where(vlos_mask,1,0)\n",
    "\n",
    "for i,li in enumerate(labels):\n",
    "    data[li] = tags2 == i\n",
    "    data['p_%s'%li] = tag_probability2[:,i]"
   ]
  },
  {
   "cell_type": "code",
   "execution_count": 35,
   "metadata": {
    "ExecuteTime": {
     "end_time": "2022-04-24T20:14:30.181123Z",
     "start_time": "2022-04-24T20:14:30.179273Z"
    }
   },
   "outputs": [],
   "source": [
    "# a = plt.hist(data['Rm'][cut2],weights=data['p_orbital'][cut2],histtype='step',lw=3,bins=31)\n",
    "# _ = plt.hist(data['Rm'][cut2],weights=data['p_infall'][cut2],histtype='step',lw=3,bins=a[1])\n",
    "# _ = plt.hist(data['Rm'][cut2],weights=data['p_interlopers'][cut2],histtype='step',lw=3,bins=a[1])"
   ]
  },
  {
   "cell_type": "code",
   "execution_count": null,
   "metadata": {},
   "outputs": [],
   "source": []
  },
  {
   "cell_type": "code",
   "execution_count": null,
   "metadata": {},
   "outputs": [],
   "source": []
  },
  {
   "cell_type": "markdown",
   "metadata": {},
   "source": [
    "# Save Output Samples"
   ]
  },
  {
   "cell_type": "code",
   "execution_count": 36,
   "metadata": {
    "ExecuteTime": {
     "end_time": "2022-04-24T20:14:30.186224Z",
     "start_time": "2022-04-24T20:14:30.182806Z"
    }
   },
   "outputs": [
    {
     "data": {
      "text/plain": [
       "136515"
      ]
     },
     "execution_count": 36,
     "metadata": {},
     "output_type": "execute_result"
    }
   ],
   "source": [
    "len(data)"
   ]
  },
  {
   "cell_type": "code",
   "execution_count": 37,
   "metadata": {
    "ExecuteTime": {
     "end_time": "2022-04-24T20:14:30.231769Z",
     "start_time": "2022-04-24T20:14:30.187821Z"
    }
   },
   "outputs": [
    {
     "data": {
      "text/html": [
       "<i>Table length=135268</i>\n",
       "<table id=\"table140158113620032\" class=\"table-striped table-bordered table-condensed\">\n",
       "<thead><tr><th>SubhaloID</th><th>mass</th><th>Yang</th><th>R</th><th>vlos</th><th>V200c_host</th><th>V200m_host</th><th>t_infall</th><th>Mstar_bulge</th><th>BT</th><th>SFR</th><th>Stellar_age</th><th>R200m</th><th>R200c</th><th>M200c</th><th>redshift</th><th>Rm</th><th>Rc</th><th>log_sfr</th><th>ssfr</th><th>SF</th><th>vlosn</th><th>VLOS_MASK</th><th>orbital</th><th>p_orbital</th><th>infall</th><th>p_infall</th><th>interlopers</th><th>p_interlopers</th></tr></thead>\n",
       "<thead><tr><th>int32</th><th>float32</th><th>int64</th><th>float64</th><th>float64</th><th>float64</th><th>float64</th><th>float64</th><th>float64</th><th>float64</th><th>float64</th><th>float64</th><th>float32</th><th>float32</th><th>float32</th><th>float32</th><th>float64</th><th>float64</th><th>float64</th><th>float64</th><th>int64</th><th>float64</th><th>int64</th><th>bool</th><th>float64</th><th>bool</th><th>float64</th><th>bool</th><th>float64</th></tr></thead>\n",
       "<tr><td>0</td><td>12.807409</td><td>0</td><td>0.0</td><td>97.26800537109375</td><td>1613.8382414808939</td><td>1507.887434577236</td><td>--</td><td>12.549362814638968</td><td>0.6643368435642611</td><td>0.0</td><td>10.126032957962474</td><td>3474.4258</td><td>2269.8381</td><td>15.138044</td><td>0.1</td><td>0.0</td><td>0.0</td><td>-11.0</td><td>-12.5</td><td>0</td><td>0.06454647350085066</td><td>1</td><td>True</td><td>0.77</td><td>False</td><td>0.23</td><td>False</td><td>0.0</td></tr>\n",
       "<tr><td>1</td><td>12.550011</td><td>0</td><td>6058.62045136363</td><td>-59.31558965455139</td><td>1613.8382414808939</td><td>1507.887434577236</td><td>--</td><td>12.262298893113561</td><td>0.6890437069227345</td><td>0.20968544483184814</td><td>9.445555743605391</td><td>3474.4258</td><td>2269.8381</td><td>15.138044</td><td>0.1</td><td>1.743776046119457</td><td>2.66918612326038</td><td>-0.678431714735411</td><td>-13.228442395887754</td><td>0</td><td>-0.039361474733834986</td><td>1</td><td>False</td><td>0.15</td><td>True</td><td>0.71</td><td>False</td><td>0.14</td></tr>\n",
       "<tr><td>2</td><td>11.965729</td><td>0</td><td>977.6733826689368</td><td>1648.6933739463502</td><td>1613.8382414808939</td><td>1507.887434577236</td><td>0.13692906918792058</td><td>11.763254646769985</td><td>0.8388035594202955</td><td>0.0</td><td>10.046613865860719</td><td>3474.4258</td><td>2269.8381</td><td>15.138044</td><td>0.1</td><td>0.2813913562192132</td><td>0.4307238334287162</td><td>-11.0</td><td>-12.5</td><td>0</td><td>1.0940631790120106</td><td>1</td><td>True</td><td>0.51</td><td>False</td><td>0.47</td><td>False</td><td>0.02</td></tr>\n",
       "<tr><td>3</td><td>11.53819</td><td>0</td><td>4150.0231009922745</td><td>-109.959971106864</td><td>1613.8382414808939</td><td>1507.887434577236</td><td>--</td><td>11.306994501429326</td><td>0.7547409297760412</td><td>0.0</td><td>9.81646366935296</td><td>3474.4258</td><td>2269.8381</td><td>15.138044</td><td>0.1</td><td>1.1944486261264196</td><td>1.8283343809539045</td><td>-11.0</td><td>-12.5</td><td>0</td><td>-0.07296878695235129</td><td>1</td><td>False</td><td>0.28</td><td>False</td><td>0.3</td><td>True</td><td>0.42</td></tr>\n",
       "<tr><td>4</td><td>11.546501</td><td>0</td><td>3603.6621139347526</td><td>151.26342604219357</td><td>1613.8382414808939</td><td>1507.887434577236</td><td>2.200451156828324</td><td>11.401548191180332</td><td>0.895530789047599</td><td>0.0</td><td>9.618550818848373</td><td>3474.4258</td><td>2269.8381</td><td>15.138044</td><td>0.1</td><td>1.0371964580110435</td><td>1.5876295576939248</td><td>-11.0</td><td>-12.5</td><td>0</td><td>0.10037751553998524</td><td>1</td><td>False</td><td>0.26</td><td>True</td><td>0.57</td><td>False</td><td>0.17</td></tr>\n",
       "<tr><td>5</td><td>11.926732</td><td>0</td><td>222.6713786321414</td><td>92.44753952632745</td><td>1613.8382414808939</td><td>1507.887434577236</td><td>4.298360295288629</td><td>11.750875885781408</td><td>0.7938871210381263</td><td>0.0</td><td>10.790838002650544</td><td>3474.4258</td><td>2269.8381</td><td>15.138044</td><td>0.1</td><td>0.06408868476448806</td><td>0.09810011349339393</td><td>-11.0</td><td>-12.5</td><td>0</td><td>0.06134764085568746</td><td>1</td><td>True</td><td>0.94</td><td>False</td><td>0.06</td><td>False</td><td>0.0</td></tr>\n",
       "<tr><td>6</td><td>11.491526</td><td>0</td><td>5653.197353155178</td><td>450.020737646827</td><td>1613.8382414808939</td><td>1507.887434577236</td><td>--</td><td>11.24269424126622</td><td>0.6841681363692542</td><td>0.0</td><td>9.549768351791249</td><td>3474.4258</td><td>2269.8381</td><td>15.138044</td><td>0.1</td><td>1.6270882468300467</td><td>2.4905729032255004</td><td>-11.0</td><td>-12.5</td><td>0</td><td>0.2986311018359434</td><td>1</td><td>False</td><td>0.02</td><td>True</td><td>0.67</td><td>False</td><td>0.31</td></tr>\n",
       "<tr><td>7</td><td>11.130512</td><td>0</td><td>8976.968563827506</td><td>-331.82147460681745</td><td>1613.8382414808939</td><td>1507.887434577236</td><td>--</td><td>10.90956417512482</td><td>0.7623381190403846</td><td>0.0</td><td>8.226407972734629</td><td>3474.4258</td><td>2269.8381</td><td>15.138044</td><td>0.1</td><td>2.5837272484772567</td><td>3.9548937108479914</td><td>-11.0</td><td>-12.5</td><td>0</td><td>-0.22019476945177632</td><td>1</td><td>False</td><td>0.0</td><td>True</td><td>0.9</td><td>False</td><td>0.1</td></tr>\n",
       "<tr><td>8</td><td>11.259239</td><td>0</td><td>5993.0498228327015</td><td>-250.83137520139576</td><td>1613.8382414808939</td><td>1507.887434577236</td><td>--</td><td>10.880579484536176</td><td>0.49737504493197604</td><td>0.0</td><td>8.486857065873485</td><td>3474.4258</td><td>2269.8381</td><td>15.138044</td><td>0.1</td><td>1.7249036819766437</td><td>2.640298323938205</td><td>-11.0</td><td>-12.5</td><td>0</td><td>-0.16645021814573233</td><td>1</td><td>False</td><td>0.02</td><td>True</td><td>0.94</td><td>False</td><td>0.04</td></tr>\n",
       "<tr><td>9</td><td>10.963128</td><td>0</td><td>6834.648873939429</td><td>-2037.9883475003348</td><td>1613.8382414808939</td><td>1507.887434577236</td><td>--</td><td>10.795415917018873</td><td>0.9091583604533694</td><td>0.0</td><td>9.825739884822632</td><td>3474.4258</td><td>2269.8381</td><td>15.138044</td><td>0.1</td><td>1.9671304855101885</td><td>3.011073243178703</td><td>-11.0</td><td>-12.5</td><td>0</td><td>-1.3523970226911377</td><td>1</td><td>False</td><td>0.0</td><td>False</td><td>0.06</td><td>True</td><td>0.94</td></tr>\n",
       "<tr><td>...</td><td>...</td><td>...</td><td>...</td><td>...</td><td>...</td><td>...</td><td>...</td><td>...</td><td>...</td><td>...</td><td>...</td><td>...</td><td>...</td><td>...</td><td>...</td><td>...</td><td>...</td><td>...</td><td>...</td><td>...</td><td>...</td><td>...</td><td>...</td><td>...</td><td>...</td><td>...</td><td>...</td><td>...</td></tr>\n",
       "<tr><td>2420665</td><td>9.032416</td><td>327</td><td>3820.905974480439</td><td>-6995.2367835017885</td><td>674.38581227311</td><td>615.5206754422801</td><td>--</td><td>--</td><td>--</td><td>--</td><td>--</td><td>1418.258</td><td>948.533</td><td>14.001199</td><td>0.1</td><td>2.694083743497905</td><td>4.028226634009813</td><td>-11.0</td><td>-12.5</td><td>0</td><td>-11.371865577633681</td><td>0</td><td>False</td><td>0.0</td><td>False</td><td>0.0</td><td>True</td><td>1.0</td></tr>\n",
       "<tr><td>2423673</td><td>9.525995</td><td>327</td><td>3086.31531932581</td><td>-6701.7131615563</td><td>674.38581227311</td><td>615.5206754422801</td><td>--</td><td>--</td><td>--</td><td>--</td><td>--</td><td>1418.258</td><td>948.533</td><td>14.001199</td><td>0.1</td><td>2.1761309973702883</td><td>3.2537774164807245</td><td>-11.0</td><td>-12.5</td><td>0</td><td>-10.894696430122234</td><td>0</td><td>False</td><td>0.0</td><td>False</td><td>0.0</td><td>True</td><td>1.0</td></tr>\n",
       "<tr><td>2445094</td><td>9.262842</td><td>327</td><td>1987.8188030016454</td><td>-6192.908041855624</td><td>674.38581227311</td><td>615.5206754422801</td><td>--</td><td>9.137856830279887</td><td>0.8065099335669043</td><td>0.07054702937602997</td><td>6.542482021135729</td><td>1418.258</td><td>948.533</td><td>14.001199</td><td>0.1</td><td>1.4015917580684278</td><td>2.095676967535315</td><td>-1.151521268979232</td><td>-10.414363447323959</td><td>1</td><td>-10.06755310309515</td><td>0</td><td>False</td><td>0.0</td><td>False</td><td>0.0</td><td>True</td><td>1.0</td></tr>\n",
       "<tr><td>2449860</td><td>9.31578</td><td>327</td><td>1667.9640257727299</td><td>-6034.65502059043</td><td>674.38581227311</td><td>615.5206754422801</td><td>--</td><td>9.078760549918666</td><td>0.6168055637278774</td><td>0.0</td><td>7.400096000300127</td><td>1418.258</td><td>948.533</td><td>14.001199</td><td>0.1</td><td>1.1760652569276244</td><td>1.7584670122906052</td><td>-11.0</td><td>-12.5</td><td>0</td><td>-9.810287746570463</td><td>0</td><td>False</td><td>0.0</td><td>False</td><td>0.0</td><td>True</td><td>1.0</td></tr>\n",
       "<tr><td>2452457</td><td>9.030203</td><td>327</td><td>2006.1349978751946</td><td>-2216.3511736395903</td><td>674.38581227311</td><td>615.5206754422801</td><td>--</td><td>8.865830112941222</td><td>0.7758917617988286</td><td>0.11934097111225128</td><td>6.3088868546129575</td><td>1418.258</td><td>948.533</td><td>14.001199</td><td>0.1</td><td>1.4145063294243163</td><td>2.1149869909999404</td><td>-0.9232104324968137</td><td>-9.9534132980974</td><td>1</td><td>-3.603029947306947</td><td>0</td><td>False</td><td>0.0</td><td>False</td><td>0.0</td><td>True</td><td>1.0</td></tr>\n",
       "<tr><td>2454259</td><td>9.148461</td><td>327</td><td>1939.8207573899144</td><td>1419.672261757245</td><td>674.38581227311</td><td>615.5206754422801</td><td>--</td><td>8.969671260757003</td><td>0.7165735585424058</td><td>0.19171574711799622</td><td>5.2456485202209135</td><td>1418.258</td><td>948.533</td><td>14.001199</td><td>0.1</td><td>1.3677488016424144</td><td>2.045074569307004</td><td>-0.7173422136447426</td><td>-9.865803555502653</td><td>1</td><td>2.3079021660960533</td><td>1</td><td>False</td><td>0.0</td><td>False</td><td>0.0</td><td>True</td><td>1.0</td></tr>\n",
       "<tr><td>2473726</td><td>9.028954</td><td>327</td><td>3147.8479728100456</td><td>4417.1953057193705</td><td>674.38581227311</td><td>615.5206754422801</td><td>--</td><td>--</td><td>--</td><td>--</td><td>--</td><td>1418.258</td><td>948.533</td><td>14.001199</td><td>0.1</td><td>2.2195170745345427</td><td>3.3186488043876725</td><td>-11.0</td><td>-12.5</td><td>0</td><td>7.180850741931479</td><td>0</td><td>False</td><td>0.0</td><td>False</td><td>0.0</td><td>True</td><td>1.0</td></tr>\n",
       "<tr><td>2582842</td><td>9.031724</td><td>327</td><td>3964.197913571096</td><td>-107.73576798501432</td><td>674.38581227311</td><td>615.5206754422801</td><td>--</td><td>8.946033142635027</td><td>0.8841241027183016</td><td>0.07181266695261002</td><td>6.65368101173398</td><td>1418.258</td><td>948.533</td><td>14.001199</td><td>0.1</td><td>2.7951174999569144</td><td>4.179293530012766</td><td>-1.1437989443034031</td><td>-10.175522920438658</td><td>1</td><td>-0.1751415583698661</td><td>1</td><td>False</td><td>0.0</td><td>True</td><td>0.72</td><td>False</td><td>0.28</td></tr>\n",
       "<tr><td>2669567</td><td>9.222203</td><td>327</td><td>2553.854958044508</td><td>-5983.550524136703</td><td>674.38581227311</td><td>615.5206754422801</td><td>--</td><td>--</td><td>--</td><td>--</td><td>--</td><td>1418.258</td><td>948.533</td><td>14.001199</td><td>0.1</td><td>1.8006983609835638</td><td>2.6924259927102185</td><td>-11.0</td><td>-12.5</td><td>0</td><td>-9.727209291605924</td><td>0</td><td>False</td><td>0.0</td><td>False</td><td>0.0</td><td>True</td><td>1.0</td></tr>\n",
       "<tr><td>3808702</td><td>9.420071</td><td>327</td><td>3761.9023094168333</td><td>-5898.947233832782</td><td>674.38581227311</td><td>615.5206754422801</td><td>--</td><td>9.270659632246856</td><td>0.8041442151679579</td><td>0.0</td><td>7.19737251761581</td><td>1418.258</td><td>948.533</td><td>14.001199</td><td>0.1</td><td>2.652480831540285</td><td>3.9660214563108958</td><td>-11.0</td><td>-12.5</td><td>0</td><td>-9.589673240355907</td><td>0</td><td>False</td><td>0.0</td><td>False</td><td>0.0</td><td>True</td><td>1.0</td></tr>\n",
       "</table>"
      ],
      "text/plain": [
       "<Table length=135268>\n",
       "SubhaloID    mass    Yang ... p_infall interlopers p_interlopers\n",
       "  int32    float32  int64 ... float64      bool       float64   \n",
       "--------- --------- ----- ... -------- ----------- -------------\n",
       "        0 12.807409     0 ...     0.23       False           0.0\n",
       "        1 12.550011     0 ...     0.71       False          0.14\n",
       "        2 11.965729     0 ...     0.47       False          0.02\n",
       "        3  11.53819     0 ...      0.3        True          0.42\n",
       "        4 11.546501     0 ...     0.57       False          0.17\n",
       "        5 11.926732     0 ...     0.06       False           0.0\n",
       "        6 11.491526     0 ...     0.67       False          0.31\n",
       "        7 11.130512     0 ...      0.9       False           0.1\n",
       "        8 11.259239     0 ...     0.94       False          0.04\n",
       "        9 10.963128     0 ...     0.06        True          0.94\n",
       "      ...       ...   ... ...      ...         ...           ...\n",
       "  2420665  9.032416   327 ...      0.0        True           1.0\n",
       "  2423673  9.525995   327 ...      0.0        True           1.0\n",
       "  2445094  9.262842   327 ...      0.0        True           1.0\n",
       "  2449860   9.31578   327 ...      0.0        True           1.0\n",
       "  2452457  9.030203   327 ...      0.0        True           1.0\n",
       "  2454259  9.148461   327 ...      0.0        True           1.0\n",
       "  2473726  9.028954   327 ...      0.0        True           1.0\n",
       "  2582842  9.031724   327 ...     0.72       False          0.28\n",
       "  2669567  9.222203   327 ...      0.0        True           1.0\n",
       "  3808702  9.420071   327 ...      0.0        True           1.0"
      ]
     },
     "execution_count": 37,
     "metadata": {},
     "output_type": "execute_result"
    }
   ],
   "source": [
    "data[velocity_mask]"
   ]
  },
  {
   "cell_type": "code",
   "execution_count": 39,
   "metadata": {
    "ExecuteTime": {
     "end_time": "2022-04-24T20:16:33.800286Z",
     "start_time": "2022-04-24T20:16:33.792092Z"
    }
   },
   "outputs": [],
   "source": [
    "data['VOLUME_LIM_MASK'] = np.where(data['mass']>9.,1,0)\n",
    "data['MAG_TH_MASK'] = np.where(data['mass']>10.05,1,0)"
   ]
  },
  {
   "cell_type": "code",
   "execution_count": 40,
   "metadata": {
    "ExecuteTime": {
     "end_time": "2022-04-24T20:16:39.486256Z",
     "start_time": "2022-04-24T20:16:34.594297Z"
    }
   },
   "outputs": [
    {
     "name": "stdout",
     "output_type": "stream",
     "text": [
      "Saving file: ./data/catalogs/TNG/TNG300-1_GalEvol_z0p00_pp.csv\n",
      "Number of Galaxies: 135268\n"
     ]
    }
   ],
   "source": [
    "print(f'Saving file: {fl.galaxy}')\n",
    "print(f'Number of Galaxies: {len(data[velocity_mask])}')\n",
    "data[velocity_mask].write(fl.galaxy,format='csv',overwrite=True)"
   ]
  },
  {
   "cell_type": "code",
   "execution_count": 41,
   "metadata": {
    "ExecuteTime": {
     "end_time": "2022-04-24T20:16:39.497103Z",
     "start_time": "2022-04-24T20:16:39.488949Z"
    }
   },
   "outputs": [
    {
     "name": "stdout",
     "output_type": "stream",
     "text": [
      "Saving file: ./data/catalogs/TNG/TNG300-1_GalEvol_z0p10.csv\n",
      "Number of Clusters: 250\n"
     ]
    }
   ],
   "source": [
    "print(f'Saving file: {fl.cluster}')\n",
    "print(f'Number of Clusters: {len(cat)}')\n",
    "cat.write(fl.cluster,format='csv',overwrite=True)"
   ]
  },
  {
   "cell_type": "code",
   "execution_count": null,
   "metadata": {
    "ExecuteTime": {
     "end_time": "2022-04-24T20:14:30.317324Z",
     "start_time": "2022-04-24T20:13:54.746Z"
    }
   },
   "outputs": [],
   "source": [
    "# To Do: run cluster_fraction [done]\n",
    "# To Do: run runComputeFractions"
   ]
  }
 ],
 "metadata": {
  "kernelspec": {
   "display_name": "Python 3",
   "language": "python",
   "name": "python3"
  },
  "language_info": {
   "codemirror_mode": {
    "name": "ipython",
    "version": 3
   },
   "file_extension": ".py",
   "mimetype": "text/x-python",
   "name": "python",
   "nbconvert_exporter": "python",
   "pygments_lexer": "ipython3",
   "version": "3.8.8"
  },
  "latex_envs": {
   "LaTeX_envs_menu_present": true,
   "autoclose": true,
   "autocomplete": true,
   "bibliofile": "biblio.bib",
   "cite_by": "apalike",
   "current_citInitial": 1,
   "eqLabelWithNumbers": true,
   "eqNumInitial": 1,
   "hotkeys": {
    "equation": "Ctrl-E",
    "itemize": "Ctrl-I"
   },
   "labels_anchors": false,
   "latex_user_defs": false,
   "report_style_numbering": true,
   "user_envs_cfg": false
  },
  "toc": {
   "base_numbering": 1,
   "nav_menu": {},
   "number_sections": true,
   "sideBar": true,
   "skip_h1_title": false,
   "title_cell": "Table of Contents",
   "title_sidebar": "Contents",
   "toc_cell": false,
   "toc_position": {},
   "toc_section_display": true,
   "toc_window_display": false
  }
 },
 "nbformat": 4,
 "nbformat_minor": 4
}
