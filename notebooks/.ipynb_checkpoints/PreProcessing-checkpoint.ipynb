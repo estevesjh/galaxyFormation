{
 "cells": [
  {
   "cell_type": "markdown",
   "metadata": {},
   "source": [
    "# Pre-Processing Dataset\n",
    "\n",
    "Here I generate the `gal_fname1` which cointains the columns needed to this study: `Mr, R, R/R200, v_los, v_circ, orbital, infall, interloper`.\n"
   ]
  },
  {
   "cell_type": "code",
   "execution_count": 2,
   "metadata": {},
   "outputs": [],
   "source": [
    "from file_loc import FileLocs"
   ]
  },
  {
   "cell_type": "code",
   "execution_count": 3,
   "metadata": {},
   "outputs": [],
   "source": [
    "import numpy as np\n",
    "import matplotlib.pyplot as plt\n",
    "from astropy.io.fits import getdata\n",
    "import astropy.table as Table\n",
    "import astropy.io.ascii as at"
   ]
  },
  {
   "cell_type": "code",
   "execution_count": null,
   "metadata": {},
   "outputs": [],
   "source": []
  },
  {
   "cell_type": "markdown",
   "metadata": {},
   "source": [
    "# Reading Initial Data"
   ]
  },
  {
   "cell_type": "code",
   "execution_count": 4,
   "metadata": {},
   "outputs": [],
   "source": [
    "fl = FileLocs()\n",
    "galaxy_file = fl.gal_fname0\n",
    "cluster_file= fl.cls_fname"
   ]
  },
  {
   "cell_type": "code",
   "execution_count": 5,
   "metadata": {},
   "outputs": [
    {
     "name": "stdout",
     "output_type": "stream",
     "text": [
      "--------Initial Files-------\n",
      "Cluster File : ../data/groupCatalog_Yang_deCarvalho2017.csv\n",
      "Galaxy File : ../data/groupCatalog_Yang_deCarvalho2017_galaxy.csv\n",
      "\n"
     ]
    }
   ],
   "source": [
    "print('--------Initial Files-------')\n",
    "print('Cluster File : %s'%cluster_file)\n",
    "print('Galaxy File : %s'%galaxy_file)\n",
    "print()"
   ]
  },
  {
   "cell_type": "code",
   "execution_count": 6,
   "metadata": {},
   "outputs": [],
   "source": [
    "# load catalogs\n",
    "cat = at.read(cluster_file)\n",
    "gal0= at.read(galaxy_file)"
   ]
  },
  {
   "cell_type": "code",
   "execution_count": 7,
   "metadata": {},
   "outputs": [
    {
     "data": {
      "text/html": [
       "<div><i>Table length=319</i>\n",
       "<table id=\"table140355193226576\" class=\"table-striped table-bordered table-condensed\">\n",
       "<thead><tr><th>Yang</th><th>RA</th><th>DEC</th><th>z</th><th>logM200</th><th>R200</th><th>N200</th></tr></thead>\n",
       "<thead><tr><th>int64</th><th>float64</th><th>float64</th><th>float64</th><th>float64</th><th>float64</th><th>int64</th></tr></thead>\n",
       "<tr><td>2</td><td>240.5602</td><td>16.1113</td><td>0.036</td><td>15.29</td><td>2.01</td><td>525</td></tr>\n",
       "<tr><td>4</td><td>247.1149</td><td>40.8317</td><td>0.03</td><td>14.66</td><td>1.24</td><td>217</td></tr>\n",
       "<tr><td>5</td><td>247.1633</td><td>39.4674</td><td>0.03</td><td>14.81</td><td>1.4</td><td>277</td></tr>\n",
       "<tr><td>6</td><td>167.6936</td><td>28.5374</td><td>0.033</td><td>14.6</td><td>1.18</td><td>167</td></tr>\n",
       "<tr><td>7</td><td>351.1194</td><td>14.6251</td><td>0.042</td><td>14.51</td><td>1.1</td><td>106</td></tr>\n",
       "<tr><td>8</td><td>239.5372</td><td>27.3133</td><td>0.09</td><td>15.1</td><td>1.71</td><td>183</td></tr>\n",
       "<tr><td>9</td><td>241.5673</td><td>18.1483</td><td>0.038</td><td>14.48</td><td>1.08</td><td>143</td></tr>\n",
       "<tr><td>10</td><td>223.2712</td><td>16.724</td><td>0.045</td><td>14.22</td><td>0.89</td><td>106</td></tr>\n",
       "<tr><td>11</td><td>10.4693</td><td>-9.3997</td><td>0.056</td><td>14.96</td><td>1.55</td><td>156</td></tr>\n",
       "<tr><td>12</td><td>14.206</td><td>-0.746</td><td>0.044</td><td>14.54</td><td>1.13</td><td>95</td></tr>\n",
       "<tr><td>...</td><td>...</td><td>...</td><td>...</td><td>...</td><td>...</td><td>...</td></tr>\n",
       "<tr><td>616</td><td>172.1451</td><td>26.8291</td><td>0.053</td><td>14.15</td><td>0.84</td><td>28</td></tr>\n",
       "<tr><td>621</td><td>215.2345</td><td>17.666</td><td>0.051</td><td>14.21</td><td>0.87</td><td>35</td></tr>\n",
       "<tr><td>624</td><td>129.0212</td><td>52.7156</td><td>0.044</td><td>14.16</td><td>0.85</td><td>20</td></tr>\n",
       "<tr><td>625</td><td>242.3892</td><td>53.0522</td><td>0.063</td><td>14.3</td><td>0.93</td><td>22</td></tr>\n",
       "<tr><td>628</td><td>325.7397</td><td>-6.8996</td><td>0.054</td><td>14.34</td><td>0.96</td><td>40</td></tr>\n",
       "<tr><td>630</td><td>167.5969</td><td>4.8471</td><td>0.03</td><td>13.7</td><td>0.6</td><td>21</td></tr>\n",
       "<tr><td>631</td><td>119.635</td><td>37.7935</td><td>0.041</td><td>13.89</td><td>0.69</td><td>28</td></tr>\n",
       "<tr><td>635</td><td>203.2348</td><td>60.119</td><td>0.072</td><td>14.54</td><td>1.12</td><td>30</td></tr>\n",
       "<tr><td>664</td><td>208.4432</td><td>33.1695</td><td>0.05</td><td>14.26</td><td>0.91</td><td>29</td></tr>\n",
       "<tr><td>665</td><td>205.9073</td><td>30.0654</td><td>0.04</td><td>15.0</td><td>1.61</td><td>83</td></tr>\n",
       "</table></div>"
      ],
      "text/plain": [
       "<Table length=319>\n",
       " Yang    RA      DEC      z    logM200   R200   N200\n",
       "int64 float64  float64 float64 float64 float64 int64\n",
       "----- -------- ------- ------- ------- ------- -----\n",
       "    2 240.5602 16.1113   0.036   15.29    2.01   525\n",
       "    4 247.1149 40.8317    0.03   14.66    1.24   217\n",
       "    5 247.1633 39.4674    0.03   14.81     1.4   277\n",
       "    6 167.6936 28.5374   0.033    14.6    1.18   167\n",
       "    7 351.1194 14.6251   0.042   14.51     1.1   106\n",
       "    8 239.5372 27.3133    0.09    15.1    1.71   183\n",
       "    9 241.5673 18.1483   0.038   14.48    1.08   143\n",
       "   10 223.2712  16.724   0.045   14.22    0.89   106\n",
       "   11  10.4693 -9.3997   0.056   14.96    1.55   156\n",
       "   12   14.206  -0.746   0.044   14.54    1.13    95\n",
       "  ...      ...     ...     ...     ...     ...   ...\n",
       "  616 172.1451 26.8291   0.053   14.15    0.84    28\n",
       "  621 215.2345  17.666   0.051   14.21    0.87    35\n",
       "  624 129.0212 52.7156   0.044   14.16    0.85    20\n",
       "  625 242.3892 53.0522   0.063    14.3    0.93    22\n",
       "  628 325.7397 -6.8996   0.054   14.34    0.96    40\n",
       "  630 167.5969  4.8471    0.03    13.7     0.6    21\n",
       "  631  119.635 37.7935   0.041   13.89    0.69    28\n",
       "  635 203.2348  60.119   0.072   14.54    1.12    30\n",
       "  664 208.4432 33.1695    0.05   14.26    0.91    29\n",
       "  665 205.9073 30.0654    0.04    15.0    1.61    83"
      ]
     },
     "execution_count": 7,
     "metadata": {},
     "output_type": "execute_result"
    }
   ],
   "source": [
    "cat"
   ]
  },
  {
   "cell_type": "code",
   "execution_count": 8,
   "metadata": {},
   "outputs": [
    {
     "data": {
      "text/html": [
       "<div><i>Table length=61459</i>\n",
       "<table id=\"table140351305477280\" class=\"table-striped table-bordered table-condensed\">\n",
       "<thead><tr><th>Yang</th><th>objid</th><th>specobjid</th><th>distance</th><th>ra</th><th>dec</th><th>mu</th><th>mg</th><th>mr</th><th>mi</th><th>mz</th><th>mu_Err</th><th>mg_err</th><th>mr_err</th><th>mi_err</th><th>mz_err</th><th>photo_z</th><th>photo_zErr</th><th>z</th><th>zErr</th><th>fracDeV_i</th><th>bpt</th><th>mass</th><th>mass_p16</th><th>mass_p84</th><th>sfr</th><th>sfr_p16</th><th>sfr_p84</th><th>ssfr</th><th>ssfr_p16</th><th>ssfr_p84</th><th>mass_fire</th><th>mass_fire_p16</th><th>mass_fire_p84</th><th>age_fire</th><th>age_fire_p16</th><th>age_fire_p84</th><th>score</th></tr></thead>\n",
       "<thead><tr><th>int64</th><th>int64</th><th>str20</th><th>float64</th><th>float64</th><th>float64</th><th>float64</th><th>float64</th><th>float64</th><th>float64</th><th>float64</th><th>float64</th><th>float64</th><th>float64</th><th>float64</th><th>float64</th><th>float64</th><th>float64</th><th>float64</th><th>float64</th><th>float64</th><th>str4</th><th>float64</th><th>float64</th><th>float64</th><th>float64</th><th>float64</th><th>float64</th><th>float64</th><th>float64</th><th>float64</th><th>float64</th><th>float64</th><th>float64</th><th>float64</th><th>float64</th><th>float64</th><th>float64</th></tr></thead>\n",
       "<tr><td>2</td><td>1237665530650034690</td><td>null</td><td>74.1483323128654</td><td>241.203003297151</td><td>15.0418032201749</td><td>19.64536</td><td>18.01927</td><td>17.27403</td><td>16.93712</td><td>16.73135</td><td>0.1303512</td><td>0.0149506</td><td>0.01091812</td><td>0.01284297</td><td>0.03753516</td><td>0.083337</td><td>0.033269</td><td>-99.0</td><td>-99.0</td><td>0.6659245</td><td>null</td><td>-99.0</td><td>-99.0</td><td>-99.0</td><td>-99.0</td><td>-99.0</td><td>-99.0</td><td>-99.0</td><td>-99.0</td><td>-99.0</td><td>-99.0</td><td>-99.0</td><td>-99.0</td><td>-99.0</td><td>-99.0</td><td>-99.0</td><td>0.9158974</td></tr>\n",
       "<tr><td>2</td><td>1237665530650101452</td><td>null</td><td>79.1421483780414</td><td>241.343080468772</td><td>15.0291128455272</td><td>17.71264</td><td>19.42489</td><td>18.03743</td><td>29.79065</td><td>17.2319</td><td>0.139198</td><td>0.2863158</td><td>0.1142305</td><td>0.3949105</td><td>0.3700946</td><td>-9999.0</td><td>-9999.0</td><td>-99.0</td><td>-99.0</td><td>1.0</td><td>null</td><td>-99.0</td><td>-99.0</td><td>-99.0</td><td>-99.0</td><td>-99.0</td><td>-99.0</td><td>-99.0</td><td>-99.0</td><td>-99.0</td><td>-99.0</td><td>-99.0</td><td>-99.0</td><td>-99.0</td><td>-99.0</td><td>-99.0</td><td>0.9120452</td></tr>\n",
       "<tr><td>2</td><td>1237665530650230847</td><td>null</td><td>89.1757237983494</td><td>241.572676973232</td><td>14.9898837528674</td><td>19.20037</td><td>17.23652</td><td>16.22114</td><td>15.80519</td><td>15.46211</td><td>0.04575067</td><td>0.005569477</td><td>0.003785835</td><td>0.003832662</td><td>0.00756976</td><td>0.116595</td><td>0.007638</td><td>-99.0</td><td>-99.0</td><td>1.0</td><td>null</td><td>-99.0</td><td>-99.0</td><td>-99.0</td><td>-99.0</td><td>-99.0</td><td>-99.0</td><td>-99.0</td><td>-99.0</td><td>-99.0</td><td>-99.0</td><td>-99.0</td><td>-99.0</td><td>-99.0</td><td>-99.0</td><td>-99.0</td><td>0.9118443</td></tr>\n",
       "<tr><td>2</td><td>1237665530650231112</td><td>2841934444107950080</td><td>89.6269391362405</td><td>241.57843693246</td><td>14.9847540670112</td><td>20.4757</td><td>18.52523</td><td>17.54973</td><td>17.16701</td><td>16.80302</td><td>0.0887008</td><td>0.009577838</td><td>0.006253762</td><td>0.006521441</td><td>0.01432577</td><td>0.110193</td><td>0.010211</td><td>0.1231728</td><td>2.496678e-05</td><td>0.9789842</td><td>-1</td><td>10.69053</td><td>10.59839</td><td>10.78236</td><td>-1.318207</td><td>-2.62379</td><td>-0.4930567</td><td>-12.05</td><td>-13.37045</td><td>-11.22545</td><td>41403010000.0</td><td>32091820000.0</td><td>53817920000.0</td><td>4929381000.0</td><td>3280096000.0</td><td>6228817000.0</td><td>0.9118443</td></tr>\n",
       "<tr><td>2</td><td>1237665530650231189</td><td>2841935543619577856</td><td>93.0302672496103</td><td>241.621146420941</td><td>14.9454652864579</td><td>19.19824</td><td>17.65663</td><td>16.8588</td><td>16.41705</td><td>16.06843</td><td>0.05880325</td><td>0.008172314</td><td>0.005978988</td><td>0.006268373</td><td>0.01489483</td><td>0.077475</td><td>0.024489</td><td>0.1269354</td><td>1.723609e-05</td><td>1.0</td><td>3</td><td>10.99481</td><td>10.89298</td><td>11.10171</td><td>0.6959944</td><td>0.2149101</td><td>1.181468</td><td>-10.34571</td><td>-10.85981</td><td>-9.835586</td><td>19509270000.0</td><td>18445930000.0</td><td>30142730000.0</td><td>3330074000.0</td><td>2980226000.0</td><td>5729034000.0</td><td>0.9118443</td></tr>\n",
       "<tr><td>2</td><td>1237665547827347728</td><td>2841891013398652928</td><td>66.9279962333088</td><td>240.988574304508</td><td>15.0749487080488</td><td>18.10222</td><td>16.55984</td><td>15.87389</td><td>15.51887</td><td>15.23896</td><td>0.03046442</td><td>0.00452454</td><td>0.003532456</td><td>0.003606966</td><td>0.00795144</td><td>0.046343</td><td>0.014991</td><td>0.03524532</td><td>1.029862e-05</td><td>0.5167674</td><td>1</td><td>10.31747</td><td>10.22748</td><td>10.41237</td><td>0.07491233</td><td>-0.09746825</td><td>0.2819673</td><td>-10.28968</td><td>-10.48632</td><td>-10.06143</td><td>6406905000.0</td><td>4934299000.0</td><td>7745638000.0</td><td>8277929000.0</td><td>6778579000.0</td><td>10976760000.0</td><td>0.8717796</td></tr>\n",
       "<tr><td>2</td><td>1237665547827479001</td><td>null</td><td>81.221857058865</td><td>241.293942208227</td><td>14.9568518486543</td><td>19.89593</td><td>18.05669</td><td>17.12668</td><td>16.65694</td><td>16.27435</td><td>0.1090162</td><td>0.01031303</td><td>0.006515275</td><td>0.006326848</td><td>0.01458072</td><td>0.094806</td><td>0.023445</td><td>-99.0</td><td>-99.0</td><td>0.1360283</td><td>null</td><td>-99.0</td><td>-99.0</td><td>-99.0</td><td>-99.0</td><td>-99.0</td><td>-99.0</td><td>-99.0</td><td>-99.0</td><td>-99.0</td><td>-99.0</td><td>-99.0</td><td>-99.0</td><td>-99.0</td><td>-99.0</td><td>-99.0</td><td>0.8908026</td></tr>\n",
       "<tr><td>2</td><td>1237665566081483195</td><td>2838400888110868480</td><td>90.4464881468585</td><td>240.713424596535</td><td>14.6111162264233</td><td>17.71942</td><td>16.36608</td><td>15.73907</td><td>15.40933</td><td>15.13747</td><td>0.02493478</td><td>0.004048082</td><td>0.003419265</td><td>0.003449163</td><td>0.007783792</td><td>0.04369</td><td>0.012716</td><td>0.03736607</td><td>1.491802e-05</td><td>0.1406163</td><td>2</td><td>10.13713</td><td>10.05175</td><td>10.2355</td><td>-0.1388986</td><td>-0.4566603</td><td>0.1964595</td><td>-10.32625</td><td>-10.65404</td><td>-9.982267</td><td>2199423000.0</td><td>1791245000.0</td><td>4881733000.0</td><td>3430031000.0</td><td>2580399000.0</td><td>6528688000.0</td><td>0.9467953</td></tr>\n",
       "<tr><td>2</td><td>1237665566081548631</td><td>2838401437866682368</td><td>88.2947352543135</td><td>240.840259513381</td><td>14.6647047042551</td><td>18.17223</td><td>17.28277</td><td>16.95842</td><td>16.75693</td><td>16.56413</td><td>0.02911397</td><td>0.006809405</td><td>0.006163856</td><td>0.006861015</td><td>0.01980359</td><td>0.029663</td><td>0.00699</td><td>0.03394401</td><td>6.543075e-06</td><td>0.2055249</td><td>1</td><td>9.132375</td><td>9.061535</td><td>9.235763</td><td>-0.3468749</td><td>-0.5563634</td><td>-0.05026153</td><td>-9.539729</td><td>-9.768909</td><td>-9.224825</td><td>759437600.0</td><td>478372300.0</td><td>1142708000.0</td><td>3829858000.0</td><td>2630377000.0</td><td>5828991000.0</td><td>0.9464893</td></tr>\n",
       "<tr><td>2</td><td>1237665566081548660</td><td>2841874795602143232</td><td>90.3938052012063</td><td>240.837811516697</td><td>14.6287064478069</td><td>17.86097</td><td>16.69389</td><td>16.15542</td><td>15.85376</td><td>15.613</td><td>0.02609082</td><td>0.004383252</td><td>0.003852633</td><td>0.00390262</td><td>0.008759319</td><td>0.0381</td><td>0.011709</td><td>0.03393892</td><td>1.614599e-05</td><td>0.1390262</td><td>-1</td><td>9.78013</td><td>9.696836</td><td>9.870125</td><td>-0.2374831</td><td>-0.4945844</td><td>0.0582342</td><td>-10.07336</td><td>-10.34707</td><td>-9.764594</td><td>28885860.0</td><td>28885860.0</td><td>233783900.0</td><td>31504160.0</td><td>31504160.0</td><td>731200800.0</td><td>0.9464893</td></tr>\n",
       "<tr><td>...</td><td>...</td><td>...</td><td>...</td><td>...</td><td>...</td><td>...</td><td>...</td><td>...</td><td>...</td><td>...</td><td>...</td><td>...</td><td>...</td><td>...</td><td>...</td><td>...</td><td>...</td><td>...</td><td>...</td><td>...</td><td>...</td><td>...</td><td>...</td><td>...</td><td>...</td><td>...</td><td>...</td><td>...</td><td>...</td><td>...</td><td>...</td><td>...</td><td>...</td><td>...</td><td>...</td><td>...</td><td>...</td></tr>\n",
       "<tr><td>628</td><td>1237680241435410662</td><td>1325307657912870912</td><td>26.1000409222856</td><td>325.411103282443</td><td>-6.61193018638879</td><td>20.2757</td><td>18.45249</td><td>17.51126</td><td>17.05666</td><td>16.7446</td><td>0.126915</td><td>0.01073418</td><td>0.00751105</td><td>0.007122796</td><td>0.0156992</td><td>0.119076</td><td>0.028484</td><td>0.1270544</td><td>3.78139e-05</td><td>1.0</td><td>-1</td><td>10.80782</td><td>10.70508</td><td>10.91678</td><td>-0.05571845</td><td>-0.977735</td><td>0.4401512</td><td>-10.91</td><td>-11.78163</td><td>-10.40647</td><td>11030330000.0</td><td>8600688000.0</td><td>22206700000.0</td><td>1680789000.0</td><td>1181006000.0</td><td>4979359000.0</td><td>0.8136881</td></tr>\n",
       "<tr><td>628</td><td>1237680241435476258</td><td>1325329373267519488</td><td>18.928206747775</td><td>325.593244197048</td><td>-6.61964715101384</td><td>20.03152</td><td>18.17387</td><td>17.25739</td><td>16.84234</td><td>16.54314</td><td>0.1019944</td><td>0.009091139</td><td>0.00643079</td><td>0.006261267</td><td>0.01383067</td><td>0.100868</td><td>0.018148</td><td>0.08846109</td><td>2.200156e-05</td><td>1.0</td><td>-1</td><td>10.57429</td><td>10.47816</td><td>10.66369</td><td>-1.744112</td><td>-2.992528</td><td>-0.8749617</td><td>-12.39189</td><td>-13.63644</td><td>-11.49551</td><td>25413700000.0</td><td>15672360000.0</td><td>36874100000.0</td><td>5629078000.0</td><td>2980226000.0</td><td>9177540000.0</td><td>0.8188183</td></tr>\n",
       "<tr><td>628</td><td>1237680241435476267</td><td>1325329098389612544</td><td>17.9664010749271</td><td>325.594873615116</td><td>-6.63694954291152</td><td>20.24964</td><td>18.56263</td><td>17.65075</td><td>17.27039</td><td>16.91369</td><td>0.09520888</td><td>0.01004401</td><td>0.007138493</td><td>0.007079311</td><td>0.01464082</td><td>0.107999</td><td>0.014348</td><td>0.09007201</td><td>2.459726e-05</td><td>1.0</td><td>-1</td><td>10.357</td><td>10.26296</td><td>10.44863</td><td>-1.823545</td><td>-3.087527</td><td>-0.9487106</td><td>-12.2234</td><td>-13.5</td><td>-11.3259</td><td>37320550000.0</td><td>29102740000.0</td><td>38170670000.0</td><td>10476980000.0</td><td>8327907000.0</td><td>10726870000.0</td><td>0.8188183</td></tr>\n",
       "<tr><td>628</td><td>1237680241435672662</td><td>null</td><td>28.8551560998673</td><td>326.115199622912</td><td>-6.5959237371359</td><td>24.97387</td><td>17.35211</td><td>15.61105</td><td>14.77982</td><td>23.73582</td><td>11.46312</td><td>0.01941886</td><td>0.005820036</td><td>0.00379671</td><td>6.674672</td><td>-9999.0</td><td>-9999.0</td><td>-99.0</td><td>-99.0</td><td>0.0</td><td>null</td><td>-99.0</td><td>-99.0</td><td>-99.0</td><td>-99.0</td><td>-99.0</td><td>-99.0</td><td>-99.0</td><td>-99.0</td><td>-99.0</td><td>-99.0</td><td>-99.0</td><td>-99.0</td><td>-99.0</td><td>-99.0</td><td>-99.0</td><td>0.826064</td></tr>\n",
       "<tr><td>628</td><td>1237680241435672680</td><td>null</td><td>30.0733167620092</td><td>326.123426568371</td><td>-6.57403471370833</td><td>26.62847</td><td>18.30773</td><td>17.02391</td><td>16.13629</td><td>18.27304</td><td>2.165738</td><td>0.0361625</td><td>0.01332052</td><td>0.008838127</td><td>0.1690722</td><td>0.090297</td><td>0.107385</td><td>-99.0</td><td>-99.0</td><td>0.6467088</td><td>null</td><td>-99.0</td><td>-99.0</td><td>-99.0</td><td>-99.0</td><td>-99.0</td><td>-99.0</td><td>-99.0</td><td>-99.0</td><td>-99.0</td><td>-99.0</td><td>-99.0</td><td>-99.0</td><td>-99.0</td><td>-99.0</td><td>-99.0</td><td>0.826064</td></tr>\n",
       "<tr><td>628</td><td>1237680241435672755</td><td>1326420913452771328</td><td>24.2292265566988</td><td>326.014313107248</td><td>-6.60178681163557</td><td>19.48771</td><td>18.07299</td><td>17.44779</td><td>17.10865</td><td>16.87778</td><td>0.08680784</td><td>0.01023003</td><td>0.008955786</td><td>0.009481543</td><td>0.02582375</td><td>0.08312</td><td>0.023843</td><td>0.05434167</td><td>2.004602e-05</td><td>0.03833271</td><td>2</td><td>9.780725</td><td>9.685609</td><td>9.880525</td><td>-0.5183486</td><td>-0.8848227</td><td>-0.1755928</td><td>-10.35426</td><td>-10.72937</td><td>-9.992767</td><td>287565100.0</td><td>237141200.0</td><td>1497738000.0</td><td>281395800.0</td><td>181439200.0</td><td>2630377000.0</td><td>0.826064</td></tr>\n",
       "<tr><td>628</td><td>1237680241435672996</td><td>1325353012767516672</td><td>24.7273237512941</td><td>326.062679478236</td><td>-6.64081585809522</td><td>20.69</td><td>18.99191</td><td>17.59753</td><td>17.03596</td><td>16.67424</td><td>0.2389284</td><td>0.01985536</td><td>0.009512331</td><td>0.008487734</td><td>0.02006125</td><td>0.243353</td><td>0.021398</td><td>0.2403132</td><td>4.972965e-05</td><td>1.0</td><td>-1</td><td>11.55581</td><td>11.45216</td><td>11.6652</td><td>-0.4471504</td><td>-1.74234</td><td>0.368564</td><td>-12.08493</td><td>-13.35366</td><td>-11.24949</td><td>142613700000.0</td><td>107216200000.0</td><td>179486100000.0</td><td>5629078000.0</td><td>4479576000.0</td><td>7728167000.0</td><td>0.826064</td></tr>\n",
       "<tr><td>628</td><td>1237680241435738283</td><td>1326422562720212992</td><td>28.2694167896399</td><td>326.164406286186</td><td>-6.68953837501734</td><td>16.30916</td><td>15.1513</td><td>14.74488</td><td>14.53799</td><td>14.41792</td><td>0.02007155</td><td>0.004175392</td><td>0.004533303</td><td>0.006023314</td><td>0.01104253</td><td>0.02016</td><td>0.007094</td><td>0.01030845</td><td>4.539278e-06</td><td>0.09611692</td><td>1</td><td>9.012809</td><td>8.941147</td><td>9.105929</td><td>-0.9145588</td><td>-1.223741</td><td>-0.6128713</td><td>-9.980966</td><td>-10.33678</td><td>-9.660429</td><td>48576240.0</td><td>26213190.0</td><td>88829740.0</td><td>2330508000.0</td><td>1031071000.0</td><td>4729467000.0</td><td>0.8275369</td></tr>\n",
       "<tr><td>628</td><td>1237680262911689042</td><td>null</td><td>27.6150506680438</td><td>325.770296792524</td><td>-6.44035455132859</td><td>17.8572</td><td>16.30625</td><td>15.50165</td><td>15.10024</td><td>14.81846</td><td>0.028531</td><td>0.003909415</td><td>0.003215927</td><td>0.003147611</td><td>0.006017125</td><td>0.0708</td><td>0.015004</td><td>-99.0</td><td>-99.0</td><td>1.0</td><td>null</td><td>-99.0</td><td>-99.0</td><td>-99.0</td><td>-99.0</td><td>-99.0</td><td>-99.0</td><td>-99.0</td><td>-99.0</td><td>-99.0</td><td>-99.0</td><td>-99.0</td><td>-99.0</td><td>-99.0</td><td>-99.0</td><td>-99.0</td><td>0.809435</td></tr>\n",
       "<tr><td>628</td><td>1237680262911689215</td><td>null</td><td>29.0466728075308</td><td>325.893166957121</td><td>-6.44011673961459</td><td>20.83081</td><td>18.51941</td><td>17.52312</td><td>17.04686</td><td>16.67951</td><td>0.256634</td><td>0.01258638</td><td>0.008444655</td><td>0.007933545</td><td>0.01849779</td><td>0.122759</td><td>0.023176</td><td>-99.0</td><td>-99.0</td><td>0.1076325</td><td>null</td><td>-99.0</td><td>-99.0</td><td>-99.0</td><td>-99.0</td><td>-99.0</td><td>-99.0</td><td>-99.0</td><td>-99.0</td><td>-99.0</td><td>-99.0</td><td>-99.0</td><td>-99.0</td><td>-99.0</td><td>-99.0</td><td>-99.0</td><td>0.809435</td></tr>\n",
       "</table></div>"
      ],
      "text/plain": [
       "<Table length=61459>\n",
       " Yang        objid             specobjid      ...  age_fire_p84   score  \n",
       "int64        int64               str20        ...    float64     float64 \n",
       "----- ------------------- ------------------- ... ------------- ---------\n",
       "    2 1237665530650034690                null ...         -99.0 0.9158974\n",
       "    2 1237665530650101452                null ...         -99.0 0.9120452\n",
       "    2 1237665530650230847                null ...         -99.0 0.9118443\n",
       "    2 1237665530650231112 2841934444107950080 ...  6228817000.0 0.9118443\n",
       "    2 1237665530650231189 2841935543619577856 ...  5729034000.0 0.9118443\n",
       "    2 1237665547827347728 2841891013398652928 ... 10976760000.0 0.8717796\n",
       "    2 1237665547827479001                null ...         -99.0 0.8908026\n",
       "    2 1237665566081483195 2838400888110868480 ...  6528688000.0 0.9467953\n",
       "    2 1237665566081548631 2838401437866682368 ...  5828991000.0 0.9464893\n",
       "    2 1237665566081548660 2841874795602143232 ...   731200800.0 0.9464893\n",
       "  ...                 ...                 ... ...           ...       ...\n",
       "  628 1237680241435410662 1325307657912870912 ...  4979359000.0 0.8136881\n",
       "  628 1237680241435476258 1325329373267519488 ...  9177540000.0 0.8188183\n",
       "  628 1237680241435476267 1325329098389612544 ... 10726870000.0 0.8188183\n",
       "  628 1237680241435672662                null ...         -99.0  0.826064\n",
       "  628 1237680241435672680                null ...         -99.0  0.826064\n",
       "  628 1237680241435672755 1326420913452771328 ...  2630377000.0  0.826064\n",
       "  628 1237680241435672996 1325353012767516672 ...  7728167000.0  0.826064\n",
       "  628 1237680241435738283 1326422562720212992 ...  4729467000.0 0.8275369\n",
       "  628 1237680262911689042                null ...         -99.0  0.809435\n",
       "  628 1237680262911689215                null ...         -99.0  0.809435"
      ]
     },
     "execution_count": 8,
     "metadata": {},
     "output_type": "execute_result"
    }
   ],
   "source": [
    "gal0"
   ]
  },
  {
   "cell_type": "code",
   "execution_count": null,
   "metadata": {},
   "outputs": [],
   "source": []
  },
  {
   "cell_type": "code",
   "execution_count": null,
   "metadata": {},
   "outputs": [],
   "source": []
  },
  {
   "cell_type": "markdown",
   "metadata": {},
   "source": [
    "# Mask Data"
   ]
  },
  {
   "cell_type": "code",
   "execution_count": 9,
   "metadata": {},
   "outputs": [
    {
     "name": "stdout",
     "output_type": "stream",
     "text": [
      "Masking Galaxies with no redshift or mass estimations\n",
      "New Size: 42891\n",
      "fraction: 0.70\n"
     ]
    }
   ],
   "source": [
    "mask = gal0['z']>0.\n",
    "mask&= (gal0['mass']>0)\n",
    "mask&= (gal0['sfr']>-99)\n",
    "\n",
    "Nsize = np.count_nonzero(mask)\n",
    "\n",
    "print('Masking Galaxies with no redshift or mass estimations')\n",
    "print('New Size: %i'%(Nsize))\n",
    "print('fraction: %.2f'%(1.*Nsize/len(gal0)))"
   ]
  },
  {
   "cell_type": "code",
   "execution_count": 10,
   "metadata": {},
   "outputs": [],
   "source": [
    "gal = gal0[mask].copy()"
   ]
  },
  {
   "cell_type": "code",
   "execution_count": 11,
   "metadata": {},
   "outputs": [],
   "source": [
    "def get_percentile_curve(x,y,alpha=5,Npoints=15):\n",
    "    xbins  = np.percentile(x,np.linspace(0,100,Npoints))\n",
    "    indices= [(x>=xl)&(x<xh) for xl, xh in zip(xbins[:-1],xbins[1:])]\n",
    "    ycurve = np.array([np.percentile(y[idx],alpha) for idx in indices])\n",
    "    return ycurve, 0.5*(xbins[1:]+xbins[:-1])"
   ]
  },
  {
   "cell_type": "code",
   "execution_count": 12,
   "metadata": {},
   "outputs": [],
   "source": [
    "mass        = np.array(gal['mass'])\n",
    "zgal        = np.array(gal['z'])\n",
    "zmask       = (zgal>=0.025)&(zgal<=0.105)\n",
    "ylow, zbins = get_percentile_curve(zgal[zmask],mass[zmask],Npoints=16)"
   ]
  },
  {
   "cell_type": "code",
   "execution_count": null,
   "metadata": {},
   "outputs": [],
   "source": []
  },
  {
   "cell_type": "markdown",
   "metadata": {},
   "source": [
    "## Magnitude Limit\n",
    "---------------------------------------\n",
    "\n",
    "Definit the mass limit of the study"
   ]
  },
  {
   "cell_type": "code",
   "execution_count": 13,
   "metadata": {},
   "outputs": [],
   "source": [
    "mass = 10**np.array(gal['mass'])\n",
    "z    = np.array(gal['z'])"
   ]
  },
  {
   "cell_type": "code",
   "execution_count": 14,
   "metadata": {},
   "outputs": [
    {
     "data": {
      "image/png": "[encoded data removed]",
      "text/plain": [
       "<Figure size 432x288 with 1 Axes>"
      ]
     },
     "metadata": {
      "needs_background": "light"
     },
     "output_type": "display_data"
    }
   ],
   "source": [
    "plt.scatter(z,mass,s=10,c='k')\n",
    "plt.yscale('log')"
   ]
  },
  {
   "cell_type": "code",
   "execution_count": 15,
   "metadata": {},
   "outputs": [
    {
     "name": "stdout",
     "output_type": "stream",
     "text": [
      "Log Stellar Mass Lim: 10.072\n"
     ]
    }
   ],
   "source": [
    "zlim = (z>0.09)&(z<=0.1)\n",
    "mass_lim_th = np.log10(np.percentile(mass[zlim],5))\n",
    "print('Log Stellar Mass Lim: %.3f'%mass_lim_th)"
   ]
  },
  {
   "cell_type": "code",
   "execution_count": 16,
   "metadata": {},
   "outputs": [
    {
     "data": {
      "text/plain": [
       "(70000000.0, 900000000000.0)"
      ]
     },
     "execution_count": 16,
     "metadata": {},
     "output_type": "execute_result"
    },
    {
     "data": {
      "image/png": "[encoded data removed]",
      "text/plain": [
       "<Figure size 432x288 with 1 Axes>"
      ]
     },
     "metadata": {
      "needs_background": "light"
     },
     "output_type": "display_data"
    }
   ],
   "source": [
    "zmask = (z>0.03)&(z<0.1)\n",
    "plt.scatter(z[zmask],mass[zmask],s=50,alpha=0.1,color='k')\n",
    "plt.axhline(10**mass_lim_th,ls='--',lw=3,color='r')\n",
    "plt.plot(zbins,10**ylow ,ls='--',lw=3,color='lightgray')\n",
    "plt.yscale('log')\n",
    "plt.ylim(7e7,9e11)"
   ]
  },
  {
   "cell_type": "code",
   "execution_count": 17,
   "metadata": {},
   "outputs": [],
   "source": [
    "mass_lim = np.interp(gal0['z'],zbins,ylow)\n",
    "mass_mask = gal0['mass']>=mass_lim\n",
    "gal = gal0[mask&mass_mask].copy()"
   ]
  },
  {
   "cell_type": "code",
   "execution_count": 18,
   "metadata": {},
   "outputs": [
    {
     "data": {
      "image/png": "[encoded data removed]",
      "text/plain": [
       "<Figure size 432x288 with 1 Axes>"
      ]
     },
     "metadata": {
      "needs_background": "light"
     },
     "output_type": "display_data"
    }
   ],
   "source": [
    "plt.scatter(gal0['z'],10**gal0['mass'],s=10,c='lightgray',alpha=0.3)\n",
    "plt.scatter(gal['z'],10**gal['mass'],s=10,c='k')\n",
    "plt.plot(zbins,10**ylow ,ls='--',lw=3,color='r')\n",
    "plt.xlim(0.025,0.105)\n",
    "plt.yscale('log')"
   ]
  },
  {
   "cell_type": "code",
   "execution_count": null,
   "metadata": {},
   "outputs": [],
   "source": []
  },
  {
   "cell_type": "code",
   "execution_count": null,
   "metadata": {},
   "outputs": [],
   "source": []
  },
  {
   "cell_type": "markdown",
   "metadata": {},
   "source": [
    "# Computing new variables\n",
    "---------------------------------------\n"
   ]
  },
  {
   "cell_type": "code",
   "execution_count": 19,
   "metadata": {},
   "outputs": [
    {
     "ename": "ModuleNotFoundError",
     "evalue": "No module named 'esutil'",
     "output_type": "error",
     "traceback": [
      "\u001b[0;31m---------------------------------------------------------------------------\u001b[0m",
      "\u001b[0;31mModuleNotFoundError\u001b[0m                       Traceback (most recent call last)",
      "\u001b[0;32m<ipython-input-19-701bac3e36a4>\u001b[0m in \u001b[0;36m<module>\u001b[0;34m\u001b[0m\n\u001b[0;32m----> 1\u001b[0;31m \u001b[0;32mimport\u001b[0m \u001b[0mesutil\u001b[0m\u001b[0;34m\u001b[0m\u001b[0;34m\u001b[0m\u001b[0m\n\u001b[0m\u001b[1;32m      2\u001b[0m \u001b[0mgcid\u001b[0m \u001b[0;34m=\u001b[0m \u001b[0mnp\u001b[0m\u001b[0;34m.\u001b[0m\u001b[0marray\u001b[0m\u001b[0;34m(\u001b[0m\u001b[0mgal\u001b[0m\u001b[0;34m[\u001b[0m\u001b[0;34m'Yang'\u001b[0m\u001b[0;34m]\u001b[0m\u001b[0;34m)\u001b[0m\u001b[0;34m\u001b[0m\u001b[0;34m\u001b[0m\u001b[0m\n\u001b[1;32m      3\u001b[0m \u001b[0mcid\u001b[0m  \u001b[0;34m=\u001b[0m \u001b[0mnp\u001b[0m\u001b[0;34m.\u001b[0m\u001b[0marray\u001b[0m\u001b[0;34m(\u001b[0m\u001b[0mcat\u001b[0m\u001b[0;34m[\u001b[0m\u001b[0;34m'Yang'\u001b[0m\u001b[0;34m]\u001b[0m\u001b[0;34m)\u001b[0m\u001b[0;34m\u001b[0m\u001b[0;34m\u001b[0m\u001b[0m\n\u001b[1;32m      4\u001b[0m \u001b[0;34m\u001b[0m\u001b[0m\n\u001b[1;32m      5\u001b[0m \u001b[0mkey\u001b[0m \u001b[0;34m=\u001b[0m \u001b[0mesutil\u001b[0m\u001b[0;34m.\u001b[0m\u001b[0mnumpy_util\u001b[0m\u001b[0;34m.\u001b[0m\u001b[0mmatch\u001b[0m\u001b[0;34m(\u001b[0m\u001b[0mcid\u001b[0m\u001b[0;34m,\u001b[0m\u001b[0mgcid\u001b[0m\u001b[0;34m)\u001b[0m\u001b[0;34m\u001b[0m\u001b[0;34m\u001b[0m\u001b[0m\n",
      "\u001b[0;31mModuleNotFoundError\u001b[0m: No module named 'esutil'"
     ]
    }
   ],
   "source": [
    "import esutil\n",
    "gcid = np.array(gal['Yang'])\n",
    "cid  = np.array(cat['Yang'])\n",
    "\n",
    "key = esutil.numpy_util.match(cid,gcid)"
   ]
  },
  {
   "cell_type": "code",
   "execution_count": null,
   "metadata": {},
   "outputs": [],
   "source": [
    "gal['row']      = np.where(mask&mass_mask)[0]\n",
    "gal['redshift'] = np.zeros(len(gal))\n",
    "gal['redshift'][key[1]] = cat['z'][key[0]]\n",
    "\n",
    "gal['M200']    = np.zeros(len(gal))\n",
    "gal['M200'][key[1]] = cat['logM200'][key[0]]\n",
    "\n",
    "gal['R200']    = 99.*np.ones(len(gal))\n",
    "gal['R200'][key[1]] = cat['R200'][key[0]]"
   ]
  },
  {
   "cell_type": "code",
   "execution_count": null,
   "metadata": {},
   "outputs": [],
   "source": []
  },
  {
   "cell_type": "markdown",
   "metadata": {},
   "source": [
    "## Distance From The Center\n",
    "---------------------------------------\n",
    "\n",
    "To have the phase space we need first to compute the distance from the center, $R/R_{200}$."
   ]
  },
  {
   "cell_type": "code",
   "execution_count": null,
   "metadata": {},
   "outputs": [],
   "source": [
    "from astropy.cosmology import FlatLambdaCDM\n",
    "from astropy import units as u\n",
    "from astropy.constants import G, c\n",
    "\n",
    "cosmo = FlatLambdaCDM(H0=70, Om0=0.283)\n",
    "Msol = 1.98847e33\n",
    "Mpc2cm = 3.086e+24\n",
    "rad2deg= 180/np.pi\n",
    "h=0.7\n",
    "c_kms = c.value/1000\n",
    "\n",
    "def AngularDistance(z):\n",
    "    DA = float( (cosmo.luminosity_distance(z)/(1+z)**2)/u.Mpc ) # in Mpc\n",
    "    return DA\n",
    "AngularDistance = np.vectorize(AngularDistance)\n",
    "\n",
    "#--- Critical universe density\n",
    "def rhoc(z):\n",
    "    try:\n",
    "        rho_c = float(cosmo.critical_density(z)/(u.g/u.cm**3)) # in g/cm**3\n",
    "    except:\n",
    "        rho_c = [float(cosmo.critical_density(zi)/(u.g/u.cm**3)) for zi in z]\n",
    "        rho_c = np.array(rho_c)\n",
    "    \n",
    "    rho_c = rho_c*(Mpc2cm**3)/Msol # in Msol/Mpc**3\n",
    "    return rho_c"
   ]
  },
  {
   "cell_type": "code",
   "execution_count": null,
   "metadata": {},
   "outputs": [],
   "source": [
    "#DA = AngularDistance(zcls)\n",
    "def convertDegreeToMpc(theta,z):\n",
    "    da     = AngularDistance(z)\n",
    "    length = (theta*np.pi/180)*da\n",
    "    return length\n",
    "\n",
    "def convertR200toM200(R200,z, nc=200):\n",
    "    ## M200 in solar masses\n",
    "    ## R200 in Mpc\n",
    "    rho = rhoc(z)\n",
    "    M200 = nc*4*np.pi*rho*R200**3/3\n",
    "    return M200"
   ]
  },
  {
   "cell_type": "code",
   "execution_count": null,
   "metadata": {},
   "outputs": [],
   "source": [
    "gal['R'] = convertDegreeToMpc(gal['distance']/60.,gal['redshift'])\n",
    "gal['Rn']= gal['R']/gal['R200']"
   ]
  },
  {
   "cell_type": "code",
   "execution_count": null,
   "metadata": {},
   "outputs": [],
   "source": [
    "plt.hist(gal['Rn'],bins=21)\n",
    "plt.xlabel(r'$R/R_{200}$',fontsize=16)"
   ]
  },
  {
   "cell_type": "code",
   "execution_count": null,
   "metadata": {},
   "outputs": [],
   "source": []
  },
  {
   "cell_type": "code",
   "execution_count": null,
   "metadata": {},
   "outputs": [],
   "source": []
  },
  {
   "cell_type": "markdown",
   "metadata": {},
   "source": [
    "The line of sight velocity\n",
    "---------------------------------------\n",
    "\n",
    "\n",
    "Here we compute the line of sight velocity assuming the redshift given by the Yang catalog. For the orbital classification we also need to compute the cluster circular velocity."
   ]
  },
  {
   "cell_type": "code",
   "execution_count": null,
   "metadata": {},
   "outputs": [],
   "source": [
    "def get_los_velocity(z_gal,z_BCG):\n",
    "    return c_kms*(z_gal - z_BCG)/(1 + z_BCG)"
   ]
  },
  {
   "cell_type": "code",
   "execution_count": null,
   "metadata": {},
   "outputs": [],
   "source": [
    "vlos = get_los_velocity(gal['z'],gal['redshift'])"
   ]
  },
  {
   "cell_type": "code",
   "execution_count": null,
   "metadata": {},
   "outputs": [],
   "source": [
    "vmask = np.abs(vlos)<=2500.\n",
    "zm = np.median(vlos[vmask])\n",
    "_ = plt.hist(vlos,bins=np.linspace(-3000.,3000.))\n",
    "plt.axvline(zm,ls='--',lw=3,color='k',label='Median: %i km/s'%zm)\n",
    "plt.legend()"
   ]
  },
  {
   "cell_type": "code",
   "execution_count": null,
   "metadata": {},
   "outputs": [],
   "source": []
  },
  {
   "cell_type": "code",
   "execution_count": null,
   "metadata": {},
   "outputs": [],
   "source": [
    "def vcirc(mass,redshift,mdef,cosmo):\n",
    "    '''Calculate circular velocity in km/s for halos of mass M (Msun/h)'''\n",
    "    rho_crit = cosmo.critical_density(redshift)\n",
    "    if mdef[-1] == 'c':\n",
    "        delta = int(mdef[:-1])\n",
    "        rho = delta*rho_crit\n",
    "    elif mdef[-1] == 'm':\n",
    "        delta = int(mdef[:-1])\n",
    "        rho = delta*rho_crit*cosmo.Om(redshift)\n",
    "    else:\n",
    "        raise RuntimeError(\"Not correct mass definition\")\n",
    "    v = np.sqrt(G*(np.pi*4*rho/3)**(1./3)*(mass*u.Msun/cosmo.h)**(2./3))\n",
    "    a = v.to(u.km/u.s)\n",
    "    return a.value"
   ]
  },
  {
   "cell_type": "code",
   "execution_count": null,
   "metadata": {},
   "outputs": [],
   "source": [
    "vc   = vcirc(10**gal['M200'],gal['redshift'],'200c',cosmo)"
   ]
  },
  {
   "cell_type": "code",
   "execution_count": null,
   "metadata": {},
   "outputs": [],
   "source": [
    "zm = np.median(vlos[vmask]/vc[vmask])\n",
    "\n",
    "_ = plt.hist(vlos[vmask]/vc[vmask],bins=np.linspace(-5.,5.))\n",
    "plt.axvline(zm,ls='--',lw=3,color='k',label='Median: %.3f '%zm)\n",
    "plt.legend(fontsize=12)\n",
    "plt.xlabel(r'$v_{los}/v_{circ}$',fontsize=18)"
   ]
  },
  {
   "cell_type": "code",
   "execution_count": null,
   "metadata": {},
   "outputs": [],
   "source": [
    "gal['vlos'] = vlos\n",
    "gal['vlosn']= vlos/vc"
   ]
  },
  {
   "cell_type": "code",
   "execution_count": null,
   "metadata": {},
   "outputs": [],
   "source": [
    "vlosn = vlos/vc\n",
    "rnorm = gal['Rn']\n",
    "\n",
    "cut = np.abs(vlosn)<2.1"
   ]
  },
  {
   "cell_type": "code",
   "execution_count": null,
   "metadata": {},
   "outputs": [],
   "source": []
  },
  {
   "cell_type": "code",
   "execution_count": null,
   "metadata": {},
   "outputs": [],
   "source": []
  },
  {
   "cell_type": "markdown",
   "metadata": {},
   "source": [
    "# Orbital Classification\n",
    "---------------------------------------\n",
    "\n",
    "\n",
    "Here we assign the classes, orbital, infall and interloper."
   ]
  },
  {
   "cell_type": "code",
   "execution_count": null,
   "metadata": {},
   "outputs": [],
   "source": [
    "from sklearn.ensemble import RandomForestClassifier\n",
    "import joblib\n",
    "loaded_rf = joblib.load(\"/Users/jesteves/Downloads/phase_space/classification_2d_rf.joblib\")"
   ]
  },
  {
   "cell_type": "code",
   "execution_count": null,
   "metadata": {},
   "outputs": [],
   "source": [
    "import pandas as pd\n",
    "df   = pd.DataFrame ({ 'r2d':rnorm, 'vlos':vlosn})\n",
    "tags = loaded_rf.predict(df) \n"
   ]
  },
  {
   "cell_type": "code",
   "execution_count": null,
   "metadata": {},
   "outputs": [],
   "source": [
    "tag_probability = loaded_rf.predict_proba(df) "
   ]
  },
  {
   "cell_type": "code",
   "execution_count": null,
   "metadata": {},
   "outputs": [],
   "source": [
    "tag_probability"
   ]
  },
  {
   "cell_type": "code",
   "execution_count": null,
   "metadata": {},
   "outputs": [],
   "source": [
    "def get_random_assignment(prob):\n",
    "    is_class = np.full(len(prob),0)\n",
    "    for i,pi in enumerate(prob):\n",
    "        is_class[i] = int(pi>np.random.random())\n",
    "    return is_class"
   ]
  },
  {
   "cell_type": "code",
   "execution_count": null,
   "metadata": {},
   "outputs": [],
   "source": [
    "porbital= tag_probability[:,0]\n",
    "pinfall = tag_probability[:,1]\n",
    "pinterl = tag_probability[:,2]\n",
    "\n",
    "orbital = get_random_assignment(porbital)\n",
    "infall  = get_random_assignment(pinfall)\n",
    "interl  = get_random_assignment(pinterl)"
   ]
  },
  {
   "cell_type": "code",
   "execution_count": null,
   "metadata": {},
   "outputs": [],
   "source": [
    "plt.hist(porbital[cut],histtype='step',lw=4,label='orbital')\n",
    "plt.hist(pinfall[cut],histtype='step',lw=4,label='infall')\n",
    "plt.hist(pinterl[cut],histtype='step',lw=4,label='interlopers')\n",
    "plt.legend(fontsize=14)\n",
    "plt.xlabel('Probability')"
   ]
  },
  {
   "cell_type": "code",
   "execution_count": null,
   "metadata": {},
   "outputs": [],
   "source": [
    "# np.count_nonzero(orbital)/len(orbital)\n",
    "# np.count_nonzero(infall)/len(orbital)\n",
    "np.count_nonzero(interl)/len(orbital)"
   ]
  },
  {
   "cell_type": "code",
   "execution_count": null,
   "metadata": {},
   "outputs": [],
   "source": []
  },
  {
   "cell_type": "code",
   "execution_count": null,
   "metadata": {},
   "outputs": [],
   "source": [
    "gal['infall']     = infall \n",
    "gal['orbital']    = orbital\n",
    "gal['interloper'] = interl\n",
    "\n",
    "gal['pinfall']     = pinfall \n",
    "gal['porbital']    = porbital\n",
    "gal['pinterloper'] = pinterl"
   ]
  },
  {
   "cell_type": "code",
   "execution_count": null,
   "metadata": {},
   "outputs": [],
   "source": []
  },
  {
   "cell_type": "code",
   "execution_count": null,
   "metadata": {},
   "outputs": [],
   "source": []
  },
  {
   "cell_type": "code",
   "execution_count": null,
   "metadata": {},
   "outputs": [],
   "source": [
    "import seaborn as sns\n",
    "sns.set_context('notebook')"
   ]
  },
  {
   "cell_type": "code",
   "execution_count": null,
   "metadata": {},
   "outputs": [],
   "source": [
    "# ax = sns.jointplot(x=rnorm[cut], y=vlos[cut], kind=\"scatter\", s=10, alpha=0.3, space=0)\n",
    "# ax = sns.jointplot(x=rnorm[cut], y=vlos[cut], kind=\"resid\", space=0, height=6, ratio=6, joint_kws = {'scatter_kws':dict(alpha=0.2,s=50)},ylim=(-1650,1650))\n",
    "ax = sns.jointplot(x=rnorm[cut], y=vlosn[cut], kind=\"resid\", space=0, height=6, ratio=6, joint_kws = {'scatter_kws':dict(alpha=0.2,s=50)})\n",
    "ax.set_axis_labels(r'$R/R_{200}$', r'$v_{los}/v_{cir}$ ', fontsize=16)\n",
    "ax.fig.set_figwidth(8)"
   ]
  },
  {
   "cell_type": "code",
   "execution_count": null,
   "metadata": {},
   "outputs": [],
   "source": [
    "plt.figure(figsize=(8,4))\n",
    "plt.scatter(rnorm[cut],vlosn[cut],c=tags[cut],alpha=0.7,s=30,cmap='coolwarm_r')\n",
    "plt.xlabel(r'$R/R_{200}$',fontsize=16)\n",
    "plt.ylabel(r'$v_{los}/ v_{circ} $',fontsize=16)\n",
    "plt.colorbar()"
   ]
  },
  {
   "cell_type": "code",
   "execution_count": null,
   "metadata": {},
   "outputs": [],
   "source": []
  },
  {
   "cell_type": "code",
   "execution_count": null,
   "metadata": {},
   "outputs": [],
   "source": []
  },
  {
   "cell_type": "code",
   "execution_count": null,
   "metadata": {},
   "outputs": [],
   "source": []
  },
  {
   "cell_type": "markdown",
   "metadata": {},
   "source": [
    "# Star Forming Galaxies Classification\n",
    "--------------\n",
    "\n",
    "In first approach we assume a fixed threshold on ssfr. Next step would be to model with a linear fit."
   ]
  },
  {
   "cell_type": "code",
   "execution_count": null,
   "metadata": {},
   "outputs": [],
   "source": [
    "star_forming = (gal['ssfr']<-11.25)\n",
    "quenching    = np.logical_not(star_forming)"
   ]
  },
  {
   "cell_type": "code",
   "execution_count": null,
   "metadata": {},
   "outputs": [],
   "source": []
  },
  {
   "cell_type": "code",
   "execution_count": null,
   "metadata": {},
   "outputs": [],
   "source": []
  },
  {
   "cell_type": "markdown",
   "metadata": {},
   "source": [
    "# Saving File\n",
    "---------------------------------------\n"
   ]
  },
  {
   "cell_type": "code",
   "execution_count": 20,
   "metadata": {},
   "outputs": [
    {
     "data": {
      "text/plain": [
       "'../data/groupCatalog_Yang_deCarvalho2017_galaxy_volumeLimited_v1'"
      ]
     },
     "execution_count": 20,
     "metadata": {},
     "output_type": "execute_result"
    }
   ],
   "source": [
    "galaxy_file[:-4]+'_volumeLimited_v1'"
   ]
  },
  {
   "cell_type": "code",
   "execution_count": 21,
   "metadata": {},
   "outputs": [],
   "source": [
    "fl.gal_fname1 = galaxy_file[:-4]+'_v1.csv'\n",
    "# fl.gal_fname1 = galaxy_file[:-4]+'_volumeLimited_v1'\n",
    "gal.write(fl.gal_fname1,format='csv',overwrite=True)"
   ]
  },
  {
   "cell_type": "code",
   "execution_count": null,
   "metadata": {},
   "outputs": [],
   "source": []
  },
  {
   "cell_type": "code",
   "execution_count": null,
   "metadata": {},
   "outputs": [],
   "source": []
  },
  {
   "cell_type": "code",
   "execution_count": null,
   "metadata": {},
   "outputs": [],
   "source": []
  }
 ],
 "metadata": {
  "kernelspec": {
   "display_name": "Python 3",
   "language": "python",
   "name": "python3"
  },
  "language_info": {
   "codemirror_mode": {
    "name": "ipython",
    "version": 3
   },
   "file_extension": ".py",
   "mimetype": "text/x-python",
   "name": "python",
   "nbconvert_exporter": "python",
   "pygments_lexer": "ipython3",
   "version": "3.8.8"
  }
 },
 "nbformat": 4,
 "nbformat_minor": 4
}
