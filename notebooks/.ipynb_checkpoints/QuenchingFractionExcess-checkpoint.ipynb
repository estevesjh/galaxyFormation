{
 "cells": [
  {
   "cell_type": "markdown",
   "metadata": {},
   "source": [
    "# Quenching Franction\n",
    "---------------------------------------\n",
    "\n",
    "In this notebook, we study the quenching fraction as a function of the stellar mass and the cluster centric radii."
   ]
  },
  {
   "cell_type": "code",
   "execution_count": 37,
   "metadata": {},
   "outputs": [],
   "source": [
    "from file_loc import FileLocs"
   ]
  },
  {
   "cell_type": "code",
   "execution_count": 38,
   "metadata": {},
   "outputs": [],
   "source": [
    "import numpy as np\n",
    "import matplotlib.pyplot as plt\n",
    "import astropy.io.ascii as at"
   ]
  },
  {
   "cell_type": "code",
   "execution_count": null,
   "metadata": {},
   "outputs": [],
   "source": []
  },
  {
   "cell_type": "markdown",
   "metadata": {},
   "source": [
    "# Reading Initial Data"
   ]
  },
  {
   "cell_type": "code",
   "execution_count": 53,
   "metadata": {},
   "outputs": [],
   "source": [
    "fl = FileLocs()\n",
    "galaxy_file = fl.gal_fname1\n",
    "# galaxy_file = '../data/groupCatalog_Yang_deCarvalho2017_galaxy_volumeLimited_v1'\n",
    "cluster_file= fl.cls_fname"
   ]
  },
  {
   "cell_type": "code",
   "execution_count": 54,
   "metadata": {},
   "outputs": [
    {
     "name": "stdout",
     "output_type": "stream",
     "text": [
      "--------Initial Files-------\n",
      "Cluster File : ../data/groupCatalog_Yang_deCarvalho2017.csv\n",
      "Galaxy File : ../data/groupCatalog_Yang_deCarvalho2017_galaxy_v1.csv\n",
      "\n"
     ]
    }
   ],
   "source": [
    "print('--------Initial Files-------')\n",
    "print('Cluster File : %s'%cluster_file)\n",
    "print('Galaxy File : %s'%galaxy_file)\n",
    "print()"
   ]
  },
  {
   "cell_type": "code",
   "execution_count": 55,
   "metadata": {},
   "outputs": [],
   "source": [
    "# load catalogs\n",
    "cat = at.read(cluster_file)\n",
    "gal0= at.read(galaxy_file)"
   ]
  },
  {
   "cell_type": "code",
   "execution_count": 56,
   "metadata": {},
   "outputs": [
    {
     "data": {
      "text/html": [
       "<div><i>Table length=319</i>\n",
       "<table id=\"table139781061316720\" class=\"table-striped table-bordered table-condensed\">\n",
       "<thead><tr><th>Yang</th><th>RA</th><th>DEC</th><th>z</th><th>logM200</th><th>R200</th><th>N200</th></tr></thead>\n",
       "<thead><tr><th>int64</th><th>float64</th><th>float64</th><th>float64</th><th>float64</th><th>float64</th><th>int64</th></tr></thead>\n",
       "<tr><td>2</td><td>240.5602</td><td>16.1113</td><td>0.036</td><td>15.29</td><td>2.01</td><td>525</td></tr>\n",
       "<tr><td>4</td><td>247.1149</td><td>40.8317</td><td>0.03</td><td>14.66</td><td>1.24</td><td>217</td></tr>\n",
       "<tr><td>5</td><td>247.1633</td><td>39.4674</td><td>0.03</td><td>14.81</td><td>1.4</td><td>277</td></tr>\n",
       "<tr><td>6</td><td>167.6936</td><td>28.5374</td><td>0.033</td><td>14.6</td><td>1.18</td><td>167</td></tr>\n",
       "<tr><td>7</td><td>351.1194</td><td>14.6251</td><td>0.042</td><td>14.51</td><td>1.1</td><td>106</td></tr>\n",
       "<tr><td>8</td><td>239.5372</td><td>27.3133</td><td>0.09</td><td>15.1</td><td>1.71</td><td>183</td></tr>\n",
       "<tr><td>9</td><td>241.5673</td><td>18.1483</td><td>0.038</td><td>14.48</td><td>1.08</td><td>143</td></tr>\n",
       "<tr><td>10</td><td>223.2712</td><td>16.724</td><td>0.045</td><td>14.22</td><td>0.89</td><td>106</td></tr>\n",
       "<tr><td>11</td><td>10.4693</td><td>-9.3997</td><td>0.056</td><td>14.96</td><td>1.55</td><td>156</td></tr>\n",
       "<tr><td>12</td><td>14.206</td><td>-0.746</td><td>0.044</td><td>14.54</td><td>1.13</td><td>95</td></tr>\n",
       "<tr><td>...</td><td>...</td><td>...</td><td>...</td><td>...</td><td>...</td><td>...</td></tr>\n",
       "<tr><td>616</td><td>172.1451</td><td>26.8291</td><td>0.053</td><td>14.15</td><td>0.84</td><td>28</td></tr>\n",
       "<tr><td>621</td><td>215.2345</td><td>17.666</td><td>0.051</td><td>14.21</td><td>0.87</td><td>35</td></tr>\n",
       "<tr><td>624</td><td>129.0212</td><td>52.7156</td><td>0.044</td><td>14.16</td><td>0.85</td><td>20</td></tr>\n",
       "<tr><td>625</td><td>242.3892</td><td>53.0522</td><td>0.063</td><td>14.3</td><td>0.93</td><td>22</td></tr>\n",
       "<tr><td>628</td><td>325.7397</td><td>-6.8996</td><td>0.054</td><td>14.34</td><td>0.96</td><td>40</td></tr>\n",
       "<tr><td>630</td><td>167.5969</td><td>4.8471</td><td>0.03</td><td>13.7</td><td>0.6</td><td>21</td></tr>\n",
       "<tr><td>631</td><td>119.635</td><td>37.7935</td><td>0.041</td><td>13.89</td><td>0.69</td><td>28</td></tr>\n",
       "<tr><td>635</td><td>203.2348</td><td>60.119</td><td>0.072</td><td>14.54</td><td>1.12</td><td>30</td></tr>\n",
       "<tr><td>664</td><td>208.4432</td><td>33.1695</td><td>0.05</td><td>14.26</td><td>0.91</td><td>29</td></tr>\n",
       "<tr><td>665</td><td>205.9073</td><td>30.0654</td><td>0.04</td><td>15.0</td><td>1.61</td><td>83</td></tr>\n",
       "</table></div>"
      ],
      "text/plain": [
       "<Table length=319>\n",
       " Yang    RA      DEC      z    logM200   R200   N200\n",
       "int64 float64  float64 float64 float64 float64 int64\n",
       "----- -------- ------- ------- ------- ------- -----\n",
       "    2 240.5602 16.1113   0.036   15.29    2.01   525\n",
       "    4 247.1149 40.8317    0.03   14.66    1.24   217\n",
       "    5 247.1633 39.4674    0.03   14.81     1.4   277\n",
       "    6 167.6936 28.5374   0.033    14.6    1.18   167\n",
       "    7 351.1194 14.6251   0.042   14.51     1.1   106\n",
       "    8 239.5372 27.3133    0.09    15.1    1.71   183\n",
       "    9 241.5673 18.1483   0.038   14.48    1.08   143\n",
       "   10 223.2712  16.724   0.045   14.22    0.89   106\n",
       "   11  10.4693 -9.3997   0.056   14.96    1.55   156\n",
       "   12   14.206  -0.746   0.044   14.54    1.13    95\n",
       "  ...      ...     ...     ...     ...     ...   ...\n",
       "  616 172.1451 26.8291   0.053   14.15    0.84    28\n",
       "  621 215.2345  17.666   0.051   14.21    0.87    35\n",
       "  624 129.0212 52.7156   0.044   14.16    0.85    20\n",
       "  625 242.3892 53.0522   0.063    14.3    0.93    22\n",
       "  628 325.7397 -6.8996   0.054   14.34    0.96    40\n",
       "  630 167.5969  4.8471    0.03    13.7     0.6    21\n",
       "  631  119.635 37.7935   0.041   13.89    0.69    28\n",
       "  635 203.2348  60.119   0.072   14.54    1.12    30\n",
       "  664 208.4432 33.1695    0.05   14.26    0.91    29\n",
       "  665 205.9073 30.0654    0.04    15.0    1.61    83"
      ]
     },
     "execution_count": 137,
     "metadata": {},
     "output_type": "execute_result"
    }
   ],
   "source": [
    "cat"
   ]
  },
  {
   "cell_type": "code",
   "execution_count": null,
   "metadata": {},
   "outputs": [],
   "source": []
  },
  {
   "cell_type": "code",
   "execution_count": null,
   "metadata": {},
   "outputs": [],
   "source": []
  },
  {
   "cell_type": "code",
   "execution_count": null,
   "metadata": {},
   "outputs": [],
   "source": []
  },
  {
   "cell_type": "markdown",
   "metadata": {},
   "source": [
    "# Mask Data\n",
    "---------------------"
   ]
  },
  {
   "cell_type": "code",
   "execution_count": 58,
   "metadata": {},
   "outputs": [
    {
     "name": "stdout",
     "output_type": "stream",
     "text": [
      "Masking Galaxies\n",
      "New Size: 13362\n",
      "fraction: 0.41\n"
     ]
    }
   ],
   "source": [
    "mask = np.abs(gal0['vlosn'])<2.\n",
    "mask&= gal0['ssfr']>-20\n",
    "mask&= gal0['redshift']<0.085\n",
    "\n",
    "Nsize = np.count_nonzero(mask)\n",
    "\n",
    "print('Masking Galaxies')\n",
    "print('New Size: %i'%(Nsize))\n",
    "print('fraction: %.2f'%(1.*Nsize/len(gal0)))"
   ]
  },
  {
   "cell_type": "code",
   "execution_count": 59,
   "metadata": {},
   "outputs": [],
   "source": [
    "gal = gal0[mask].copy()"
   ]
  },
  {
   "cell_type": "code",
   "execution_count": null,
   "metadata": {},
   "outputs": [],
   "source": []
  },
  {
   "cell_type": "markdown",
   "metadata": {},
   "source": [
    "## Magnitude Limit\n",
    "---------------------------------------\n",
    "\n",
    "Definit the mass limit of the study"
   ]
  },
  {
   "cell_type": "code",
   "execution_count": 60,
   "metadata": {},
   "outputs": [],
   "source": [
    "mass = 10**np.array(gal['mass'])\n",
    "z    = np.array(gal['z'])"
   ]
  },
  {
   "cell_type": "code",
   "execution_count": 61,
   "metadata": {},
   "outputs": [
    {
     "data": {
      "image/png": "[encoded data removed]",
      "text/plain": [
       "<Figure size 432x288 with 1 Axes>"
      ]
     },
     "metadata": {
      "needs_background": "light"
     },
     "output_type": "display_data"
    }
   ],
   "source": [
    "plt.scatter(z,mass,s=10,c='k')\n",
    "plt.yscale('log')"
   ]
  },
  {
   "cell_type": "code",
   "execution_count": 62,
   "metadata": {},
   "outputs": [
    {
     "data": {
      "text/html": [
       "<div><i>Table length=13362</i>\n",
       "<table id=\"table139781062032304\" class=\"table-striped table-bordered table-condensed\">\n",
       "<thead><tr><th>Yang</th><th>objid</th><th>specobjid</th><th>distance</th><th>ra</th><th>dec</th><th>mu</th><th>mg</th><th>mr</th><th>mi</th><th>mz</th><th>mu_Err</th><th>mg_err</th><th>mr_err</th><th>mi_err</th><th>mz_err</th><th>photo_z</th><th>photo_zErr</th><th>z</th><th>zErr</th><th>fracDeV_i</th><th>bpt</th><th>mass</th><th>mass_p16</th><th>mass_p84</th><th>sfr</th><th>sfr_p16</th><th>sfr_p84</th><th>ssfr</th><th>ssfr_p16</th><th>ssfr_p84</th><th>mass_fire</th><th>mass_fire_p16</th><th>mass_fire_p84</th><th>age_fire</th><th>age_fire_p16</th><th>age_fire_p84</th><th>score</th><th>row</th><th>redshift</th><th>M200</th><th>R200</th><th>R</th><th>Rn</th><th>vlos</th><th>vlosn</th><th>infall</th><th>orbital</th><th>interloper</th><th>pinfall</th><th>porbital</th><th>pinterloper</th><th>SF</th></tr></thead>\n",
       "<thead><tr><th>int64</th><th>int64</th><th>int64</th><th>float64</th><th>float64</th><th>float64</th><th>float64</th><th>float64</th><th>float64</th><th>float64</th><th>float64</th><th>float64</th><th>float64</th><th>float64</th><th>float64</th><th>float64</th><th>float64</th><th>float64</th><th>float64</th><th>float64</th><th>float64</th><th>int64</th><th>float64</th><th>float64</th><th>float64</th><th>float64</th><th>float64</th><th>float64</th><th>float64</th><th>float64</th><th>float64</th><th>float64</th><th>float64</th><th>float64</th><th>float64</th><th>float64</th><th>float64</th><th>float64</th><th>int64</th><th>float64</th><th>float64</th><th>float64</th><th>float64</th><th>float64</th><th>float64</th><th>float64</th><th>int64</th><th>int64</th><th>int64</th><th>float64</th><th>float64</th><th>float64</th><th>int64</th></tr></thead>\n",
       "<tr><td>2</td><td>1237665547827347728</td><td>2841891013398652928</td><td>66.9279962333088</td><td>240.988574304508</td><td>15.0749487080488</td><td>18.10222</td><td>16.55984</td><td>15.87389</td><td>15.51887</td><td>15.23896</td><td>0.03046442</td><td>0.00452454</td><td>0.003532456</td><td>0.003606966</td><td>0.00795144</td><td>0.046343</td><td>0.014991</td><td>0.03524532</td><td>1.029862e-05</td><td>0.5167674</td><td>1</td><td>10.31747</td><td>10.22748</td><td>10.41237</td><td>0.07491233</td><td>-0.09746825</td><td>0.2819673</td><td>-10.28968</td><td>-10.48632</td><td>-10.06143</td><td>6406905000.0</td><td>4934299000.0</td><td>7745638000.0</td><td>8277929000.0</td><td>6778579000.0</td><td>10976760000.0</td><td>0.8717796</td><td>5</td><td>0.036</td><td>15.29</td><td>2.01</td><td>2.875014705996323</td><td>1.430355575122549</td><td>-218.38549440486503</td><td>-0.10693324963996216</td><td>1</td><td>0</td><td>0</td><td>0.78</td><td>0.14</td><td>0.08</td><td>1</td></tr>\n",
       "<tr><td>2</td><td>1237665566081483195</td><td>2838400888110868480</td><td>90.4464881468585</td><td>240.713424596535</td><td>14.6111162264233</td><td>17.71942</td><td>16.36608</td><td>15.73907</td><td>15.40933</td><td>15.13747</td><td>0.02493478</td><td>0.004048082</td><td>0.003419265</td><td>0.003449163</td><td>0.007783792</td><td>0.04369</td><td>0.012716</td><td>0.03736607</td><td>1.491802e-05</td><td>0.1406163</td><td>2</td><td>10.13713</td><td>10.05175</td><td>10.2355</td><td>-0.1388986</td><td>-0.4566603</td><td>0.1964595</td><td>-10.32625</td><td>-10.65404</td><td>-9.982267</td><td>2199423000.0</td><td>1791245000.0</td><td>4881733000.0</td><td>3430031000.0</td><td>2580399000.0</td><td>6528688000.0</td><td>0.9467953</td><td>7</td><td>0.036</td><td>15.29</td><td>2.01</td><td>3.885294617538927</td><td>1.9329823967855362</td><td>395.30645086878485</td><td>0.19356323784340831</td><td>1</td><td>0</td><td>0</td><td>0.87</td><td>0.0</td><td>0.13</td><td>1</td></tr>\n",
       "<tr><td>2</td><td>1237665566081548691</td><td>2841874520724236288</td><td>91.5153203175785</td><td>240.861818228176</td><td>14.614028977464</td><td>18.32219</td><td>16.69393</td><td>15.93943</td><td>15.57824</td><td>15.30447</td><td>0.03610525</td><td>0.004809855</td><td>0.003709603</td><td>0.003675827</td><td>0.008213216</td><td>0.055527</td><td>0.017263</td><td>0.03548127</td><td>1.437615e-05</td><td>0.9202008</td><td>-1</td><td>10.11277</td><td>10.01669</td><td>10.20364</td><td>-1.265493</td><td>-2.603339</td><td>-0.6487934</td><td>-11.42083</td><td>-12.74024</td><td>-10.81532</td><td>7989685000.0</td><td>6855567000.0</td><td>8556743000.0</td><td>9227518000.0</td><td>7678189000.0</td><td>9877236000.0</td><td>0.9464893</td><td>10</td><td>0.036</td><td>15.29</td><td>2.01</td><td>3.9312082617835555</td><td>1.9558250058624655</td><td>-150.10747272040396</td><td>-0.07350066860886335</td><td>1</td><td>0</td><td>0</td><td>0.89</td><td>0.0</td><td>0.11</td><td>0</td></tr>\n",
       "<tr><td>2</td><td>1237665566618419260</td><td>2841891563154466816</td><td>73.802168608806</td><td>240.970254216315</td><td>14.9464390274363</td><td>16.8343</td><td>15.07076</td><td>14.2641</td><td>13.86823</td><td>13.54384</td><td>0.01724369</td><td>0.002493925</td><td>0.002136988</td><td>0.002104899</td><td>0.003694906</td><td>0.033084</td><td>0.008575</td><td>0.03612468</td><td>9.095759e-06</td><td>0.9763039</td><td>5</td><td>10.87844</td><td>10.78511</td><td>10.96169</td><td>-1.250776</td><td>-2.561647</td><td>-0.4356033</td><td>-12.16615</td><td>-13.53977</td><td>-11.3569</td><td>17329540000.0</td><td>12568260000.0</td><td>19606680000.0</td><td>6028904000.0</td><td>3829858000.0</td><td>6978492000.0</td><td>0.9748663</td><td>23</td><td>0.036</td><td>15.29</td><td>2.01</td><td>3.1703073754827025</td><td>1.5772673509864192</td><td>36.07926994540599</td><td>0.01766634542469747</td><td>0</td><td>0</td><td>0</td><td>0.34</td><td>0.16</td><td>0.5</td><td>0</td></tr>\n",
       "<tr><td>2</td><td>1237665566618419261</td><td>2841892387788187648</td><td>73.4541252319625</td><td>240.982855895897</td><td>14.9567734176736</td><td>17.29997</td><td>15.54685</td><td>14.74552</td><td>14.35258</td><td>14.04665</td><td>0.02065212</td><td>0.002853161</td><td>0.00238886</td><td>0.002334053</td><td>0.004386121</td><td>0.039419</td><td>0.009374</td><td>0.03630388</td><td>9.35446e-06</td><td>1.0</td><td>4</td><td>10.67776</td><td>10.58743</td><td>10.76346</td><td>-1.203882</td><td>-2.509871</td><td>-0.4318488</td><td>-11.9303</td><td>-13.22641</td><td>-11.15545</td><td>20977170000.0</td><td>15207770000.0</td><td>25629920000.0</td><td>8427864000.0</td><td>6978492000.0</td><td>8827691000.0</td><td>0.9748663</td><td>24</td><td>0.036</td><td>15.29</td><td>2.01</td><td>3.1553565345332504</td><td>1.5698291216583338</td><td>87.93526268054036</td><td>0.04305782040148356</td><td>1</td><td>0</td><td>0</td><td>0.64</td><td>0.06</td><td>0.3</td><td>0</td></tr>\n",
       "<tr><td>2</td><td>1237665566618550527</td><td>2841899534613768192</td><td>87.3546363536509</td><td>241.223847619414</td><td>14.803419614292</td><td>18.29976</td><td>16.60295</td><td>15.79724</td><td>15.3936</td><td>15.09329</td><td>0.02620018</td><td>0.003921415</td><td>0.003258592</td><td>0.003170606</td><td>0.005958439</td><td>0.064037</td><td>0.015799</td><td>0.03500361</td><td>1.082556e-05</td><td>0.8581389</td><td>5</td><td>10.24801</td><td>10.15685</td><td>10.33702</td><td>-1.380493</td><td>-2.728722</td><td>-0.681649</td><td>-11.69677</td><td>-13.01786</td><td>-10.96518</td><td>16318930000.0</td><td>13905560000.0</td><td>16989310000.0</td><td>9977192000.0</td><td>8227951000.0</td><td>10327040000.0</td><td>0.9709203</td><td>42</td><td>0.036</td><td>15.29</td><td>2.01</td><td>3.7524784587636706</td><td>1.8669047058525727</td><td>-288.3303158558107</td><td>-0.1411819852238853</td><td>1</td><td>0</td><td>1</td><td>0.5</td><td>0.01</td><td>0.49</td><td>0</td></tr>\n",
       "<tr><td>2</td><td>1237668336860594377</td><td>2838403362012030976</td><td>74.3899888368338</td><td>240.806315566989</td><td>14.8943600995066</td><td>17.68099</td><td>15.8667</td><td>15.06276</td><td>14.67966</td><td>14.37093</td><td>0.02290071</td><td>0.003185079</td><td>0.002693509</td><td>0.002640155</td><td>0.005067667</td><td>0.039848</td><td>0.010359</td><td>0.03626464</td><td>1.039957e-05</td><td>0.9888417</td><td>-1</td><td>10.56483</td><td>10.4736</td><td>10.6496</td><td>-1.575504</td><td>-2.842238</td><td>-0.7290472</td><td>-12.18873</td><td>-13.46957</td><td>-11.33581</td><td>13894380000.0</td><td>12763470000.0</td><td>17098600000.0</td><td>4579532000.0</td><td>3879836000.0</td><td>6178839000.0</td><td>0.8862505</td><td>65</td><td>0.036</td><td>15.29</td><td>2.01</td><td>3.195558270402233</td><td>1.589829985274743</td><td>76.58018927135235</td><td>0.03749776751036192</td><td>1</td><td>0</td><td>0</td><td>0.52</td><td>0.19</td><td>0.29</td><td>0</td></tr>\n",
       "<tr><td>2</td><td>1237668336860594527</td><td>2838412432982960128</td><td>76.6105004793258</td><td>240.686528999934</td><td>14.8402756357897</td><td>17.61696</td><td>15.88441</td><td>15.11593</td><td>14.74574</td><td>14.44455</td><td>0.01868213</td><td>0.003042299</td><td>0.00266585</td><td>0.002652036</td><td>0.004830599</td><td>0.035979</td><td>0.010801</td><td>0.03486719</td><td>9.516038e-06</td><td>1.0</td><td>5</td><td>10.42874</td><td>10.32683</td><td>10.5278</td><td>-1.655898</td><td>-2.953737</td><td>-0.7586868</td><td>-12.14643</td><td>-13.46625</td><td>-11.22849</td><td>23509500000.0</td><td>18271320000.0</td><td>24382530000.0</td><td>7578232000.0</td><td>5579099000.0</td><td>8327907000.0</td><td>0.8862505</td><td>66</td><td>0.036</td><td>15.29</td><td>2.01</td><td>3.2909444165038746</td><td>1.6372857793551616</td><td>-327.80684782526964</td><td>-0.16051181232395878</td><td>1</td><td>0</td><td>0</td><td>0.61</td><td>0.04</td><td>0.35</td><td>0</td></tr>\n",
       "<tr><td>2</td><td>1237668336860659822</td><td>2841872871456794624</td><td>78.4364777986633</td><td>240.915746246106</td><td>14.8497279439144</td><td>17.41665</td><td>15.46608</td><td>14.64986</td><td>14.25166</td><td>13.92265</td><td>0.02102039</td><td>0.002775056</td><td>0.00238269</td><td>0.002348535</td><td>0.004182821</td><td>0.040584</td><td>0.007946</td><td>0.0367478</td><td>9.848209e-06</td><td>1.0</td><td>-1</td><td>10.76557</td><td>10.67269</td><td>10.85233</td><td>-1.402363</td><td>-2.706388</td><td>-0.5740114</td><td>-12.225</td><td>-13.57</td><td>-11.39157</td><td>21343920000.0</td><td>17264560000.0</td><td>24913350000.0</td><td>5629078000.0</td><td>4229684000.0</td><td>6978492000.0</td><td>0.8956296</td><td>69</td><td>0.036</td><td>15.29</td><td>2.01</td><td>3.3693826178749546</td><td>1.6763097601367936</td><td>216.3945946837837</td><td>0.10595839836853184</td><td>1</td><td>0</td><td>0</td><td>0.7</td><td>0.14</td><td>0.16</td><td>0</td></tr>\n",
       "<tr><td>2</td><td>1237668336860659824</td><td>2838404461523658752</td><td>78.3739260022642</td><td>240.91544732138</td><td>14.8507297796721</td><td>18.95334</td><td>16.98705</td><td>16.22869</td><td>15.84588</td><td>15.64769</td><td>0.0526952</td><td>0.005322484</td><td>0.004326959</td><td>0.004237849</td><td>0.0107566</td><td>0.070505</td><td>0.023566</td><td>0.03623921</td><td>1.157398e-05</td><td>1.0</td><td>-1</td><td>10.23347</td><td>10.12607</td><td>10.3277</td><td>-1.697759</td><td>-3.13326</td><td>-0.5646272</td><td>-11.97616</td><td>-13.41569</td><td>-10.83866</td><td>23183800000.0</td><td>19245500000.0</td><td>26986300000.0</td><td>11176670000.0</td><td>8927648000.0</td><td>13175810000.0</td><td>0.8956296</td><td>70</td><td>0.036</td><td>15.29</td><td>2.01</td><td>3.366695590851061</td><td>1.6749729307716723</td><td>69.22138405229832</td><td>0.03389450183703782</td><td>0</td><td>0</td><td>0</td><td>0.56</td><td>0.01</td><td>0.43</td><td>0</td></tr>\n",
       "<tr><td>...</td><td>...</td><td>...</td><td>...</td><td>...</td><td>...</td><td>...</td><td>...</td><td>...</td><td>...</td><td>...</td><td>...</td><td>...</td><td>...</td><td>...</td><td>...</td><td>...</td><td>...</td><td>...</td><td>...</td><td>...</td><td>...</td><td>...</td><td>...</td><td>...</td><td>...</td><td>...</td><td>...</td><td>...</td><td>...</td><td>...</td><td>...</td><td>...</td><td>...</td><td>...</td><td>...</td><td>...</td><td>...</td><td>...</td><td>...</td><td>...</td><td>...</td><td>...</td><td>...</td><td>...</td><td>...</td><td>...</td><td>...</td><td>...</td><td>...</td><td>...</td><td>...</td><td>...</td></tr>\n",
       "<tr><td>621</td><td>1237668298216636590</td><td>3107582499652397056</td><td>6.9607622989716</td><td>215.169026368427</td><td>17.5681986784964</td><td>18.49557</td><td>17.05803</td><td>16.42144</td><td>16.04918</td><td>15.7952</td><td>0.04098382</td><td>0.005178709</td><td>0.004701658</td><td>0.004600715</td><td>0.01088408</td><td>0.067328</td><td>0.01833</td><td>0.05478559</td><td>6.882271e-06</td><td>0.1672652</td><td>1</td><td>10.26114</td><td>10.17022</td><td>10.35478</td><td>0.4261785</td><td>0.3011037</td><td>0.5579891</td><td>-9.889137</td><td>-10.0468</td><td>-9.722689</td><td>9328382000.0</td><td>6572956000.0</td><td>10017240000.0</td><td>7028471000.0</td><td>5329207000.0</td><td>7828124000.0</td><td>0.8698893</td><td>61400</td><td>0.051</td><td>14.21</td><td>0.87</td><td>0.416189020954537</td><td>0.47837818500521495</td><td>1079.8204862799444</td><td>1.2085763532934188</td><td>1</td><td>0</td><td>1</td><td>0.34</td><td>0.32</td><td>0.34</td><td>1</td></tr>\n",
       "<tr><td>621</td><td>1237668298216636614</td><td>3106498381657171968</td><td>1.43403642364829</td><td>215.209424627719</td><td>17.6652923055142</td><td>17.62883</td><td>15.65734</td><td>14.82954</td><td>14.41707</td><td>14.15119</td><td>0.02159958</td><td>0.002923379</td><td>0.002494493</td><td>0.002414163</td><td>0.004393926</td><td>0.050494</td><td>0.012188</td><td>0.05013949</td><td>1.007569e-05</td><td>1.0</td><td>-1</td><td>10.9568</td><td>10.86498</td><td>11.04995</td><td>-0.9505309</td><td>-2.276643</td><td>-0.1353051</td><td>-11.95976</td><td>-13.33804</td><td>-11.12545</td><td>81540920000.0</td><td>72408100000.0</td><td>85599940000.0</td><td>10776850000.0</td><td>9977192000.0</td><td>11576500000.0</td><td>0.8698893</td><td>61402</td><td>0.051</td><td>14.21</td><td>0.87</td><td>0.08574207673482899</td><td>0.09855411118945862</td><td>-245.45614465611655</td><td>-0.27472389713955087</td><td>0</td><td>1</td><td>0</td><td>0.08</td><td>0.92</td><td>0.0</td><td>0</td></tr>\n",
       "<tr><td>621</td><td>1237668298216636617</td><td>3107579475995420672</td><td>1.63527980657864</td><td>215.205893548867</td><td>17.6660459431915</td><td>20.54742</td><td>18.73914</td><td>17.95712</td><td>17.56429</td><td>17.35259</td><td>0.1135819</td><td>0.01159906</td><td>0.008973166</td><td>0.008454501</td><td>0.02382173</td><td>0.107686</td><td>0.037141</td><td>0.05101005</td><td>2.23434e-05</td><td>0.9120319</td><td>2</td><td>10.28983</td><td>10.17311</td><td>10.41549</td><td>-2.094117</td><td>-3.260561</td><td>-1.107893</td><td>-12.44074</td><td>-13.62308</td><td>-11.47836</td><td>7653347000.0</td><td>4912977000.0</td><td>8475459000.0</td><td>6578666000.0</td><td>4229684000.0</td><td>8078016000.0</td><td>0.8698893</td><td>61405</td><td>0.051</td><td>14.21</td><td>0.87</td><td>0.09777456440183861</td><td>0.11238455678372254</td><td>2.8667118961953846</td><td>0.0032085335048444978</td><td>0</td><td>1</td><td>0</td><td>0.16</td><td>0.84</td><td>0.0</td><td>0</td></tr>\n",
       "<tr><td>621</td><td>1237668298216702023</td><td>3106399425610672128</td><td>10.0117609680548</td><td>215.37867457992</td><td>17.5713408068988</td><td>17.4912</td><td>16.41353</td><td>15.96622</td><td>15.62598</td><td>15.44355</td><td>0.01714389</td><td>0.003772689</td><td>0.003579947</td><td>0.003522981</td><td>0.008292334</td><td>0.064315</td><td>0.010871</td><td>0.05091757</td><td>5.631839e-06</td><td>1.0</td><td>1</td><td>10.18502</td><td>10.09371</td><td>10.30859</td><td>0.5047207</td><td>0.4027355</td><td>0.6676693</td><td>-9.727487</td><td>-9.890167</td><td>-9.533399</td><td>16831770000.0</td><td>16831770000.0</td><td>19831830000.0</td><td>7778146000.0</td><td>7778146000.0</td><td>9527387000.0</td><td>0.8706849</td><td>61408</td><td>0.051</td><td>14.21</td><td>0.87</td><td>0.5986104418392776</td><td>0.6880579791256064</td><td>-23.51274244808595</td><td>-0.026316359881014495</td><td>1</td><td>1</td><td>0</td><td>0.46</td><td>0.47</td><td>0.07</td><td>1</td></tr>\n",
       "<tr><td>621</td><td>1237668298216702087</td><td>3106500305802520576</td><td>4.89665670677112</td><td>215.310646309853</td><td>17.6286564797644</td><td>19.20919</td><td>17.56032</td><td>16.7757</td><td>16.32877</td><td>15.96512</td><td>0.07268376</td><td>0.007921283</td><td>0.006811119</td><td>0.006147853</td><td>0.01570576</td><td>0.060375</td><td>0.01907</td><td>0.04556938</td><td>1.892671e-05</td><td>0.1685852</td><td>3</td><td>10.23613</td><td>10.13663</td><td>10.33781</td><td>-0.1554869</td><td>-0.5459726</td><td>0.2770695</td><td>-10.45345</td><td>-10.85935</td><td>-10.00909</td><td>3396311000.0</td><td>2695646000.0</td><td>4564086000.0</td><td>6528688000.0</td><td>5379186000.0</td><td>8877669000.0</td><td>0.8706849</td><td>61409</td><td>0.051</td><td>14.21</td><td>0.87</td><td>0.2927746521444396</td><td>0.33652258867176965</td><td>-1549.057010717373</td><td>-1.7337638031911258</td><td>1</td><td>0</td><td>0</td><td>0.56</td><td>0.08</td><td>0.36</td><td>1</td></tr>\n",
       "<tr><td>621</td><td>1237668298216767697</td><td>3107599542082627584</td><td>20.293811836276</td><td>215.577043058323</td><td>17.5775943818528</td><td>18.55635</td><td>16.97397</td><td>16.33986</td><td>15.99438</td><td>15.7772</td><td>0.04753697</td><td>0.005572607</td><td>0.004900309</td><td>0.004841333</td><td>0.01454176</td><td>0.059689</td><td>0.018143</td><td>0.05142362</td><td>1.178462e-05</td><td>0.4160443</td><td>3</td><td>10.15062</td><td>10.04313</td><td>10.25346</td><td>-0.5201356</td><td>-1.474813</td><td>-0.01973463</td><td>-10.74545</td><td>-11.73667</td><td>-10.21111</td><td>6762993000.0</td><td>4581650000.0</td><td>10721720000.0</td><td>8727734000.0</td><td>5878969000.0</td><td>12476110000.0</td><td>0.8681144</td><td>61418</td><td>0.051</td><td>14.21</td><td>0.87</td><td>1.213381712635575</td><td>1.3946916237190519</td><td>120.83547198664314</td><td>0.13524367794245157</td><td>1</td><td>0</td><td>0</td><td>0.71</td><td>0.12</td><td>0.17</td><td>1</td></tr>\n",
       "<tr><td>621</td><td>1237668298753572907</td><td>3107576452338444288</td><td>22.1666168614101</td><td>215.456424505708</td><td>17.9690651727562</td><td>17.24194</td><td>16.08201</td><td>15.57432</td><td>15.2307</td><td>15.0189</td><td>0.01703654</td><td>0.003766949</td><td>0.003361435</td><td>0.00349597</td><td>0.007265212</td><td>0.060385</td><td>0.010646</td><td>0.05325575</td><td>8.132241e-06</td><td>0.8374835</td><td>1</td><td>10.4383</td><td>10.34337</td><td>10.5423</td><td>0.5448982</td><td>0.399424</td><td>0.7711905</td><td>-9.941667</td><td>-10.12143</td><td>-9.704357</td><td>8100321000.0</td><td>6466775000.0</td><td>11600780000.0</td><td>4079749000.0</td><td>2930247000.0</td><td>6078882000.0</td><td>0.8414291</td><td>61436</td><td>0.051</td><td>14.21</td><td>0.87</td><td>1.325358081942778</td><td>1.523400094187101</td><td>643.441329337298</td><td>0.7201641247313171</td><td>0</td><td>0</td><td>1</td><td>0.28</td><td>0.01</td><td>0.71</td><td>1</td></tr>\n",
       "<tr><td>621</td><td>1237668298753572924</td><td>3106496457511823360</td><td>24.4061282776366</td><td>215.371621774774</td><td>18.0512614829322</td><td>17.74818</td><td>16.15213</td><td>15.36325</td><td>14.94471</td><td>14.62876</td><td>0.02593488</td><td>0.004075284</td><td>0.003234253</td><td>0.00324652</td><td>0.006144763</td><td>0.062067</td><td>0.015144</td><td>0.05288839</td><td>1.16196e-05</td><td>0.7421744</td><td>4</td><td>10.80266</td><td>10.71056</td><td>10.89803</td><td>0.07934813</td><td>-0.3861111</td><td>0.4791367</td><td>-10.78347</td><td>-11.25241</td><td>-10.3769</td><td>17442020000.0</td><td>15406860000.0</td><td>21919380000.0</td><td>6978492000.0</td><td>5978926000.0</td><td>9077583000.0</td><td>0.8414291</td><td>61437</td><td>0.051</td><td>14.21</td><td>0.87</td><td>1.4592600920535845</td><td>1.6773104506363041</td><td>538.6537390700487</td><td>0.6028818492746866</td><td>1</td><td>0</td><td>0</td><td>0.6</td><td>0.05</td><td>0.35</td><td>1</td></tr>\n",
       "<tr><td>621</td><td>1237668298753572940</td><td>3106497831901358080</td><td>19.6147533227197</td><td>215.378295753308</td><td>17.9628659986721</td><td>18.78016</td><td>16.8751</td><td>16.05713</td><td>15.70129</td><td>15.3961</td><td>0.04422491</td><td>0.005117588</td><td>0.003893003</td><td>0.004043145</td><td>0.007992497</td><td>0.061098</td><td>0.013664</td><td>0.05317262</td><td>1.342059e-05</td><td>1.0</td><td>-1</td><td>10.50666</td><td>10.40923</td><td>10.60186</td><td>-1.859243</td><td>-3.060562</td><td>-0.8646889</td><td>-12.37289</td><td>-13.57245</td><td>-11.39058</td><td>19485360000.0</td><td>15164040000.0</td><td>25497620000.0</td><td>7428298000.0</td><td>5329207000.0</td><td>8577799000.0</td><td>0.8414291</td><td>61438</td><td>0.051</td><td>14.21</td><td>0.87</td><td>1.1727803121295424</td><td>1.348023347275336</td><td>619.7289154138535</td><td>0.6936242849046897</td><td>0</td><td>0</td><td>0</td><td>0.43</td><td>0.16</td><td>0.41</td><td>0</td></tr>\n",
       "<tr><td>621</td><td>1237668298753638552</td><td>3106508277261821952</td><td>21.3949043307702</td><td>215.564621941308</td><td>17.8342187260298</td><td>18.70143</td><td>16.81321</td><td>15.91124</td><td>15.49212</td><td>15.1369</td><td>0.03325303</td><td>0.004470765</td><td>0.003397115</td><td>0.003410189</td><td>0.005797167</td><td>0.068822</td><td>0.011665</td><td>0.05369141</td><td>2.440189e-05</td><td>1.0</td><td>-1</td><td>10.69176</td><td>10.60339</td><td>10.77511</td><td>-1.449345</td><td>-2.663464</td><td>-0.6384314</td><td>-12.18029</td><td>-13.42297</td><td>-11.36839</td><td>33494660000.0</td><td>24734430000.0</td><td>40794850000.0</td><td>6478709000.0</td><td>4729467000.0</td><td>8227951000.0</td><td>0.8389362</td><td>61442</td><td>0.051</td><td>14.21</td><td>0.87</td><td>1.2792168306271254</td><td>1.4703641731346269</td><td>767.7111507000776</td><td>0.8592516577382765</td><td>0</td><td>0</td><td>1</td><td>0.55</td><td>0.05</td><td>0.4</td><td>0</td></tr>\n",
       "</table></div>"
      ],
      "text/plain": [
       "<Table length=13362>\n",
       " Yang        objid             specobjid      ... porbital pinterloper   SF \n",
       "int64        int64               int64        ... float64    float64   int64\n",
       "----- ------------------- ------------------- ... -------- ----------- -----\n",
       "    2 1237665547827347728 2841891013398652928 ...     0.14        0.08     1\n",
       "    2 1237665566081483195 2838400888110868480 ...      0.0        0.13     1\n",
       "    2 1237665566081548691 2841874520724236288 ...      0.0        0.11     0\n",
       "    2 1237665566618419260 2841891563154466816 ...     0.16         0.5     0\n",
       "    2 1237665566618419261 2841892387788187648 ...     0.06         0.3     0\n",
       "    2 1237665566618550527 2841899534613768192 ...     0.01        0.49     0\n",
       "    2 1237668336860594377 2838403362012030976 ...     0.19        0.29     0\n",
       "    2 1237668336860594527 2838412432982960128 ...     0.04        0.35     0\n",
       "    2 1237668336860659822 2841872871456794624 ...     0.14        0.16     0\n",
       "    2 1237668336860659824 2838404461523658752 ...     0.01        0.43     0\n",
       "  ...                 ...                 ... ...      ...         ...   ...\n",
       "  621 1237668298216636590 3107582499652397056 ...     0.32        0.34     1\n",
       "  621 1237668298216636614 3106498381657171968 ...     0.92         0.0     0\n",
       "  621 1237668298216636617 3107579475995420672 ...     0.84         0.0     0\n",
       "  621 1237668298216702023 3106399425610672128 ...     0.47        0.07     1\n",
       "  621 1237668298216702087 3106500305802520576 ...     0.08        0.36     1\n",
       "  621 1237668298216767697 3107599542082627584 ...     0.12        0.17     1\n",
       "  621 1237668298753572907 3107576452338444288 ...     0.01        0.71     1\n",
       "  621 1237668298753572924 3106496457511823360 ...     0.05        0.35     1\n",
       "  621 1237668298753572940 3106497831901358080 ...     0.16        0.41     0\n",
       "  621 1237668298753638552 3106508277261821952 ...     0.05         0.4     0"
      ]
     },
     "execution_count": 143,
     "metadata": {},
     "output_type": "execute_result"
    }
   ],
   "source": [
    "gal"
   ]
  },
  {
   "cell_type": "markdown",
   "metadata": {},
   "source": [
    "# Dynamical Classes\n",
    "---------------------------------------\n"
   ]
  },
  {
   "cell_type": "code",
   "execution_count": 152,
   "metadata": {},
   "outputs": [],
   "source": [
    "mass = np.array(gal['mass'])\n",
    "sfr  = np.array(gal['sfr'])\n",
    "\n",
    "rn   = np.array(gal['Rn'])\n",
    "vn   = np.array(gal['vlosn'])\n",
    "\n",
    "sf   = np.array(gal['SF'])\n",
    "\n",
    "Pi   = np.array(gal['pinfall'])\n",
    "Po   = np.array(gal['porbital'])\n",
    "Pn   = np.array(gal['pinterloper'])\n",
    "\n",
    "m200 = np.array(gal['M200'])"
   ]
  },
  {
   "cell_type": "code",
   "execution_count": 153,
   "metadata": {},
   "outputs": [
    {
     "data": {
      "text/plain": [
       "array([15.29, 15.29, 15.29, ..., 14.21, 14.21, 14.21])"
      ]
     },
     "execution_count": 153,
     "metadata": {},
     "output_type": "execute_result"
    }
   ],
   "source": [
    "m200"
   ]
  },
  {
   "cell_type": "code",
   "execution_count": null,
   "metadata": {},
   "outputs": [],
   "source": []
  },
  {
   "cell_type": "markdown",
   "metadata": {},
   "source": [
    "# Quenching Fraction\n",
    "---------------------------------------"
   ]
  },
  {
   "cell_type": "markdown",
   "metadata": {},
   "source": [
    "The Quenched Fraction Excess is defined as:\n",
    "$$\n",
    " QFE_{2-1} = \\frac{f_{q,1}-f{q,2}}{1-f_{q,1}} \\;,\n",
    "$$\n",
    "where $f_{q,1}, f_{q,2}$ is the quiescent fraction in a stellar mass bin in\n",
    "environment 1 and 2, respectively. A QFE of zero implies there is\n",
    "no excess of quenched galaxies in one environment compared to the\n",
    "other. A high QFE means that many of the star-forming galaxies\n",
    "observed in environment 1 must be quenched in environment 2.\n",
    "In the extreme case of QFE = 1, all of the galaxies that are starforming \n",
    "in environment 1 would be quenched were they to reside in environment 2.\n",
    "<br> see:https://arxiv.org/pdf/2111.14624.pdf"
   ]
  },
  {
   "cell_type": "code",
   "execution_count": null,
   "metadata": {},
   "outputs": [],
   "source": []
  },
  {
   "cell_type": "code",
   "execution_count": 195,
   "metadata": {},
   "outputs": [],
   "source": [
    "def quenching_fraction_excess(p1,p2,quenching):\n",
    "    \"\"\" Quenching Fraction Exceess\n",
    "    We weight the probability of a galaxy\n",
    "    residing in the enviroment 1 or 2 by \n",
    "    the probabilities p1,p2.\n",
    "    \"\"\"\n",
    "    N1 = p1.size\n",
    "    N2 = p2.size\n",
    "    \n",
    "    Nq1 = np.sum(p1*quenching)\n",
    "    Nq2 = np.sum(p2*quenching)\n",
    "    \n",
    "    fq1 = Nq1/N1\n",
    "    fq2 = Nq2/N2\n",
    "    \n",
    "    qfe = (fq2-fq1)/(1-fq1)\n",
    "    return qfe"
   ]
  },
  {
   "cell_type": "code",
   "execution_count": 206,
   "metadata": {},
   "outputs": [],
   "source": [
    "## mass bins\n",
    "msbins = np.linspace(10.05,12.,13)\n",
    "\n",
    "## radii bins\n",
    "rbins = np.linspace(0.,2.,12)"
   ]
  },
  {
   "cell_type": "code",
   "execution_count": 207,
   "metadata": {},
   "outputs": [],
   "source": [
    "def make_bins(x,xbins):\n",
    "    indices = []\n",
    "    xmd     = 0.5*(xbins[1:]+xbins[:-1])\n",
    "    for xl,xh in zip(xbins[:-1],xbins[1:]):\n",
    "        w, = np.where((x<=xh)&(x>xl))\n",
    "        indices.append(w)\n",
    "    return indices,xmd"
   ]
  },
  {
   "cell_type": "code",
   "execution_count": 208,
   "metadata": {},
   "outputs": [],
   "source": [
    "mskeys, mmed = make_bins(mass,msbins)\n",
    "rkeys, rmed  = make_bins(rn,rbins)"
   ]
  },
  {
   "cell_type": "code",
   "execution_count": null,
   "metadata": {},
   "outputs": [],
   "source": []
  },
  {
   "cell_type": "code",
   "execution_count": 209,
   "metadata": {},
   "outputs": [],
   "source": [
    "qfe_mass1 = [quenching_fraction_excess(Pi[idx],Po[idx],1-sf[idx]) for idx in mskeys]\n",
    "qfe_mass2 = [quenching_fraction_excess(Pn[idx],Po[idx],1-sf[idx]) for idx in mskeys]\n",
    "qfe_mass3 = [quenching_fraction_excess(Pn[idx],Pi[idx],1-sf[idx]) for idx in mskeys]"
   ]
  },
  {
   "cell_type": "code",
   "execution_count": 210,
   "metadata": {},
   "outputs": [
    {
     "data": {
      "text/plain": [
       "Text(0, 0.5, 'QFE')"
      ]
     },
     "execution_count": 210,
     "metadata": {},
     "output_type": "execute_result"
    },
    {
     "data": {
      "image/png": "[encoded data removed]",
      "text/plain": [
       "<Figure size 432x288 with 1 Axes>"
      ]
     },
     "metadata": {
      "needs_background": "light"
     },
     "output_type": "display_data"
    }
   ],
   "source": [
    "plt.scatter(mmed,qfe_mass1,label='Cluster and Infall')\n",
    "plt.scatter(mmed,qfe_mass2,label='Cluster and Interlopers')\n",
    "plt.scatter(mmed,qfe_mass3,label='Infall and Interlopers')\n",
    "plt.legend(fontsize=12)\n",
    "plt.xlabel(r'Log($M_\\star/M_{\\odot}$)',fontsize=18)\n",
    "plt.ylabel('QFE',fontsize=18)\n",
    "\n",
    "# plt.ylim(-0.02,1.2)"
   ]
  },
  {
   "cell_type": "code",
   "execution_count": null,
   "metadata": {},
   "outputs": [],
   "source": []
  },
  {
   "cell_type": "code",
   "execution_count": 211,
   "metadata": {},
   "outputs": [],
   "source": [
    "qfe_mass1 = [quenching_fraction_excess(Pi[idx],Po[idx],1-sf[idx]) for idx in rkeys]\n",
    "qfe_mass2 = [quenching_fraction_excess(Pn[idx],Po[idx],1-sf[idx]) for idx in rkeys]\n",
    "qfe_mass3 = [quenching_fraction_excess(Pn[idx],Pi[idx],1-sf[idx]) for idx in rkeys]"
   ]
  },
  {
   "cell_type": "code",
   "execution_count": 212,
   "metadata": {},
   "outputs": [
    {
     "data": {
      "text/plain": [
       "Text(0, 0.5, 'QFE')"
      ]
     },
     "execution_count": 212,
     "metadata": {},
     "output_type": "execute_result"
    },
    {
     "data": {
      "image/png": "[encoded data removed]",
      "text/plain": [
       "<Figure size 432x288 with 1 Axes>"
      ]
     },
     "metadata": {
      "needs_background": "light"
     },
     "output_type": "display_data"
    }
   ],
   "source": [
    "plt.scatter(rmed,qfe_mass1,label='Cluster and Infall')\n",
    "plt.scatter(rmed,qfe_mass2,label='Cluster and Interlopers')\n",
    "plt.scatter(rmed,qfe_mass3,label='Infall and Interlopers')\n",
    "\n",
    "plt.axhline(0.,ls='--',lw=3,color='gray')\n",
    "plt.legend(fontsize=12)\n",
    "plt.xlabel(r'R/R$_{200}$',fontsize=18)\n",
    "plt.ylabel('QFE',fontsize=18)\n",
    "\n",
    "# plt.ylim(-0.02,1.2)"
   ]
  },
  {
   "cell_type": "code",
   "execution_count": null,
   "metadata": {},
   "outputs": [],
   "source": []
  },
  {
   "cell_type": "code",
   "execution_count": 236,
   "metadata": {},
   "outputs": [],
   "source": [
    "mbins = np.linspace(13.75,15.25,11)\n",
    "mkeys, m2med = make_bins(m200,mbins)\n",
    "mask = (mass>11.)&(rn<=1)\n",
    "\n",
    "qfe_mass1 = [quenching_fraction_excess(Pi[idx][mask[idx]],Po[idx][mask[idx]],1-sf[idx][mask[idx]]) for idx in mkeys]\n",
    "qfe_mass2 = [quenching_fraction_excess(Pn[idx][mask[idx]],Po[idx][mask[idx]],1-sf[idx][mask[idx]]) for idx in mkeys]\n",
    "qfe_mass3 = [quenching_fraction_excess(Pn[idx][mask[idx]],Pi[idx][mask[idx]],1-sf[idx][mask[idx]]) for idx in mkeys]"
   ]
  },
  {
   "cell_type": "code",
   "execution_count": 238,
   "metadata": {},
   "outputs": [
    {
     "data": {
      "text/plain": [
       "Text(0, 0.5, 'QFE')"
      ]
     },
     "execution_count": 238,
     "metadata": {},
     "output_type": "execute_result"
    },
    {
     "data": {
      "image/png": "[encoded data removed]",
      "text/plain": [
       "<Figure size 432x288 with 1 Axes>"
      ]
     },
     "metadata": {
      "needs_background": "light"
     },
     "output_type": "display_data"
    }
   ],
   "source": [
    "plt.scatter(m2med,qfe_mass1,label='Cluster and Infall')\n",
    "plt.scatter(m2med,qfe_mass2,label='Cluster and Interlopers')\n",
    "plt.scatter(m2med,qfe_mass3,label='Infall and Interlopers')\n",
    "\n",
    "plt.axhline(0.,ls='--',lw=3,color='gray')\n",
    "plt.legend(fontsize=12)\n",
    "plt.xlabel(r'Halo Mass',fontsize=18)\n",
    "plt.ylabel('QFE',fontsize=18)\n",
    "\n",
    "# plt.ylim(-0.02,1.2)"
   ]
  },
  {
   "cell_type": "code",
   "execution_count": null,
   "metadata": {},
   "outputs": [],
   "source": []
  },
  {
   "cell_type": "code",
   "execution_count": null,
   "metadata": {},
   "outputs": [],
   "source": []
  },
  {
   "cell_type": "code",
   "execution_count": null,
   "metadata": {},
   "outputs": [],
   "source": []
  },
  {
   "cell_type": "code",
   "execution_count": null,
   "metadata": {},
   "outputs": [],
   "source": []
  },
  {
   "cell_type": "code",
   "execution_count": null,
   "metadata": {},
   "outputs": [],
   "source": []
  },
  {
   "cell_type": "code",
   "execution_count": 239,
   "metadata": {},
   "outputs": [],
   "source": [
    "age = np.array(gal['age_fire'])"
   ]
  },
  {
   "cell_type": "code",
   "execution_count": 245,
   "metadata": {},
   "outputs": [
    {
     "data": {
      "image/png": "[encoded data removed]",
      "text/plain": [
       "<Figure size 432x288 with 1 Axes>"
      ]
     },
     "metadata": {
      "needs_background": "light"
     },
     "output_type": "display_data"
    }
   ],
   "source": [
    "a = plt.hist(np.log10(age),weights=1-sf,bins=21,density=True)\n",
    "_ = plt.hist(np.log10(age),weights=sf,bins=a[1],histtype='step',density=True)"
   ]
  },
  {
   "cell_type": "code",
   "execution_count": null,
   "metadata": {},
   "outputs": [],
   "source": []
  },
  {
   "cell_type": "code",
   "execution_count": null,
   "metadata": {},
   "outputs": [],
   "source": []
  },
  {
   "cell_type": "code",
   "execution_count": null,
   "metadata": {},
   "outputs": [],
   "source": []
  },
  {
   "cell_type": "code",
   "execution_count": null,
   "metadata": {},
   "outputs": [],
   "source": []
  },
  {
   "cell_type": "code",
   "execution_count": 98,
   "metadata": {},
   "outputs": [],
   "source": [
    "def stellar_mass_function(m,norm,alpha,mstar):\n",
    "    x = 10**m/10**mstar\n",
    "    res = (norm/10**mstar) * (x**alpha) * np.exp(-x)\n",
    "    return res\n",
    "\n",
    "def log_stellar_mass_function(m,norm,alpha,mstar):\n",
    "    return np.log(stellar_mass_function(m,norm,alpha,mstar))"
   ]
  },
  {
   "cell_type": "code",
   "execution_count": null,
   "metadata": {},
   "outputs": [],
   "source": []
  },
  {
   "cell_type": "code",
   "execution_count": 109,
   "metadata": {},
   "outputs": [],
   "source": [
    "## weighted poisson stats: https://core.ac.uk/download/pdf/207459783.pdf\n",
    "\n",
    "def get_mass_function_data(mass,nbins=21,weights=None,eps=1e-6):\n",
    "    #mbins = np.linspace(10.,np.max(mass),21)\n",
    "    mbins = np.linspace(10.25,11.75,21)\n",
    "    ncounts, _ = np.histogram(mass,bins=mbins)\n",
    "    wcounts, _ = np.histogram(mass,bins=mbins,weights=weights)\n",
    "    \n",
    "    ## check w/ Arya my definition of weighted Poisson error\n",
    "    weff = np.mean(weights**2)\n",
    "    poisson_err = 1/(np.sqrt(ncounts*weff)+eps)\n",
    "    mean = 0.5*(mbins[1:]+mbins[:-1])\n",
    "    return mean,wcounts,poisson_err"
   ]
  },
  {
   "cell_type": "code",
   "execution_count": 110,
   "metadata": {},
   "outputs": [],
   "source": [
    "smf = dict()\n",
    "\n",
    "smf['orbital'] = get_mass_function_data(mass,nbins=21,weights=Po)\n",
    "smf['infall'] = get_mass_function_data(mass,nbins=21,weights=Pi)\n",
    "smf['interlopers']  = get_mass_function_data(mass,nbins=21,weights=Pn)"
   ]
  },
  {
   "cell_type": "code",
   "execution_count": null,
   "metadata": {},
   "outputs": [],
   "source": []
  },
  {
   "cell_type": "code",
   "execution_count": null,
   "metadata": {},
   "outputs": [],
   "source": []
  },
  {
   "cell_type": "code",
   "execution_count": 123,
   "metadata": {},
   "outputs": [],
   "source": [
    "import scipy.optimize\n",
    "\n",
    "x,y,yerr = smf['infall']\n",
    "\n",
    "p0 = np.array([ 5.08547115e+13, -1.,  1.11960295e+01])\n",
    "popt, pcov = scipy.optimize.curve_fit(\n",
    "    log_stellar_mass_function, x, np.log(y), \n",
    "    bounds=((p0[0]-100,p0[1]-1.,p0[2]-2),\\\n",
    "            (p0[0]+100,p0[1]+1.,p0[2]+2)))"
   ]
  },
  {
   "cell_type": "code",
   "execution_count": 124,
   "metadata": {
    "scrolled": true
   },
   "outputs": [
    {
     "data": {
      "text/plain": [
       "array([ 5.08547115e+13, -5.88355452e-01,  1.10616048e+01])"
      ]
     },
     "execution_count": 124,
     "metadata": {},
     "output_type": "execute_result"
    }
   ],
   "source": [
    "popt"
   ]
  },
  {
   "cell_type": "code",
   "execution_count": null,
   "metadata": {},
   "outputs": [],
   "source": []
  },
  {
   "cell_type": "code",
   "execution_count": 125,
   "metadata": {},
   "outputs": [
    {
     "data": {
      "text/plain": [
       "Text(0.5, 1.0, 'Stellar Mass Function')"
      ]
     },
     "execution_count": 125,
     "metadata": {},
     "output_type": "execute_result"
    },
    {
     "data": {
      "image/png": "[encoded data removed]",
      "text/plain": [
       "<Figure size 432x288 with 1 Axes>"
      ]
     },
     "metadata": {
      "needs_background": "light"
     },
     "output_type": "display_data"
    }
   ],
   "source": [
    "x,y,yerr = smf['orbital']\n",
    "plt.errorbar(x,y,yerr=yerr,fmt='or',label='Orbital')\n",
    "\n",
    "x,y,yerr = smf['infall']\n",
    "plt.errorbar(x,y,yerr=yerr,fmt='ob',label='Infall')\n",
    "\n",
    "x,y,yerr = smf['interlopers']\n",
    "plt.errorbar(x,y,yerr=yerr,fmt='ok',label='Interloper')\n",
    "plt.yscale('log')\n",
    "\n",
    "plt.legend(fontsize=14)\n",
    "plt.xlabel(r'Log($M_\\star/M_{\\odot}$)',fontsize=18)\n",
    "plt.ylabel(r'N [dex$^{-1}$]',fontsize=18)\n",
    "\n",
    "\n",
    "# popt = np.array([ 9.85471153e+12, -7.86930576e-01,  1.16259085e+01])\n",
    "# popt = np.array([ 5.08547115e+13, -0.9,  1.10616048e+01])\n",
    "plt.plot(x,stellar_mass_function(x,*popt),'b--',lw=2)\n",
    "plt.title('Stellar Mass Function')"
   ]
  },
  {
   "cell_type": "code",
   "execution_count": 126,
   "metadata": {},
   "outputs": [
    {
     "data": {
      "text/plain": [
       "(0.001, 158.4893192461111)"
      ]
     },
     "execution_count": 126,
     "metadata": {},
     "output_type": "execute_result"
    },
    {
     "data": {
      "image/png": "[encoded data removed]",
      "text/plain": [
       "<Figure size 432x288 with 1 Axes>"
      ]
     },
     "metadata": {
      "needs_background": "light"
     },
     "output_type": "display_data"
    }
   ],
   "source": [
    "mstar=10.8\n",
    "alpha=-2.5\n",
    "norm = 10**12/(10**mstar)\n",
    "\n",
    "plt.plot(x,norm*(10**x/10**mstar)**alpha,'b--')\n",
    "plt.plot(x,norm*np.exp(-10**x/10**mstar),'r--')\n",
    "\n",
    "plt.plot(x,norm*np.exp(-10**x/10**mstar)*(10**x/10**mstar)**alpha,'k--')\n",
    "\n",
    "plt.yscale('log')\n",
    "plt.ylim(1e-3,10*norm)"
   ]
  },
  {
   "cell_type": "code",
   "execution_count": null,
   "metadata": {},
   "outputs": [],
   "source": []
  },
  {
   "cell_type": "code",
   "execution_count": null,
   "metadata": {},
   "outputs": [],
   "source": []
  },
  {
   "cell_type": "code",
   "execution_count": null,
   "metadata": {},
   "outputs": [],
   "source": []
  },
  {
   "cell_type": "code",
   "execution_count": 27,
   "metadata": {},
   "outputs": [
    {
     "data": {
      "text/plain": [
       "-0.020202707316108803"
      ]
     },
     "execution_count": 27,
     "metadata": {},
     "output_type": "execute_result"
    }
   ],
   "source": [
    "np.min(np.log(y))"
   ]
  },
  {
   "cell_type": "code",
   "execution_count": 28,
   "metadata": {},
   "outputs": [
    {
     "data": {
      "text/plain": [
       "array([ 5.08547115e+13, -2.30595950e-01,  1.11960295e+01])"
      ]
     },
     "execution_count": 28,
     "metadata": {},
     "output_type": "execute_result"
    }
   ],
   "source": [
    "popt"
   ]
  },
  {
   "cell_type": "code",
   "execution_count": null,
   "metadata": {},
   "outputs": [],
   "source": []
  },
  {
   "cell_type": "code",
   "execution_count": null,
   "metadata": {},
   "outputs": [],
   "source": []
  },
  {
   "cell_type": "code",
   "execution_count": null,
   "metadata": {},
   "outputs": [],
   "source": []
  },
  {
   "cell_type": "code",
   "execution_count": null,
   "metadata": {},
   "outputs": [],
   "source": []
  },
  {
   "cell_type": "code",
   "execution_count": null,
   "metadata": {},
   "outputs": [],
   "source": []
  }
 ],
 "metadata": {
  "kernelspec": {
   "display_name": "Python 3",
   "language": "python",
   "name": "python3"
  },
  "language_info": {
   "codemirror_mode": {
    "name": "ipython",
    "version": 3
   },
   "file_extension": ".py",
   "mimetype": "text/x-python",
   "name": "python",
   "nbconvert_exporter": "python",
   "pygments_lexer": "ipython3",
   "version": "3.8.8"
  },
  "toc-showtags": false
 },
 "nbformat": 4,
 "nbformat_minor": 4
}
