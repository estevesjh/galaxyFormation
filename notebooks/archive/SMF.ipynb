{
 "cells": [
  {
   "cell_type": "markdown",
   "metadata": {},
   "source": [
    "# Stellar Mass Function\n",
    "---------------------------------------\n",
    "\n",
    "We infer the stellar mass function for the orbital/infall/interloper classes."
   ]
  },
  {
   "cell_type": "code",
   "execution_count": 1,
   "metadata": {},
   "outputs": [],
   "source": [
    "from file_loc import FileLocs"
   ]
  },
  {
   "cell_type": "code",
   "execution_count": 2,
   "metadata": {},
   "outputs": [],
   "source": [
    "import numpy as np\n",
    "import matplotlib.pyplot as plt\n",
    "import astropy.io.ascii as at"
   ]
  },
  {
   "cell_type": "code",
   "execution_count": null,
   "metadata": {},
   "outputs": [],
   "source": []
  },
  {
   "cell_type": "markdown",
   "metadata": {},
   "source": [
    "# Reading Initial Data"
   ]
  },
  {
   "cell_type": "code",
   "execution_count": 3,
   "metadata": {},
   "outputs": [],
   "source": [
    "fl = FileLocs()\n",
    "galaxy_file = fl.gal_fname1\n",
    "# galaxy_file = '../data/groupCatalog_Yang_deCarvalho2017_galaxy_volumeLimited_v1'\n",
    "cluster_file= fl.cls_fname"
   ]
  },
  {
   "cell_type": "code",
   "execution_count": 4,
   "metadata": {},
   "outputs": [
    {
     "name": "stdout",
     "output_type": "stream",
     "text": [
      "--------Initial Files-------\n",
      "Cluster File : ../data/groupCatalog_Yang_deCarvalho2017.csv\n",
      "Galaxy File : ../data/groupCatalog_Yang_deCarvalho2017_galaxy_v1.csv\n",
      "\n"
     ]
    }
   ],
   "source": [
    "print('--------Initial Files-------')\n",
    "print('Cluster File : %s'%cluster_file)\n",
    "print('Galaxy File : %s'%galaxy_file)\n",
    "print()"
   ]
  },
  {
   "cell_type": "code",
   "execution_count": 5,
   "metadata": {},
   "outputs": [],
   "source": [
    "# load catalogs\n",
    "cat = at.read(cluster_file)\n",
    "gal0= at.read(galaxy_file)"
   ]
  },
  {
   "cell_type": "code",
   "execution_count": 6,
   "metadata": {},
   "outputs": [
    {
     "data": {
      "text/html": [
       "<i>Table length=319</i>\n",
       "<table id=\"table140407855398480\" class=\"table-striped table-bordered table-condensed\">\n",
       "<thead><tr><th>Yang</th><th>RA</th><th>DEC</th><th>z</th><th>logM200</th><th>R200</th><th>N200</th></tr></thead>\n",
       "<thead><tr><th>int64</th><th>float64</th><th>float64</th><th>float64</th><th>float64</th><th>float64</th><th>int64</th></tr></thead>\n",
       "<tr><td>2</td><td>240.5602</td><td>16.1113</td><td>0.036</td><td>15.29</td><td>2.01</td><td>525</td></tr>\n",
       "<tr><td>4</td><td>247.1149</td><td>40.8317</td><td>0.03</td><td>14.66</td><td>1.24</td><td>217</td></tr>\n",
       "<tr><td>5</td><td>247.1633</td><td>39.4674</td><td>0.03</td><td>14.81</td><td>1.4</td><td>277</td></tr>\n",
       "<tr><td>6</td><td>167.6936</td><td>28.5374</td><td>0.033</td><td>14.6</td><td>1.18</td><td>167</td></tr>\n",
       "<tr><td>7</td><td>351.1194</td><td>14.6251</td><td>0.042</td><td>14.51</td><td>1.1</td><td>106</td></tr>\n",
       "<tr><td>8</td><td>239.5372</td><td>27.3133</td><td>0.09</td><td>15.1</td><td>1.71</td><td>183</td></tr>\n",
       "<tr><td>9</td><td>241.5673</td><td>18.1483</td><td>0.038</td><td>14.48</td><td>1.08</td><td>143</td></tr>\n",
       "<tr><td>10</td><td>223.2712</td><td>16.724</td><td>0.045</td><td>14.22</td><td>0.89</td><td>106</td></tr>\n",
       "<tr><td>11</td><td>10.4693</td><td>-9.3997</td><td>0.056</td><td>14.96</td><td>1.55</td><td>156</td></tr>\n",
       "<tr><td>12</td><td>14.206</td><td>-0.746</td><td>0.044</td><td>14.54</td><td>1.13</td><td>95</td></tr>\n",
       "<tr><td>...</td><td>...</td><td>...</td><td>...</td><td>...</td><td>...</td><td>...</td></tr>\n",
       "<tr><td>616</td><td>172.1451</td><td>26.8291</td><td>0.053</td><td>14.15</td><td>0.84</td><td>28</td></tr>\n",
       "<tr><td>621</td><td>215.2345</td><td>17.666</td><td>0.051</td><td>14.21</td><td>0.87</td><td>35</td></tr>\n",
       "<tr><td>624</td><td>129.0212</td><td>52.7156</td><td>0.044</td><td>14.16</td><td>0.85</td><td>20</td></tr>\n",
       "<tr><td>625</td><td>242.3892</td><td>53.0522</td><td>0.063</td><td>14.3</td><td>0.93</td><td>22</td></tr>\n",
       "<tr><td>628</td><td>325.7397</td><td>-6.8996</td><td>0.054</td><td>14.34</td><td>0.96</td><td>40</td></tr>\n",
       "<tr><td>630</td><td>167.5969</td><td>4.8471</td><td>0.03</td><td>13.7</td><td>0.6</td><td>21</td></tr>\n",
       "<tr><td>631</td><td>119.635</td><td>37.7935</td><td>0.041</td><td>13.89</td><td>0.69</td><td>28</td></tr>\n",
       "<tr><td>635</td><td>203.2348</td><td>60.119</td><td>0.072</td><td>14.54</td><td>1.12</td><td>30</td></tr>\n",
       "<tr><td>664</td><td>208.4432</td><td>33.1695</td><td>0.05</td><td>14.26</td><td>0.91</td><td>29</td></tr>\n",
       "<tr><td>665</td><td>205.9073</td><td>30.0654</td><td>0.04</td><td>15.0</td><td>1.61</td><td>83</td></tr>\n",
       "</table>"
      ],
      "text/plain": [
       "<Table length=319>\n",
       " Yang    RA      DEC      z    logM200   R200   N200\n",
       "int64 float64  float64 float64 float64 float64 int64\n",
       "----- -------- ------- ------- ------- ------- -----\n",
       "    2 240.5602 16.1113   0.036   15.29    2.01   525\n",
       "    4 247.1149 40.8317    0.03   14.66    1.24   217\n",
       "    5 247.1633 39.4674    0.03   14.81     1.4   277\n",
       "    6 167.6936 28.5374   0.033    14.6    1.18   167\n",
       "    7 351.1194 14.6251   0.042   14.51     1.1   106\n",
       "    8 239.5372 27.3133    0.09    15.1    1.71   183\n",
       "    9 241.5673 18.1483   0.038   14.48    1.08   143\n",
       "   10 223.2712  16.724   0.045   14.22    0.89   106\n",
       "   11  10.4693 -9.3997   0.056   14.96    1.55   156\n",
       "   12   14.206  -0.746   0.044   14.54    1.13    95\n",
       "  ...      ...     ...     ...     ...     ...   ...\n",
       "  616 172.1451 26.8291   0.053   14.15    0.84    28\n",
       "  621 215.2345  17.666   0.051   14.21    0.87    35\n",
       "  624 129.0212 52.7156   0.044   14.16    0.85    20\n",
       "  625 242.3892 53.0522   0.063    14.3    0.93    22\n",
       "  628 325.7397 -6.8996   0.054   14.34    0.96    40\n",
       "  630 167.5969  4.8471    0.03    13.7     0.6    21\n",
       "  631  119.635 37.7935   0.041   13.89    0.69    28\n",
       "  635 203.2348  60.119   0.072   14.54    1.12    30\n",
       "  664 208.4432 33.1695    0.05   14.26    0.91    29\n",
       "  665 205.9073 30.0654    0.04    15.0    1.61    83"
      ]
     },
     "execution_count": 6,
     "metadata": {},
     "output_type": "execute_result"
    }
   ],
   "source": [
    "cat"
   ]
  },
  {
   "cell_type": "code",
   "execution_count": 7,
   "metadata": {},
   "outputs": [
    {
     "data": {
      "text/html": [
       "<i>Table length=32489</i>\n",
       "<table id=\"table140408142414992\" class=\"table-striped table-bordered table-condensed\">\n",
       "<thead><tr><th>Yang</th><th>objid</th><th>specobjid</th><th>distance</th><th>ra</th><th>dec</th><th>mu</th><th>mg</th><th>mr</th><th>mi</th><th>mz</th><th>mu_Err</th><th>mg_err</th><th>mr_err</th><th>mi_err</th><th>mz_err</th><th>photo_z</th><th>photo_zErr</th><th>z</th><th>zErr</th><th>fracDeV_i</th><th>bpt</th><th>mass</th><th>mass_p16</th><th>mass_p84</th><th>sfr</th><th>sfr_p16</th><th>sfr_p84</th><th>ssfr</th><th>ssfr_p16</th><th>ssfr_p84</th><th>mass_fire</th><th>mass_fire_p16</th><th>mass_fire_p84</th><th>age_fire</th><th>age_fire_p16</th><th>age_fire_p84</th><th>score</th><th>row</th><th>redshift</th><th>M200</th><th>R200</th><th>R</th><th>Rn</th><th>vlos</th><th>vlosn</th><th>infall</th><th>orbital</th><th>interloper</th><th>pinfall</th><th>porbital</th><th>pinterloper</th></tr></thead>\n",
       "<thead><tr><th>int64</th><th>int64</th><th>int64</th><th>float64</th><th>float64</th><th>float64</th><th>float64</th><th>float64</th><th>float64</th><th>float64</th><th>float64</th><th>float64</th><th>float64</th><th>float64</th><th>float64</th><th>float64</th><th>float64</th><th>float64</th><th>float64</th><th>float64</th><th>float64</th><th>int64</th><th>float64</th><th>float64</th><th>float64</th><th>float64</th><th>float64</th><th>float64</th><th>float64</th><th>float64</th><th>float64</th><th>float64</th><th>float64</th><th>float64</th><th>float64</th><th>float64</th><th>float64</th><th>float64</th><th>int64</th><th>float64</th><th>float64</th><th>float64</th><th>float64</th><th>float64</th><th>float64</th><th>float64</th><th>int64</th><th>int64</th><th>int64</th><th>float64</th><th>float64</th><th>float64</th></tr></thead>\n",
       "<tr><td>2</td><td>1237665530650231112</td><td>2841934444107950080</td><td>89.6269391362405</td><td>241.57843693246</td><td>14.9847540670112</td><td>20.4757</td><td>18.52523</td><td>17.54973</td><td>17.16701</td><td>16.80302</td><td>0.0887008</td><td>0.009577838</td><td>0.006253762</td><td>0.006521441</td><td>0.01432577</td><td>0.110193</td><td>0.010211</td><td>0.1231728</td><td>2.496678e-05</td><td>0.9789842</td><td>-1</td><td>10.69053</td><td>10.59839</td><td>10.78236</td><td>-1.318207</td><td>-2.62379</td><td>-0.4930567</td><td>-12.05</td><td>-13.37045</td><td>-11.22545</td><td>41403010000.0</td><td>32091820000.0</td><td>53817920000.0</td><td>4929381000.0</td><td>3280096000.0</td><td>6228817000.0</td><td>0.9118443</td><td>3</td><td>0.036</td><td>15.29</td><td>2.01</td><td>3.8500893881817264</td><td>1.9154673573043417</td><td>25225.62546596756</td><td>12.351819028216573</td><td>0</td><td>0</td><td>1</td><td>0.0</td><td>0.0</td><td>1.0</td></tr>\n",
       "<tr><td>2</td><td>1237665530650231189</td><td>2841935543619577856</td><td>93.0302672496103</td><td>241.621146420941</td><td>14.9454652864579</td><td>19.19824</td><td>17.65663</td><td>16.8588</td><td>16.41705</td><td>16.06843</td><td>0.05880325</td><td>0.008172314</td><td>0.005978988</td><td>0.006268373</td><td>0.01489483</td><td>0.077475</td><td>0.024489</td><td>0.1269354</td><td>1.723609e-05</td><td>1.0</td><td>3</td><td>10.99481</td><td>10.89298</td><td>11.10171</td><td>0.6959944</td><td>0.2149101</td><td>1.181468</td><td>-10.34571</td><td>-10.85981</td><td>-9.835586</td><td>19509270000.0</td><td>18445930000.0</td><td>30142730000.0</td><td>3330074000.0</td><td>2980226000.0</td><td>5729034000.0</td><td>0.9118443</td><td>4</td><td>0.036</td><td>15.29</td><td>2.01</td><td>3.996285582987262</td><td>1.9882017825807274</td><td>26314.42768842973</td><td>12.88495498662984</td><td>0</td><td>0</td><td>1</td><td>0.0</td><td>0.0</td><td>1.0</td></tr>\n",
       "<tr><td>2</td><td>1237665547827347728</td><td>2841891013398652928</td><td>66.9279962333088</td><td>240.988574304508</td><td>15.0749487080488</td><td>18.10222</td><td>16.55984</td><td>15.87389</td><td>15.51887</td><td>15.23896</td><td>0.03046442</td><td>0.00452454</td><td>0.003532456</td><td>0.003606966</td><td>0.00795144</td><td>0.046343</td><td>0.014991</td><td>0.03524532</td><td>1.029862e-05</td><td>0.5167674</td><td>1</td><td>10.31747</td><td>10.22748</td><td>10.41237</td><td>0.07491233</td><td>-0.09746825</td><td>0.2819673</td><td>-10.28968</td><td>-10.48632</td><td>-10.06143</td><td>6406905000.0</td><td>4934299000.0</td><td>7745638000.0</td><td>8277929000.0</td><td>6778579000.0</td><td>10976760000.0</td><td>0.8717796</td><td>5</td><td>0.036</td><td>15.29</td><td>2.01</td><td>2.875014705996323</td><td>1.430355575122549</td><td>-218.38549440486503</td><td>-0.10693324963996216</td><td>1</td><td>0</td><td>0</td><td>0.78</td><td>0.14</td><td>0.08</td></tr>\n",
       "<tr><td>2</td><td>1237665566081483195</td><td>2838400888110868480</td><td>90.4464881468585</td><td>240.713424596535</td><td>14.6111162264233</td><td>17.71942</td><td>16.36608</td><td>15.73907</td><td>15.40933</td><td>15.13747</td><td>0.02493478</td><td>0.004048082</td><td>0.003419265</td><td>0.003449163</td><td>0.007783792</td><td>0.04369</td><td>0.012716</td><td>0.03736607</td><td>1.491802e-05</td><td>0.1406163</td><td>2</td><td>10.13713</td><td>10.05175</td><td>10.2355</td><td>-0.1388986</td><td>-0.4566603</td><td>0.1964595</td><td>-10.32625</td><td>-10.65404</td><td>-9.982267</td><td>2199423000.0</td><td>1791245000.0</td><td>4881733000.0</td><td>3430031000.0</td><td>2580399000.0</td><td>6528688000.0</td><td>0.9467953</td><td>7</td><td>0.036</td><td>15.29</td><td>2.01</td><td>3.885294617538927</td><td>1.9329823967855362</td><td>395.30645086878485</td><td>0.19356323784340831</td><td>1</td><td>0</td><td>0</td><td>0.87</td><td>0.0</td><td>0.13</td></tr>\n",
       "<tr><td>2</td><td>1237665566081548691</td><td>2841874520724236288</td><td>91.5153203175785</td><td>240.861818228176</td><td>14.614028977464</td><td>18.32219</td><td>16.69393</td><td>15.93943</td><td>15.57824</td><td>15.30447</td><td>0.03610525</td><td>0.004809855</td><td>0.003709603</td><td>0.003675827</td><td>0.008213216</td><td>0.055527</td><td>0.017263</td><td>0.03548127</td><td>1.437615e-05</td><td>0.9202008</td><td>-1</td><td>10.11277</td><td>10.01669</td><td>10.20364</td><td>-1.265493</td><td>-2.603339</td><td>-0.6487934</td><td>-11.42083</td><td>-12.74024</td><td>-10.81532</td><td>7989685000.0</td><td>6855567000.0</td><td>8556743000.0</td><td>9227518000.0</td><td>7678189000.0</td><td>9877236000.0</td><td>0.9464893</td><td>10</td><td>0.036</td><td>15.29</td><td>2.01</td><td>3.9312082617835555</td><td>1.9558250058624655</td><td>-150.10747272040396</td><td>-0.07350066860886335</td><td>1</td><td>0</td><td>0</td><td>0.89</td><td>0.0</td><td>0.11</td></tr>\n",
       "<tr><td>2</td><td>1237665566081548780</td><td>2841886065596327936</td><td>91.5903972370934</td><td>240.928683103086</td><td>14.6267166803865</td><td>19.25206</td><td>17.60691</td><td>16.83579</td><td>16.39132</td><td>16.06802</td><td>0.06919918</td><td>0.007885234</td><td>0.005715102</td><td>0.005366819</td><td>0.01269586</td><td>0.076563</td><td>0.017525</td><td>0.05630241</td><td>1.4803e-05</td><td>0.2478099</td><td>2</td><td>10.27325</td><td>10.17875</td><td>10.37284</td><td>-0.4257214</td><td>-0.9914829</td><td>-0.005090852</td><td>-10.74232</td><td>-11.34</td><td>-10.32256</td><td>7473351000.0</td><td>5508679000.0</td><td>8928664000.0</td><td>8527821000.0</td><td>6728601000.0</td><td>9377452000.0</td><td>0.9464893</td><td>11</td><td>0.036</td><td>15.29</td><td>2.01</td><td>3.934433328419853</td><td>1.9574295166267928</td><td>5875.009070679324</td><td>2.876719506046089</td><td>0</td><td>0</td><td>1</td><td>0.0</td><td>0.0</td><td>1.0</td></tr>\n",
       "<tr><td>2</td><td>1237665566618091639</td><td>2838545748767827968</td><td>60.9659738031445</td><td>240.21455774713</td><td>15.1512635121507</td><td>16.31818</td><td>14.7857</td><td>14.24718</td><td>13.95108</td><td>13.74776</td><td>0.01020202</td><td>0.002220793</td><td>0.00211024</td><td>0.002107097</td><td>0.003646254</td><td>0.027943</td><td>0.008082</td><td>0.03396977</td><td>8.886583e-06</td><td>1.0</td><td>5</td><td>10.47317</td><td>10.36887</td><td>10.59703</td><td>-0.5868946</td><td>-1.980354</td><td>0.1084287</td><td>-11.13211</td><td>-12.48108</td><td>-10.409</td><td>-9999.0</td><td>-9999.0</td><td>-9999.0</td><td>-9999.0</td><td>-9999.0</td><td>-9999.0</td><td>1.0</td><td>13</td><td>0.036</td><td>15.29</td><td>2.01</td><td>2.6189051086844644</td><td>1.3029378650171466</td><td>-587.4977239433766</td><td>-0.28767039197612176</td><td>1</td><td>0</td><td>0</td><td>0.66</td><td>0.13</td><td>0.21</td></tr>\n",
       "<tr><td>2</td><td>1237665566618288442</td><td>2838413257616680960</td><td>67.0913393673834</td><td>240.683525065453</td><td>14.9994402988969</td><td>22.04239</td><td>19.57174</td><td>18.46614</td><td>18.00593</td><td>17.64941</td><td>0.3147156</td><td>0.01620702</td><td>0.009768902</td><td>0.008939422</td><td>0.02289085</td><td>0.159728</td><td>0.013725</td><td>0.1446447</td><td>3.938833e-05</td><td>1.0</td><td>-1</td><td>10.94697</td><td>10.87986</td><td>11.0188</td><td>-1.823299</td><td>-2.848202</td><td>-0.9933396</td><td>-12.8</td><td>-13.80986</td><td>-11.98274</td><td>17444380000.0</td><td>15891720000.0</td><td>28313050000.0</td><td>2180572000.0</td><td>1980659000.0</td><td>4379619000.0</td><td>0.9725463</td><td>16</td><td>0.036</td><td>15.29</td><td>2.01</td><td>2.882031409603449</td><td>1.433846472439527</td><td>31439.055657985125</td><td>15.39424766412093</td><td>0</td><td>0</td><td>1</td><td>0.0</td><td>0.0</td><td>1.0</td></tr>\n",
       "<tr><td>2</td><td>1237665566618288465</td><td>2841878094137026560</td><td>67.2802854942786</td><td>240.685866183508</td><td>14.9965160308907</td><td>19.25098</td><td>17.34927</td><td>16.22886</td><td>15.77085</td><td>15.42422</td><td>0.06742868</td><td>0.006300652</td><td>0.004042408</td><td>0.003795202</td><td>0.008582239</td><td>0.147304</td><td>0.006905</td><td>0.1429837</td><td>2.131856e-05</td><td>1.0</td><td>-1</td><td>11.6457</td><td>11.5471</td><td>11.75157</td><td>-0.7341018</td><td>-1.937031</td><td>0.1432299</td><td>-12.44804</td><td>-13.66441</td><td>-11.56</td><td>150055800000.0</td><td>131434700000.0</td><td>179539200000.0</td><td>5329207000.0</td><td>4729467000.0</td><td>6728601000.0</td><td>0.9725463</td><td>17</td><td>0.036</td><td>15.29</td><td>2.01</td><td>2.8901479366778755</td><td>1.4378845456108835</td><td>30958.403850322968</td><td>15.158894762689894</td><td>0</td><td>0</td><td>1</td><td>0.0</td><td>0.0</td><td>1.0</td></tr>\n",
       "<tr><td>2</td><td>1237665566618288508</td><td>2838404186645751808</td><td>67.4675742981646</td><td>240.703655353786</td><td>14.995365314848</td><td>20.34449</td><td>18.73172</td><td>17.59491</td><td>17.15005</td><td>16.84267</td><td>0.1086964</td><td>0.01150373</td><td>0.006860259</td><td>0.006449438</td><td>0.01663933</td><td>0.186893</td><td>0.024064</td><td>0.1441</td><td>3.142191e-05</td><td>0.8980978</td><td>-1</td><td>10.885</td><td>10.79795</td><td>10.95942</td><td>-1.068664</td><td>-2.344483</td><td>-0.3674414</td><td>-12.00514</td><td>-13.26163</td><td>-11.29575</td><td>35473370000.0</td><td>33491700000.0</td><td>53308420000.0</td><td>2980226000.0</td><td>2830291000.0</td><td>5928948000.0</td><td>0.9725463</td><td>19</td><td>0.036</td><td>15.29</td><td>2.01</td><td>2.898193270405837</td><td>1.4418871992068842</td><td>31281.433117567565</td><td>15.317067215349418</td><td>0</td><td>0</td><td>1</td><td>0.0</td><td>0.0</td><td>1.0</td></tr>\n",
       "<tr><td>...</td><td>...</td><td>...</td><td>...</td><td>...</td><td>...</td><td>...</td><td>...</td><td>...</td><td>...</td><td>...</td><td>...</td><td>...</td><td>...</td><td>...</td><td>...</td><td>...</td><td>...</td><td>...</td><td>...</td><td>...</td><td>...</td><td>...</td><td>...</td><td>...</td><td>...</td><td>...</td><td>...</td><td>...</td><td>...</td><td>...</td><td>...</td><td>...</td><td>...</td><td>...</td><td>...</td><td>...</td><td>...</td><td>...</td><td>...</td><td>...</td><td>...</td><td>...</td><td>...</td><td>...</td><td>...</td><td>...</td><td>...</td><td>...</td><td>...</td><td>...</td><td>...</td></tr>\n",
       "<tr><td>621</td><td>1237668298753572924</td><td>3106496457511823360</td><td>24.4061282776366</td><td>215.371621774774</td><td>18.0512614829322</td><td>17.74818</td><td>16.15213</td><td>15.36325</td><td>14.94471</td><td>14.62876</td><td>0.02593488</td><td>0.004075284</td><td>0.003234253</td><td>0.00324652</td><td>0.006144763</td><td>0.062067</td><td>0.015144</td><td>0.05288839</td><td>1.16196e-05</td><td>0.7421744</td><td>4</td><td>10.80266</td><td>10.71056</td><td>10.89803</td><td>0.07934813</td><td>-0.3861111</td><td>0.4791367</td><td>-10.78347</td><td>-11.25241</td><td>-10.3769</td><td>17442020000.0</td><td>15406860000.0</td><td>21919380000.0</td><td>6978492000.0</td><td>5978926000.0</td><td>9077583000.0</td><td>0.8414291</td><td>61437</td><td>0.051</td><td>14.21</td><td>0.87</td><td>1.4592600920535845</td><td>1.6773104506363041</td><td>538.6537390700487</td><td>0.6028818492746866</td><td>1</td><td>0</td><td>0</td><td>0.6</td><td>0.05</td><td>0.35</td></tr>\n",
       "<tr><td>621</td><td>1237668298753572940</td><td>3106497831901358080</td><td>19.6147533227197</td><td>215.378295753308</td><td>17.9628659986721</td><td>18.78016</td><td>16.8751</td><td>16.05713</td><td>15.70129</td><td>15.3961</td><td>0.04422491</td><td>0.005117588</td><td>0.003893003</td><td>0.004043145</td><td>0.007992497</td><td>0.061098</td><td>0.013664</td><td>0.05317262</td><td>1.342059e-05</td><td>1.0</td><td>-1</td><td>10.50666</td><td>10.40923</td><td>10.60186</td><td>-1.859243</td><td>-3.060562</td><td>-0.8646889</td><td>-12.37289</td><td>-13.57245</td><td>-11.39058</td><td>19485360000.0</td><td>15164040000.0</td><td>25497620000.0</td><td>7428298000.0</td><td>5329207000.0</td><td>8577799000.0</td><td>0.8414291</td><td>61438</td><td>0.051</td><td>14.21</td><td>0.87</td><td>1.1727803121295424</td><td>1.348023347275336</td><td>619.7289154138535</td><td>0.6936242849046897</td><td>0</td><td>0</td><td>0</td><td>0.43</td><td>0.16</td><td>0.41</td></tr>\n",
       "<tr><td>621</td><td>1237668298753638494</td><td>3106507727506008064</td><td>24.8368669936798</td><td>215.51186495609</td><td>17.9847938566379</td><td>20.64216</td><td>18.87731</td><td>17.57163</td><td>17.11151</td><td>16.76354</td><td>0.1248112</td><td>0.01356905</td><td>0.007199523</td><td>0.006999911</td><td>0.01460364</td><td>0.209781</td><td>0.011292</td><td>0.2135053</td><td>2.978448e-05</td><td>1.0</td><td>-1</td><td>11.30168</td><td>11.21362</td><td>11.38956</td><td>-0.4002067</td><td>-1.693184</td><td>0.1930387</td><td>-11.75424</td><td>-13.01375</td><td>-11.14583</td><td>222259400000.0</td><td>121817500000.0</td><td>224085600000.0</td><td>7828124000.0</td><td>4679489000.0</td><td>7978059000.0</td><td>0.8389362</td><td>61441</td><td>0.051</td><td>14.21</td><td>0.87</td><td>1.4850142719576618</td><td>1.7069129562731744</td><td>46353.81857757127</td><td>51.880965150703794</td><td>0</td><td>0</td><td>1</td><td>0.0</td><td>0.0</td><td>1.0</td></tr>\n",
       "<tr><td>621</td><td>1237668298753638552</td><td>3106508277261821952</td><td>21.3949043307702</td><td>215.564621941308</td><td>17.8342187260298</td><td>18.70143</td><td>16.81321</td><td>15.91124</td><td>15.49212</td><td>15.1369</td><td>0.03325303</td><td>0.004470765</td><td>0.003397115</td><td>0.003410189</td><td>0.005797167</td><td>0.068822</td><td>0.011665</td><td>0.05369141</td><td>2.440189e-05</td><td>1.0</td><td>-1</td><td>10.69176</td><td>10.60339</td><td>10.77511</td><td>-1.449345</td><td>-2.663464</td><td>-0.6384314</td><td>-12.18029</td><td>-13.42297</td><td>-11.36839</td><td>33494660000.0</td><td>24734430000.0</td><td>40794850000.0</td><td>6478709000.0</td><td>4729467000.0</td><td>8227951000.0</td><td>0.8389362</td><td>61442</td><td>0.051</td><td>14.21</td><td>0.87</td><td>1.2792168306271254</td><td>1.4703641731346269</td><td>767.7111507000776</td><td>0.8592516577382765</td><td>0</td><td>0</td><td>1</td><td>0.55</td><td>0.05</td><td>0.4</td></tr>\n",
       "<tr><td>621</td><td>1237668298753638558</td><td>3107575352826816512</td><td>27.5772134979582</td><td>215.59091115017</td><td>17.9760298689467</td><td>19.29701</td><td>17.71298</td><td>16.80243</td><td>16.4208</td><td>16.11881</td><td>0.04636884</td><td>0.006804011</td><td>0.004848856</td><td>0.004918806</td><td>0.009840742</td><td>0.131212</td><td>0.014768</td><td>0.1057884</td><td>1.416339e-05</td><td>0.955299</td><td>3</td><td>10.80774</td><td>10.71577</td><td>10.89744</td><td>-0.2723031</td><td>-1.23828</td><td>0.1666016</td><td>-11.13495</td><td>-12.13784</td><td>-10.68972</td><td>48776540000.0</td><td>38713410000.0</td><td>62194040000.0</td><td>4729467000.0</td><td>3529988000.0</td><td>6128861000.0</td><td>0.8389362</td><td>61443</td><td>0.051</td><td>14.21</td><td>0.87</td><td>1.648861574840037</td><td>1.8952431894713069</td><td>15628.1152291981</td><td>17.491583788730704</td><td>0</td><td>0</td><td>1</td><td>0.0</td><td>0.0</td><td>1.0</td></tr>\n",
       "<tr><td>621</td><td>1237668298753704075</td><td>3106518997500192768</td><td>29.0982272353812</td><td>215.708650953888</td><td>17.842862760087</td><td>19.63309</td><td>18.29796</td><td>17.58219</td><td>17.18536</td><td>16.91734</td><td>0.06378276</td><td>0.009777477</td><td>0.007651044</td><td>0.007804656</td><td>0.01891397</td><td>0.114182</td><td>0.024172</td><td>0.1057984</td><td>9.134514e-06</td><td>0.1359128</td><td>2</td><td>10.41531</td><td>10.3199</td><td>10.51307</td><td>0.1338703</td><td>-0.1823042</td><td>0.4636767</td><td>-10.32803</td><td>-10.66108</td><td>-9.968572</td><td>21202230000.0</td><td>11443830000.0</td><td>29186370000.0</td><td>6378753000.0</td><td>2980226000.0</td><td>9627344000.0</td><td>0.8456267</td><td>61446</td><td>0.051</td><td>14.21</td><td>0.87</td><td>1.7398040881808534</td><td>1.999774814000981</td><td>15630.967678846053</td><td>17.49477635938229</td><td>0</td><td>0</td><td>1</td><td>0.0</td><td>0.0</td><td>1.0</td></tr>\n",
       "<tr><td>628</td><td>1237680241435410662</td><td>1325307657912870912</td><td>26.1000409222856</td><td>325.411103282443</td><td>-6.61193018638879</td><td>20.2757</td><td>18.45249</td><td>17.51126</td><td>17.05666</td><td>16.7446</td><td>0.126915</td><td>0.01073418</td><td>0.00751105</td><td>0.007122796</td><td>0.0156992</td><td>0.119076</td><td>0.028484</td><td>0.1270544</td><td>3.78139e-05</td><td>1.0</td><td>-1</td><td>10.80782</td><td>10.70508</td><td>10.91678</td><td>-0.05571845</td><td>-0.977735</td><td>0.4401512</td><td>-10.91</td><td>-11.78163</td><td>-10.40647</td><td>11030330000.0</td><td>8600688000.0</td><td>22206700000.0</td><td>1680789000.0</td><td>1181006000.0</td><td>4979359000.0</td><td>0.8136881</td><td>61449</td><td>0.054</td><td>14.34</td><td>0.96</td><td>1.6465482370784876</td><td>1.7151544136234247</td><td>20779.0874228797</td><td>21.03878242717079</td><td>0</td><td>0</td><td>1</td><td>0.0</td><td>0.0</td><td>1.0</td></tr>\n",
       "<tr><td>628</td><td>1237680241435476258</td><td>1325329373267519488</td><td>18.928206747775</td><td>325.593244197048</td><td>-6.61964715101384</td><td>20.03152</td><td>18.17387</td><td>17.25739</td><td>16.84234</td><td>16.54314</td><td>0.1019944</td><td>0.009091139</td><td>0.00643079</td><td>0.006261267</td><td>0.01383067</td><td>0.100868</td><td>0.018148</td><td>0.08846109</td><td>2.200156e-05</td><td>1.0</td><td>-1</td><td>10.57429</td><td>10.47816</td><td>10.66369</td><td>-1.744112</td><td>-2.992528</td><td>-0.8749617</td><td>-12.39189</td><td>-13.63644</td><td>-11.49551</td><td>25413700000.0</td><td>15672360000.0</td><td>36874100000.0</td><td>5629078000.0</td><td>2980226000.0</td><td>9177540000.0</td><td>0.8188183</td><td>61450</td><td>0.054</td><td>14.34</td><td>0.96</td><td>1.1941056163247123</td><td>1.2438600170049088</td><td>9801.87369683038</td><td>9.924376556554444</td><td>0</td><td>0</td><td>1</td><td>0.0</td><td>0.0</td><td>1.0</td></tr>\n",
       "<tr><td>628</td><td>1237680241435476267</td><td>1325329098389612544</td><td>17.9664010749271</td><td>325.594873615116</td><td>-6.63694954291152</td><td>20.24964</td><td>18.56263</td><td>17.65075</td><td>17.27039</td><td>16.91369</td><td>0.09520888</td><td>0.01004401</td><td>0.007138493</td><td>0.007079311</td><td>0.01464082</td><td>0.107999</td><td>0.014348</td><td>0.09007201</td><td>2.459726e-05</td><td>1.0</td><td>-1</td><td>10.357</td><td>10.26296</td><td>10.44863</td><td>-1.823545</td><td>-3.087527</td><td>-0.9487106</td><td>-12.2234</td><td>-13.5</td><td>-11.3259</td><td>37320550000.0</td><td>29102740000.0</td><td>38170670000.0</td><td>10476980000.0</td><td>8327907000.0</td><td>10726870000.0</td><td>0.8188183</td><td>61451</td><td>0.054</td><td>14.34</td><td>0.96</td><td>1.1334291047531313</td><td>1.1806553174511785</td><td>10260.072621347796</td><td>10.388302006459961</td><td>0</td><td>0</td><td>1</td><td>0.0</td><td>0.0</td><td>1.0</td></tr>\n",
       "<tr><td>628</td><td>1237680241435672996</td><td>1325353012767516672</td><td>24.7273237512941</td><td>326.062679478236</td><td>-6.64081585809522</td><td>20.69</td><td>18.99191</td><td>17.59753</td><td>17.03596</td><td>16.67424</td><td>0.2389284</td><td>0.01985536</td><td>0.009512331</td><td>0.008487734</td><td>0.02006125</td><td>0.243353</td><td>0.021398</td><td>0.2403132</td><td>4.972965e-05</td><td>1.0</td><td>-1</td><td>11.55581</td><td>11.45216</td><td>11.6652</td><td>-0.4471504</td><td>-1.74234</td><td>0.368564</td><td>-12.08493</td><td>-13.35366</td><td>-11.24949</td><td>142613700000.0</td><td>107216200000.0</td><td>179486100000.0</td><td>5629078000.0</td><td>4479576000.0</td><td>7728167000.0</td><td>0.826064</td><td>61455</td><td>0.054</td><td>14.34</td><td>0.96</td><td>1.5599489461182383</td><td>1.624946818873165</td><td>52993.63584994839</td><td>53.65594513280455</td><td>0</td><td>0</td><td>1</td><td>0.0</td><td>0.0</td><td>1.0</td></tr>\n",
       "</table>"
      ],
      "text/plain": [
       "<Table length=32489>\n",
       " Yang        objid             specobjid      ... pinfall porbital pinterloper\n",
       "int64        int64               int64        ... float64 float64    float64  \n",
       "----- ------------------- ------------------- ... ------- -------- -----------\n",
       "    2 1237665530650231112 2841934444107950080 ...     0.0      0.0         1.0\n",
       "    2 1237665530650231189 2841935543619577856 ...     0.0      0.0         1.0\n",
       "    2 1237665547827347728 2841891013398652928 ...    0.78     0.14        0.08\n",
       "    2 1237665566081483195 2838400888110868480 ...    0.87      0.0        0.13\n",
       "    2 1237665566081548691 2841874520724236288 ...    0.89      0.0        0.11\n",
       "    2 1237665566081548780 2841886065596327936 ...     0.0      0.0         1.0\n",
       "    2 1237665566618091639 2838545748767827968 ...    0.66     0.13        0.21\n",
       "    2 1237665566618288442 2838413257616680960 ...     0.0      0.0         1.0\n",
       "    2 1237665566618288465 2841878094137026560 ...     0.0      0.0         1.0\n",
       "    2 1237665566618288508 2838404186645751808 ...     0.0      0.0         1.0\n",
       "  ...                 ...                 ... ...     ...      ...         ...\n",
       "  621 1237668298753572924 3106496457511823360 ...     0.6     0.05        0.35\n",
       "  621 1237668298753572940 3106497831901358080 ...    0.43     0.16        0.41\n",
       "  621 1237668298753638494 3106507727506008064 ...     0.0      0.0         1.0\n",
       "  621 1237668298753638552 3106508277261821952 ...    0.55     0.05         0.4\n",
       "  621 1237668298753638558 3107575352826816512 ...     0.0      0.0         1.0\n",
       "  621 1237668298753704075 3106518997500192768 ...     0.0      0.0         1.0\n",
       "  628 1237680241435410662 1325307657912870912 ...     0.0      0.0         1.0\n",
       "  628 1237680241435476258 1325329373267519488 ...     0.0      0.0         1.0\n",
       "  628 1237680241435476267 1325329098389612544 ...     0.0      0.0         1.0\n",
       "  628 1237680241435672996 1325353012767516672 ...     0.0      0.0         1.0"
      ]
     },
     "execution_count": 7,
     "metadata": {},
     "output_type": "execute_result"
    }
   ],
   "source": [
    "gal0"
   ]
  },
  {
   "cell_type": "code",
   "execution_count": null,
   "metadata": {},
   "outputs": [],
   "source": []
  },
  {
   "cell_type": "code",
   "execution_count": null,
   "metadata": {},
   "outputs": [],
   "source": []
  },
  {
   "cell_type": "markdown",
   "metadata": {},
   "source": [
    "# Mask Data\n",
    "---------------------"
   ]
  },
  {
   "cell_type": "code",
   "execution_count": 53,
   "metadata": {},
   "outputs": [
    {
     "name": "stdout",
     "output_type": "stream",
     "text": [
      "Masking Galaxies\n",
      "New Size: 13507\n",
      "fraction: 0.42\n"
     ]
    }
   ],
   "source": [
    "mask = np.abs(gal0['vlosn'])<2.\n",
    "mask&= gal0['ssfr']>-20\n",
    "mask&= gal0['redshift']<0.085\n",
    "\n",
    "Nsize = np.count_nonzero(mask)\n",
    "\n",
    "print('Masking Galaxies')\n",
    "print('New Size: %i'%(Nsize))\n",
    "print('fraction: %.2f'%(1.*Nsize/len(gal0)))"
   ]
  },
  {
   "cell_type": "code",
   "execution_count": 54,
   "metadata": {},
   "outputs": [],
   "source": [
    "gal = gal0[mask].copy()"
   ]
  },
  {
   "cell_type": "code",
   "execution_count": null,
   "metadata": {},
   "outputs": [],
   "source": []
  },
  {
   "cell_type": "markdown",
   "metadata": {},
   "source": [
    "## Magnitude Limit\n",
    "---------------------------------------\n",
    "\n",
    "Definit the mass limit of the study"
   ]
  },
  {
   "cell_type": "code",
   "execution_count": 55,
   "metadata": {},
   "outputs": [],
   "source": [
    "mass = 10**np.array(gal['mass'])\n",
    "z    = np.array(gal['z'])"
   ]
  },
  {
   "cell_type": "code",
   "execution_count": 56,
   "metadata": {},
   "outputs": [
    {
     "data": {
      "image/png": "[encoded data removed]",
      "text/plain": [
       "<Figure size 432x288 with 1 Axes>"
      ]
     },
     "metadata": {
      "needs_background": "light"
     },
     "output_type": "display_data"
    }
   ],
   "source": [
    "plt.scatter(z,mass,s=10,c='k')\n",
    "plt.yscale('log')"
   ]
  },
  {
   "cell_type": "code",
   "execution_count": null,
   "metadata": {},
   "outputs": [],
   "source": []
  },
  {
   "cell_type": "markdown",
   "metadata": {},
   "source": [
    "# Dynamical Classes\n",
    "---------------------------------------\n"
   ]
  },
  {
   "cell_type": "code",
   "execution_count": 57,
   "metadata": {},
   "outputs": [],
   "source": [
    "mass = np.array(gal['mass'])\n",
    "sfr  = np.array(gal['sfr'])\n",
    "Pi   = np.array(gal['pinfall'])\n",
    "Po   = np.array(gal['porbital'])\n",
    "Pn   = np.array(gal['pinterloper'])"
   ]
  },
  {
   "cell_type": "code",
   "execution_count": null,
   "metadata": {},
   "outputs": [],
   "source": []
  },
  {
   "cell_type": "code",
   "execution_count": 58,
   "metadata": {},
   "outputs": [],
   "source": [
    "ntotal = int(np.sum(Pi+Po+Pn))"
   ]
  },
  {
   "cell_type": "code",
   "execution_count": 59,
   "metadata": {},
   "outputs": [
    {
     "data": {
      "text/plain": [
       "13507"
      ]
     },
     "execution_count": 59,
     "metadata": {},
     "output_type": "execute_result"
    }
   ],
   "source": [
    "ntotal"
   ]
  },
  {
   "cell_type": "code",
   "execution_count": 60,
   "metadata": {},
   "outputs": [
    {
     "name": "stdout",
     "output_type": "stream",
     "text": [
      "0.37731620641149033\n"
     ]
    }
   ],
   "source": [
    "wi = np.sum(Pi)/ntotal\n",
    "print(wi)"
   ]
  },
  {
   "cell_type": "code",
   "execution_count": 61,
   "metadata": {},
   "outputs": [
    {
     "name": "stdout",
     "output_type": "stream",
     "text": [
      "0.38467313244984086\n"
     ]
    }
   ],
   "source": [
    "wo = np.sum(Po)/ntotal\n",
    "print(wo)"
   ]
  },
  {
   "cell_type": "code",
   "execution_count": 62,
   "metadata": {},
   "outputs": [
    {
     "name": "stdout",
     "output_type": "stream",
     "text": [
      "0.23801066113866884\n"
     ]
    }
   ],
   "source": [
    "wn = np.sum(Pn)/ntotal\n",
    "print(wn)"
   ]
  },
  {
   "cell_type": "code",
   "execution_count": 63,
   "metadata": {},
   "outputs": [
    {
     "data": {
      "text/plain": [
       "5096"
      ]
     },
     "execution_count": 63,
     "metadata": {},
     "output_type": "execute_result"
    }
   ],
   "source": [
    "nsize = int(np.sum(Pi))\n",
    "idx = np.random.choice(ntotal, nsize, p=Pi/np.sum(Pi), replace=False)\n",
    "idx.size"
   ]
  },
  {
   "cell_type": "code",
   "execution_count": 64,
   "metadata": {},
   "outputs": [
    {
     "data": {
      "text/plain": [
       "(array([122., 389., 536., 624., 754., 761., 719., 643., 404., 144.]),\n",
       " array([0.01 , 0.107, 0.204, 0.301, 0.398, 0.495, 0.592, 0.689, 0.786,\n",
       "        0.883, 0.98 ]),\n",
       " <BarContainer object of 10 artists>)"
      ]
     },
     "execution_count": 64,
     "metadata": {},
     "output_type": "execute_result"
    },
    {
     "data": {
      "image/png": "[encoded data removed]",
      "text/plain": [
       "<Figure size 432x288 with 1 Axes>"
      ]
     },
     "metadata": {
      "needs_background": "light"
     },
     "output_type": "display_data"
    }
   ],
   "source": [
    "plt.hist(Pi)\n",
    "plt.hist(Pi[idx])"
   ]
  },
  {
   "cell_type": "code",
   "execution_count": null,
   "metadata": {},
   "outputs": [],
   "source": []
  },
  {
   "cell_type": "markdown",
   "metadata": {},
   "source": [
    "# Stellar Mass Functions\n",
    "---------------------------------------"
   ]
  },
  {
   "cell_type": "markdown",
   "metadata": {},
   "source": [
    "The Press-Schechter function for the mass distribution in this study:\n",
    "\n",
    "$$ M_\\star \\frac{dn}{dM} = N \\left(\\frac{M}{M_{\\star}}\\right)^\\alpha \\exp \\left(\\frac{-M}{M_{\\star}}\\right) $$\n",
    "\n",
    "For a lecture on the subject: http://astronomy.nmsu.edu/aklypin/AST616/LumFunction.pdf\n",
    "\n",
    "* Vmax estimator: https://github.com/manasveesaraf/lumfunc\n",
    "* Bayesian Method: https://github.com/kasperschmidt/BALFF"
   ]
  },
  {
   "cell_type": "code",
   "execution_count": 98,
   "metadata": {},
   "outputs": [],
   "source": [
    "def stellar_mass_function(m,norm,alpha,mstar):\n",
    "    x = 10**m/10**mstar\n",
    "    res = (norm/10**mstar) * (x**alpha) * np.exp(-x)\n",
    "    return res\n",
    "\n",
    "def log_stellar_mass_function(m,norm,alpha,mstar):\n",
    "    return np.log(stellar_mass_function(m,norm,alpha,mstar))"
   ]
  },
  {
   "cell_type": "code",
   "execution_count": null,
   "metadata": {},
   "outputs": [],
   "source": []
  },
  {
   "cell_type": "code",
   "execution_count": 109,
   "metadata": {},
   "outputs": [],
   "source": [
    "## weighted poisson stats: https://core.ac.uk/download/pdf/207459783.pdf\n",
    "\n",
    "def get_mass_function_data(mass,nbins=21,weights=None,eps=1e-6):\n",
    "    #mbins = np.linspace(10.,np.max(mass),21)\n",
    "    mbins = np.linspace(10.25,11.75,21)\n",
    "    ncounts, _ = np.histogram(mass,bins=mbins)\n",
    "    wcounts, _ = np.histogram(mass,bins=mbins,weights=weights)\n",
    "    \n",
    "    ## check w/ Arya my definition of weighted Poisson error\n",
    "    weff = np.mean(weights**2)\n",
    "    poisson_err = 1/(np.sqrt(ncounts*weff)+eps)\n",
    "    mean = 0.5*(mbins[1:]+mbins[:-1])\n",
    "    return mean,wcounts,poisson_err"
   ]
  },
  {
   "cell_type": "code",
   "execution_count": 110,
   "metadata": {},
   "outputs": [],
   "source": [
    "smf = dict()\n",
    "\n",
    "smf['orbital'] = get_mass_function_data(mass,nbins=21,weights=Po)\n",
    "smf['infall'] = get_mass_function_data(mass,nbins=21,weights=Pi)\n",
    "smf['interlopers']  = get_mass_function_data(mass,nbins=21,weights=Pn)"
   ]
  },
  {
   "cell_type": "code",
   "execution_count": null,
   "metadata": {},
   "outputs": [],
   "source": []
  },
  {
   "cell_type": "code",
   "execution_count": null,
   "metadata": {},
   "outputs": [],
   "source": []
  },
  {
   "cell_type": "code",
   "execution_count": 123,
   "metadata": {},
   "outputs": [],
   "source": [
    "import scipy.optimize\n",
    "\n",
    "x,y,yerr = smf['infall']\n",
    "\n",
    "p0 = np.array([ 5.08547115e+13, -1.,  1.11960295e+01])\n",
    "popt, pcov = scipy.optimize.curve_fit(\n",
    "    log_stellar_mass_function, x, np.log(y), \n",
    "    bounds=((p0[0]-100,p0[1]-1.,p0[2]-2),\\\n",
    "            (p0[0]+100,p0[1]+1.,p0[2]+2)))"
   ]
  },
  {
   "cell_type": "code",
   "execution_count": 124,
   "metadata": {
    "scrolled": true
   },
   "outputs": [
    {
     "data": {
      "text/plain": [
       "array([ 5.08547115e+13, -5.88355452e-01,  1.10616048e+01])"
      ]
     },
     "execution_count": 124,
     "metadata": {},
     "output_type": "execute_result"
    }
   ],
   "source": [
    "popt"
   ]
  },
  {
   "cell_type": "code",
   "execution_count": null,
   "metadata": {},
   "outputs": [],
   "source": []
  },
  {
   "cell_type": "code",
   "execution_count": 125,
   "metadata": {},
   "outputs": [
    {
     "data": {
      "text/plain": [
       "Text(0.5, 1.0, 'Stellar Mass Function')"
      ]
     },
     "execution_count": 125,
     "metadata": {},
     "output_type": "execute_result"
    },
    {
     "data": {
      "image/png": "[encoded data removed]",
      "text/plain": [
       "<Figure size 432x288 with 1 Axes>"
      ]
     },
     "metadata": {
      "needs_background": "light"
     },
     "output_type": "display_data"
    }
   ],
   "source": [
    "x,y,yerr = smf['orbital']\n",
    "plt.errorbar(x,y,yerr=yerr,fmt='or',label='Orbital')\n",
    "\n",
    "x,y,yerr = smf['infall']\n",
    "plt.errorbar(x,y,yerr=yerr,fmt='ob',label='Infall')\n",
    "\n",
    "x,y,yerr = smf['interlopers']\n",
    "plt.errorbar(x,y,yerr=yerr,fmt='ok',label='Interloper')\n",
    "plt.yscale('log')\n",
    "\n",
    "plt.legend(fontsize=14)\n",
    "plt.xlabel(r'Log($M_\\star/M_{\\odot}$)',fontsize=18)\n",
    "plt.ylabel(r'N [dex$^{-1}$]',fontsize=18)\n",
    "\n",
    "\n",
    "# popt = np.array([ 9.85471153e+12, -7.86930576e-01,  1.16259085e+01])\n",
    "# popt = np.array([ 5.08547115e+13, -0.9,  1.10616048e+01])\n",
    "plt.plot(x,stellar_mass_function(x,*popt),'b--',lw=2)\n",
    "plt.title('Stellar Mass Function')"
   ]
  },
  {
   "cell_type": "code",
   "execution_count": 126,
   "metadata": {},
   "outputs": [
    {
     "data": {
      "text/plain": [
       "(0.001, 158.4893192461111)"
      ]
     },
     "execution_count": 126,
     "metadata": {},
     "output_type": "execute_result"
    },
    {
     "data": {
      "image/png": "[encoded data removed]",
      "text/plain": [
       "<Figure size 432x288 with 1 Axes>"
      ]
     },
     "metadata": {
      "needs_background": "light"
     },
     "output_type": "display_data"
    }
   ],
   "source": [
    "mstar=10.8\n",
    "alpha=-2.5\n",
    "norm = 10**12/(10**mstar)\n",
    "\n",
    "plt.plot(x,norm*(10**x/10**mstar)**alpha,'b--')\n",
    "plt.plot(x,norm*np.exp(-10**x/10**mstar),'r--')\n",
    "\n",
    "plt.plot(x,norm*np.exp(-10**x/10**mstar)*(10**x/10**mstar)**alpha,'k--')\n",
    "\n",
    "plt.yscale('log')\n",
    "plt.ylim(1e-3,10*norm)"
   ]
  },
  {
   "cell_type": "code",
   "execution_count": null,
   "metadata": {},
   "outputs": [],
   "source": []
  },
  {
   "cell_type": "code",
   "execution_count": null,
   "metadata": {},
   "outputs": [],
   "source": []
  },
  {
   "cell_type": "code",
   "execution_count": null,
   "metadata": {},
   "outputs": [],
   "source": []
  },
  {
   "cell_type": "code",
   "execution_count": 27,
   "metadata": {},
   "outputs": [
    {
     "data": {
      "text/plain": [
       "-0.020202707316108803"
      ]
     },
     "execution_count": 27,
     "metadata": {},
     "output_type": "execute_result"
    }
   ],
   "source": [
    "np.min(np.log(y))"
   ]
  },
  {
   "cell_type": "code",
   "execution_count": 28,
   "metadata": {},
   "outputs": [
    {
     "data": {
      "text/plain": [
       "array([ 5.08547115e+13, -2.30595950e-01,  1.11960295e+01])"
      ]
     },
     "execution_count": 28,
     "metadata": {},
     "output_type": "execute_result"
    }
   ],
   "source": [
    "popt"
   ]
  },
  {
   "cell_type": "code",
   "execution_count": 29,
   "metadata": {},
   "outputs": [
    {
     "name": "stdout",
     "output_type": "stream",
     "text": [
      "Help on function curve_fit in module scipy.optimize.minpack:\n",
      "\n",
      "curve_fit(f, xdata, ydata, p0=None, sigma=None, absolute_sigma=False, check_finite=True, bounds=(-inf, inf), method=None, jac=None, **kwargs)\n",
      "    Use non-linear least squares to fit a function, f, to data.\n",
      "    \n",
      "    Assumes ``ydata = f(xdata, *params) + eps``.\n",
      "    \n",
      "    Parameters\n",
      "    ----------\n",
      "    f : callable\n",
      "        The model function, f(x, ...). It must take the independent\n",
      "        variable as the first argument and the parameters to fit as\n",
      "        separate remaining arguments.\n",
      "    xdata : array_like or object\n",
      "        The independent variable where the data is measured.\n",
      "        Should usually be an M-length sequence or an (k,M)-shaped array for\n",
      "        functions with k predictors, but can actually be any object.\n",
      "    ydata : array_like\n",
      "        The dependent data, a length M array - nominally ``f(xdata, ...)``.\n",
      "    p0 : array_like, optional\n",
      "        Initial guess for the parameters (length N). If None, then the\n",
      "        initial values will all be 1 (if the number of parameters for the\n",
      "        function can be determined using introspection, otherwise a\n",
      "        ValueError is raised).\n",
      "    sigma : None or M-length sequence or MxM array, optional\n",
      "        Determines the uncertainty in `ydata`. If we define residuals as\n",
      "        ``r = ydata - f(xdata, *popt)``, then the interpretation of `sigma`\n",
      "        depends on its number of dimensions:\n",
      "    \n",
      "            - A 1-D `sigma` should contain values of standard deviations of\n",
      "              errors in `ydata`. In this case, the optimized function is\n",
      "              ``chisq = sum((r / sigma) ** 2)``.\n",
      "    \n",
      "            - A 2-D `sigma` should contain the covariance matrix of\n",
      "              errors in `ydata`. In this case, the optimized function is\n",
      "              ``chisq = r.T @ inv(sigma) @ r``.\n",
      "    \n",
      "              .. versionadded:: 0.19\n",
      "    \n",
      "        None (default) is equivalent of 1-D `sigma` filled with ones.\n",
      "    absolute_sigma : bool, optional\n",
      "        If True, `sigma` is used in an absolute sense and the estimated parameter\n",
      "        covariance `pcov` reflects these absolute values.\n",
      "    \n",
      "        If False (default), only the relative magnitudes of the `sigma` values matter.\n",
      "        The returned parameter covariance matrix `pcov` is based on scaling\n",
      "        `sigma` by a constant factor. This constant is set by demanding that the\n",
      "        reduced `chisq` for the optimal parameters `popt` when using the\n",
      "        *scaled* `sigma` equals unity. In other words, `sigma` is scaled to\n",
      "        match the sample variance of the residuals after the fit. Default is False.\n",
      "        Mathematically,\n",
      "        ``pcov(absolute_sigma=False) = pcov(absolute_sigma=True) * chisq(popt)/(M-N)``\n",
      "    check_finite : bool, optional\n",
      "        If True, check that the input arrays do not contain nans of infs,\n",
      "        and raise a ValueError if they do. Setting this parameter to\n",
      "        False may silently produce nonsensical results if the input arrays\n",
      "        do contain nans. Default is True.\n",
      "    bounds : 2-tuple of array_like, optional\n",
      "        Lower and upper bounds on parameters. Defaults to no bounds.\n",
      "        Each element of the tuple must be either an array with the length equal\n",
      "        to the number of parameters, or a scalar (in which case the bound is\n",
      "        taken to be the same for all parameters). Use ``np.inf`` with an\n",
      "        appropriate sign to disable bounds on all or some parameters.\n",
      "    \n",
      "        .. versionadded:: 0.17\n",
      "    method : {'lm', 'trf', 'dogbox'}, optional\n",
      "        Method to use for optimization. See `least_squares` for more details.\n",
      "        Default is 'lm' for unconstrained problems and 'trf' if `bounds` are\n",
      "        provided. The method 'lm' won't work when the number of observations\n",
      "        is less than the number of variables, use 'trf' or 'dogbox' in this\n",
      "        case.\n",
      "    \n",
      "        .. versionadded:: 0.17\n",
      "    jac : callable, string or None, optional\n",
      "        Function with signature ``jac(x, ...)`` which computes the Jacobian\n",
      "        matrix of the model function with respect to parameters as a dense\n",
      "        array_like structure. It will be scaled according to provided `sigma`.\n",
      "        If None (default), the Jacobian will be estimated numerically.\n",
      "        String keywords for 'trf' and 'dogbox' methods can be used to select\n",
      "        a finite difference scheme, see `least_squares`.\n",
      "    \n",
      "        .. versionadded:: 0.18\n",
      "    kwargs\n",
      "        Keyword arguments passed to `leastsq` for ``method='lm'`` or\n",
      "        `least_squares` otherwise.\n",
      "    \n",
      "    Returns\n",
      "    -------\n",
      "    popt : array\n",
      "        Optimal values for the parameters so that the sum of the squared\n",
      "        residuals of ``f(xdata, *popt) - ydata`` is minimized.\n",
      "    pcov : 2-D array\n",
      "        The estimated covariance of popt. The diagonals provide the variance\n",
      "        of the parameter estimate. To compute one standard deviation errors\n",
      "        on the parameters use ``perr = np.sqrt(np.diag(pcov))``.\n",
      "    \n",
      "        How the `sigma` parameter affects the estimated covariance\n",
      "        depends on `absolute_sigma` argument, as described above.\n",
      "    \n",
      "        If the Jacobian matrix at the solution doesn't have a full rank, then\n",
      "        'lm' method returns a matrix filled with ``np.inf``, on the other hand\n",
      "        'trf'  and 'dogbox' methods use Moore-Penrose pseudoinverse to compute\n",
      "        the covariance matrix.\n",
      "    \n",
      "    Raises\n",
      "    ------\n",
      "    ValueError\n",
      "        if either `ydata` or `xdata` contain NaNs, or if incompatible options\n",
      "        are used.\n",
      "    \n",
      "    RuntimeError\n",
      "        if the least-squares minimization fails.\n",
      "    \n",
      "    OptimizeWarning\n",
      "        if covariance of the parameters can not be estimated.\n",
      "    \n",
      "    See Also\n",
      "    --------\n",
      "    least_squares : Minimize the sum of squares of nonlinear functions.\n",
      "    scipy.stats.linregress : Calculate a linear least squares regression for\n",
      "                             two sets of measurements.\n",
      "    \n",
      "    Notes\n",
      "    -----\n",
      "    With ``method='lm'``, the algorithm uses the Levenberg-Marquardt algorithm\n",
      "    through `leastsq`. Note that this algorithm can only deal with\n",
      "    unconstrained problems.\n",
      "    \n",
      "    Box constraints can be handled by methods 'trf' and 'dogbox'. Refer to\n",
      "    the docstring of `least_squares` for more information.\n",
      "    \n",
      "    Examples\n",
      "    --------\n",
      "    >>> import matplotlib.pyplot as plt\n",
      "    >>> from scipy.optimize import curve_fit\n",
      "    \n",
      "    >>> def func(x, a, b, c):\n",
      "    ...     return a * np.exp(-b * x) + c\n",
      "    \n",
      "    Define the data to be fit with some noise:\n",
      "    \n",
      "    >>> xdata = np.linspace(0, 4, 50)\n",
      "    >>> y = func(xdata, 2.5, 1.3, 0.5)\n",
      "    >>> np.random.seed(1729)\n",
      "    >>> y_noise = 0.2 * np.random.normal(size=xdata.size)\n",
      "    >>> ydata = y + y_noise\n",
      "    >>> plt.plot(xdata, ydata, 'b-', label='data')\n",
      "    \n",
      "    Fit for the parameters a, b, c of the function `func`:\n",
      "    \n",
      "    >>> popt, pcov = curve_fit(func, xdata, ydata)\n",
      "    >>> popt\n",
      "    array([ 2.55423706,  1.35190947,  0.47450618])\n",
      "    >>> plt.plot(xdata, func(xdata, *popt), 'r-',\n",
      "    ...          label='fit: a=%5.3f, b=%5.3f, c=%5.3f' % tuple(popt))\n",
      "    \n",
      "    Constrain the optimization to the region of ``0 <= a <= 3``,\n",
      "    ``0 <= b <= 1`` and ``0 <= c <= 0.5``:\n",
      "    \n",
      "    >>> popt, pcov = curve_fit(func, xdata, ydata, bounds=(0, [3., 1., 0.5]))\n",
      "    >>> popt\n",
      "    array([ 2.43708906,  1.        ,  0.35015434])\n",
      "    >>> plt.plot(xdata, func(xdata, *popt), 'g--',\n",
      "    ...          label='fit: a=%5.3f, b=%5.3f, c=%5.3f' % tuple(popt))\n",
      "    \n",
      "    >>> plt.xlabel('x')\n",
      "    >>> plt.ylabel('y')\n",
      "    >>> plt.legend()\n",
      "    >>> plt.show()\n",
      "\n"
     ]
    }
   ],
   "source": [
    "import scipy.optimize\n",
    "\n",
    "help(scipy.optimize.curve_fit)"
   ]
  },
  {
   "cell_type": "code",
   "execution_count": null,
   "metadata": {},
   "outputs": [],
   "source": []
  },
  {
   "cell_type": "code",
   "execution_count": null,
   "metadata": {},
   "outputs": [],
   "source": []
  },
  {
   "cell_type": "code",
   "execution_count": null,
   "metadata": {},
   "outputs": [],
   "source": []
  },
  {
   "cell_type": "code",
   "execution_count": null,
   "metadata": {},
   "outputs": [],
   "source": []
  }
 ],
 "metadata": {
  "kernelspec": {
   "display_name": "Python 3",
   "language": "python",
   "name": "python3"
  },
  "language_info": {
   "codemirror_mode": {
    "name": "ipython",
    "version": 3
   },
   "file_extension": ".py",
   "mimetype": "text/x-python",
   "name": "python",
   "nbconvert_exporter": "python",
   "pygments_lexer": "ipython3",
   "version": "3.8.8"
  }
 },
 "nbformat": 4,
 "nbformat_minor": 4
}
