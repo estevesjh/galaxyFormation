{
 "cells": [
  {
   "cell_type": "markdown",
   "id": "f755332f",
   "metadata": {},
   "source": [
    "# Logistic Regression Model\n",
    "\n",
    "In this notebook we model the probability of a galaxy of being quenched using a logistic regression model. First, we explore the dependence of quenching with three galaxy properties stellar mass, distance from the cluster center and line of sight velocity. Second, we explore correlations with the halo properties. In the Bayesian Hierarchical framework we will estimate for each halo the slope between quenching and a galaxy property with the constraint of the overall dataset."
   ]
  },
  {
   "cell_type": "code",
   "execution_count": 1,
   "id": "75ff36aa",
   "metadata": {
    "ExecuteTime": {
     "end_time": "2022-06-09T22:05:56.546959Z",
     "start_time": "2022-06-09T22:05:35.805467Z"
    }
   },
   "outputs": [],
   "source": [
    "%matplotlib inline\n",
    "\n",
    "import pickle\n",
    "# from collections import OrderedDict\n",
    "\n",
    "import pandas as pd\n",
    "import numpy as np\n",
    "from scipy import stats\n",
    "\n",
    "from sklearn import preprocessing\n",
    "from sklearn.model_selection import train_test_split\n",
    "from sklearn.metrics import (roc_curve, roc_auc_score, confusion_matrix, accuracy_score, f1_score, \n",
    "                             precision_recall_curve) \n",
    "# from mlxtend.plotting import plot_confusion_matrix\n",
    "\n",
    "# import theano\n",
    "import pymc3 as pm\n",
    "\n",
    "# from pymc3.variational.callbacks import CheckParametersConvergence\n",
    "import statsmodels.formula.api as smf\n",
    "\n",
    "import arviz as az\n",
    "import matplotlib.pyplot as plt\n",
    "import matplotlib.cm as cm\n",
    "\n",
    "import seaborn as sns\n",
    "from IPython.display import HTML"
   ]
  },
  {
   "cell_type": "code",
   "execution_count": 2,
   "id": "fbaf7e29",
   "metadata": {
    "ExecuteTime": {
     "end_time": "2022-06-09T22:05:56.551035Z",
     "start_time": "2022-06-09T22:05:56.548115Z"
    }
   },
   "outputs": [
    {
     "name": "stdout",
     "output_type": "stream",
     "text": [
      "/Users/jesteves/Documents/GitHub/galaxyFormation\n"
     ]
    }
   ],
   "source": [
    "cd .."
   ]
  },
  {
   "cell_type": "markdown",
   "id": "96de7570",
   "metadata": {},
   "source": [
    "## Load the Data"
   ]
  },
  {
   "cell_type": "code",
   "execution_count": 3,
   "id": "516ea4a6",
   "metadata": {
    "ExecuteTime": {
     "end_time": "2022-06-09T22:05:57.061122Z",
     "start_time": "2022-06-09T22:05:56.555130Z"
    }
   },
   "outputs": [],
   "source": [
    "import sys\n",
    "sys.path.append('./scripts')\n",
    "from file_loc import FileLocs\n",
    "from utils import check_non_valid_number, gaussian_kde\n",
    "import seaborn as sns\n",
    "sns.set_context('poster', font_scale=0.7)"
   ]
  },
  {
   "cell_type": "code",
   "execution_count": 4,
   "id": "3bc7c70a",
   "metadata": {
    "ExecuteTime": {
     "end_time": "2022-06-09T22:06:00.229785Z",
     "start_time": "2022-06-09T22:05:57.062398Z"
    }
   },
   "outputs": [
    {
     "name": "stdout",
     "output_type": "stream",
     "text": [
      "Loading Catalog: ./data/catalogs/SDSS/groups_deCarvalho2017_R200m_galaxies_final_flag_johnnyheq_pp.csv\n",
      "Loading Catalog: ./data/catalogs/SDSS/groupCatalog_Yang_deCarvalho2017_frac_vl.csv\n"
     ]
    }
   ],
   "source": [
    "fl = FileLocs(dataset='sdss')\n",
    "gal0 = fl.load_catalogs('galaxy/main')\n",
    "\n",
    "mask  = (gal0['VLOS_MASK']).astype(bool)\n",
    "mask &= gal0['VOLUME_LIM_MASK'].astype(bool)\n",
    "mask &= gal0['p_infall']>0.5\n",
    "\n",
    "gal = gal0[mask].copy()\n",
    "cat = fl.load_catalogs('cluster/frac_vl')"
   ]
  },
  {
   "cell_type": "code",
   "execution_count": 5,
   "id": "8463f311",
   "metadata": {
    "ExecuteTime": {
     "end_time": "2022-06-09T22:06:00.235941Z",
     "start_time": "2022-06-09T22:06:00.230643Z"
    }
   },
   "outputs": [],
   "source": [
    "gid = np.array(gal['Yang'])\n",
    "\n",
    "zgal = np.array(gal['z'])\n",
    "Mr   = np.array(gal['Mr'])\n",
    "\n",
    "log_smass = np.array(gal['mass'])\n",
    "smass = 10**log_smass\n",
    "redshift = np.array(gal['redshift'])\n",
    "\n",
    "rn = np.array(gal['Rm'])\n",
    "vn = np.array(gal['vlosn'])\n",
    "morph_type = np.array(gal['TType'])\n",
    "ssfr = np.array(gal['ssfr'])\n",
    "\n",
    "# sfr classification\n",
    "sf   = np.array(gal['SF']).astype(int)\n",
    "qf   = (1-sf).astype(int)\n",
    "\n",
    "# morphological classification\n",
    "sp   = np.where(gal['TType'] > 0, 1, 0).astype(int)\n",
    "ell  = np.where(gal['TType'] <=0, 1, 0).astype(int)\n",
    "s0   = check_non_valid_number(gal['Pbulge'])\n",
    "s0[np.isnan(s0)] = 0.\n",
    "\n",
    "# b/t definition\n",
    "bt = np.array(gal['BT'])\n",
    "bt2 = np.where(bt>=0.5,1.,bt)\n",
    "bt2 = np.where(bt<0.5,0.,bt2)\n",
    "\n",
    "# dynamical probabilities\n",
    "Pi   = np.array(gal['p_infall'])\n",
    "Po   = np.array(gal['p_orbital'])\n",
    "Pn   = np.array(gal['p_interlopers'])\n",
    "Pf = np.where(rn>2,Pn,0.)\n",
    "\n",
    "m200 = np.array(gal['M200c'])\n",
    "\n",
    "# mask\n",
    "bt_mask = bt>=0."
   ]
  },
  {
   "cell_type": "code",
   "execution_count": null,
   "id": "5b19a364",
   "metadata": {},
   "outputs": [],
   "source": []
  },
  {
   "cell_type": "markdown",
   "id": "fb1eaf4a",
   "metadata": {
    "ExecuteTime": {
     "end_time": "2022-06-09T20:01:28.747113Z",
     "start_time": "2022-06-09T20:01:28.738967Z"
    }
   },
   "source": [
    "## Quenching Model\n",
    "\n",
    "The likelihood is:\n",
    "$$\n",
    "P(Quenched, Galaxy | R, M_{\\star}, \\sigma,) = Logit(R,M_{\\star}, \\sigma) \\times Bernoulli(p_{infall})\n",
    "$$\n",
    "\n",
    "With the Logit model and the linear relation\n",
    "$$\n",
    "y = b_0 + b_1 (R/R_{200m}) + b_{2} (M_{\\star}/M_0) + b_3 \\sigma\n",
    "$$"
   ]
  },
  {
   "cell_type": "code",
   "execution_count": 6,
   "id": "102a720e",
   "metadata": {
    "ExecuteTime": {
     "end_time": "2022-06-09T22:06:00.240458Z",
     "start_time": "2022-06-09T22:06:00.236932Z"
    }
   },
   "outputs": [],
   "source": [
    "county_idxs, counties = pd.factorize(gid)\n",
    "coords = {\n",
    "    \"county\": counties,\n",
    "    \"obs_id\": np.arange(len(county_idxs)),\n",
    "}"
   ]
  },
  {
   "cell_type": "code",
   "execution_count": 7,
   "id": "3892c76a",
   "metadata": {
    "ExecuteTime": {
     "end_time": "2022-06-09T22:06:05.840428Z",
     "start_time": "2022-06-09T22:06:00.242759Z"
    }
   },
   "outputs": [],
   "source": [
    "with pm.Model(coords=coords) as manual_logistic_model:\n",
    "    # Independent parameters for each county\n",
    "    # cluster ID\n",
    "    cidx = pm.Data(\"county_idx\", county_idxs, dims=\"obs_id\")\n",
    "    \n",
    "    # x variables\n",
    "    Rn = pm.Data(\"Rn\", rn, dims=\"obs_id\")\n",
    "    Vn = pm.Data(\"Vn\", vn, dims=\"obs_id\")\n",
    "    Ms = pm.Data(\"Ms\", np.log10(smass/1e10), dims=\"obs_id\")\n",
    "    \n",
    "    # Hyperpriors:\n",
    "    b0 = pm.Normal(\"b0\", mu=0.0, sigma=20.0)\n",
    "    b1 = pm.Normal(\"b1\", mu=0.0, sigma=20.0)\n",
    "    b2 = pm.Normal(\"b2\", mu=0.0, sigma=20.0)\n",
    "    b3 = pm.Normal(\"b3\", mu=0.0, sigma=20.0)\n",
    "    \n",
    "    s0 = pm.Exponential(\"s0\", 1.0)\n",
    "    s1 = pm.Exponential(\"s1\", 1.0)\n",
    "    s2 = pm.Exponential(\"s2\", 1.0)\n",
    "    s3 = pm.Exponential(\"s3\", 1.0)\n",
    "    \n",
    "    # slopes & intercept for each cluster\n",
    "    intercept = b0 #pm.Normal('intercept', mu=b0, sigma=s0, dims=\"county\")\n",
    "    beta_1 = pm.Normal('b_1_cls', mu=b1, sigma=s1, dims=\"county\")\n",
    "    beta_2 = pm.Normal('b_2_cls', mu=b2, sigma=s2, dims=\"county\")\n",
    "    beta_3 = pm.Normal('b_3_cls', mu=b3, sigma=s3, dims=\"county\")\n",
    "    \n",
    "    # Transform random variables into vector of probabilities p(y_i=1)\n",
    "    # according to logistic regression model specification.\n",
    "    likelihood = pm.invlogit(intercept[cidx] + beta_1[cidx] * Rn \n",
    "                             + beta_2[cidx] * Ms + beta_3[cidx] * Vn)\n",
    "        \n",
    "    # Bernoulli random vector with probability of success\n",
    "    # given by sigmoid function and actual data as observed\n",
    "    pm.Bernoulli(name='logit', p=likelihood, observed=qf, dims=\"obs_id\")\n",
    "    \n",
    "# pm.model_to_graphviz(manual_logistic_model)"
   ]
  },
  {
   "cell_type": "code",
   "execution_count": 8,
   "id": "cab2c199",
   "metadata": {
    "ExecuteTime": {
     "end_time": "2022-06-09T22:06:10.570345Z",
     "start_time": "2022-06-09T22:06:05.848146Z"
    }
   },
   "outputs": [
    {
     "data": {
      "image/svg+xml": [
       "<?xml version=\"1.0\" encoding=\"UTF-8\" standalone=\"no\"?>\n",
       "<!DOCTYPE svg PUBLIC \"-//W3C//DTD SVG 1.1//EN\"\n",
       " \"http://www.w3.org/Graphics/SVG/1.1/DTD/svg11.dtd\">\n",
       "<!-- Generated by graphviz version 2.47.1 (0)\n",
       " -->\n",
       "<!-- Pages: 1 -->\n",
       "<svg width=\"1004pt\" height=\"347pt\"\n",
       " viewBox=\"0.00 0.00 1003.72 346.86\" xmlns=\"http://www.w3.org/2000/svg\" xmlns:xlink=\"http://www.w3.org/1999/xlink\">\n",
       "<g id=\"graph0\" class=\"graph\" transform=\"scale(1 1) rotate(0) translate(4 342.86)\">\n",
       "<polygon fill=\"white\" stroke=\"transparent\" points=\"-4,4 -4,-342.86 999.72,-342.86 999.72,4 -4,4\"/>\n",
       "<g id=\"clust1\" class=\"cluster\">\n",
       "<title>cluster13,302</title>\n",
       "<path fill=\"none\" stroke=\"black\" d=\"M20,-8C20,-8 308,-8 308,-8 314,-8 320,-14 320,-20 320,-20 320,-212.93 320,-212.93 320,-218.93 314,-224.93 308,-224.93 308,-224.93 20,-224.93 20,-224.93 14,-224.93 8,-218.93 8,-212.93 8,-212.93 8,-20 8,-20 8,-14 14,-8 20,-8\"/>\n",
       "<text text-anchor=\"middle\" x=\"292.5\" y=\"-15.8\" font-family=\"Times,serif\" font-size=\"14.00\">13,302</text>\n",
       "</g>\n",
       "<g id=\"clust2\" class=\"cluster\">\n",
       "<title>cluster319</title>\n",
       "<path fill=\"none\" stroke=\"black\" d=\"M340,-121.95C340,-121.95 731,-121.95 731,-121.95 737,-121.95 743,-127.95 743,-133.95 743,-133.95 743,-223.91 743,-223.91 743,-229.91 737,-235.91 731,-235.91 731,-235.91 340,-235.91 340,-235.91 334,-235.91 328,-229.91 328,-223.91 328,-223.91 328,-133.95 328,-133.95 328,-127.95 334,-121.95 340,-121.95\"/>\n",
       "<text text-anchor=\"middle\" x=\"724\" y=\"-129.75\" font-family=\"Times,serif\" font-size=\"14.00\">319</text>\n",
       "</g>\n",
       "<!-- Vn -->\n",
       "<g id=\"node1\" class=\"node\">\n",
       "<title>Vn</title>\n",
       "<path fill=\"lightgrey\" stroke=\"black\" d=\"M300,-216.93C300,-216.93 270,-216.93 270,-216.93 264,-216.93 258,-210.93 258,-204.93 258,-204.93 258,-175.93 258,-175.93 258,-169.93 264,-163.93 270,-163.93 270,-163.93 300,-163.93 300,-163.93 306,-163.93 312,-169.93 312,-175.93 312,-175.93 312,-204.93 312,-204.93 312,-210.93 306,-216.93 300,-216.93\"/>\n",
       "<text text-anchor=\"middle\" x=\"285\" y=\"-201.73\" font-family=\"Times,serif\" font-size=\"14.00\">Vn</text>\n",
       "<text text-anchor=\"middle\" x=\"285\" y=\"-186.73\" font-family=\"Times,serif\" font-size=\"14.00\">~</text>\n",
       "<text text-anchor=\"middle\" x=\"285\" y=\"-171.73\" font-family=\"Times,serif\" font-size=\"14.00\">Data</text>\n",
       "</g>\n",
       "<!-- logit -->\n",
       "<g id=\"node2\" class=\"node\">\n",
       "<title>logit</title>\n",
       "<ellipse fill=\"lightgrey\" stroke=\"black\" cx=\"263\" cy=\"-76.48\" rx=\"48.58\" ry=\"37.45\"/>\n",
       "<text text-anchor=\"middle\" x=\"263\" y=\"-87.78\" font-family=\"Times,serif\" font-size=\"14.00\">logit</text>\n",
       "<text text-anchor=\"middle\" x=\"263\" y=\"-72.78\" font-family=\"Times,serif\" font-size=\"14.00\">~</text>\n",
       "<text text-anchor=\"middle\" x=\"263\" y=\"-57.78\" font-family=\"Times,serif\" font-size=\"14.00\">Bernoulli</text>\n",
       "</g>\n",
       "<!-- Vn&#45;&gt;logit -->\n",
       "<g id=\"edge9\" class=\"edge\">\n",
       "<title>Vn&#45;&gt;logit</title>\n",
       "<path fill=\"none\" stroke=\"black\" d=\"M279.95,-163.75C277.6,-151.8 274.74,-137.22 272.04,-123.46\"/>\n",
       "<polygon fill=\"black\" stroke=\"black\" points=\"275.47,-122.78 270.11,-113.65 268.6,-124.13 275.47,-122.78\"/>\n",
       "</g>\n",
       "<!-- Ms -->\n",
       "<g id=\"node3\" class=\"node\">\n",
       "<title>Ms</title>\n",
       "<path fill=\"lightgrey\" stroke=\"black\" d=\"M228,-216.93C228,-216.93 198,-216.93 198,-216.93 192,-216.93 186,-210.93 186,-204.93 186,-204.93 186,-175.93 186,-175.93 186,-169.93 192,-163.93 198,-163.93 198,-163.93 228,-163.93 228,-163.93 234,-163.93 240,-169.93 240,-175.93 240,-175.93 240,-204.93 240,-204.93 240,-210.93 234,-216.93 228,-216.93\"/>\n",
       "<text text-anchor=\"middle\" x=\"213\" y=\"-201.73\" font-family=\"Times,serif\" font-size=\"14.00\">Ms</text>\n",
       "<text text-anchor=\"middle\" x=\"213\" y=\"-186.73\" font-family=\"Times,serif\" font-size=\"14.00\">~</text>\n",
       "<text text-anchor=\"middle\" x=\"213\" y=\"-171.73\" font-family=\"Times,serif\" font-size=\"14.00\">Data</text>\n",
       "</g>\n",
       "<!-- Ms&#45;&gt;logit -->\n",
       "<g id=\"edge13\" class=\"edge\">\n",
       "<title>Ms&#45;&gt;logit</title>\n",
       "<path fill=\"none\" stroke=\"black\" d=\"M224.47,-163.75C230.05,-151.25 236.92,-135.87 243.31,-121.57\"/>\n",
       "<polygon fill=\"black\" stroke=\"black\" points=\"246.53,-122.93 247.41,-112.37 240.14,-120.08 246.53,-122.93\"/>\n",
       "</g>\n",
       "<!-- county_idx -->\n",
       "<g id=\"node4\" class=\"node\">\n",
       "<title>county_idx</title>\n",
       "<path fill=\"lightgrey\" stroke=\"black\" d=\"M155.5,-216.93C155.5,-216.93 100.5,-216.93 100.5,-216.93 94.5,-216.93 88.5,-210.93 88.5,-204.93 88.5,-204.93 88.5,-175.93 88.5,-175.93 88.5,-169.93 94.5,-163.93 100.5,-163.93 100.5,-163.93 155.5,-163.93 155.5,-163.93 161.5,-163.93 167.5,-169.93 167.5,-175.93 167.5,-175.93 167.5,-204.93 167.5,-204.93 167.5,-210.93 161.5,-216.93 155.5,-216.93\"/>\n",
       "<text text-anchor=\"middle\" x=\"128\" y=\"-201.73\" font-family=\"Times,serif\" font-size=\"14.00\">county_idx</text>\n",
       "<text text-anchor=\"middle\" x=\"128\" y=\"-186.73\" font-family=\"Times,serif\" font-size=\"14.00\">~</text>\n",
       "<text text-anchor=\"middle\" x=\"128\" y=\"-171.73\" font-family=\"Times,serif\" font-size=\"14.00\">Data</text>\n",
       "</g>\n",
       "<!-- county_idx&#45;&gt;logit -->\n",
       "<g id=\"edge12\" class=\"edge\">\n",
       "<title>county_idx&#45;&gt;logit</title>\n",
       "<path fill=\"none\" stroke=\"black\" d=\"M142.58,-163.77C151.27,-150.11 163.28,-133.75 177,-121.95 187.16,-113.22 199.33,-105.62 211.27,-99.28\"/>\n",
       "<polygon fill=\"black\" stroke=\"black\" points=\"212.98,-102.34 220.32,-94.69 209.82,-96.09 212.98,-102.34\"/>\n",
       "</g>\n",
       "<!-- Rn -->\n",
       "<g id=\"node5\" class=\"node\">\n",
       "<title>Rn</title>\n",
       "<path fill=\"lightgrey\" stroke=\"black\" d=\"M58,-216.93C58,-216.93 28,-216.93 28,-216.93 22,-216.93 16,-210.93 16,-204.93 16,-204.93 16,-175.93 16,-175.93 16,-169.93 22,-163.93 28,-163.93 28,-163.93 58,-163.93 58,-163.93 64,-163.93 70,-169.93 70,-175.93 70,-175.93 70,-204.93 70,-204.93 70,-210.93 64,-216.93 58,-216.93\"/>\n",
       "<text text-anchor=\"middle\" x=\"43\" y=\"-201.73\" font-family=\"Times,serif\" font-size=\"14.00\">Rn</text>\n",
       "<text text-anchor=\"middle\" x=\"43\" y=\"-186.73\" font-family=\"Times,serif\" font-size=\"14.00\">~</text>\n",
       "<text text-anchor=\"middle\" x=\"43\" y=\"-171.73\" font-family=\"Times,serif\" font-size=\"14.00\">Data</text>\n",
       "</g>\n",
       "<!-- Rn&#45;&gt;logit -->\n",
       "<g id=\"edge15\" class=\"edge\">\n",
       "<title>Rn&#45;&gt;logit</title>\n",
       "<path fill=\"none\" stroke=\"black\" d=\"M50.79,-163.83C56.42,-149.49 65.46,-132.44 79,-121.95 114.66,-94.34 164.96,-83.55 203.96,-79.48\"/>\n",
       "<polygon fill=\"black\" stroke=\"black\" points=\"204.49,-82.95 214.13,-78.55 203.85,-75.98 204.49,-82.95\"/>\n",
       "</g>\n",
       "<!-- s3 -->\n",
       "<g id=\"node6\" class=\"node\">\n",
       "<title>s3</title>\n",
       "<ellipse fill=\"none\" stroke=\"black\" cx=\"121\" cy=\"-301.38\" rx=\"59.29\" ry=\"37.45\"/>\n",
       "<text text-anchor=\"middle\" x=\"121\" y=\"-312.68\" font-family=\"Times,serif\" font-size=\"14.00\">s3</text>\n",
       "<text text-anchor=\"middle\" x=\"121\" y=\"-297.68\" font-family=\"Times,serif\" font-size=\"14.00\">~</text>\n",
       "<text text-anchor=\"middle\" x=\"121\" y=\"-282.68\" font-family=\"Times,serif\" font-size=\"14.00\">Exponential</text>\n",
       "</g>\n",
       "<!-- b_3_cls -->\n",
       "<g id=\"node15\" class=\"node\">\n",
       "<title>b_3_cls</title>\n",
       "<ellipse fill=\"none\" stroke=\"black\" cx=\"378\" cy=\"-190.43\" rx=\"42.35\" ry=\"37.45\"/>\n",
       "<text text-anchor=\"middle\" x=\"378\" y=\"-201.73\" font-family=\"Times,serif\" font-size=\"14.00\">b_3_cls</text>\n",
       "<text text-anchor=\"middle\" x=\"378\" y=\"-186.73\" font-family=\"Times,serif\" font-size=\"14.00\">~</text>\n",
       "<text text-anchor=\"middle\" x=\"378\" y=\"-171.73\" font-family=\"Times,serif\" font-size=\"14.00\">Normal</text>\n",
       "</g>\n",
       "<!-- s3&#45;&gt;b_3_cls -->\n",
       "<g id=\"edge7\" class=\"edge\">\n",
       "<title>s3&#45;&gt;b_3_cls</title>\n",
       "<path fill=\"none\" stroke=\"black\" d=\"M163.67,-275.11C171.89,-270.93 180.56,-266.97 189,-263.91 246.59,-242.99 268.74,-262.38 324,-235.91 330.18,-232.95 336.26,-229.13 341.99,-224.98\"/>\n",
       "<polygon fill=\"black\" stroke=\"black\" points=\"344.32,-227.6 350.09,-218.71 340.03,-222.06 344.32,-227.6\"/>\n",
       "</g>\n",
       "<!-- s1 -->\n",
       "<g id=\"node7\" class=\"node\">\n",
       "<title>s1</title>\n",
       "<ellipse fill=\"none\" stroke=\"black\" cx=\"597\" cy=\"-301.38\" rx=\"59.29\" ry=\"37.45\"/>\n",
       "<text text-anchor=\"middle\" x=\"597\" y=\"-312.68\" font-family=\"Times,serif\" font-size=\"14.00\">s1</text>\n",
       "<text text-anchor=\"middle\" x=\"597\" y=\"-297.68\" font-family=\"Times,serif\" font-size=\"14.00\">~</text>\n",
       "<text text-anchor=\"middle\" x=\"597\" y=\"-282.68\" font-family=\"Times,serif\" font-size=\"14.00\">Exponential</text>\n",
       "</g>\n",
       "<!-- b_1_cls -->\n",
       "<g id=\"node14\" class=\"node\">\n",
       "<title>b_1_cls</title>\n",
       "<ellipse fill=\"none\" stroke=\"black\" cx=\"590\" cy=\"-190.43\" rx=\"42.35\" ry=\"37.45\"/>\n",
       "<text text-anchor=\"middle\" x=\"590\" y=\"-201.73\" font-family=\"Times,serif\" font-size=\"14.00\">b_1_cls</text>\n",
       "<text text-anchor=\"middle\" x=\"590\" y=\"-186.73\" font-family=\"Times,serif\" font-size=\"14.00\">~</text>\n",
       "<text text-anchor=\"middle\" x=\"590\" y=\"-171.73\" font-family=\"Times,serif\" font-size=\"14.00\">Normal</text>\n",
       "</g>\n",
       "<!-- s1&#45;&gt;b_1_cls -->\n",
       "<g id=\"edge4\" class=\"edge\">\n",
       "<title>s1&#45;&gt;b_1_cls</title>\n",
       "<path fill=\"none\" stroke=\"black\" d=\"M594.65,-263.8C594.12,-255.63 593.56,-246.85 593.01,-238.32\"/>\n",
       "<polygon fill=\"black\" stroke=\"black\" points=\"596.49,-237.86 592.36,-228.1 589.5,-238.31 596.49,-237.86\"/>\n",
       "</g>\n",
       "<!-- s0 -->\n",
       "<g id=\"node8\" class=\"node\">\n",
       "<title>s0</title>\n",
       "<ellipse fill=\"none\" stroke=\"black\" cx=\"359\" cy=\"-301.38\" rx=\"59.29\" ry=\"37.45\"/>\n",
       "<text text-anchor=\"middle\" x=\"359\" y=\"-312.68\" font-family=\"Times,serif\" font-size=\"14.00\">s0</text>\n",
       "<text text-anchor=\"middle\" x=\"359\" y=\"-297.68\" font-family=\"Times,serif\" font-size=\"14.00\">~</text>\n",
       "<text text-anchor=\"middle\" x=\"359\" y=\"-282.68\" font-family=\"Times,serif\" font-size=\"14.00\">Exponential</text>\n",
       "</g>\n",
       "<!-- intercept -->\n",
       "<g id=\"node16\" class=\"node\">\n",
       "<title>intercept</title>\n",
       "<ellipse fill=\"none\" stroke=\"black\" cx=\"484\" cy=\"-190.43\" rx=\"45.92\" ry=\"37.45\"/>\n",
       "<text text-anchor=\"middle\" x=\"484\" y=\"-201.73\" font-family=\"Times,serif\" font-size=\"14.00\">intercept</text>\n",
       "<text text-anchor=\"middle\" x=\"484\" y=\"-186.73\" font-family=\"Times,serif\" font-size=\"14.00\">~</text>\n",
       "<text text-anchor=\"middle\" x=\"484\" y=\"-171.73\" font-family=\"Times,serif\" font-size=\"14.00\">Normal</text>\n",
       "</g>\n",
       "<!-- s0&#45;&gt;intercept -->\n",
       "<g id=\"edge2\" class=\"edge\">\n",
       "<title>s0&#45;&gt;intercept</title>\n",
       "<path fill=\"none\" stroke=\"black\" d=\"M393.16,-270.61C409.18,-256.64 428.37,-239.92 444.96,-225.45\"/>\n",
       "<polygon fill=\"black\" stroke=\"black\" points=\"447.64,-227.76 452.88,-218.55 443.04,-222.49 447.64,-227.76\"/>\n",
       "</g>\n",
       "<!-- b0 -->\n",
       "<g id=\"node9\" class=\"node\">\n",
       "<title>b0</title>\n",
       "<ellipse fill=\"none\" stroke=\"black\" cx=\"478\" cy=\"-301.38\" rx=\"41.94\" ry=\"37.45\"/>\n",
       "<text text-anchor=\"middle\" x=\"478\" y=\"-312.68\" font-family=\"Times,serif\" font-size=\"14.00\">b0</text>\n",
       "<text text-anchor=\"middle\" x=\"478\" y=\"-297.68\" font-family=\"Times,serif\" font-size=\"14.00\">~</text>\n",
       "<text text-anchor=\"middle\" x=\"478\" y=\"-282.68\" font-family=\"Times,serif\" font-size=\"14.00\">Normal</text>\n",
       "</g>\n",
       "<!-- b0&#45;&gt;intercept -->\n",
       "<g id=\"edge1\" class=\"edge\">\n",
       "<title>b0&#45;&gt;intercept</title>\n",
       "<path fill=\"none\" stroke=\"black\" d=\"M480.01,-263.8C480.46,-255.63 480.95,-246.85 481.42,-238.32\"/>\n",
       "<polygon fill=\"black\" stroke=\"black\" points=\"484.93,-238.28 481.98,-228.1 477.94,-237.89 484.93,-238.28\"/>\n",
       "</g>\n",
       "<!-- b3 -->\n",
       "<g id=\"node10\" class=\"node\">\n",
       "<title>b3</title>\n",
       "<ellipse fill=\"none\" stroke=\"black\" cx=\"240\" cy=\"-301.38\" rx=\"41.94\" ry=\"37.45\"/>\n",
       "<text text-anchor=\"middle\" x=\"240\" y=\"-312.68\" font-family=\"Times,serif\" font-size=\"14.00\">b3</text>\n",
       "<text text-anchor=\"middle\" x=\"240\" y=\"-297.68\" font-family=\"Times,serif\" font-size=\"14.00\">~</text>\n",
       "<text text-anchor=\"middle\" x=\"240\" y=\"-282.68\" font-family=\"Times,serif\" font-size=\"14.00\">Normal</text>\n",
       "</g>\n",
       "<!-- b3&#45;&gt;b_3_cls -->\n",
       "<g id=\"edge8\" class=\"edge\">\n",
       "<title>b3&#45;&gt;b_3_cls</title>\n",
       "<path fill=\"none\" stroke=\"black\" d=\"M271.71,-276.45C287.52,-264.41 306.88,-249.52 324,-235.91 329.05,-231.89 334.34,-227.62 339.54,-223.38\"/>\n",
       "<polygon fill=\"black\" stroke=\"black\" points=\"342.07,-225.83 347.59,-216.78 337.64,-220.41 342.07,-225.83\"/>\n",
       "</g>\n",
       "<!-- s2 -->\n",
       "<g id=\"node11\" class=\"node\">\n",
       "<title>s2</title>\n",
       "<ellipse fill=\"none\" stroke=\"black\" cx=\"835\" cy=\"-301.38\" rx=\"59.29\" ry=\"37.45\"/>\n",
       "<text text-anchor=\"middle\" x=\"835\" y=\"-312.68\" font-family=\"Times,serif\" font-size=\"14.00\">s2</text>\n",
       "<text text-anchor=\"middle\" x=\"835\" y=\"-297.68\" font-family=\"Times,serif\" font-size=\"14.00\">~</text>\n",
       "<text text-anchor=\"middle\" x=\"835\" y=\"-282.68\" font-family=\"Times,serif\" font-size=\"14.00\">Exponential</text>\n",
       "</g>\n",
       "<!-- b_2_cls -->\n",
       "<g id=\"node17\" class=\"node\">\n",
       "<title>b_2_cls</title>\n",
       "<ellipse fill=\"none\" stroke=\"black\" cx=\"693\" cy=\"-190.43\" rx=\"42.35\" ry=\"37.45\"/>\n",
       "<text text-anchor=\"middle\" x=\"693\" y=\"-201.73\" font-family=\"Times,serif\" font-size=\"14.00\">b_2_cls</text>\n",
       "<text text-anchor=\"middle\" x=\"693\" y=\"-186.73\" font-family=\"Times,serif\" font-size=\"14.00\">~</text>\n",
       "<text text-anchor=\"middle\" x=\"693\" y=\"-171.73\" font-family=\"Times,serif\" font-size=\"14.00\">Normal</text>\n",
       "</g>\n",
       "<!-- s2&#45;&gt;b_2_cls -->\n",
       "<g id=\"edge5\" class=\"edge\">\n",
       "<title>s2&#45;&gt;b_2_cls</title>\n",
       "<path fill=\"none\" stroke=\"black\" d=\"M797.69,-271.76C777.76,-256.46 753.21,-237.63 732.9,-222.04\"/>\n",
       "<polygon fill=\"black\" stroke=\"black\" points=\"734.83,-219.12 724.77,-215.8 730.57,-224.67 734.83,-219.12\"/>\n",
       "</g>\n",
       "<!-- b1 -->\n",
       "<g id=\"node12\" class=\"node\">\n",
       "<title>b1</title>\n",
       "<ellipse fill=\"none\" stroke=\"black\" cx=\"716\" cy=\"-301.38\" rx=\"41.94\" ry=\"37.45\"/>\n",
       "<text text-anchor=\"middle\" x=\"716\" y=\"-312.68\" font-family=\"Times,serif\" font-size=\"14.00\">b1</text>\n",
       "<text text-anchor=\"middle\" x=\"716\" y=\"-297.68\" font-family=\"Times,serif\" font-size=\"14.00\">~</text>\n",
       "<text text-anchor=\"middle\" x=\"716\" y=\"-282.68\" font-family=\"Times,serif\" font-size=\"14.00\">Normal</text>\n",
       "</g>\n",
       "<!-- b1&#45;&gt;b_1_cls -->\n",
       "<g id=\"edge3\" class=\"edge\">\n",
       "<title>b1&#45;&gt;b_1_cls</title>\n",
       "<path fill=\"none\" stroke=\"black\" d=\"M686.46,-274.84C668.81,-259.58 646.24,-240.06 627.36,-223.74\"/>\n",
       "<polygon fill=\"black\" stroke=\"black\" points=\"629.65,-221.09 619.79,-217.19 625.07,-226.38 629.65,-221.09\"/>\n",
       "</g>\n",
       "<!-- b2 -->\n",
       "<g id=\"node13\" class=\"node\">\n",
       "<title>b2</title>\n",
       "<ellipse fill=\"none\" stroke=\"black\" cx=\"954\" cy=\"-301.38\" rx=\"41.94\" ry=\"37.45\"/>\n",
       "<text text-anchor=\"middle\" x=\"954\" y=\"-312.68\" font-family=\"Times,serif\" font-size=\"14.00\">b2</text>\n",
       "<text text-anchor=\"middle\" x=\"954\" y=\"-297.68\" font-family=\"Times,serif\" font-size=\"14.00\">~</text>\n",
       "<text text-anchor=\"middle\" x=\"954\" y=\"-282.68\" font-family=\"Times,serif\" font-size=\"14.00\">Normal</text>\n",
       "</g>\n",
       "<!-- b2&#45;&gt;b_2_cls -->\n",
       "<g id=\"edge6\" class=\"edge\">\n",
       "<title>b2&#45;&gt;b_2_cls</title>\n",
       "<path fill=\"none\" stroke=\"black\" d=\"M923.08,-276.13C916.65,-271.71 909.77,-267.4 903,-263.91 851.02,-237.07 786.91,-216.59 743.3,-204.36\"/>\n",
       "<polygon fill=\"black\" stroke=\"black\" points=\"744.06,-200.94 733.49,-201.65 742.2,-207.68 744.06,-200.94\"/>\n",
       "</g>\n",
       "<!-- b_1_cls&#45;&gt;logit -->\n",
       "<g id=\"edge14\" class=\"edge\">\n",
       "<title>b_1_cls&#45;&gt;logit</title>\n",
       "<path fill=\"none\" stroke=\"black\" d=\"M572.2,-156.05C563.79,-143.42 552.59,-130.13 539,-121.95 503.33,-100.49 391.51,-87.82 321.63,-81.8\"/>\n",
       "<polygon fill=\"black\" stroke=\"black\" points=\"321.89,-78.31 311.64,-80.95 321.31,-85.28 321.89,-78.31\"/>\n",
       "</g>\n",
       "<!-- b_3_cls&#45;&gt;logit -->\n",
       "<g id=\"edge16\" class=\"edge\">\n",
       "<title>b_3_cls&#45;&gt;logit</title>\n",
       "<path fill=\"none\" stroke=\"black\" d=\"M355.95,-158.4C346.73,-146.4 335.5,-132.94 324,-121.95 318.97,-117.15 313.41,-112.42 307.74,-107.95\"/>\n",
       "<polygon fill=\"black\" stroke=\"black\" points=\"309.5,-104.89 299.43,-101.6 305.25,-110.45 309.5,-104.89\"/>\n",
       "</g>\n",
       "<!-- intercept&#45;&gt;logit -->\n",
       "<g id=\"edge10\" class=\"edge\">\n",
       "<title>intercept&#45;&gt;logit</title>\n",
       "<path fill=\"none\" stroke=\"black\" d=\"M463.85,-156.74C454.63,-144.22 442.7,-130.82 429,-121.95 396.77,-101.09 354.99,-89.97 321.41,-84.06\"/>\n",
       "<polygon fill=\"black\" stroke=\"black\" points=\"321.71,-80.56 311.28,-82.39 320.57,-87.47 321.71,-80.56\"/>\n",
       "</g>\n",
       "<!-- b_2_cls&#45;&gt;logit -->\n",
       "<g id=\"edge11\" class=\"edge\">\n",
       "<title>b_2_cls&#45;&gt;logit</title>\n",
       "<path fill=\"none\" stroke=\"black\" d=\"M675.13,-156.1C666.53,-143.32 655.02,-129.9 641,-121.95 587.81,-91.8 413.98,-82 321.74,-78.88\"/>\n",
       "<polygon fill=\"black\" stroke=\"black\" points=\"321.82,-75.39 311.72,-78.56 321.6,-82.38 321.82,-75.39\"/>\n",
       "</g>\n",
       "</g>\n",
       "</svg>\n"
      ],
      "text/plain": [
       "<graphviz.graphs.Digraph at 0x7fedc23e3c10>"
      ]
     },
     "execution_count": 8,
     "metadata": {},
     "output_type": "execute_result"
    }
   ],
   "source": [
    "pm.model_to_graphviz(manual_logistic_model)"
   ]
  },
  {
   "cell_type": "code",
   "execution_count": null,
   "id": "920d599c",
   "metadata": {},
   "outputs": [],
   "source": []
  },
  {
   "cell_type": "code",
   "execution_count": null,
   "id": "cce27922",
   "metadata": {},
   "outputs": [],
   "source": []
  },
  {
   "cell_type": "code",
   "execution_count": 42,
   "id": "0e01ffff",
   "metadata": {
    "ExecuteTime": {
     "end_time": "2022-06-09T21:45:18.521115Z",
     "start_time": "2022-06-09T21:45:18.518055Z"
    }
   },
   "outputs": [],
   "source": [
    "# # Inference button (TM)!\n",
    "# with manual_logistic_model:\n",
    "#     hierarchical_trace = pm.sample(2000, tune=2000, target_accept=0.9, cores=6)"
   ]
  },
  {
   "cell_type": "code",
   "execution_count": null,
   "id": "cbddcc85",
   "metadata": {},
   "outputs": [],
   "source": []
  },
  {
   "cell_type": "code",
   "execution_count": null,
   "id": "8f0d227a",
   "metadata": {},
   "outputs": [],
   "source": [
    "az.plot_forest(\n",
    "    varying_intercept_trace, var_names=[\"beta\", \"a_county\"], r_hat=True, combined=True, textsize=9\n",
    ");\n"
   ]
  },
  {
   "cell_type": "code",
   "execution_count": null,
   "id": "e434df63",
   "metadata": {},
   "outputs": [],
   "source": []
  },
  {
   "cell_type": "code",
   "execution_count": null,
   "id": "0ab58a5a",
   "metadata": {
    "ExecuteTime": {
     "end_time": "2022-06-09T21:10:17.243607Z",
     "start_time": "2022-06-09T21:08:49.523Z"
    }
   },
   "outputs": [],
   "source": [
    "pm.plot_trace(trace);\n"
   ]
  },
  {
   "cell_type": "code",
   "execution_count": null,
   "id": "cb73b047",
   "metadata": {
    "ExecuteTime": {
     "end_time": "2022-06-09T21:10:17.244509Z",
     "start_time": "2022-06-09T21:08:49.786Z"
    }
   },
   "outputs": [],
   "source": [
    "trace.varnames"
   ]
  },
  {
   "cell_type": "code",
   "execution_count": null,
   "id": "d14fba38",
   "metadata": {
    "ExecuteTime": {
     "end_time": "2022-06-09T21:10:17.245752Z",
     "start_time": "2022-06-09T21:08:50.286Z"
    }
   },
   "outputs": [],
   "source": [
    "plt.hist(trace['beta_3'])"
   ]
  },
  {
   "cell_type": "code",
   "execution_count": null,
   "id": "b31c7172",
   "metadata": {},
   "outputs": [],
   "source": []
  }
 ],
 "metadata": {
  "kernelspec": {
   "display_name": "Python 3",
   "language": "python",
   "name": "python3"
  },
  "language_info": {
   "codemirror_mode": {
    "name": "ipython",
    "version": 3
   },
   "file_extension": ".py",
   "mimetype": "text/x-python",
   "name": "python",
   "nbconvert_exporter": "python",
   "pygments_lexer": "ipython3",
   "version": "3.8.8"
  },
  "latex_envs": {
   "LaTeX_envs_menu_present": true,
   "autoclose": true,
   "autocomplete": true,
   "bibliofile": "biblio.bib",
   "cite_by": "apalike",
   "current_citInitial": 1,
   "eqLabelWithNumbers": true,
   "eqNumInitial": 1,
   "hotkeys": {
    "equation": "Ctrl-E",
    "itemize": "Ctrl-I"
   },
   "labels_anchors": false,
   "latex_user_defs": false,
   "report_style_numbering": true,
   "user_envs_cfg": false
  },
  "toc": {
   "base_numbering": 1,
   "nav_menu": {},
   "number_sections": true,
   "sideBar": true,
   "skip_h1_title": false,
   "title_cell": "Table of Contents",
   "title_sidebar": "Contents",
   "toc_cell": false,
   "toc_position": {},
   "toc_section_display": true,
   "toc_window_display": false
  }
 },
 "nbformat": 4,
 "nbformat_minor": 5
}
