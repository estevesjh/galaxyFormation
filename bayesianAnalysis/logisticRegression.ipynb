{
 "cells": [
  {
   "cell_type": "markdown",
   "id": "f755332f",
   "metadata": {},
   "source": [
    "# Logistic Regression Model\n",
    "\n",
    "In this notebook we model the probability of a galaxy of being quenched using a logistic regression model. First, we explore the dependence of quenching with three galaxy properties stellar mass, distance from the cluster center and line of sight velocity. Second, we explore correlations with the halo properties. In the Bayesian Hierarchical framework we will estimate for each halo the slope between quenching and a galaxy property with the constraint of the overall dataset."
   ]
  },
  {
   "cell_type": "code",
   "execution_count": 1,
   "id": "75ff36aa",
   "metadata": {
    "ExecuteTime": {
     "end_time": "2022-06-09T22:05:56.546959Z",
     "start_time": "2022-06-09T22:05:35.805467Z"
    }
   },
   "outputs": [],
   "source": [
    "%matplotlib inline\n",
    "\n",
    "import pickle\n",
    "# from collections import OrderedDict\n",
    "\n",
    "import pandas as pd\n",
    "import numpy as np\n",
    "from scipy import stats\n",
    "\n",
    "from sklearn import preprocessing\n",
    "from sklearn.model_selection import train_test_split\n",
    "from sklearn.metrics import (roc_curve, roc_auc_score, confusion_matrix, accuracy_score, f1_score, \n",
    "                             precision_recall_curve) \n",
    "# from mlxtend.plotting import plot_confusion_matrix\n",
    "\n",
    "# import theano\n",
    "import pymc3 as pm\n",
    "\n",
    "# from pymc3.variational.callbacks import CheckParametersConvergence\n",
    "import statsmodels.formula.api as smf\n",
    "\n",
    "import arviz as az\n",
    "import matplotlib.pyplot as plt\n",
    "import matplotlib.cm as cm\n",
    "\n",
    "import seaborn as sns\n",
    "from IPython.display import HTML"
   ]
  },
  {
   "cell_type": "code",
   "execution_count": 2,
   "id": "fbaf7e29",
   "metadata": {
    "ExecuteTime": {
     "end_time": "2022-06-09T22:05:56.551035Z",
     "start_time": "2022-06-09T22:05:56.548115Z"
    }
   },
   "outputs": [
    {
     "name": "stdout",
     "output_type": "stream",
     "text": [
      "/Users/jesteves/Documents/GitHub/galaxyFormation\n"
     ]
    }
   ],
   "source": [
    "cd .."
   ]
  },
  {
   "cell_type": "markdown",
   "id": "96de7570",
   "metadata": {},
   "source": [
    "## Load the Data"
   ]
  },
  {
   "cell_type": "code",
   "execution_count": 3,
   "id": "516ea4a6",
   "metadata": {
    "ExecuteTime": {
     "end_time": "2022-06-09T22:05:57.061122Z",
     "start_time": "2022-06-09T22:05:56.555130Z"
    }
   },
   "outputs": [],
   "source": [
    "import sys\n",
    "sys.path.append('./scripts')\n",
    "from file_loc import FileLocs\n",
    "from utils import check_non_valid_number, gaussian_kde\n",
    "import seaborn as sns\n",
    "sns.set_context('poster', font_scale=0.7)"
   ]
  },
  {
   "cell_type": "code",
   "execution_count": 4,
   "id": "3bc7c70a",
   "metadata": {
    "ExecuteTime": {
     "end_time": "2022-06-09T22:06:00.229785Z",
     "start_time": "2022-06-09T22:05:57.062398Z"
    }
   },
   "outputs": [
    {
     "name": "stdout",
     "output_type": "stream",
     "text": [
      "Loading Catalog: ./data/catalogs/SDSS/groups_deCarvalho2017_R200m_galaxies_final_flag_johnnyheq_pp.csv\n",
      "Loading Catalog: ./data/catalogs/SDSS/groupCatalog_Yang_deCarvalho2017_frac_vl.csv\n"
     ]
    }
   ],
   "source": [
    "fl = FileLocs(dataset='sdss')\n",
    "gal0 = fl.load_catalogs('galaxy/main')\n",
    "\n",
    "mask  = (gal0['VLOS_MASK']).astype(bool)\n",
    "mask &= gal0['VOLUME_LIM_MASK'].astype(bool)\n",
    "mask &= gal0['p_infall']>0.5\n",
    "\n",
    "gal = gal0[mask].copy()\n",
    "cat = fl.load_catalogs('cluster/frac_vl')"
   ]
  },
  {
   "cell_type": "code",
   "execution_count": 5,
   "id": "8463f311",
   "metadata": {
    "ExecuteTime": {
     "end_time": "2022-06-09T22:06:00.235941Z",
     "start_time": "2022-06-09T22:06:00.230643Z"
    }
   },
   "outputs": [],
   "source": [
    "gid = np.array(gal['Yang'])\n",
    "\n",
    "zgal = np.array(gal['z'])\n",
    "Mr   = np.array(gal['Mr'])\n",
    "\n",
    "log_smass = np.array(gal['mass'])\n",
    "smass = 10**log_smass\n",
    "redshift = np.array(gal['redshift'])\n",
    "\n",
    "rn = np.array(gal['Rm'])\n",
    "vn = np.array(gal['vlosn'])\n",
    "morph_type = np.array(gal['TType'])\n",
    "ssfr = np.array(gal['ssfr'])\n",
    "\n",
    "# sfr classification\n",
    "sf   = np.array(gal['SF']).astype(int)\n",
    "qf   = (1-sf).astype(int)\n",
    "\n",
    "# morphological classification\n",
    "sp   = np.where(gal['TType'] > 0, 1, 0).astype(int)\n",
    "ell  = np.where(gal['TType'] <=0, 1, 0).astype(int)\n",
    "s0   = check_non_valid_number(gal['Pbulge'])\n",
    "s0[np.isnan(s0)] = 0.\n",
    "\n",
    "# b/t definition\n",
    "bt = np.array(gal['BT'])\n",
    "bt2 = np.where(bt>=0.5,1.,bt)\n",
    "bt2 = np.where(bt<0.5,0.,bt2)\n",
    "\n",
    "# dynamical probabilities\n",
    "Pi   = np.array(gal['p_infall'])\n",
    "Po   = np.array(gal['p_orbital'])\n",
    "Pn   = np.array(gal['p_interlopers'])\n",
    "Pf = np.where(rn>2,Pn,0.)\n",
    "\n",
    "m200 = np.array(gal['M200c'])\n",
    "\n",
    "# mask\n",
    "bt_mask = bt>=0."
   ]
  },
  {
   "cell_type": "code",
   "execution_count": null,
   "id": "5b19a364",
   "metadata": {},
   "outputs": [],
   "source": []
  },
  {
   "cell_type": "markdown",
   "id": "fb1eaf4a",
   "metadata": {
    "ExecuteTime": {
     "end_time": "2022-06-09T20:01:28.747113Z",
     "start_time": "2022-06-09T20:01:28.738967Z"
    }
   },
   "source": [
    "## Quenching Model\n",
    "\n",
    "The likelihood is:\n",
    "$$\n",
    "P(Quenched, Galaxy | R, M_{\\star}, \\sigma,) = Logit(R,M_{\\star}, \\sigma) \\times Bernoulli(p_{infall})\n",
    "$$\n",
    "\n",
    "With the Logit model and the linear relation\n",
    "$$\n",
    "y = b_0 + b_1 (R/R_{200m}) + b_{2} (M_{\\star}/M_0) + b_3 \\sigma\n",
    "$$"
   ]
  },
  {
   "cell_type": "code",
   "execution_count": 6,
   "id": "102a720e",
   "metadata": {
    "ExecuteTime": {
     "end_time": "2022-06-09T22:06:00.240458Z",
     "start_time": "2022-06-09T22:06:00.236932Z"
    }
   },
   "outputs": [],
   "source": [
    "county_idxs, counties = pd.factorize(gid)\n",
    "coords = {\n",
    "    \"county\": counties,\n",
    "    \"obs_id\": np.arange(len(county_idxs)),\n",
    "}"
   ]
  },
  {
   "cell_type": "code",
   "execution_count": 11,
   "id": "3892c76a",
   "metadata": {
    "ExecuteTime": {
     "end_time": "2022-06-09T22:06:39.595196Z",
     "start_time": "2022-06-09T22:06:39.170847Z"
    }
   },
   "outputs": [],
   "source": [
    "with pm.Model(coords=coords) as manual_logistic_model:\n",
    "    # Independent parameters for each county\n",
    "    # cluster ID\n",
    "    cidx = pm.Data(\"county_idx\", county_idxs, dims=\"obs_id\")\n",
    "    \n",
    "    # x variables\n",
    "    Rn = pm.Data(\"Rn\", rn, dims=\"obs_id\")\n",
    "    Vn = pm.Data(\"Vn\", vn, dims=\"obs_id\")\n",
    "    Ms = pm.Data(\"Ms\", np.log10(smass/1e10), dims=\"obs_id\")\n",
    "    \n",
    "    # Hyperpriors:\n",
    "    b0 = pm.Normal(\"b0\", mu=0.0, sigma=20.0)\n",
    "    b1 = pm.Normal(\"b1\", mu=0.0, sigma=20.0)\n",
    "    b2 = pm.Normal(\"b2\", mu=0.0, sigma=20.0)\n",
    "    b3 = pm.Normal(\"b3\", mu=0.0, sigma=20.0)\n",
    "    \n",
    "    s0 = pm.Exponential(\"s0\", 1.0)\n",
    "    s1 = pm.Exponential(\"s1\", 1.0)\n",
    "    s2 = pm.Exponential(\"s2\", 1.0)\n",
    "    s3 = pm.Exponential(\"s3\", 1.0)\n",
    "    \n",
    "    # slopes & intercept for each cluster\n",
    "    intercept = b0 #pm.Normal('intercept', mu=b0, sigma=s0, dims=\"county\")\n",
    "    beta_1 = pm.Normal('b_1_cls', mu=b1, sigma=s1, dims=\"county\")\n",
    "    beta_2 = pm.Normal('b_2_cls', mu=b2, sigma=s2, dims=\"county\")\n",
    "    beta_3 = pm.Normal('b_3_cls', mu=b3, sigma=s3, dims=\"county\")\n",
    "    \n",
    "    # Transform random variables into vector of probabilities p(y_i=1)\n",
    "    # according to logistic regression model specification.\n",
    "    likelihood = pm.invlogit(intercept + beta_1[cidx] * Rn \n",
    "                             + beta_2[cidx] * Ms + beta_3[cidx] * Vn)\n",
    "        \n",
    "    # Bernoulli random vector with probability of success\n",
    "    # given by sigmoid function and actual data as observed\n",
    "    pm.Bernoulli(name='logit', p=likelihood, observed=qf, dims=\"obs_id\")\n",
    "    \n",
    "# pm.model_to_graphviz(manual_logistic_model)"
   ]
  },
  {
   "cell_type": "code",
   "execution_count": 13,
   "id": "cab2c199",
   "metadata": {
    "ExecuteTime": {
     "end_time": "2022-06-09T22:07:05.903920Z",
     "start_time": "2022-06-09T22:07:05.877253Z"
    }
   },
   "outputs": [
    {
     "ename": "NameError",
     "evalue": "name 'savefig' is not defined",
     "output_type": "error",
     "traceback": [
      "\u001b[0;31m---------------------------------------------------------------------------\u001b[0m",
      "\u001b[0;31mNameError\u001b[0m                                 Traceback (most recent call last)",
      "\u001b[0;32m<ipython-input-13-710d6af5ddef>\u001b[0m in \u001b[0;36m<module>\u001b[0;34m\u001b[0m\n\u001b[0;32m----> 1\u001b[0;31m \u001b[0mpm\u001b[0m\u001b[0;34m.\u001b[0m\u001b[0mmodel_to_graphviz\u001b[0m\u001b[0;34m(\u001b[0m\u001b[0mmanual_logistic_model\u001b[0m\u001b[0;34m,\u001b[0m\u001b[0msavefig\u001b[0m\u001b[0;34m)\u001b[0m\u001b[0;34m\u001b[0m\u001b[0;34m\u001b[0m\u001b[0m\n\u001b[0m",
      "\u001b[0;31mNameError\u001b[0m: name 'savefig' is not defined"
     ]
    }
   ],
   "source": [
    "pm.model_to_graphviz(manual_logistic_model,)"
   ]
  },
  {
   "cell_type": "code",
   "execution_count": null,
   "id": "23d3062f",
   "metadata": {},
   "outputs": [],
   "source": []
  },
  {
   "cell_type": "code",
   "execution_count": null,
   "id": "63b51885",
   "metadata": {},
   "outputs": [],
   "source": []
  },
  {
   "cell_type": "code",
   "execution_count": 42,
   "id": "0e01ffff",
   "metadata": {
    "ExecuteTime": {
     "end_time": "2022-06-09T21:45:18.521115Z",
     "start_time": "2022-06-09T21:45:18.518055Z"
    }
   },
   "outputs": [],
   "source": [
    "# # Inference button (TM)!\n",
    "# with manual_logistic_model:\n",
    "#     hierarchical_trace = pm.sample(2000, tune=2000, target_accept=0.9, cores=6)"
   ]
  },
  {
   "cell_type": "code",
   "execution_count": null,
   "id": "3f974d36",
   "metadata": {},
   "outputs": [],
   "source": []
  },
  {
   "cell_type": "code",
   "execution_count": null,
   "id": "8f0d227a",
   "metadata": {},
   "outputs": [],
   "source": [
    "az.plot_forest(\n",
    "    varying_intercept_trace, var_names=[\"beta\", \"a_county\"], r_hat=True, combined=True, textsize=9\n",
    ");\n"
   ]
  },
  {
   "cell_type": "code",
   "execution_count": null,
   "id": "e434df63",
   "metadata": {},
   "outputs": [],
   "source": []
  },
  {
   "cell_type": "code",
   "execution_count": null,
   "id": "0ab58a5a",
   "metadata": {
    "ExecuteTime": {
     "end_time": "2022-06-09T21:10:17.243607Z",
     "start_time": "2022-06-09T21:08:49.523Z"
    }
   },
   "outputs": [],
   "source": [
    "pm.plot_trace(trace);\n"
   ]
  },
  {
   "cell_type": "code",
   "execution_count": null,
   "id": "cb73b047",
   "metadata": {
    "ExecuteTime": {
     "end_time": "2022-06-09T21:10:17.244509Z",
     "start_time": "2022-06-09T21:08:49.786Z"
    }
   },
   "outputs": [],
   "source": [
    "trace.varnames"
   ]
  },
  {
   "cell_type": "code",
   "execution_count": null,
   "id": "d14fba38",
   "metadata": {
    "ExecuteTime": {
     "end_time": "2022-06-09T21:10:17.245752Z",
     "start_time": "2022-06-09T21:08:50.286Z"
    }
   },
   "outputs": [],
   "source": [
    "plt.hist(trace['beta_3'])"
   ]
  },
  {
   "cell_type": "code",
   "execution_count": null,
   "id": "b31c7172",
   "metadata": {},
   "outputs": [],
   "source": []
  }
 ],
 "metadata": {
  "kernelspec": {
   "display_name": "Python 3",
   "language": "python",
   "name": "python3"
  },
  "language_info": {
   "codemirror_mode": {
    "name": "ipython",
    "version": 3
   },
   "file_extension": ".py",
   "mimetype": "text/x-python",
   "name": "python",
   "nbconvert_exporter": "python",
   "pygments_lexer": "ipython3",
   "version": "3.8.8"
  },
  "latex_envs": {
   "LaTeX_envs_menu_present": true,
   "autoclose": true,
   "autocomplete": true,
   "bibliofile": "biblio.bib",
   "cite_by": "apalike",
   "current_citInitial": 1,
   "eqLabelWithNumbers": true,
   "eqNumInitial": 1,
   "hotkeys": {
    "equation": "Ctrl-E",
    "itemize": "Ctrl-I"
   },
   "labels_anchors": false,
   "latex_user_defs": false,
   "report_style_numbering": true,
   "user_envs_cfg": false
  },
  "toc": {
   "base_numbering": 1,
   "nav_menu": {},
   "number_sections": true,
   "sideBar": true,
   "skip_h1_title": false,
   "title_cell": "Table of Contents",
   "title_sidebar": "Contents",
   "toc_cell": false,
   "toc_position": {},
   "toc_section_display": true,
   "toc_window_display": false
  }
 },
 "nbformat": 4,
 "nbformat_minor": 5
}
