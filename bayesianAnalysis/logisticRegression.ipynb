{
 "cells": [
  {
   "cell_type": "markdown",
   "id": "f755332f",
   "metadata": {},
   "source": [
    "# Logistic Regression Model\n",
    "\n",
    "In this notebook we model the probability of a galaxy of being quenched using a logistic regression model. First, we explore the dependence of quenching with three galaxy properties stellar mass, distance from the cluster center and line of sight velocity. Second, we explore correlations with the halo properties. In the Bayesian Hierarchical framework we will estimate for each halo the slope between quenching and a galaxy property with the constraint of the overall dataset."
   ]
  },
  {
   "cell_type": "code",
   "execution_count": 1,
   "id": "75ff36aa",
   "metadata": {
    "ExecuteTime": {
     "end_time": "2022-06-09T22:05:56.546959Z",
     "start_time": "2022-06-09T22:05:35.805467Z"
    }
   },
   "outputs": [],
   "source": [
    "%matplotlib inline\n",
    "\n",
    "import pickle\n",
    "# from collections import OrderedDict\n",
    "\n",
    "import pandas as pd\n",
    "import numpy as np\n",
    "from scipy import stats\n",
    "\n",
    "from sklearn import preprocessing\n",
    "from sklearn.model_selection import train_test_split\n",
    "from sklearn.metrics import (roc_curve, roc_auc_score, confusion_matrix, accuracy_score, f1_score, \n",
    "                             precision_recall_curve) \n",
    "# from mlxtend.plotting import plot_confusion_matrix\n",
    "\n",
    "# import theano\n",
    "import pymc3 as pm\n",
    "\n",
    "# from pymc3.variational.callbacks import CheckParametersConvergence\n",
    "import statsmodels.formula.api as smf\n",
    "\n",
    "import arviz as az\n",
    "import matplotlib.pyplot as plt\n",
    "import matplotlib.cm as cm\n",
    "\n",
    "import seaborn as sns\n",
    "from IPython.display import HTML"
   ]
  },
  {
   "cell_type": "code",
   "execution_count": 2,
   "id": "fbaf7e29",
   "metadata": {
    "ExecuteTime": {
     "end_time": "2022-06-09T22:05:56.551035Z",
     "start_time": "2022-06-09T22:05:56.548115Z"
    }
   },
   "outputs": [
    {
     "name": "stdout",
     "output_type": "stream",
     "text": [
      "/Users/jesteves/Documents/GitHub/galaxyFormation\n"
     ]
    }
   ],
   "source": [
    "cd .."
   ]
  },
  {
   "cell_type": "markdown",
   "id": "96de7570",
   "metadata": {},
   "source": [
    "## Load the Data"
   ]
  },
  {
   "cell_type": "code",
   "execution_count": 3,
   "id": "516ea4a6",
   "metadata": {
    "ExecuteTime": {
     "end_time": "2022-06-09T22:05:57.061122Z",
     "start_time": "2022-06-09T22:05:56.555130Z"
    }
   },
   "outputs": [],
   "source": [
    "import sys\n",
    "sys.path.append('./scripts')\n",
    "from file_loc import FileLocs\n",
    "from utils import check_non_valid_number, gaussian_kde\n",
    "import seaborn as sns\n",
    "sns.set_context('poster', font_scale=0.7)"
   ]
  },
  {
   "cell_type": "code",
   "execution_count": 4,
   "id": "3bc7c70a",
   "metadata": {
    "ExecuteTime": {
     "end_time": "2022-06-09T22:06:00.229785Z",
     "start_time": "2022-06-09T22:05:57.062398Z"
    }
   },
   "outputs": [
    {
     "name": "stdout",
     "output_type": "stream",
     "text": [
      "Loading Catalog: ./data/catalogs/SDSS/groups_deCarvalho2017_R200m_galaxies_final_flag_johnnyheq_pp.csv\n",
      "Loading Catalog: ./data/catalogs/SDSS/groupCatalog_Yang_deCarvalho2017_frac_vl.csv\n"
     ]
    }
   ],
   "source": [
    "fl = FileLocs(dataset='sdss')\n",
    "gal0 = fl.load_catalogs('galaxy/main')\n",
    "\n",
    "mask  = (gal0['VLOS_MASK']).astype(bool)\n",
    "mask &= gal0['VOLUME_LIM_MASK'].astype(bool)\n",
    "mask &= gal0['p_infall']>0.5\n",
    "\n",
    "gal = gal0[mask].copy()\n",
    "cat = fl.load_catalogs('cluster/frac_vl')"
   ]
  },
  {
   "cell_type": "code",
   "execution_count": 5,
   "id": "8463f311",
   "metadata": {
    "ExecuteTime": {
     "end_time": "2022-06-09T22:06:00.235941Z",
     "start_time": "2022-06-09T22:06:00.230643Z"
    }
   },
   "outputs": [],
   "source": [
    "gid = np.array(gal['Yang'])\n",
    "\n",
    "zgal = np.array(gal['z'])\n",
    "Mr   = np.array(gal['Mr'])\n",
    "\n",
    "log_smass = np.array(gal['mass'])\n",
    "smass = 10**log_smass\n",
    "redshift = np.array(gal['redshift'])\n",
    "\n",
    "rn = np.array(gal['Rm'])\n",
    "vn = np.array(gal['vlosn'])\n",
    "morph_type = np.array(gal['TType'])\n",
    "ssfr = np.array(gal['ssfr'])\n",
    "\n",
    "# sfr classification\n",
    "sf   = np.array(gal['SF']).astype(int)\n",
    "qf   = (1-sf).astype(int)\n",
    "\n",
    "# morphological classification\n",
    "sp   = np.where(gal['TType'] > 0, 1, 0).astype(int)\n",
    "ell  = np.where(gal['TType'] <=0, 1, 0).astype(int)\n",
    "s0   = check_non_valid_number(gal['Pbulge'])\n",
    "s0[np.isnan(s0)] = 0.\n",
    "\n",
    "# b/t definition\n",
    "bt = np.array(gal['BT'])\n",
    "bt2 = np.where(bt>=0.5,1.,bt)\n",
    "bt2 = np.where(bt<0.5,0.,bt2)\n",
    "\n",
    "# dynamical probabilities\n",
    "Pi   = np.array(gal['p_infall'])\n",
    "Po   = np.array(gal['p_orbital'])\n",
    "Pn   = np.array(gal['p_interlopers'])\n",
    "Pf = np.where(rn>2,Pn,0.)\n",
    "\n",
    "m200 = np.array(gal['M200c'])\n",
    "\n",
    "# mask\n",
    "bt_mask = bt>=0."
   ]
  },
  {
   "cell_type": "code",
   "execution_count": null,
   "id": "5b19a364",
   "metadata": {},
   "outputs": [],
   "source": []
  },
  {
   "cell_type": "markdown",
   "id": "fb1eaf4a",
   "metadata": {
    "ExecuteTime": {
     "end_time": "2022-06-09T20:01:28.747113Z",
     "start_time": "2022-06-09T20:01:28.738967Z"
    }
   },
   "source": [
    "## Quenching Model\n",
    "\n",
    "The likelihood is:\n",
    "$$\n",
    "P(Quenched, Galaxy | R, M_{\\star}, \\sigma,) = Logit(R,M_{\\star}, \\sigma) \\times Bernoulli(p_{infall})\n",
    "$$\n",
    "\n",
    "With the Logit model and the linear relation\n",
    "$$\n",
    "y = b_0 + b_1 (R/R_{200m}) + b_{2} (M_{\\star}/M_0) + b_3 \\sigma\n",
    "$$"
   ]
  },
  {
   "cell_type": "code",
   "execution_count": 6,
   "id": "102a720e",
   "metadata": {
    "ExecuteTime": {
     "end_time": "2022-06-09T22:06:00.240458Z",
     "start_time": "2022-06-09T22:06:00.236932Z"
    }
   },
   "outputs": [],
   "source": [
    "county_idxs, counties = pd.factorize(gid)\n",
    "coords = {\n",
    "    \"county\": counties,\n",
    "    \"obs_id\": np.arange(len(county_idxs)),\n",
    "}"
   ]
  },
  {
   "cell_type": "code",
   "execution_count": 11,
   "id": "3892c76a",
   "metadata": {
    "ExecuteTime": {
     "end_time": "2022-06-09T22:06:39.595196Z",
     "start_time": "2022-06-09T22:06:39.170847Z"
    }
   },
   "outputs": [],
   "source": [
    "with pm.Model(coords=coords) as manual_logistic_model:\n",
    "    # Independent parameters for each county\n",
    "    # cluster ID\n",
    "    cidx = pm.Data(\"county_idx\", county_idxs, dims=\"obs_id\")\n",
    "    \n",
    "    # x variables\n",
    "    Rn = pm.Data(\"Rn\", rn, dims=\"obs_id\")\n",
    "    Vn = pm.Data(\"Vn\", vn, dims=\"obs_id\")\n",
    "    Ms = pm.Data(\"Ms\", np.log10(smass/1e10), dims=\"obs_id\")\n",
    "    \n",
    "    # Hyperpriors:\n",
    "    b0 = pm.Normal(\"b0\", mu=0.0, sigma=20.0)\n",
    "    b1 = pm.Normal(\"b1\", mu=0.0, sigma=20.0)\n",
    "    b2 = pm.Normal(\"b2\", mu=0.0, sigma=20.0)\n",
    "    b3 = pm.Normal(\"b3\", mu=0.0, sigma=20.0)\n",
    "    \n",
    "    s0 = pm.Exponential(\"s0\", 1.0)\n",
    "    s1 = pm.Exponential(\"s1\", 1.0)\n",
    "    s2 = pm.Exponential(\"s2\", 1.0)\n",
    "    s3 = pm.Exponential(\"s3\", 1.0)\n",
    "    \n",
    "    # slopes & intercept for each cluster\n",
    "    intercept = b0 #pm.Normal('intercept', mu=b0, sigma=s0, dims=\"county\")\n",
    "    beta_1 = pm.Normal('b_1_cls', mu=b1, sigma=s1, dims=\"county\")\n",
    "    beta_2 = pm.Normal('b_2_cls', mu=b2, sigma=s2, dims=\"county\")\n",
    "    beta_3 = pm.Normal('b_3_cls', mu=b3, sigma=s3, dims=\"county\")\n",
    "    \n",
    "    # Transform random variables into vector of probabilities p(y_i=1)\n",
    "    # according to logistic regression model specification.\n",
    "    likelihood = pm.invlogit(intercept + beta_1[cidx] * Rn \n",
    "                             + beta_2[cidx] * Ms + beta_3[cidx] * Vn)\n",
    "        \n",
    "    # Bernoulli random vector with probability of success\n",
    "    # given by sigmoid function and actual data as observed\n",
    "    pm.Bernoulli(name='logit', p=likelihood, observed=qf, dims=\"obs_id\")\n",
    "    \n",
    "# pm.model_to_graphviz(manual_logistic_model)"
   ]
  },
  {
   "cell_type": "code",
   "execution_count": 14,
   "id": "cab2c199",
   "metadata": {
    "ExecuteTime": {
     "end_time": "2022-06-09T22:07:56.452806Z",
     "start_time": "2022-06-09T22:07:56.250129Z"
    }
   },
   "outputs": [
    {
     "data": {
      "image/svg+xml": [
       "<?xml version=\"1.0\" encoding=\"UTF-8\" standalone=\"no\"?>\n",
       "<!DOCTYPE svg PUBLIC \"-//W3C//DTD SVG 1.1//EN\"\n",
       " \"http://www.w3.org/Graphics/SVG/1.1/DTD/svg11.dtd\">\n",
       "<!-- Generated by graphviz version 2.47.1 (0)\n",
       " -->\n",
       "<!-- Pages: 1 -->\n",
       "<svg width=\"1061pt\" height=\"347pt\"\n",
       " viewBox=\"0.00 0.00 1061.40 346.86\" xmlns=\"http://www.w3.org/2000/svg\" xmlns:xlink=\"http://www.w3.org/1999/xlink\">\n",
       "<g id=\"graph0\" class=\"graph\" transform=\"scale(1 1) rotate(0) translate(4 342.86)\">\n",
       "<polygon fill=\"white\" stroke=\"transparent\" points=\"-4,4 -4,-342.86 1057.4,-342.86 1057.4,4 -4,4\"/>\n",
       "<g id=\"clust1\" class=\"cluster\">\n",
       "<title>cluster13,302</title>\n",
       "<path fill=\"none\" stroke=\"black\" d=\"M20,-8C20,-8 308,-8 308,-8 314,-8 320,-14 320,-20 320,-20 320,-212.93 320,-212.93 320,-218.93 314,-224.93 308,-224.93 308,-224.93 20,-224.93 20,-224.93 14,-224.93 8,-218.93 8,-212.93 8,-212.93 8,-20 8,-20 8,-14 14,-8 20,-8\"/>\n",
       "<text text-anchor=\"middle\" x=\"292.5\" y=\"-15.8\" font-family=\"Times,serif\" font-size=\"14.00\">13,302</text>\n",
       "</g>\n",
       "<g id=\"clust2\" class=\"cluster\">\n",
       "<title>cluster319</title>\n",
       "<path fill=\"none\" stroke=\"black\" d=\"M436,-121.95C436,-121.95 718,-121.95 718,-121.95 724,-121.95 730,-127.95 730,-133.95 730,-133.95 730,-223.91 730,-223.91 730,-229.91 724,-235.91 718,-235.91 718,-235.91 436,-235.91 436,-235.91 430,-235.91 424,-229.91 424,-223.91 424,-223.91 424,-133.95 424,-133.95 424,-127.95 430,-121.95 436,-121.95\"/>\n",
       "<text text-anchor=\"middle\" x=\"711\" y=\"-129.75\" font-family=\"Times,serif\" font-size=\"14.00\">319</text>\n",
       "</g>\n",
       "<!-- Vn -->\n",
       "<g id=\"node1\" class=\"node\">\n",
       "<title>Vn</title>\n",
       "<path fill=\"lightgrey\" stroke=\"black\" d=\"M300,-216.93C300,-216.93 270,-216.93 270,-216.93 264,-216.93 258,-210.93 258,-204.93 258,-204.93 258,-175.93 258,-175.93 258,-169.93 264,-163.93 270,-163.93 270,-163.93 300,-163.93 300,-163.93 306,-163.93 312,-169.93 312,-175.93 312,-175.93 312,-204.93 312,-204.93 312,-210.93 306,-216.93 300,-216.93\"/>\n",
       "<text text-anchor=\"middle\" x=\"285\" y=\"-201.73\" font-family=\"Times,serif\" font-size=\"14.00\">Vn</text>\n",
       "<text text-anchor=\"middle\" x=\"285\" y=\"-186.73\" font-family=\"Times,serif\" font-size=\"14.00\">~</text>\n",
       "<text text-anchor=\"middle\" x=\"285\" y=\"-171.73\" font-family=\"Times,serif\" font-size=\"14.00\">Data</text>\n",
       "</g>\n",
       "<!-- logit -->\n",
       "<g id=\"node2\" class=\"node\">\n",
       "<title>logit</title>\n",
       "<ellipse fill=\"lightgrey\" stroke=\"black\" cx=\"263\" cy=\"-76.48\" rx=\"48.58\" ry=\"37.45\"/>\n",
       "<text text-anchor=\"middle\" x=\"263\" y=\"-87.78\" font-family=\"Times,serif\" font-size=\"14.00\">logit</text>\n",
       "<text text-anchor=\"middle\" x=\"263\" y=\"-72.78\" font-family=\"Times,serif\" font-size=\"14.00\">~</text>\n",
       "<text text-anchor=\"middle\" x=\"263\" y=\"-57.78\" font-family=\"Times,serif\" font-size=\"14.00\">Bernoulli</text>\n",
       "</g>\n",
       "<!-- Vn&#45;&gt;logit -->\n",
       "<g id=\"edge7\" class=\"edge\">\n",
       "<title>Vn&#45;&gt;logit</title>\n",
       "<path fill=\"none\" stroke=\"black\" d=\"M279.95,-163.75C277.6,-151.8 274.74,-137.22 272.04,-123.46\"/>\n",
       "<polygon fill=\"black\" stroke=\"black\" points=\"275.47,-122.78 270.11,-113.65 268.6,-124.13 275.47,-122.78\"/>\n",
       "</g>\n",
       "<!-- Ms -->\n",
       "<g id=\"node3\" class=\"node\">\n",
       "<title>Ms</title>\n",
       "<path fill=\"lightgrey\" stroke=\"black\" d=\"M228,-216.93C228,-216.93 198,-216.93 198,-216.93 192,-216.93 186,-210.93 186,-204.93 186,-204.93 186,-175.93 186,-175.93 186,-169.93 192,-163.93 198,-163.93 198,-163.93 228,-163.93 228,-163.93 234,-163.93 240,-169.93 240,-175.93 240,-175.93 240,-204.93 240,-204.93 240,-210.93 234,-216.93 228,-216.93\"/>\n",
       "<text text-anchor=\"middle\" x=\"213\" y=\"-201.73\" font-family=\"Times,serif\" font-size=\"14.00\">Ms</text>\n",
       "<text text-anchor=\"middle\" x=\"213\" y=\"-186.73\" font-family=\"Times,serif\" font-size=\"14.00\">~</text>\n",
       "<text text-anchor=\"middle\" x=\"213\" y=\"-171.73\" font-family=\"Times,serif\" font-size=\"14.00\">Data</text>\n",
       "</g>\n",
       "<!-- Ms&#45;&gt;logit -->\n",
       "<g id=\"edge11\" class=\"edge\">\n",
       "<title>Ms&#45;&gt;logit</title>\n",
       "<path fill=\"none\" stroke=\"black\" d=\"M224.47,-163.75C230.05,-151.25 236.92,-135.87 243.31,-121.57\"/>\n",
       "<polygon fill=\"black\" stroke=\"black\" points=\"246.53,-122.93 247.41,-112.37 240.14,-120.08 246.53,-122.93\"/>\n",
       "</g>\n",
       "<!-- county_idx -->\n",
       "<g id=\"node4\" class=\"node\">\n",
       "<title>county_idx</title>\n",
       "<path fill=\"lightgrey\" stroke=\"black\" d=\"M155.5,-216.93C155.5,-216.93 100.5,-216.93 100.5,-216.93 94.5,-216.93 88.5,-210.93 88.5,-204.93 88.5,-204.93 88.5,-175.93 88.5,-175.93 88.5,-169.93 94.5,-163.93 100.5,-163.93 100.5,-163.93 155.5,-163.93 155.5,-163.93 161.5,-163.93 167.5,-169.93 167.5,-175.93 167.5,-175.93 167.5,-204.93 167.5,-204.93 167.5,-210.93 161.5,-216.93 155.5,-216.93\"/>\n",
       "<text text-anchor=\"middle\" x=\"128\" y=\"-201.73\" font-family=\"Times,serif\" font-size=\"14.00\">county_idx</text>\n",
       "<text text-anchor=\"middle\" x=\"128\" y=\"-186.73\" font-family=\"Times,serif\" font-size=\"14.00\">~</text>\n",
       "<text text-anchor=\"middle\" x=\"128\" y=\"-171.73\" font-family=\"Times,serif\" font-size=\"14.00\">Data</text>\n",
       "</g>\n",
       "<!-- county_idx&#45;&gt;logit -->\n",
       "<g id=\"edge10\" class=\"edge\">\n",
       "<title>county_idx&#45;&gt;logit</title>\n",
       "<path fill=\"none\" stroke=\"black\" d=\"M142.58,-163.77C151.27,-150.11 163.28,-133.75 177,-121.95 187.16,-113.22 199.33,-105.62 211.27,-99.28\"/>\n",
       "<polygon fill=\"black\" stroke=\"black\" points=\"212.98,-102.34 220.32,-94.69 209.82,-96.09 212.98,-102.34\"/>\n",
       "</g>\n",
       "<!-- Rn -->\n",
       "<g id=\"node5\" class=\"node\">\n",
       "<title>Rn</title>\n",
       "<path fill=\"lightgrey\" stroke=\"black\" d=\"M58,-216.93C58,-216.93 28,-216.93 28,-216.93 22,-216.93 16,-210.93 16,-204.93 16,-204.93 16,-175.93 16,-175.93 16,-169.93 22,-163.93 28,-163.93 28,-163.93 58,-163.93 58,-163.93 64,-163.93 70,-169.93 70,-175.93 70,-175.93 70,-204.93 70,-204.93 70,-210.93 64,-216.93 58,-216.93\"/>\n",
       "<text text-anchor=\"middle\" x=\"43\" y=\"-201.73\" font-family=\"Times,serif\" font-size=\"14.00\">Rn</text>\n",
       "<text text-anchor=\"middle\" x=\"43\" y=\"-186.73\" font-family=\"Times,serif\" font-size=\"14.00\">~</text>\n",
       "<text text-anchor=\"middle\" x=\"43\" y=\"-171.73\" font-family=\"Times,serif\" font-size=\"14.00\">Data</text>\n",
       "</g>\n",
       "<!-- Rn&#45;&gt;logit -->\n",
       "<g id=\"edge13\" class=\"edge\">\n",
       "<title>Rn&#45;&gt;logit</title>\n",
       "<path fill=\"none\" stroke=\"black\" d=\"M50.79,-163.83C56.42,-149.49 65.46,-132.44 79,-121.95 114.66,-94.34 164.96,-83.55 203.96,-79.48\"/>\n",
       "<polygon fill=\"black\" stroke=\"black\" points=\"204.49,-82.95 214.13,-78.55 203.85,-75.98 204.49,-82.95\"/>\n",
       "</g>\n",
       "<!-- s3 -->\n",
       "<g id=\"node6\" class=\"node\">\n",
       "<title>s3</title>\n",
       "<ellipse fill=\"none\" stroke=\"black\" cx=\"280\" cy=\"-301.38\" rx=\"59.29\" ry=\"37.45\"/>\n",
       "<text text-anchor=\"middle\" x=\"280\" y=\"-312.68\" font-family=\"Times,serif\" font-size=\"14.00\">s3</text>\n",
       "<text text-anchor=\"middle\" x=\"280\" y=\"-297.68\" font-family=\"Times,serif\" font-size=\"14.00\">~</text>\n",
       "<text text-anchor=\"middle\" x=\"280\" y=\"-282.68\" font-family=\"Times,serif\" font-size=\"14.00\">Exponential</text>\n",
       "</g>\n",
       "<!-- b_3_cls -->\n",
       "<g id=\"node15\" class=\"node\">\n",
       "<title>b_3_cls</title>\n",
       "<ellipse fill=\"none\" stroke=\"black\" cx=\"474\" cy=\"-190.43\" rx=\"42.35\" ry=\"37.45\"/>\n",
       "<text text-anchor=\"middle\" x=\"474\" y=\"-201.73\" font-family=\"Times,serif\" font-size=\"14.00\">b_3_cls</text>\n",
       "<text text-anchor=\"middle\" x=\"474\" y=\"-186.73\" font-family=\"Times,serif\" font-size=\"14.00\">~</text>\n",
       "<text text-anchor=\"middle\" x=\"474\" y=\"-171.73\" font-family=\"Times,serif\" font-size=\"14.00\">Normal</text>\n",
       "</g>\n",
       "<!-- s3&#45;&gt;b_3_cls -->\n",
       "<g id=\"edge5\" class=\"edge\">\n",
       "<title>s3&#45;&gt;b_3_cls</title>\n",
       "<path fill=\"none\" stroke=\"black\" d=\"M323.83,-275.76C331.78,-271.61 340.07,-267.5 348,-263.91 380.42,-249.24 392.43,-254.12 423,-235.91 428.11,-232.86 433.19,-229.29 438.06,-225.5\"/>\n",
       "<polygon fill=\"black\" stroke=\"black\" points=\"440.48,-228.04 446.01,-219 436.05,-222.62 440.48,-228.04\"/>\n",
       "</g>\n",
       "<!-- s1 -->\n",
       "<g id=\"node7\" class=\"node\">\n",
       "<title>s1</title>\n",
       "<ellipse fill=\"none\" stroke=\"black\" cx=\"518\" cy=\"-301.38\" rx=\"59.29\" ry=\"37.45\"/>\n",
       "<text text-anchor=\"middle\" x=\"518\" y=\"-312.68\" font-family=\"Times,serif\" font-size=\"14.00\">s1</text>\n",
       "<text text-anchor=\"middle\" x=\"518\" y=\"-297.68\" font-family=\"Times,serif\" font-size=\"14.00\">~</text>\n",
       "<text text-anchor=\"middle\" x=\"518\" y=\"-282.68\" font-family=\"Times,serif\" font-size=\"14.00\">Exponential</text>\n",
       "</g>\n",
       "<!-- b_1_cls -->\n",
       "<g id=\"node14\" class=\"node\">\n",
       "<title>b_1_cls</title>\n",
       "<ellipse fill=\"none\" stroke=\"black\" cx=\"577\" cy=\"-190.43\" rx=\"42.35\" ry=\"37.45\"/>\n",
       "<text text-anchor=\"middle\" x=\"577\" y=\"-201.73\" font-family=\"Times,serif\" font-size=\"14.00\">b_1_cls</text>\n",
       "<text text-anchor=\"middle\" x=\"577\" y=\"-186.73\" font-family=\"Times,serif\" font-size=\"14.00\">~</text>\n",
       "<text text-anchor=\"middle\" x=\"577\" y=\"-171.73\" font-family=\"Times,serif\" font-size=\"14.00\">Normal</text>\n",
       "</g>\n",
       "<!-- s1&#45;&gt;b_1_cls -->\n",
       "<g id=\"edge2\" class=\"edge\">\n",
       "<title>s1&#45;&gt;b_1_cls</title>\n",
       "<path fill=\"none\" stroke=\"black\" d=\"M536.83,-265.61C542.31,-255.5 548.35,-244.33 554.05,-233.8\"/>\n",
       "<polygon fill=\"black\" stroke=\"black\" points=\"557.27,-235.22 558.95,-224.76 551.11,-231.89 557.27,-235.22\"/>\n",
       "</g>\n",
       "<!-- s0 -->\n",
       "<g id=\"node8\" class=\"node\">\n",
       "<title>s0</title>\n",
       "<ellipse fill=\"none\" stroke=\"black\" cx=\"994\" cy=\"-301.38\" rx=\"59.29\" ry=\"37.45\"/>\n",
       "<text text-anchor=\"middle\" x=\"994\" y=\"-312.68\" font-family=\"Times,serif\" font-size=\"14.00\">s0</text>\n",
       "<text text-anchor=\"middle\" x=\"994\" y=\"-297.68\" font-family=\"Times,serif\" font-size=\"14.00\">~</text>\n",
       "<text text-anchor=\"middle\" x=\"994\" y=\"-282.68\" font-family=\"Times,serif\" font-size=\"14.00\">Exponential</text>\n",
       "</g>\n",
       "<!-- b0 -->\n",
       "<g id=\"node9\" class=\"node\">\n",
       "<title>b0</title>\n",
       "<ellipse fill=\"none\" stroke=\"black\" cx=\"372\" cy=\"-190.43\" rx=\"41.94\" ry=\"37.45\"/>\n",
       "<text text-anchor=\"middle\" x=\"372\" y=\"-201.73\" font-family=\"Times,serif\" font-size=\"14.00\">b0</text>\n",
       "<text text-anchor=\"middle\" x=\"372\" y=\"-186.73\" font-family=\"Times,serif\" font-size=\"14.00\">~</text>\n",
       "<text text-anchor=\"middle\" x=\"372\" y=\"-171.73\" font-family=\"Times,serif\" font-size=\"14.00\">Normal</text>\n",
       "</g>\n",
       "<!-- b0&#45;&gt;logit -->\n",
       "<g id=\"edge8\" class=\"edge\">\n",
       "<title>b0&#45;&gt;logit</title>\n",
       "<path fill=\"none\" stroke=\"black\" d=\"M352.21,-157.22C344.21,-145.47 334.41,-132.48 324,-121.95 319.11,-117.01 313.63,-112.2 308,-107.68\"/>\n",
       "<polygon fill=\"black\" stroke=\"black\" points=\"309.78,-104.63 299.72,-101.3 305.5,-110.18 309.78,-104.63\"/>\n",
       "</g>\n",
       "<!-- b3 -->\n",
       "<g id=\"node10\" class=\"node\">\n",
       "<title>b3</title>\n",
       "<ellipse fill=\"none\" stroke=\"black\" cx=\"399\" cy=\"-301.38\" rx=\"41.94\" ry=\"37.45\"/>\n",
       "<text text-anchor=\"middle\" x=\"399\" y=\"-312.68\" font-family=\"Times,serif\" font-size=\"14.00\">b3</text>\n",
       "<text text-anchor=\"middle\" x=\"399\" y=\"-297.68\" font-family=\"Times,serif\" font-size=\"14.00\">~</text>\n",
       "<text text-anchor=\"middle\" x=\"399\" y=\"-282.68\" font-family=\"Times,serif\" font-size=\"14.00\">Normal</text>\n",
       "</g>\n",
       "<!-- b3&#45;&gt;b_3_cls -->\n",
       "<g id=\"edge6\" class=\"edge\">\n",
       "<title>b3&#45;&gt;b_3_cls</title>\n",
       "<path fill=\"none\" stroke=\"black\" d=\"M420.49,-269.16C428.58,-257.41 437.89,-243.88 446.46,-231.44\"/>\n",
       "<polygon fill=\"black\" stroke=\"black\" points=\"449.46,-233.26 452.24,-223.03 443.69,-229.29 449.46,-233.26\"/>\n",
       "</g>\n",
       "<!-- s2 -->\n",
       "<g id=\"node11\" class=\"node\">\n",
       "<title>s2</title>\n",
       "<ellipse fill=\"none\" stroke=\"black\" cx=\"756\" cy=\"-301.38\" rx=\"59.29\" ry=\"37.45\"/>\n",
       "<text text-anchor=\"middle\" x=\"756\" y=\"-312.68\" font-family=\"Times,serif\" font-size=\"14.00\">s2</text>\n",
       "<text text-anchor=\"middle\" x=\"756\" y=\"-297.68\" font-family=\"Times,serif\" font-size=\"14.00\">~</text>\n",
       "<text text-anchor=\"middle\" x=\"756\" y=\"-282.68\" font-family=\"Times,serif\" font-size=\"14.00\">Exponential</text>\n",
       "</g>\n",
       "<!-- b_2_cls -->\n",
       "<g id=\"node16\" class=\"node\">\n",
       "<title>b_2_cls</title>\n",
       "<ellipse fill=\"none\" stroke=\"black\" cx=\"680\" cy=\"-190.43\" rx=\"42.35\" ry=\"37.45\"/>\n",
       "<text text-anchor=\"middle\" x=\"680\" y=\"-201.73\" font-family=\"Times,serif\" font-size=\"14.00\">b_2_cls</text>\n",
       "<text text-anchor=\"middle\" x=\"680\" y=\"-186.73\" font-family=\"Times,serif\" font-size=\"14.00\">~</text>\n",
       "<text text-anchor=\"middle\" x=\"680\" y=\"-171.73\" font-family=\"Times,serif\" font-size=\"14.00\">Normal</text>\n",
       "</g>\n",
       "<!-- s2&#45;&gt;b_2_cls -->\n",
       "<g id=\"edge3\" class=\"edge\">\n",
       "<title>s2&#45;&gt;b_2_cls</title>\n",
       "<path fill=\"none\" stroke=\"black\" d=\"M732.58,-266.8C724.72,-255.53 715.87,-242.86 707.71,-231.16\"/>\n",
       "<polygon fill=\"black\" stroke=\"black\" points=\"710.51,-229.05 701.92,-222.85 704.77,-233.06 710.51,-229.05\"/>\n",
       "</g>\n",
       "<!-- b1 -->\n",
       "<g id=\"node12\" class=\"node\">\n",
       "<title>b1</title>\n",
       "<ellipse fill=\"none\" stroke=\"black\" cx=\"637\" cy=\"-301.38\" rx=\"41.94\" ry=\"37.45\"/>\n",
       "<text text-anchor=\"middle\" x=\"637\" y=\"-312.68\" font-family=\"Times,serif\" font-size=\"14.00\">b1</text>\n",
       "<text text-anchor=\"middle\" x=\"637\" y=\"-297.68\" font-family=\"Times,serif\" font-size=\"14.00\">~</text>\n",
       "<text text-anchor=\"middle\" x=\"637\" y=\"-282.68\" font-family=\"Times,serif\" font-size=\"14.00\">Normal</text>\n",
       "</g>\n",
       "<!-- b1&#45;&gt;b_1_cls -->\n",
       "<g id=\"edge1\" class=\"edge\">\n",
       "<title>b1&#45;&gt;b_1_cls</title>\n",
       "<path fill=\"none\" stroke=\"black\" d=\"M618.84,-267.4C612.96,-256.72 606.36,-244.74 600.17,-233.5\"/>\n",
       "<polygon fill=\"black\" stroke=\"black\" points=\"603.2,-231.75 595.31,-224.68 597.07,-235.13 603.2,-231.75\"/>\n",
       "</g>\n",
       "<!-- b2 -->\n",
       "<g id=\"node13\" class=\"node\">\n",
       "<title>b2</title>\n",
       "<ellipse fill=\"none\" stroke=\"black\" cx=\"875\" cy=\"-301.38\" rx=\"41.94\" ry=\"37.45\"/>\n",
       "<text text-anchor=\"middle\" x=\"875\" y=\"-312.68\" font-family=\"Times,serif\" font-size=\"14.00\">b2</text>\n",
       "<text text-anchor=\"middle\" x=\"875\" y=\"-297.68\" font-family=\"Times,serif\" font-size=\"14.00\">~</text>\n",
       "<text text-anchor=\"middle\" x=\"875\" y=\"-282.68\" font-family=\"Times,serif\" font-size=\"14.00\">Normal</text>\n",
       "</g>\n",
       "<!-- b2&#45;&gt;b_2_cls -->\n",
       "<g id=\"edge4\" class=\"edge\">\n",
       "<title>b2&#45;&gt;b_2_cls</title>\n",
       "<path fill=\"none\" stroke=\"black\" d=\"M843.41,-276.65C837.1,-272.23 830.43,-267.79 824,-263.91 792.58,-244.92 755.55,-226.36 726.91,-212.78\"/>\n",
       "<polygon fill=\"black\" stroke=\"black\" points=\"728.08,-209.46 717.54,-208.37 725.1,-215.79 728.08,-209.46\"/>\n",
       "</g>\n",
       "<!-- b_1_cls&#45;&gt;logit -->\n",
       "<g id=\"edge12\" class=\"edge\">\n",
       "<title>b_1_cls&#45;&gt;logit</title>\n",
       "<path fill=\"none\" stroke=\"black\" d=\"M558.92,-156.45C550.3,-143.72 538.82,-130.26 525,-121.95 491.64,-101.9 388.45,-88.96 321.96,-82.47\"/>\n",
       "<polygon fill=\"black\" stroke=\"black\" points=\"321.91,-78.95 311.62,-81.48 321.24,-85.92 321.91,-78.95\"/>\n",
       "</g>\n",
       "<!-- b_3_cls&#45;&gt;logit -->\n",
       "<g id=\"edge14\" class=\"edge\">\n",
       "<title>b_3_cls&#45;&gt;logit</title>\n",
       "<path fill=\"none\" stroke=\"black\" d=\"M455.48,-156.44C447.03,-144.03 435.99,-130.79 423,-121.95 392.89,-101.47 353.53,-90.37 321.39,-84.38\"/>\n",
       "<polygon fill=\"black\" stroke=\"black\" points=\"321.68,-80.88 311.23,-82.61 320.48,-87.78 321.68,-80.88\"/>\n",
       "</g>\n",
       "<!-- b_2_cls&#45;&gt;logit -->\n",
       "<g id=\"edge9\" class=\"edge\">\n",
       "<title>b_2_cls&#45;&gt;logit</title>\n",
       "<path fill=\"none\" stroke=\"black\" d=\"M662.11,-156.13C653.51,-143.35 642.01,-129.93 628,-121.95 577.06,-92.94 411.33,-82.66 321.75,-79.17\"/>\n",
       "<polygon fill=\"black\" stroke=\"black\" points=\"321.86,-75.68 311.74,-78.8 321.6,-82.67 321.86,-75.68\"/>\n",
       "</g>\n",
       "</g>\n",
       "</svg>\n"
      ],
      "text/plain": [
       "<graphviz.graphs.Digraph at 0x7fedf0a17af0>"
      ]
     },
     "execution_count": 14,
     "metadata": {},
     "output_type": "execute_result"
    }
   ],
   "source": [
    "pm.model_to_graphviz(manual_logistic_model)"
   ]
  },
  {
   "cell_type": "code",
   "execution_count": null,
   "id": "4bc22227",
   "metadata": {},
   "outputs": [],
   "source": []
  },
  {
   "cell_type": "code",
   "execution_count": null,
   "id": "c6050520",
   "metadata": {},
   "outputs": [],
   "source": []
  },
  {
   "cell_type": "code",
   "execution_count": 42,
   "id": "0e01ffff",
   "metadata": {
    "ExecuteTime": {
     "end_time": "2022-06-09T21:45:18.521115Z",
     "start_time": "2022-06-09T21:45:18.518055Z"
    }
   },
   "outputs": [],
   "source": [
    "# # Inference button (TM)!\n",
    "# with manual_logistic_model:\n",
    "#     hierarchical_trace = pm.sample(2000, tune=2000, target_accept=0.9, cores=6)"
   ]
  },
  {
   "cell_type": "code",
   "execution_count": null,
   "id": "3931f555",
   "metadata": {},
   "outputs": [],
   "source": []
  },
  {
   "cell_type": "code",
   "execution_count": null,
   "id": "8f0d227a",
   "metadata": {},
   "outputs": [],
   "source": [
    "az.plot_forest(\n",
    "    varying_intercept_trace, var_names=[\"beta\", \"a_county\"], r_hat=True, combined=True, textsize=9\n",
    ");\n"
   ]
  },
  {
   "cell_type": "code",
   "execution_count": null,
   "id": "e434df63",
   "metadata": {},
   "outputs": [],
   "source": []
  },
  {
   "cell_type": "code",
   "execution_count": null,
   "id": "0ab58a5a",
   "metadata": {
    "ExecuteTime": {
     "end_time": "2022-06-09T21:10:17.243607Z",
     "start_time": "2022-06-09T21:08:49.523Z"
    }
   },
   "outputs": [],
   "source": [
    "pm.plot_trace(trace);\n"
   ]
  },
  {
   "cell_type": "code",
   "execution_count": null,
   "id": "cb73b047",
   "metadata": {
    "ExecuteTime": {
     "end_time": "2022-06-09T21:10:17.244509Z",
     "start_time": "2022-06-09T21:08:49.786Z"
    }
   },
   "outputs": [],
   "source": [
    "trace.varnames"
   ]
  },
  {
   "cell_type": "code",
   "execution_count": null,
   "id": "d14fba38",
   "metadata": {
    "ExecuteTime": {
     "end_time": "2022-06-09T21:10:17.245752Z",
     "start_time": "2022-06-09T21:08:50.286Z"
    }
   },
   "outputs": [],
   "source": [
    "plt.hist(trace['beta_3'])"
   ]
  },
  {
   "cell_type": "code",
   "execution_count": null,
   "id": "b31c7172",
   "metadata": {},
   "outputs": [],
   "source": []
  }
 ],
 "metadata": {
  "kernelspec": {
   "display_name": "Python 3",
   "language": "python",
   "name": "python3"
  },
  "language_info": {
   "codemirror_mode": {
    "name": "ipython",
    "version": 3
   },
   "file_extension": ".py",
   "mimetype": "text/x-python",
   "name": "python",
   "nbconvert_exporter": "python",
   "pygments_lexer": "ipython3",
   "version": "3.8.8"
  },
  "latex_envs": {
   "LaTeX_envs_menu_present": true,
   "autoclose": true,
   "autocomplete": true,
   "bibliofile": "biblio.bib",
   "cite_by": "apalike",
   "current_citInitial": 1,
   "eqLabelWithNumbers": true,
   "eqNumInitial": 1,
   "hotkeys": {
    "equation": "Ctrl-E",
    "itemize": "Ctrl-I"
   },
   "labels_anchors": false,
   "latex_user_defs": false,
   "report_style_numbering": true,
   "user_envs_cfg": false
  },
  "toc": {
   "base_numbering": 1,
   "nav_menu": {},
   "number_sections": true,
   "sideBar": true,
   "skip_h1_title": false,
   "title_cell": "Table of Contents",
   "title_sidebar": "Contents",
   "toc_cell": false,
   "toc_position": {},
   "toc_section_display": true,
   "toc_window_display": false
  }
 },
 "nbformat": 4,
 "nbformat_minor": 5
}
